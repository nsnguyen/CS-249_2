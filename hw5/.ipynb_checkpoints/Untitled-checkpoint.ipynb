{
 "cells": [
  {
   "cell_type": "code",
   "execution_count": 1,
   "metadata": {
    "collapsed": true
   },
   "outputs": [],
   "source": [
    "#Hw5 using train()"
   ]
  },
  {
   "cell_type": "code",
   "execution_count": 3,
   "metadata": {
    "collapsed": false
   },
   "outputs": [],
   "source": [
    "not.installed <- function(pkg) !is.element(pkg, installed.packages()[,1])\n",
    "\n",
    "if (not.installed(\"caret\")) install.packages(\"caret\", repos=\"http://cran.us.r-project.org\")\n",
    "if (not.installed(\"AppliedPredictiveModeling\")) install.packages(\"AppliedPredictiveModeling\", repos=\"http://cran.us.r-project.org\")\n",
    "if (not.installed(\"lars\")) install.packages(\"lars\", repos=\"http://cran.us.r-project.org\")\n",
    "if (not.installed(\"VIF\")) install.packages(\"VIF\", repos=\"http://cran.us.r-project.org\")\n",
    "\n",
    "\n",
    "\n",
    "\n",
    "library(lattice)\n",
    "library(ggplot2)\n",
    "library(caret)\n",
    "library(ISLR)\n",
    "library(AppliedPredictiveModeling)\n",
    "library(lars)\n",
    "library(pls)\n",
    "library(MASS)\n",
    "library(VIF)"
   ]
  },
  {
   "cell_type": "code",
   "execution_count": null,
   "metadata": {
    "collapsed": true
   },
   "outputs": [],
   "source": [
    "MY_UID = 123456789 ########## you must enter your UCLA UID here !!!\n",
    "\n",
    "set.seed( MY_UID )"
   ]
  }
 ],
 "metadata": {
  "anaconda-cloud": {},
  "kernelspec": {
   "display_name": "R",
   "language": "R",
   "name": "ir"
  },
  "language_info": {
   "codemirror_mode": "r",
   "file_extension": ".r",
   "mimetype": "text/x-r-source",
   "name": "R",
   "pygments_lexer": "r",
   "version": "3.3.2"
  }
 },
 "nbformat": 4,
 "nbformat_minor": 1
}
