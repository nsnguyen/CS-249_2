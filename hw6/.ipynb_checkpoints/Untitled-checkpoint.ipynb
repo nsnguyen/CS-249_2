{
 "cells": [
  {
   "cell_type": "code",
   "execution_count": null,
   "metadata": {
    "collapsed": true
   },
   "outputs": [],
   "source": [
    "# HW6:  Analyzing Data Science in the StackOverflow Tech Job Survey\n",
    "\n",
    "Every year Stackoverflow does a large survey of tech workers on jobs:\n",
    "https://insights.stackoverflow.com/survey\n",
    "\n",
    "Details about the data are below.\n",
    "\n",
    "For this problem, we want you to extract part of the data involving <i>data science</i> and do two things:\n",
    "(1) build a regression model to predict salary, and\n",
    "(2) build a classifier model to predict the job title (\"occupation\").\n",
    "\n",
    "You are encouraged to use Python for this assignment.\n",
    "Python will be the default platform for the datasets in the Final Exam."
   ]
  }
 ],
 "metadata": {
  "anaconda-cloud": {},
  "kernelspec": {
   "display_name": "Python [conda root]",
   "language": "python",
   "name": "conda-root-py"
  },
  "language_info": {
   "codemirror_mode": {
    "name": "ipython",
    "version": 3
   },
   "file_extension": ".py",
   "mimetype": "text/x-python",
   "name": "python",
   "nbconvert_exporter": "python",
   "pygments_lexer": "ipython3",
   "version": "3.5.2"
  }
 },
 "nbformat": 4,
 "nbformat_minor": 1
}
