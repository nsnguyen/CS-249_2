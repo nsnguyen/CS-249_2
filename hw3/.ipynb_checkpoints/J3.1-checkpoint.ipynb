{
 "cells": [
  {
   "cell_type": "markdown",
   "metadata": {},
   "source": [
    "# HW3 Problem #1: PCA\n",
    "\n",
    "## Due Sunday May 7, at 11:55pm\n",
    "\n",
    "## However:  it is strongly recommended you master this material before the Midterm on Saturday May 6.  The Midterm will cover this material."
   ]
  },
  {
   "cell_type": "markdown",
   "metadata": {},
   "source": [
    "## ISL"
   ]
  },
  {
   "cell_type": "code",
   "execution_count": 2,
   "metadata": {
    "collapsed": false
   },
   "outputs": [],
   "source": [
    "not.installed <- function(pkg) !is.element(pkg, installed.packages()[,1])\n",
    "\n",
    "if (not.installed(\"ISLR\"))  install.packages(\"ISLR\", repos = \"http://cran.us.r-project.org\")\n",
    "\n",
    "library(ISLR)  #  load the ISLR package"
   ]
  },
  {
   "cell_type": "code",
   "execution_count": 9,
   "metadata": {
    "collapsed": false
   },
   "outputs": [
    {
     "name": "stdout",
     "output_type": "stream",
     "text": [
      "2 \n",
      "3 \n",
      "6 4 4 1 3 4 2 2 3 1 2 \n",
      "15 \n",
      "15 \n",
      "16 \n"
     ]
    }
   ],
   "source": [
    "PCA = function(Table) {\n",
    "    \n",
    "    lambda = svd( cor(Table) )$d\n",
    "    p = ncol(Table)\n",
    "\n",
    "    # sum of number of values where lambda is above 0.7\n",
    "    cat( sum((lambda >= 0.7), na.rm = TRUE), \"\\n\" ) \n",
    "    \n",
    "    # sum of number of values were lambda is above 1\n",
    "    cat( sum(lambda >= 1, na.rm = TRUE), \"\\n\" ) \n",
    "    PrincipalComponents = svd(cor(Table))$u  ### correlation matrix\n",
    "\n",
    "    SortedSquaredComponents = apply(PrincipalComponents^2, 2, function(x) sort(x, decreasing=TRUE))\n",
    "    \n",
    "    CumulativeSortedSquaredComponents = apply( SortedSquaredComponents, 2, cumsum)\n",
    "    \n",
    "    # array to hold each principle component's variable row number    \n",
    "    nStrongLoadings <- vector() \n",
    "    # for each column in CumulativeSortedSquaredComponents\n",
    "    for(j in 1:p)\n",
    "    {\n",
    "        # for each row in CumulativeSortedSquaredComponents\n",
    "        for(i in 1:p)\n",
    "        {\n",
    "            # check if value over 0.7\n",
    "            if(CumulativeSortedSquaredComponents[i,j] > 0.7)\n",
    "            {\n",
    "                nStrongLoadings[j] <- i # return the row number of the value\n",
    "                break # go to the next column\n",
    "            }\n",
    "        }\n",
    "    }\n",
    "    cat(nStrongLoadings, \"\\n\")    \n",
    "\n",
    "    U = PrincipalComponents\n",
    "    Z = scale(Table, center=TRUE, scale=FALSE) %*% U\n",
    "\n",
    "    a = apply(Z^2, 1, sum )\n",
    "    i = which( a == max(a) )\n",
    "    cat(i, \"\\n\")\n",
    "    \n",
    "    b = apply((Z^2)/lambda, 1, sum)\n",
    "    i = which( b == max(b) )\n",
    "    cat(i, \"\\n\")\n",
    "   \n",
    "    c = apply(lambda*(Z^2), 1, sum)\n",
    "    i = which( c == max(c) )\n",
    "    cat(i, \"\\n\")\n",
    "    #print()\n",
    "# 2\n",
    "# 1\n",
    "# 3  1  2  2\n",
    "# 33\n",
    "# 33\n",
    "# 9\n",
    "}\n",
    "inverted_mtcars = transform( mtcars, mpg = 1/mpg )\n",
    "\n",
    "PCA( mtcars )"
   ]
  },
  {
   "cell_type": "code",
   "execution_count": null,
   "metadata": {
    "collapsed": true
   },
   "outputs": [],
   "source": []
  },
  {
   "cell_type": "code",
   "execution_count": null,
   "metadata": {
    "collapsed": true
   },
   "outputs": [],
   "source": []
  }
 ],
 "metadata": {
  "anaconda-cloud": {},
  "kernelspec": {
   "display_name": "R",
   "language": "R",
   "name": "ir"
  },
  "language_info": {
   "codemirror_mode": "r",
   "file_extension": ".r",
   "mimetype": "text/x-r-source",
   "name": "R",
   "pygments_lexer": "r",
   "version": "3.3.2"
  }
 },
 "nbformat": 4,
 "nbformat_minor": 2
}
