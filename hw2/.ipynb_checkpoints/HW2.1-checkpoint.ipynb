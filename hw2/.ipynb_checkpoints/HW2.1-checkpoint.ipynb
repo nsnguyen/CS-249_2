{
 "cells": [
  {
   "cell_type": "code",
   "execution_count": 1,
   "metadata": {
    "collapsed": true
   },
   "outputs": [],
   "source": [
    "#Hw2"
   ]
  },
  {
   "cell_type": "code",
   "execution_count": 7,
   "metadata": {
    "collapsed": false
   },
   "outputs": [],
   "source": [
    "# X = as.matrix(iris[, 1:4])\n",
    "\n",
    "# means  = apply(X, 2, mean)\n",
    "# sigmas = apply(X, 2, sd)\n",
    "# n = dim(X)[1]\n",
    "# p = dim(X)[2]\n",
    "\n",
    "# Sigma = cov(X)  # covariance matrix\n",
    "# detSigma = det(Sigma)\n",
    "\n",
    "# print('test')\n",
    "\n",
    "    "
   ]
  },
  {
   "cell_type": "code",
   "execution_count": 1,
   "metadata": {
    "collapsed": false
   },
   "outputs": [
    {
     "name": "stdout",
     "output_type": "stream",
     "text": [
      "[1] \"Iris\"\n",
      "[1] \"71 3 2\\n\"\n",
      "[1] \"84 3 2\\n\"\n",
      "[1] \"134 2 3\\n\"\n"
     ]
    }
   ],
   "source": [
    "#set.seed(2222)\n",
    "\n",
    "\n",
    "g = function(xvec, meanvec, inverseCovMatrix, Sigma) {\n",
    "  k <- nrow(Sigma)\n",
    "  detSigma = det(Sigma)\n",
    "  \n",
    "  return (1 / (2*pi)^(k/2) / sqrt(detSigma) *\n",
    "            exp( -1/2 * ( t(xvec-meanvec) %*% inverseCovMatrix %*% (xvec-meanvec) )[1,1] ) )\n",
    "}\n",
    "\n",
    "MVN = function(Table){\n",
    "  \n",
    "  #data.matrix() forces data to be numeric\n",
    "  X = data.matrix(Table[,1:(ncol(Table)-1)]) \n",
    "  \n",
    "  #determine the classification (assuming that last column is the classifier)\n",
    "  classifications = Table[, ncol(Table)]\n",
    "  \n",
    "  #get unique length of classifications\n",
    "  #k is the number of different classifications\n",
    "  k = length(unique(classifications))\n",
    "  \n",
    "  #the class values will always intergers from 1 to k here\n",
    "  #need to unclass the classifications\n",
    "  y = unclass(classifications)\n",
    "    \n",
    "  #get number of rows\n",
    "  n = nrow(X)\n",
    "  #get number of columns\n",
    "  p = ncol(X)\n",
    "  \n",
    "  Sigma_Cov = cov(X)\n",
    "  \n",
    "  Inverse_Sigma_Cov = solve(Sigma_Cov)\n",
    "  \n",
    "  #matrix to record distance values\n",
    "  distance_value = matrix(0, nrow=n, ncol=k)\n",
    "  \n",
    "  # ... For each class j from 1 to k\n",
    "  for(j in 1:k){\n",
    "    # ...    Derive the MVN distribution parameters for the j-th class.  \n",
    "    #getting subset of data for each j class\n",
    "    subSet_Data_for_j_class = subset(X,(y==j))\n",
    "    \n",
    "    mean_vector = matrix( apply(subSet_Data_for_j_class, 2, mean), nrow=p, ncol=1 )  # column vector     \n",
    "    \n",
    "    #note that 2 is for column and 1 is for row\n",
    "    #         means = apply(subSet_Data_for_j_class, 2, mean)\n",
    "    #         sigmas = apply(subSet_Data_for_j_class, 2, sd)\n",
    "    \n",
    "    #setting Covariance matrix\n",
    "    cov_matrix = cov(subSet_Data_for_j_class)\n",
    "    \n",
    "    #setting Covariance matrix inverse\n",
    "    cov_matrix_inverse = solve(cov_matrix)\n",
    "    \n",
    "    #setting determinant of Covariance matrix\n",
    "    cov_det = det(cov_matrix)\n",
    "    \n",
    "    # ...    For each row x[i,] in the X matrix,\n",
    "    for(i in 1:n){\n",
    "      each_row_in_X = X[i,]\n",
    "      #x_vector = matrix( X[i,], nrow=n, ncol=1 )\n",
    "      \n",
    "      # ...       distance_value[i,j] = the Gaussian distance_value of x[i,]                    \n",
    "      distance_value[i,j] = g(each_row_in_X, mean_vector, cov_matrix_inverse, cov_matrix)\n",
    "    }\n",
    "    \n",
    "    # ... For each row x[i,] in the X matrix,\n",
    "    \n",
    "  }\n",
    "    \n",
    "    #print(distance_value)\n",
    "  \n",
    "\n",
    "  for(i in 1:n){\n",
    "    # ...    If jmin is the number of this closest class and is different from y[i],  \n",
    "      \n",
    "      jmin = which(distance_value[i,] == max(distance_value[i,]))\n",
    "      \n",
    "      #jmin = which.max(distance_value[i,])  \n",
    "      \n",
    "#       for(jm in 1:length(jmin)){\n",
    "#           #print('jmin', jmin)\n",
    "#           #print(y[i])\n",
    "#           if(jmin[jm] == y[i]){\n",
    "#               next\n",
    "#           }\n",
    "          \n",
    "#           if(jmin[jm] != y[i]){\n",
    "#               print(sprintf(\"%s %s %s\", i, jmin[jm], y[i]))\n",
    "#           }\n",
    "#       }\n",
    "      \n",
    "      \n",
    "      \n",
    "      ifelse(jmin != y[i], print(sprintf(\"%s %s %s\\n\", i, jmin, y[i])),'')\n",
    "      \n",
    "      \n",
    "#     if(jmin != y[i]){\n",
    "#       #print(jmin)\n",
    "#       print(sprintf(\"%s %s %s\", i, jmin, y[i]))\n",
    "#     }\n",
    "      \n",
    "      \n",
    "  }\n",
    "    #SPAM\n",
    "    #[2015,]  0.000000e+00  0.000000e+00\n",
    "    #[4464,]  0.000000e+00  0.000000e+00\n",
    "    #[3617,]  0.000000e+00  0.000000e+00\n",
    "    #[3397,]  0.000000e+00  0.000000e+00\n",
    "    #[1754,]  0.000000e+00  0.000000e+00\n",
    "    \n",
    "}\n",
    "\n",
    "# print('Iris')\n",
    "# MVN(iris)\n",
    "\n",
    "\n",
    "print('vowels')\n",
    "Table = data.matrix(read.csv( 'vowels.csv', header=TRUE ))\n",
    "\n",
    "MVN(Table)\n",
    "\n",
    "# print('spam')\n",
    "# Table = data.matrix(read.csv( 'spam.csv', header=TRUE ))\n",
    "\n",
    "# MVN(Table)"
   ]
  },
  {
   "cell_type": "code",
   "execution_count": 16,
   "metadata": {
    "collapsed": false
   },
   "outputs": [],
   "source": [
    "#MVN(iris)\n",
    "\n",
    "#print(iris)\n"
   ]
  },
  {
   "cell_type": "code",
   "execution_count": 37,
   "metadata": {
    "collapsed": true
   },
   "outputs": [],
   "source": []
  },
  {
   "cell_type": "code",
   "execution_count": null,
   "metadata": {
    "collapsed": true
   },
   "outputs": [],
   "source": []
  }
 ],
 "metadata": {
  "anaconda-cloud": {},
  "kernelspec": {
   "display_name": "R",
   "language": "R",
   "name": "ir"
  },
  "language_info": {
   "codemirror_mode": "r",
   "file_extension": ".r",
   "mimetype": "text/x-r-source",
   "name": "R",
   "pygments_lexer": "r",
   "version": "3.3.2"
  }
 },
 "nbformat": 4,
 "nbformat_minor": 1
}
