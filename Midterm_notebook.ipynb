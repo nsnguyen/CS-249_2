{
 "cells": [
  {
   "cell_type": "code",
   "execution_count": 16,
   "metadata": {
    "collapsed": false
   },
   "outputs": [],
   "source": [
    "#remove all objects\n",
    "#rm(list=ls())\n",
    "library(MASS)\n",
    "library(psych)\n",
    "\n",
    "#create trace function\n",
    "trace = function(X) sum(diag(X))\n",
    "\n",
    "g = function(xvec, meanvec, inverseCovMatrix, Sigma, p) {\n",
    "  detSigma = det(Sigma)\n",
    "  \n",
    "  return (1 / sqrt(2*pi)^(p/2) / sqrt(detSigma) *\n",
    "            exp( -1/2 * ( t(xvec-meanvec) %*% inverseCovMatrix %*% (xvec-meanvec) )[1,1] ))\n",
    "}\n"
   ]
  },
  {
   "cell_type": "code",
   "execution_count": 4,
   "metadata": {
    "collapsed": false
   },
   "outputs": [
    {
     "data": {
      "text/html": [
       "0.120849297313156"
      ],
      "text/latex": [
       "0.120849297313156"
      ],
      "text/markdown": [
       "0.120849297313156"
      ],
      "text/plain": [
       "[1] 0.1208493"
      ]
     },
     "metadata": {},
     "output_type": "display_data"
    },
    {
     "data": {
      "text/html": [
       "0.120849297313156"
      ],
      "text/latex": [
       "0.120849297313156"
      ],
      "text/markdown": [
       "0.120849297313156"
      ],
      "text/plain": [
       "[1] 0.1208493"
      ]
     },
     "metadata": {},
     "output_type": "display_data"
    }
   ],
   "source": [
    "###############################################################\n",
    "#1.1 - TRUE\n",
    "X = matrix(runif(3*2),3,2)\n",
    "trace(cov(X))\n",
    "\n",
    "mu = (apply(X, 2, sd))^2\n",
    "#mu\n",
    "sum(mu)"
   ]
  },
  {
   "cell_type": "code",
   "execution_count": 5,
   "metadata": {
    "collapsed": false
   },
   "outputs": [
    {
     "data": {
      "text/html": [
       "2.13886706619198"
      ],
      "text/latex": [
       "2.13886706619198"
      ],
      "text/markdown": [
       "2.13886706619198"
      ],
      "text/plain": [
       "[1] 2.138867"
      ]
     },
     "metadata": {},
     "output_type": "display_data"
    },
    {
     "data": {
      "text/html": [
       "2.13886706619198"
      ],
      "text/latex": [
       "2.13886706619198"
      ],
      "text/markdown": [
       "2.13886706619198"
      ],
      "text/plain": [
       "[1] 2.138867"
      ]
     },
     "metadata": {},
     "output_type": "display_data"
    },
    {
     "data": {
      "text/html": [
       "2.13886706619198"
      ],
      "text/latex": [
       "2.13886706619198"
      ],
      "text/markdown": [
       "2.13886706619198"
      ],
      "text/plain": [
       "[1] 2.138867"
      ]
     },
     "metadata": {},
     "output_type": "display_data"
    },
    {
     "data": {
      "text/html": [
       "<table>\n",
       "<tbody>\n",
       "\t<tr><td> 1.000000e+00</td><td>-1.024302e-16</td></tr>\n",
       "\t<tr><td>-1.024302e-16</td><td> 1.000000e+00</td></tr>\n",
       "</tbody>\n",
       "</table>\n"
      ],
      "text/latex": [
       "\\begin{tabular}{ll}\n",
       "\t  1.000000e+00 & -1.024302e-16\\\\\n",
       "\t -1.024302e-16 &  1.000000e+00\\\\\n",
       "\\end{tabular}\n"
      ],
      "text/markdown": [
       "\n",
       "|  1.000000e+00 | -1.024302e-16 | \n",
       "| -1.024302e-16 |  1.000000e+00 | \n",
       "\n",
       "\n"
      ],
      "text/plain": [
       "     [,1]          [,2]         \n",
       "[1,]  1.000000e+00 -1.024302e-16\n",
       "[2,] -1.024302e-16  1.000000e+00"
      ]
     },
     "metadata": {},
     "output_type": "display_data"
    }
   ],
   "source": [
    "###############################################################\n",
    "#1.2 -TRUE\n",
    "#trace(X'X) is the sum of diagonal\n",
    "X = matrix(runif(3*2),3,2)\n",
    "#X\n",
    "\n",
    "Xsvd = svd(X)\n",
    "S = diag(Xsvd$d)\n",
    "#S\n",
    "trace(t(X) %*% X)\n",
    "trace (t(S) %*% S) #True. should be the same as trace(t(X) %*% X)\n",
    "sum(X^2)\n",
    "\n",
    "U = Xsvd$u\n",
    "t(U) %*% U #transpose times itself is identity matrix"
   ]
  },
  {
   "cell_type": "code",
   "execution_count": 6,
   "metadata": {
    "collapsed": false
   },
   "outputs": [
    {
     "data": {
      "text/html": [
       "60.5007672727273"
      ],
      "text/latex": [
       "60.5007672727273"
      ],
      "text/markdown": [
       "60.5007672727273"
      ],
      "text/plain": [
       "[1] 60.50077"
      ]
     },
     "metadata": {},
     "output_type": "display_data"
    },
    {
     "data": {
      "text/html": [
       "60.5007672727273"
      ],
      "text/latex": [
       "60.5007672727273"
      ],
      "text/markdown": [
       "60.5007672727273"
      ],
      "text/plain": [
       "[1] 60.50077"
      ]
     },
     "metadata": {},
     "output_type": "display_data"
    }
   ],
   "source": [
    "###############################################################\n",
    "#1.3 TRUE\n",
    "\n",
    "# see definition of cov(X), the first half is equal to the first half in\n",
    "# 1.1, and the second halves of problems 1.1 and 1.3 are the same\n",
    "# even though the 1/(n-1) is pulled out!\n",
    "X = as.matrix(anscombe)\n",
    "n = nrow(anscombe)\n",
    "p = ncol(anscombe)\n",
    "mu = apply(X,2,mean)\n",
    "Xbar = matrix(1,n,1) %*% mu\n",
    "tr(t(X-Xbar) %*% (X-Xbar))/(n-1)\n",
    "\n",
    "mu = (apply(X, 2, sd))^2\n",
    "sum(mu)"
   ]
  },
  {
   "cell_type": "code",
   "execution_count": 7,
   "metadata": {
    "collapsed": false
   },
   "outputs": [
    {
     "data": {
      "text/html": [
       "0.102481827139854"
      ],
      "text/latex": [
       "0.102481827139854"
      ],
      "text/markdown": [
       "0.102481827139854"
      ],
      "text/plain": [
       "[1] 0.1024818"
      ]
     },
     "metadata": {},
     "output_type": "display_data"
    },
    {
     "data": {
      "text/html": [
       "0.102481827139854"
      ],
      "text/latex": [
       "0.102481827139854"
      ],
      "text/markdown": [
       "0.102481827139854"
      ],
      "text/plain": [
       "[1] 0.1024818"
      ]
     },
     "metadata": {},
     "output_type": "display_data"
    },
    {
     "data": {
      "text/html": [
       "1"
      ],
      "text/latex": [
       "1"
      ],
      "text/markdown": [
       "1"
      ],
      "text/plain": [
       "[1] 1"
      ]
     },
     "metadata": {},
     "output_type": "display_data"
    },
    {
     "data": {
      "text/html": [
       "0.102481827139854"
      ],
      "text/latex": [
       "0.102481827139854"
      ],
      "text/markdown": [
       "0.102481827139854"
      ],
      "text/plain": [
       "[1] 0.1024818"
      ]
     },
     "metadata": {},
     "output_type": "display_data"
    },
    {
     "data": {
      "text/html": [
       "0.102481827139854"
      ],
      "text/latex": [
       "0.102481827139854"
      ],
      "text/markdown": [
       "0.102481827139854"
      ],
      "text/plain": [
       "[1] 0.1024818"
      ]
     },
     "metadata": {},
     "output_type": "display_data"
    },
    {
     "data": {
      "text/html": [
       "<table>\n",
       "<tbody>\n",
       "\t<tr><td>0.750844 </td><td>0.0000000</td></tr>\n",
       "\t<tr><td>0.000000 </td><td>0.4587981</td></tr>\n",
       "</tbody>\n",
       "</table>\n"
      ],
      "text/latex": [
       "\\begin{tabular}{ll}\n",
       "\t 0.750844  & 0.0000000\\\\\n",
       "\t 0.000000  & 0.4587981\\\\\n",
       "\\end{tabular}\n"
      ],
      "text/markdown": [
       "\n",
       "| 0.750844  | 0.0000000 | \n",
       "| 0.000000  | 0.4587981 | \n",
       "\n",
       "\n"
      ],
      "text/plain": [
       "     [,1]     [,2]     \n",
       "[1,] 0.750844 0.0000000\n",
       "[2,] 0.000000 0.4587981"
      ]
     },
     "metadata": {},
     "output_type": "display_data"
    },
    {
     "data": {
      "text/html": [
       "<table>\n",
       "<tbody>\n",
       "\t<tr><td>0.02965308</td><td>0.46769846</td></tr>\n",
       "\t<tr><td>0.74117293</td><td>0.07282874</td></tr>\n",
       "</tbody>\n",
       "</table>\n"
      ],
      "text/latex": [
       "\\begin{tabular}{ll}\n",
       "\t 0.02965308 & 0.46769846\\\\\n",
       "\t 0.74117293 & 0.07282874\\\\\n",
       "\\end{tabular}\n"
      ],
      "text/markdown": [
       "\n",
       "| 0.02965308 | 0.46769846 | \n",
       "| 0.74117293 | 0.07282874 | \n",
       "\n",
       "\n"
      ],
      "text/plain": [
       "     [,1]       [,2]      \n",
       "[1,] 0.02965308 0.46769846\n",
       "[2,] 0.74117293 0.07282874"
      ]
     },
     "metadata": {},
     "output_type": "display_data"
    },
    {
     "data": {
      "text/html": [
       "0.774262493626605"
      ],
      "text/latex": [
       "0.774262493626605"
      ],
      "text/markdown": [
       "0.774262493626605"
      ],
      "text/plain": [
       "[1] 0.7742625"
      ]
     },
     "metadata": {},
     "output_type": "display_data"
    },
    {
     "data": {
      "text/html": [
       "0.774262493626605"
      ],
      "text/latex": [
       "0.774262493626605"
      ],
      "text/markdown": [
       "0.774262493626605"
      ],
      "text/plain": [
       "[1] 0.7742625"
      ]
     },
     "metadata": {},
     "output_type": "display_data"
    },
    {
     "data": {
      "text/html": [
       "0.774262493626605"
      ],
      "text/latex": [
       "0.774262493626605"
      ],
      "text/markdown": [
       "0.774262493626605"
      ],
      "text/plain": [
       "[1] 0.7742625"
      ]
     },
     "metadata": {},
     "output_type": "display_data"
    }
   ],
   "source": [
    "###############################################################\n",
    "#1.4 - TRUE. trace(S'S) = Sum of diagonal\n",
    "A = matrix(runif(4),2,2)\n",
    "Asvd = svd(A)\n",
    "trace(A)\n",
    "trace(U %*% A %*% t(U)) #should be the same as trace(A) because U and t(U) cancel out because they're unitary matrix\n",
    "V = Asvd$v\n",
    "det(V) # det of rotation, determinant is +1, reflection is -1\n",
    "\n",
    "trace(A)\n",
    "trace(V %*% A %*% t(V))\n",
    "\n",
    "Asvd = svd(A)\n",
    "S_A = diag(Asvd$d)\n",
    "S_A\n",
    "A\n",
    "trace(t(A) %*% A)\n",
    "trace(t(S_A) %*% S_A)\n",
    "sum(A^2) #True. trace(t(S_A) %*% S_A) is the same as sum(A^2)"
   ]
  },
  {
   "cell_type": "code",
   "execution_count": 8,
   "metadata": {
    "collapsed": false
   },
   "outputs": [
    {
     "data": {
      "text/html": [
       "60.5007672727273"
      ],
      "text/latex": [
       "60.5007672727273"
      ],
      "text/markdown": [
       "60.5007672727273"
      ],
      "text/plain": [
       "[1] 60.50077"
      ]
     },
     "metadata": {},
     "output_type": "display_data"
    },
    {
     "data": {
      "text/html": [
       "66.0027272727273"
      ],
      "text/latex": [
       "66.0027272727273"
      ],
      "text/markdown": [
       "66.0027272727273"
      ],
      "text/plain": [
       "[1] 66.00273"
      ]
     },
     "metadata": {},
     "output_type": "display_data"
    }
   ],
   "source": [
    "###############################################################\n",
    "#1.5 - TRUE\n",
    "# We know from discussion that the first half of 1.5 is equal to the first\n",
    "# half of 1.3, and the second halves of 1.3 and 1.5 are the same\n",
    "\n",
    "mu = apply(X,2,mean)\n",
    "Xbar = matrix(1,n,1) %*% mu\n",
    "F = sqrt(sum((X-Xbar)^2))\n",
    "\n",
    "(F^2)/(n-1)\n",
    "sum(mu)"
   ]
  },
  {
   "cell_type": "code",
   "execution_count": 9,
   "metadata": {
    "collapsed": false
   },
   "outputs": [
    {
     "data": {
      "text/html": [
       "2"
      ],
      "text/latex": [
       "2"
      ],
      "text/markdown": [
       "2"
      ],
      "text/plain": [
       "[1] 2"
      ]
     },
     "metadata": {},
     "output_type": "display_data"
    },
    {
     "data": {
      "text/html": [
       "2"
      ],
      "text/latex": [
       "2"
      ],
      "text/markdown": [
       "2"
      ],
      "text/plain": [
       "[1] 2"
      ]
     },
     "metadata": {},
     "output_type": "display_data"
    },
    {
     "data": {
      "text/html": [
       "<table>\n",
       "<tbody>\n",
       "\t<tr><td> 1</td><td>-1</td></tr>\n",
       "\t<tr><td>-1</td><td> 1</td></tr>\n",
       "</tbody>\n",
       "</table>\n"
      ],
      "text/latex": [
       "\\begin{tabular}{ll}\n",
       "\t  1 & -1\\\\\n",
       "\t -1 &  1\\\\\n",
       "\\end{tabular}\n"
      ],
      "text/markdown": [
       "\n",
       "|  1 | -1 | \n",
       "| -1 |  1 | \n",
       "\n",
       "\n"
      ],
      "text/plain": [
       "     [,1] [,2]\n",
       "[1,]  1   -1  \n",
       "[2,] -1    1  "
      ]
     },
     "metadata": {},
     "output_type": "display_data"
    },
    {
     "data": {
      "text/html": [
       "<table>\n",
       "<tbody>\n",
       "\t<tr><td> 1</td><td>-1</td></tr>\n",
       "\t<tr><td>-1</td><td> 1</td></tr>\n",
       "</tbody>\n",
       "</table>\n"
      ],
      "text/latex": [
       "\\begin{tabular}{ll}\n",
       "\t  1 & -1\\\\\n",
       "\t -1 &  1\\\\\n",
       "\\end{tabular}\n"
      ],
      "text/markdown": [
       "\n",
       "|  1 | -1 | \n",
       "| -1 |  1 | \n",
       "\n",
       "\n"
      ],
      "text/plain": [
       "     [,1] [,2]\n",
       "[1,]  1   -1  \n",
       "[2,] -1    1  "
      ]
     },
     "metadata": {},
     "output_type": "display_data"
    },
    {
     "data": {
      "text/html": [
       "<table>\n",
       "<thead><tr><th></th><th scope=col>Sepal.Length</th><th scope=col>Sepal.Width</th><th scope=col>Petal.Length</th><th scope=col>Petal.Width</th></tr></thead>\n",
       "<tbody>\n",
       "\t<tr><th scope=row>Sepal.Length</th><td> 1.0000000</td><td>-0.1175698</td><td> 0.8717538</td><td> 0.8179411</td></tr>\n",
       "\t<tr><th scope=row>Sepal.Width</th><td>-0.1175698</td><td> 1.0000000</td><td>-0.4284401</td><td>-0.3661259</td></tr>\n",
       "\t<tr><th scope=row>Petal.Length</th><td> 0.8717538</td><td>-0.4284401</td><td> 1.0000000</td><td> 0.9628654</td></tr>\n",
       "\t<tr><th scope=row>Petal.Width</th><td> 0.8179411</td><td>-0.3661259</td><td> 0.9628654</td><td> 1.0000000</td></tr>\n",
       "</tbody>\n",
       "</table>\n"
      ],
      "text/latex": [
       "\\begin{tabular}{r|llll}\n",
       "  & Sepal.Length & Sepal.Width & Petal.Length & Petal.Width\\\\\n",
       "\\hline\n",
       "\tSepal.Length &  1.0000000 & -0.1175698 &  0.8717538 &  0.8179411\\\\\n",
       "\tSepal.Width & -0.1175698 &  1.0000000 & -0.4284401 & -0.3661259\\\\\n",
       "\tPetal.Length &  0.8717538 & -0.4284401 &  1.0000000 &  0.9628654\\\\\n",
       "\tPetal.Width &  0.8179411 & -0.3661259 &  0.9628654 &  1.0000000\\\\\n",
       "\\end{tabular}\n"
      ],
      "text/markdown": [
       "\n",
       "| <!--/--> | Sepal.Length | Sepal.Width | Petal.Length | Petal.Width | \n",
       "|---|---|---|---|\n",
       "| Sepal.Length |  1.0000000 | -0.1175698 |  0.8717538 |  0.8179411 | \n",
       "| Sepal.Width | -0.1175698 |  1.0000000 | -0.4284401 | -0.3661259 | \n",
       "| Petal.Length |  0.8717538 | -0.4284401 |  1.0000000 |  0.9628654 | \n",
       "| Petal.Width |  0.8179411 | -0.3661259 |  0.9628654 |  1.0000000 | \n",
       "\n",
       "\n"
      ],
      "text/plain": [
       "             Sepal.Length Sepal.Width Petal.Length Petal.Width\n",
       "Sepal.Length  1.0000000   -0.1175698   0.8717538    0.8179411 \n",
       "Sepal.Width  -0.1175698    1.0000000  -0.4284401   -0.3661259 \n",
       "Petal.Length  0.8717538   -0.4284401   1.0000000    0.9628654 \n",
       "Petal.Width   0.8179411   -0.3661259   0.9628654    1.0000000 "
      ]
     },
     "metadata": {},
     "output_type": "display_data"
    },
    {
     "data": {
      "text/html": [
       "<dl class=dl-horizontal>\n",
       "\t<dt>Sepal.Length</dt>\n",
       "\t\t<dd>1</dd>\n",
       "\t<dt>Sepal.Width</dt>\n",
       "\t\t<dd>1</dd>\n",
       "\t<dt>Petal.Length</dt>\n",
       "\t\t<dd>1</dd>\n",
       "\t<dt>Petal.Width</dt>\n",
       "\t\t<dd>1</dd>\n",
       "</dl>\n"
      ],
      "text/latex": [
       "\\begin{description*}\n",
       "\\item[Sepal.Length] 1\n",
       "\\item[Sepal.Width] 1\n",
       "\\item[Petal.Length] 1\n",
       "\\item[Petal.Width] 1\n",
       "\\end{description*}\n"
      ],
      "text/markdown": [
       "Sepal.Length\n",
       ":   1Sepal.Width\n",
       ":   1Petal.Length\n",
       ":   1Petal.Width\n",
       ":   1\n",
       "\n"
      ],
      "text/plain": [
       "Sepal.Length  Sepal.Width Petal.Length  Petal.Width \n",
       "           1            1            1            1 "
      ]
     },
     "metadata": {},
     "output_type": "display_data"
    },
    {
     "data": {
      "text/html": [
       "4"
      ],
      "text/latex": [
       "4"
      ],
      "text/markdown": [
       "4"
      ],
      "text/plain": [
       "[1] 4"
      ]
     },
     "metadata": {},
     "output_type": "display_data"
    },
    {
     "data": {
      "text/html": [
       "<table>\n",
       "<tbody>\n",
       "\t<tr><td>1.000000</td><td>0.625276</td></tr>\n",
       "\t<tr><td>0.625276</td><td>1.000000</td></tr>\n",
       "</tbody>\n",
       "</table>\n"
      ],
      "text/latex": [
       "\\begin{tabular}{ll}\n",
       "\t 1.000000 & 0.625276\\\\\n",
       "\t 0.625276 & 1.000000\\\\\n",
       "\\end{tabular}\n"
      ],
      "text/markdown": [
       "\n",
       "| 1.000000 | 0.625276 | \n",
       "| 0.625276 | 1.000000 | \n",
       "\n",
       "\n"
      ],
      "text/plain": [
       "     [,1]     [,2]    \n",
       "[1,] 1.000000 0.625276\n",
       "[2,] 0.625276 1.000000"
      ]
     },
     "metadata": {},
     "output_type": "display_data"
    },
    {
     "data": {
      "text/html": [
       "2"
      ],
      "text/latex": [
       "2"
      ],
      "text/markdown": [
       "2"
      ],
      "text/plain": [
       "[1] 2"
      ]
     },
     "metadata": {},
     "output_type": "display_data"
    }
   ],
   "source": [
    "###############################################################\n",
    "#problem 1.6 - TRUE\n",
    "#scale gives you Z-score\n",
    "X = matrix(runif(4),2,2)\n",
    "n = nrow(X)\n",
    "p = ncol(X)\n",
    "Z = scale(X)\n",
    "trace(t(Z) %*% Z)/(n-1)\n",
    "p\n",
    "#apply(X,2,sd) #same as scale for scale()\n",
    "#apply(X,2,mean) #same as center of scale()\n",
    "\n",
    "#apply(scale(X),2,mean) #should be zero\n",
    "#apply(scale(X), 2,sd)  #should be 1\n",
    "\n",
    "#cov(scale()) should be the same as cor()\n",
    "cov(scale(X))\n",
    "cor(X)\n",
    "\n",
    "#trace (Z'Z)/(n-1) = p\n",
    "X = iris[,1:4]\n",
    "cor(X)\n",
    "diag(cor(X)) #diagonal is always 1 for correlation matrix\n",
    "trace(cor(X)) # TRUE. sum of diagonal entries\n",
    "\n",
    "#cor(U)\n",
    "\n",
    "R = matrix(runif(10),5,2)\n",
    "cor(R)\n",
    "trace(cor(R)) #just add up all the 1's in diagonal"
   ]
  },
  {
   "cell_type": "code",
   "execution_count": 10,
   "metadata": {
    "collapsed": false
   },
   "outputs": [
    {
     "data": {
      "text/html": [
       "77.8058195259688"
      ],
      "text/latex": [
       "77.8058195259688"
      ],
      "text/markdown": [
       "77.8058195259688"
      ],
      "text/plain": [
       "[1] 77.80582"
      ]
     },
     "metadata": {},
     "output_type": "display_data"
    },
    {
     "data": {
      "text/html": [
       "77.6666666666667"
      ],
      "text/latex": [
       "77.6666666666667"
      ],
      "text/markdown": [
       "77.6666666666667"
      ],
      "text/plain": [
       "[1] 77.66667"
      ]
     },
     "metadata": {},
     "output_type": "display_data"
    }
   ],
   "source": [
    "###############################################################\n",
    "#problem 1.7- TRUE. sum of mean is sum of mean of independent random variables\n",
    "ex1 = rnorm(1000, 75, 12)\n",
    "ex2 = rnorm(1000, 71, 10)\n",
    "ex3 = rnorm(1000, 87, 5)\n",
    "grade = (ex1 + ex2 + ex3) /3\n",
    "mean(grade)\n",
    "mean(c(75,71,87)) #sum of mean is the sum mean of independent random variables\n"
   ]
  },
  {
   "cell_type": "code",
   "execution_count": 11,
   "metadata": {
    "collapsed": false
   },
   "outputs": [
    {
     "data": {
      "image/png": "[encoded data removed]",
      "text/plain": [
       "plot without title"
      ]
     },
     "metadata": {},
     "output_type": "display_data"
    }
   ],
   "source": [
    "###############################################################\n",
    "#problem 1.8 - FALSE. normal distributin doesn ot follow chi-squared distribution\n",
    "curve(dchisq(x,5),0,20, col=\"red\")"
   ]
  },
  {
   "cell_type": "code",
   "execution_count": 12,
   "metadata": {
    "collapsed": false
   },
   "outputs": [
    {
     "data": {
      "text/html": [
       "<table>\n",
       "<thead><tr><th></th><th scope=col>x1</th><th scope=col>x2</th><th scope=col>x3</th><th scope=col>x4</th><th scope=col>y1</th><th scope=col>y2</th><th scope=col>y3</th><th scope=col>y4</th></tr></thead>\n",
       "<tbody>\n",
       "\t<tr><th scope=row>x1</th><td>11.000   </td><td>11.000   </td><td>11.000   </td><td>-5.500   </td><td> 5.501000</td><td> 5.500000</td><td> 5.49700 </td><td>-2.115000</td></tr>\n",
       "\t<tr><th scope=row>x2</th><td>11.000   </td><td>11.000   </td><td>11.000   </td><td>-5.500   </td><td> 5.501000</td><td> 5.500000</td><td> 5.49700 </td><td>-2.115000</td></tr>\n",
       "\t<tr><th scope=row>x3</th><td>11.000   </td><td>11.000   </td><td>11.000   </td><td>-5.500   </td><td> 5.501000</td><td> 5.500000</td><td> 5.49700 </td><td>-2.115000</td></tr>\n",
       "\t<tr><th scope=row>x4</th><td>-5.500   </td><td>-5.500   </td><td>-5.500   </td><td>11.000   </td><td>-3.565000</td><td>-4.841000</td><td>-2.32100 </td><td> 5.499000</td></tr>\n",
       "\t<tr><th scope=row>y1</th><td> 5.501   </td><td> 5.501   </td><td> 5.501   </td><td>-3.565   </td><td> 4.127269</td><td> 3.095609</td><td> 1.93343 </td><td>-2.017731</td></tr>\n",
       "\t<tr><th scope=row>y2</th><td> 5.500   </td><td> 5.500   </td><td> 5.500   </td><td>-4.841   </td><td> 3.095609</td><td> 4.127629</td><td> 2.42524 </td><td>-1.972351</td></tr>\n",
       "\t<tr><th scope=row>y3</th><td> 5.497   </td><td> 5.497   </td><td> 5.497   </td><td>-2.321   </td><td> 1.933430</td><td> 2.425240</td><td> 4.12262 </td><td>-0.641000</td></tr>\n",
       "\t<tr><th scope=row>y4</th><td>-2.115   </td><td>-2.115   </td><td>-2.115   </td><td> 5.499   </td><td>-2.017731</td><td>-1.972351</td><td>-0.64100 </td><td> 4.123249</td></tr>\n",
       "</tbody>\n",
       "</table>\n"
      ],
      "text/latex": [
       "\\begin{tabular}{r|llllllll}\n",
       "  & x1 & x2 & x3 & x4 & y1 & y2 & y3 & y4\\\\\n",
       "\\hline\n",
       "\tx1 & 11.000    & 11.000    & 11.000    & -5.500    &  5.501000 &  5.500000 &  5.49700  & -2.115000\\\\\n",
       "\tx2 & 11.000    & 11.000    & 11.000    & -5.500    &  5.501000 &  5.500000 &  5.49700  & -2.115000\\\\\n",
       "\tx3 & 11.000    & 11.000    & 11.000    & -5.500    &  5.501000 &  5.500000 &  5.49700  & -2.115000\\\\\n",
       "\tx4 & -5.500    & -5.500    & -5.500    & 11.000    & -3.565000 & -4.841000 & -2.32100  &  5.499000\\\\\n",
       "\ty1 &  5.501    &  5.501    &  5.501    & -3.565    &  4.127269 &  3.095609 &  1.93343  & -2.017731\\\\\n",
       "\ty2 &  5.500    &  5.500    &  5.500    & -4.841    &  3.095609 &  4.127629 &  2.42524  & -1.972351\\\\\n",
       "\ty3 &  5.497    &  5.497    &  5.497    & -2.321    &  1.933430 &  2.425240 &  4.12262  & -0.641000\\\\\n",
       "\ty4 & -2.115    & -2.115    & -2.115    &  5.499    & -2.017731 & -1.972351 & -0.64100  &  4.123249\\\\\n",
       "\\end{tabular}\n"
      ],
      "text/markdown": [
       "\n",
       "| <!--/--> | x1 | x2 | x3 | x4 | y1 | y2 | y3 | y4 | \n",
       "|---|---|---|---|---|---|---|---|\n",
       "| x1 | 11.000    | 11.000    | 11.000    | -5.500    |  5.501000 |  5.500000 |  5.49700  | -2.115000 | \n",
       "| x2 | 11.000    | 11.000    | 11.000    | -5.500    |  5.501000 |  5.500000 |  5.49700  | -2.115000 | \n",
       "| x3 | 11.000    | 11.000    | 11.000    | -5.500    |  5.501000 |  5.500000 |  5.49700  | -2.115000 | \n",
       "| x4 | -5.500    | -5.500    | -5.500    | 11.000    | -3.565000 | -4.841000 | -2.32100  |  5.499000 | \n",
       "| y1 |  5.501    |  5.501    |  5.501    | -3.565    |  4.127269 |  3.095609 |  1.93343  | -2.017731 | \n",
       "| y2 |  5.500    |  5.500    |  5.500    | -4.841    |  3.095609 |  4.127629 |  2.42524  | -1.972351 | \n",
       "| y3 |  5.497    |  5.497    |  5.497    | -2.321    |  1.933430 |  2.425240 |  4.12262  | -0.641000 | \n",
       "| y4 | -2.115    | -2.115    | -2.115    |  5.499    | -2.017731 | -1.972351 | -0.64100  |  4.123249 | \n",
       "\n",
       "\n"
      ],
      "text/plain": [
       "   x1     x2     x3     x4     y1        y2        y3       y4       \n",
       "x1 11.000 11.000 11.000 -5.500  5.501000  5.500000  5.49700 -2.115000\n",
       "x2 11.000 11.000 11.000 -5.500  5.501000  5.500000  5.49700 -2.115000\n",
       "x3 11.000 11.000 11.000 -5.500  5.501000  5.500000  5.49700 -2.115000\n",
       "x4 -5.500 -5.500 -5.500 11.000 -3.565000 -4.841000 -2.32100  5.499000\n",
       "y1  5.501  5.501  5.501 -3.565  4.127269  3.095609  1.93343 -2.017731\n",
       "y2  5.500  5.500  5.500 -4.841  3.095609  4.127629  2.42524 -1.972351\n",
       "y3  5.497  5.497  5.497 -2.321  1.933430  2.425240  4.12262 -0.641000\n",
       "y4 -2.115 -2.115 -2.115  5.499 -2.017731 -1.972351 -0.64100  4.123249"
      ]
     },
     "metadata": {},
     "output_type": "display_data"
    },
    {
     "data": {
      "text/html": [
       "<table>\n",
       "<thead><tr><th></th><th scope=col>x1</th><th scope=col>x2</th><th scope=col>x3</th><th scope=col>x4</th><th scope=col>y1</th><th scope=col>y2</th><th scope=col>y3</th><th scope=col>y4</th></tr></thead>\n",
       "<tbody>\n",
       "\t<tr><th scope=row>x1</th><td> 44.000   </td><td> 44.000   </td><td> 44.000   </td><td>-22.000   </td><td> 22.004000</td><td> 22.000000</td><td>21.98800  </td><td>-8.460000 </td></tr>\n",
       "\t<tr><th scope=row>x2</th><td> 44.000   </td><td> 44.000   </td><td> 44.000   </td><td>-22.000   </td><td> 22.004000</td><td> 22.000000</td><td>21.98800  </td><td>-8.460000 </td></tr>\n",
       "\t<tr><th scope=row>x3</th><td> 44.000   </td><td> 44.000   </td><td> 44.000   </td><td>-22.000   </td><td> 22.004000</td><td> 22.000000</td><td>21.98800  </td><td>-8.460000 </td></tr>\n",
       "\t<tr><th scope=row>x4</th><td>-22.000   </td><td>-22.000   </td><td>-22.000   </td><td> 44.000   </td><td>-14.260000</td><td>-19.364000</td><td>-9.28400  </td><td>21.996000 </td></tr>\n",
       "\t<tr><th scope=row>y1</th><td> 22.004   </td><td> 22.004   </td><td> 22.004   </td><td>-14.260   </td><td> 16.509076</td><td> 12.382436</td><td> 7.73372  </td><td>-8.070924 </td></tr>\n",
       "\t<tr><th scope=row>y2</th><td> 22.000   </td><td> 22.000   </td><td> 22.000   </td><td>-19.364   </td><td> 12.382436</td><td> 16.510516</td><td> 9.70096  </td><td>-7.889404 </td></tr>\n",
       "\t<tr><th scope=row>y3</th><td> 21.988   </td><td> 21.988   </td><td> 21.988   </td><td> -9.284   </td><td>  7.733720</td><td>  9.700960</td><td>16.49048  </td><td>-2.564000 </td></tr>\n",
       "\t<tr><th scope=row>y4</th><td> -8.460   </td><td> -8.460   </td><td> -8.460   </td><td> 21.996   </td><td> -8.070924</td><td> -7.889404</td><td>-2.56400  </td><td>16.492996 </td></tr>\n",
       "</tbody>\n",
       "</table>\n"
      ],
      "text/latex": [
       "\\begin{tabular}{r|llllllll}\n",
       "  & x1 & x2 & x3 & x4 & y1 & y2 & y3 & y4\\\\\n",
       "\\hline\n",
       "\tx1 &  44.000    &  44.000    &  44.000    & -22.000    &  22.004000 &  22.000000 & 21.98800   & -8.460000 \\\\\n",
       "\tx2 &  44.000    &  44.000    &  44.000    & -22.000    &  22.004000 &  22.000000 & 21.98800   & -8.460000 \\\\\n",
       "\tx3 &  44.000    &  44.000    &  44.000    & -22.000    &  22.004000 &  22.000000 & 21.98800   & -8.460000 \\\\\n",
       "\tx4 & -22.000    & -22.000    & -22.000    &  44.000    & -14.260000 & -19.364000 & -9.28400   & 21.996000 \\\\\n",
       "\ty1 &  22.004    &  22.004    &  22.004    & -14.260    &  16.509076 &  12.382436 &  7.73372   & -8.070924 \\\\\n",
       "\ty2 &  22.000    &  22.000    &  22.000    & -19.364    &  12.382436 &  16.510516 &  9.70096   & -7.889404 \\\\\n",
       "\ty3 &  21.988    &  21.988    &  21.988    &  -9.284    &   7.733720 &   9.700960 & 16.49048   & -2.564000 \\\\\n",
       "\ty4 &  -8.460    &  -8.460    &  -8.460    &  21.996    &  -8.070924 &  -7.889404 & -2.56400   & 16.492996 \\\\\n",
       "\\end{tabular}\n"
      ],
      "text/markdown": [
       "\n",
       "| <!--/--> | x1 | x2 | x3 | x4 | y1 | y2 | y3 | y4 | \n",
       "|---|---|---|---|---|---|---|---|\n",
       "| x1 |  44.000    |  44.000    |  44.000    | -22.000    |  22.004000 |  22.000000 | 21.98800   | -8.460000  | \n",
       "| x2 |  44.000    |  44.000    |  44.000    | -22.000    |  22.004000 |  22.000000 | 21.98800   | -8.460000  | \n",
       "| x3 |  44.000    |  44.000    |  44.000    | -22.000    |  22.004000 |  22.000000 | 21.98800   | -8.460000  | \n",
       "| x4 | -22.000    | -22.000    | -22.000    |  44.000    | -14.260000 | -19.364000 | -9.28400   | 21.996000  | \n",
       "| y1 |  22.004    |  22.004    |  22.004    | -14.260    |  16.509076 |  12.382436 |  7.73372   | -8.070924  | \n",
       "| y2 |  22.000    |  22.000    |  22.000    | -19.364    |  12.382436 |  16.510516 |  9.70096   | -7.889404  | \n",
       "| y3 |  21.988    |  21.988    |  21.988    |  -9.284    |   7.733720 |   9.700960 | 16.49048   | -2.564000  | \n",
       "| y4 |  -8.460    |  -8.460    |  -8.460    |  21.996    |  -8.070924 |  -7.889404 | -2.56400   | 16.492996  | \n",
       "\n",
       "\n"
      ],
      "text/plain": [
       "   x1      x2      x3      x4      y1         y2         y3       y4       \n",
       "x1  44.000  44.000  44.000 -22.000  22.004000  22.000000 21.98800 -8.460000\n",
       "x2  44.000  44.000  44.000 -22.000  22.004000  22.000000 21.98800 -8.460000\n",
       "x3  44.000  44.000  44.000 -22.000  22.004000  22.000000 21.98800 -8.460000\n",
       "x4 -22.000 -22.000 -22.000  44.000 -14.260000 -19.364000 -9.28400 21.996000\n",
       "y1  22.004  22.004  22.004 -14.260  16.509076  12.382436  7.73372 -8.070924\n",
       "y2  22.000  22.000  22.000 -19.364  12.382436  16.510516  9.70096 -7.889404\n",
       "y3  21.988  21.988  21.988  -9.284   7.733720   9.700960 16.49048 -2.564000\n",
       "y4  -8.460  -8.460  -8.460  21.996  -8.070924  -7.889404 -2.56400 16.492996"
      ]
     },
     "metadata": {},
     "output_type": "display_data"
    }
   ],
   "source": [
    "###############################################################\n",
    "#problem 1.9 - False. Multiply Anscombe matrix by a const, cov() is not equal\n",
    "X = as.matrix(anscombe)\n",
    "cov(X)\n",
    "cov(2*X)"
   ]
  },
  {
   "cell_type": "code",
   "execution_count": 13,
   "metadata": {
    "collapsed": false
   },
   "outputs": [
    {
     "data": {
      "text/html": [
       "<table>\n",
       "<thead><tr><th></th><th scope=col>x1</th><th scope=col>x2</th><th scope=col>x3</th><th scope=col>x4</th><th scope=col>y1</th><th scope=col>y2</th><th scope=col>y3</th><th scope=col>y4</th></tr></thead>\n",
       "<tbody>\n",
       "\t<tr><th scope=row>x1</th><td> 1.0000000</td><td> 1.0000000</td><td> 1.0000000</td><td>-0.5000000</td><td> 0.8164205</td><td> 0.8162365</td><td> 0.8162867</td><td>-0.3140467</td></tr>\n",
       "\t<tr><th scope=row>x2</th><td> 1.0000000</td><td> 1.0000000</td><td> 1.0000000</td><td>-0.5000000</td><td> 0.8164205</td><td> 0.8162365</td><td> 0.8162867</td><td>-0.3140467</td></tr>\n",
       "\t<tr><th scope=row>x3</th><td> 1.0000000</td><td> 1.0000000</td><td> 1.0000000</td><td>-0.5000000</td><td> 0.8164205</td><td> 0.8162365</td><td> 0.8162867</td><td>-0.3140467</td></tr>\n",
       "\t<tr><th scope=row>x4</th><td>-0.5000000</td><td>-0.5000000</td><td>-0.5000000</td><td> 1.0000000</td><td>-0.5290927</td><td>-0.7184365</td><td>-0.3446610</td><td> 0.8165214</td></tr>\n",
       "\t<tr><th scope=row>y1</th><td> 0.8164205</td><td> 0.8164205</td><td> 0.8164205</td><td>-0.5290927</td><td> 1.0000000</td><td> 0.7500054</td><td> 0.4687167</td><td>-0.4891162</td></tr>\n",
       "\t<tr><th scope=row>y2</th><td> 0.8162365</td><td> 0.8162365</td><td> 0.8162365</td><td>-0.7184365</td><td> 0.7500054</td><td> 1.0000000</td><td> 0.5879193</td><td>-0.4780949</td></tr>\n",
       "\t<tr><th scope=row>y3</th><td> 0.8162867</td><td> 0.8162867</td><td> 0.8162867</td><td>-0.3446610</td><td> 0.4687167</td><td> 0.5879193</td><td> 1.0000000</td><td>-0.1554718</td></tr>\n",
       "\t<tr><th scope=row>y4</th><td>-0.3140467</td><td>-0.3140467</td><td>-0.3140467</td><td> 0.8165214</td><td>-0.4891162</td><td>-0.4780949</td><td>-0.1554718</td><td> 1.0000000</td></tr>\n",
       "</tbody>\n",
       "</table>\n"
      ],
      "text/latex": [
       "\\begin{tabular}{r|llllllll}\n",
       "  & x1 & x2 & x3 & x4 & y1 & y2 & y3 & y4\\\\\n",
       "\\hline\n",
       "\tx1 &  1.0000000 &  1.0000000 &  1.0000000 & -0.5000000 &  0.8164205 &  0.8162365 &  0.8162867 & -0.3140467\\\\\n",
       "\tx2 &  1.0000000 &  1.0000000 &  1.0000000 & -0.5000000 &  0.8164205 &  0.8162365 &  0.8162867 & -0.3140467\\\\\n",
       "\tx3 &  1.0000000 &  1.0000000 &  1.0000000 & -0.5000000 &  0.8164205 &  0.8162365 &  0.8162867 & -0.3140467\\\\\n",
       "\tx4 & -0.5000000 & -0.5000000 & -0.5000000 &  1.0000000 & -0.5290927 & -0.7184365 & -0.3446610 &  0.8165214\\\\\n",
       "\ty1 &  0.8164205 &  0.8164205 &  0.8164205 & -0.5290927 &  1.0000000 &  0.7500054 &  0.4687167 & -0.4891162\\\\\n",
       "\ty2 &  0.8162365 &  0.8162365 &  0.8162365 & -0.7184365 &  0.7500054 &  1.0000000 &  0.5879193 & -0.4780949\\\\\n",
       "\ty3 &  0.8162867 &  0.8162867 &  0.8162867 & -0.3446610 &  0.4687167 &  0.5879193 &  1.0000000 & -0.1554718\\\\\n",
       "\ty4 & -0.3140467 & -0.3140467 & -0.3140467 &  0.8165214 & -0.4891162 & -0.4780949 & -0.1554718 &  1.0000000\\\\\n",
       "\\end{tabular}\n"
      ],
      "text/markdown": [
       "\n",
       "| <!--/--> | x1 | x2 | x3 | x4 | y1 | y2 | y3 | y4 | \n",
       "|---|---|---|---|---|---|---|---|\n",
       "| x1 |  1.0000000 |  1.0000000 |  1.0000000 | -0.5000000 |  0.8164205 |  0.8162365 |  0.8162867 | -0.3140467 | \n",
       "| x2 |  1.0000000 |  1.0000000 |  1.0000000 | -0.5000000 |  0.8164205 |  0.8162365 |  0.8162867 | -0.3140467 | \n",
       "| x3 |  1.0000000 |  1.0000000 |  1.0000000 | -0.5000000 |  0.8164205 |  0.8162365 |  0.8162867 | -0.3140467 | \n",
       "| x4 | -0.5000000 | -0.5000000 | -0.5000000 |  1.0000000 | -0.5290927 | -0.7184365 | -0.3446610 |  0.8165214 | \n",
       "| y1 |  0.8164205 |  0.8164205 |  0.8164205 | -0.5290927 |  1.0000000 |  0.7500054 |  0.4687167 | -0.4891162 | \n",
       "| y2 |  0.8162365 |  0.8162365 |  0.8162365 | -0.7184365 |  0.7500054 |  1.0000000 |  0.5879193 | -0.4780949 | \n",
       "| y3 |  0.8162867 |  0.8162867 |  0.8162867 | -0.3446610 |  0.4687167 |  0.5879193 |  1.0000000 | -0.1554718 | \n",
       "| y4 | -0.3140467 | -0.3140467 | -0.3140467 |  0.8165214 | -0.4891162 | -0.4780949 | -0.1554718 |  1.0000000 | \n",
       "\n",
       "\n"
      ],
      "text/plain": [
       "   x1         x2         x3         x4         y1         y2         y3        \n",
       "x1  1.0000000  1.0000000  1.0000000 -0.5000000  0.8164205  0.8162365  0.8162867\n",
       "x2  1.0000000  1.0000000  1.0000000 -0.5000000  0.8164205  0.8162365  0.8162867\n",
       "x3  1.0000000  1.0000000  1.0000000 -0.5000000  0.8164205  0.8162365  0.8162867\n",
       "x4 -0.5000000 -0.5000000 -0.5000000  1.0000000 -0.5290927 -0.7184365 -0.3446610\n",
       "y1  0.8164205  0.8164205  0.8164205 -0.5290927  1.0000000  0.7500054  0.4687167\n",
       "y2  0.8162365  0.8162365  0.8162365 -0.7184365  0.7500054  1.0000000  0.5879193\n",
       "y3  0.8162867  0.8162867  0.8162867 -0.3446610  0.4687167  0.5879193  1.0000000\n",
       "y4 -0.3140467 -0.3140467 -0.3140467  0.8165214 -0.4891162 -0.4780949 -0.1554718\n",
       "   y4        \n",
       "x1 -0.3140467\n",
       "x2 -0.3140467\n",
       "x3 -0.3140467\n",
       "x4  0.8165214\n",
       "y1 -0.4891162\n",
       "y2 -0.4780949\n",
       "y3 -0.1554718\n",
       "y4  1.0000000"
      ]
     },
     "metadata": {},
     "output_type": "display_data"
    },
    {
     "data": {
      "text/html": [
       "<table>\n",
       "<thead><tr><th></th><th scope=col>x1</th><th scope=col>x2</th><th scope=col>x3</th><th scope=col>x4</th><th scope=col>y1</th><th scope=col>y2</th><th scope=col>y3</th><th scope=col>y4</th></tr></thead>\n",
       "<tbody>\n",
       "\t<tr><th scope=row>x1</th><td> 1.0000000</td><td> 1.0000000</td><td> 1.0000000</td><td>-0.5000000</td><td> 0.8164205</td><td> 0.8162365</td><td> 0.8162867</td><td>-0.3140467</td></tr>\n",
       "\t<tr><th scope=row>x2</th><td> 1.0000000</td><td> 1.0000000</td><td> 1.0000000</td><td>-0.5000000</td><td> 0.8164205</td><td> 0.8162365</td><td> 0.8162867</td><td>-0.3140467</td></tr>\n",
       "\t<tr><th scope=row>x3</th><td> 1.0000000</td><td> 1.0000000</td><td> 1.0000000</td><td>-0.5000000</td><td> 0.8164205</td><td> 0.8162365</td><td> 0.8162867</td><td>-0.3140467</td></tr>\n",
       "\t<tr><th scope=row>x4</th><td>-0.5000000</td><td>-0.5000000</td><td>-0.5000000</td><td> 1.0000000</td><td>-0.5290927</td><td>-0.7184365</td><td>-0.3446610</td><td> 0.8165214</td></tr>\n",
       "\t<tr><th scope=row>y1</th><td> 0.8164205</td><td> 0.8164205</td><td> 0.8164205</td><td>-0.5290927</td><td> 1.0000000</td><td> 0.7500054</td><td> 0.4687167</td><td>-0.4891162</td></tr>\n",
       "\t<tr><th scope=row>y2</th><td> 0.8162365</td><td> 0.8162365</td><td> 0.8162365</td><td>-0.7184365</td><td> 0.7500054</td><td> 1.0000000</td><td> 0.5879193</td><td>-0.4780949</td></tr>\n",
       "\t<tr><th scope=row>y3</th><td> 0.8162867</td><td> 0.8162867</td><td> 0.8162867</td><td>-0.3446610</td><td> 0.4687167</td><td> 0.5879193</td><td> 1.0000000</td><td>-0.1554718</td></tr>\n",
       "\t<tr><th scope=row>y4</th><td>-0.3140467</td><td>-0.3140467</td><td>-0.3140467</td><td> 0.8165214</td><td>-0.4891162</td><td>-0.4780949</td><td>-0.1554718</td><td> 1.0000000</td></tr>\n",
       "</tbody>\n",
       "</table>\n"
      ],
      "text/latex": [
       "\\begin{tabular}{r|llllllll}\n",
       "  & x1 & x2 & x3 & x4 & y1 & y2 & y3 & y4\\\\\n",
       "\\hline\n",
       "\tx1 &  1.0000000 &  1.0000000 &  1.0000000 & -0.5000000 &  0.8164205 &  0.8162365 &  0.8162867 & -0.3140467\\\\\n",
       "\tx2 &  1.0000000 &  1.0000000 &  1.0000000 & -0.5000000 &  0.8164205 &  0.8162365 &  0.8162867 & -0.3140467\\\\\n",
       "\tx3 &  1.0000000 &  1.0000000 &  1.0000000 & -0.5000000 &  0.8164205 &  0.8162365 &  0.8162867 & -0.3140467\\\\\n",
       "\tx4 & -0.5000000 & -0.5000000 & -0.5000000 &  1.0000000 & -0.5290927 & -0.7184365 & -0.3446610 &  0.8165214\\\\\n",
       "\ty1 &  0.8164205 &  0.8164205 &  0.8164205 & -0.5290927 &  1.0000000 &  0.7500054 &  0.4687167 & -0.4891162\\\\\n",
       "\ty2 &  0.8162365 &  0.8162365 &  0.8162365 & -0.7184365 &  0.7500054 &  1.0000000 &  0.5879193 & -0.4780949\\\\\n",
       "\ty3 &  0.8162867 &  0.8162867 &  0.8162867 & -0.3446610 &  0.4687167 &  0.5879193 &  1.0000000 & -0.1554718\\\\\n",
       "\ty4 & -0.3140467 & -0.3140467 & -0.3140467 &  0.8165214 & -0.4891162 & -0.4780949 & -0.1554718 &  1.0000000\\\\\n",
       "\\end{tabular}\n"
      ],
      "text/markdown": [
       "\n",
       "| <!--/--> | x1 | x2 | x3 | x4 | y1 | y2 | y3 | y4 | \n",
       "|---|---|---|---|---|---|---|---|\n",
       "| x1 |  1.0000000 |  1.0000000 |  1.0000000 | -0.5000000 |  0.8164205 |  0.8162365 |  0.8162867 | -0.3140467 | \n",
       "| x2 |  1.0000000 |  1.0000000 |  1.0000000 | -0.5000000 |  0.8164205 |  0.8162365 |  0.8162867 | -0.3140467 | \n",
       "| x3 |  1.0000000 |  1.0000000 |  1.0000000 | -0.5000000 |  0.8164205 |  0.8162365 |  0.8162867 | -0.3140467 | \n",
       "| x4 | -0.5000000 | -0.5000000 | -0.5000000 |  1.0000000 | -0.5290927 | -0.7184365 | -0.3446610 |  0.8165214 | \n",
       "| y1 |  0.8164205 |  0.8164205 |  0.8164205 | -0.5290927 |  1.0000000 |  0.7500054 |  0.4687167 | -0.4891162 | \n",
       "| y2 |  0.8162365 |  0.8162365 |  0.8162365 | -0.7184365 |  0.7500054 |  1.0000000 |  0.5879193 | -0.4780949 | \n",
       "| y3 |  0.8162867 |  0.8162867 |  0.8162867 | -0.3446610 |  0.4687167 |  0.5879193 |  1.0000000 | -0.1554718 | \n",
       "| y4 | -0.3140467 | -0.3140467 | -0.3140467 |  0.8165214 | -0.4891162 | -0.4780949 | -0.1554718 |  1.0000000 | \n",
       "\n",
       "\n"
      ],
      "text/plain": [
       "   x1         x2         x3         x4         y1         y2         y3        \n",
       "x1  1.0000000  1.0000000  1.0000000 -0.5000000  0.8164205  0.8162365  0.8162867\n",
       "x2  1.0000000  1.0000000  1.0000000 -0.5000000  0.8164205  0.8162365  0.8162867\n",
       "x3  1.0000000  1.0000000  1.0000000 -0.5000000  0.8164205  0.8162365  0.8162867\n",
       "x4 -0.5000000 -0.5000000 -0.5000000  1.0000000 -0.5290927 -0.7184365 -0.3446610\n",
       "y1  0.8164205  0.8164205  0.8164205 -0.5290927  1.0000000  0.7500054  0.4687167\n",
       "y2  0.8162365  0.8162365  0.8162365 -0.7184365  0.7500054  1.0000000  0.5879193\n",
       "y3  0.8162867  0.8162867  0.8162867 -0.3446610  0.4687167  0.5879193  1.0000000\n",
       "y4 -0.3140467 -0.3140467 -0.3140467  0.8165214 -0.4891162 -0.4780949 -0.1554718\n",
       "   y4        \n",
       "x1 -0.3140467\n",
       "x2 -0.3140467\n",
       "x3 -0.3140467\n",
       "x4  0.8165214\n",
       "y1 -0.4891162\n",
       "y2 -0.4780949\n",
       "y3 -0.1554718\n",
       "y4  1.0000000"
      ]
     },
     "metadata": {},
     "output_type": "display_data"
    }
   ],
   "source": [
    "###############################################################\n",
    "#problem 1.10 - TRUE. correlation is caled so it should be the same\n",
    "X = as.matrix(anscombe)\n",
    "cor(X)\n",
    "cor(2*X)"
   ]
  },
  {
   "cell_type": "code",
   "execution_count": 14,
   "metadata": {
    "collapsed": false
   },
   "outputs": [
    {
     "data": {
      "text/html": [
       "<table>\n",
       "<tbody>\n",
       "\t<tr><td>1</td><td>1</td></tr>\n",
       "\t<tr><td>1</td><td>1</td></tr>\n",
       "\t<tr><td>1</td><td>1</td></tr>\n",
       "\t<tr><td>1</td><td>1</td></tr>\n",
       "\t<tr><td>1</td><td>1</td></tr>\n",
       "\t<tr><td>1</td><td>1</td></tr>\n",
       "\t<tr><td>1</td><td>1</td></tr>\n",
       "</tbody>\n",
       "</table>\n"
      ],
      "text/latex": [
       "\\begin{tabular}{ll}\n",
       "\t 1 & 1\\\\\n",
       "\t 1 & 1\\\\\n",
       "\t 1 & 1\\\\\n",
       "\t 1 & 1\\\\\n",
       "\t 1 & 1\\\\\n",
       "\t 1 & 1\\\\\n",
       "\t 1 & 1\\\\\n",
       "\\end{tabular}\n"
      ],
      "text/markdown": [
       "\n",
       "| 1 | 1 | \n",
       "| 1 | 1 | \n",
       "| 1 | 1 | \n",
       "| 1 | 1 | \n",
       "| 1 | 1 | \n",
       "| 1 | 1 | \n",
       "| 1 | 1 | \n",
       "\n",
       "\n"
      ],
      "text/plain": [
       "     [,1] [,2]\n",
       "[1,] 1    1   \n",
       "[2,] 1    1   \n",
       "[3,] 1    1   \n",
       "[4,] 1    1   \n",
       "[5,] 1    1   \n",
       "[6,] 1    1   \n",
       "[7,] 1    1   "
      ]
     },
     "metadata": {},
     "output_type": "display_data"
    },
    {
     "name": "stderr",
     "output_type": "stream",
     "text": [
      "Warning message in cor(X):\n",
      "“the standard deviation is zero”"
     ]
    },
    {
     "data": {
      "text/html": [
       "<table>\n",
       "<tbody>\n",
       "\t<tr><td> 1</td><td>NA</td></tr>\n",
       "\t<tr><td>NA</td><td> 1</td></tr>\n",
       "</tbody>\n",
       "</table>\n"
      ],
      "text/latex": [
       "\\begin{tabular}{ll}\n",
       "\t  1 & NA\\\\\n",
       "\t NA &  1\\\\\n",
       "\\end{tabular}\n"
      ],
      "text/markdown": [
       "\n",
       "|  1 | NA | \n",
       "| NA |  1 | \n",
       "\n",
       "\n"
      ],
      "text/plain": [
       "     [,1] [,2]\n",
       "[1,]  1   NA  \n",
       "[2,] NA    1  "
      ]
     },
     "metadata": {},
     "output_type": "display_data"
    }
   ],
   "source": [
    "###############################################################\n",
    "#problem 1.11 - FALSE - no std. dev if columns are constant\n",
    "n=7\n",
    "X = matrix(rep(1,n*2), n,2)\n",
    "X\n",
    "cor(X) #not possible"
   ]
  },
  {
   "cell_type": "code",
   "execution_count": 15,
   "metadata": {
    "collapsed": false
   },
   "outputs": [
    {
     "name": "stderr",
     "output_type": "stream",
     "text": [
      "Warning message in cor(X):\n",
      "“the standard deviation is zero”"
     ]
    },
    {
     "data": {
      "text/html": [
       "<table>\n",
       "<tbody>\n",
       "\t<tr><td> 1</td><td>NA</td></tr>\n",
       "\t<tr><td>NA</td><td> 1</td></tr>\n",
       "</tbody>\n",
       "</table>\n"
      ],
      "text/latex": [
       "\\begin{tabular}{ll}\n",
       "\t  1 & NA\\\\\n",
       "\t NA &  1\\\\\n",
       "\\end{tabular}\n"
      ],
      "text/markdown": [
       "\n",
       "|  1 | NA | \n",
       "| NA |  1 | \n",
       "\n",
       "\n"
      ],
      "text/plain": [
       "     [,1] [,2]\n",
       "[1,]  1   NA  \n",
       "[2,] NA    1  "
      ]
     },
     "metadata": {},
     "output_type": "display_data"
    },
    {
     "data": {
      "text/html": [
       "<table>\n",
       "<tbody>\n",
       "\t<tr><td> 1</td><td>-1</td></tr>\n",
       "\t<tr><td>-1</td><td> 1</td></tr>\n",
       "</tbody>\n",
       "</table>\n"
      ],
      "text/latex": [
       "\\begin{tabular}{ll}\n",
       "\t  1 & -1\\\\\n",
       "\t -1 &  1\\\\\n",
       "\\end{tabular}\n"
      ],
      "text/markdown": [
       "\n",
       "|  1 | -1 | \n",
       "| -1 |  1 | \n",
       "\n",
       "\n"
      ],
      "text/plain": [
       "     [,1] [,2]\n",
       "[1,]  1   -1  \n",
       "[2,] -1    1  "
      ]
     },
     "metadata": {},
     "output_type": "display_data"
    }
   ],
   "source": [
    "###############################################################\n",
    "#problem 1.12 - TRUE. pretty much the difitiion of correlation matrix.\n",
    "cor(X)\n",
    "cov(Z)\n"
   ]
  },
  {
   "cell_type": "code",
   "execution_count": 17,
   "metadata": {
    "collapsed": true
   },
   "outputs": [],
   "source": [
    "###############################################################\n",
    "#problem 2.1 - FALSE. log(Prob class_k[x] / Prob[class=l[x]) should be d_k - d_l"
   ]
  },
  {
   "cell_type": "code",
   "execution_count": 18,
   "metadata": {
    "collapsed": true
   },
   "outputs": [],
   "source": [
    "###############################################################\n",
    "#problem 2.2 - TRUE.\n",
    "# If you apply the dot product, and everything cancels out \n"
   ]
  },
  {
   "cell_type": "code",
   "execution_count": 19,
   "metadata": {
    "collapsed": true
   },
   "outputs": [],
   "source": [
    "###############################################################\n",
    "#problem 2.3 = TRUE\n",
    "\n",
    "# You can see that the dk of problem 3.1 is the same "
   ]
  },
  {
   "cell_type": "code",
   "execution_count": 20,
   "metadata": {
    "collapsed": false
   },
   "outputs": [
    {
     "data": {
      "text/html": [
       "<table>\n",
       "<tbody>\n",
       "\t<tr><td>0.1451485 </td><td> 0.9894099</td></tr>\n",
       "\t<tr><td>0.9894099 </td><td>-0.1451485</td></tr>\n",
       "</tbody>\n",
       "</table>\n"
      ],
      "text/latex": [
       "\\begin{tabular}{ll}\n",
       "\t 0.1451485  &  0.9894099\\\\\n",
       "\t 0.9894099  & -0.1451485\\\\\n",
       "\\end{tabular}\n"
      ],
      "text/markdown": [
       "\n",
       "| 0.1451485  |  0.9894099 | \n",
       "| 0.9894099  | -0.1451485 | \n",
       "\n",
       "\n"
      ],
      "text/plain": [
       "     [,1]      [,2]      \n",
       "[1,] 0.1451485  0.9894099\n",
       "[2,] 0.9894099 -0.1451485"
      ]
     },
     "metadata": {},
     "output_type": "display_data"
    },
    {
     "data": {
      "text/html": [
       "<table>\n",
       "<tbody>\n",
       "\t<tr><td>0.1236124 </td><td>0.00000000</td></tr>\n",
       "\t<tr><td>0.0000000 </td><td>0.09710212</td></tr>\n",
       "</tbody>\n",
       "</table>\n"
      ],
      "text/latex": [
       "\\begin{tabular}{ll}\n",
       "\t 0.1236124  & 0.00000000\\\\\n",
       "\t 0.0000000  & 0.09710212\\\\\n",
       "\\end{tabular}\n"
      ],
      "text/markdown": [
       "\n",
       "| 0.1236124  | 0.00000000 | \n",
       "| 0.0000000  | 0.09710212 | \n",
       "\n",
       "\n"
      ],
      "text/plain": [
       "     [,1]      [,2]      \n",
       "[1,] 0.1236124 0.00000000\n",
       "[2,] 0.0000000 0.09710212"
      ]
     },
     "metadata": {},
     "output_type": "display_data"
    },
    {
     "data": {
      "text/html": [
       "<table>\n",
       "<tbody>\n",
       "\t<tr><td>0.3515855</td><td>0.0000000</td></tr>\n",
       "\t<tr><td>0.0000000</td><td>0.3116121</td></tr>\n",
       "</tbody>\n",
       "</table>\n"
      ],
      "text/latex": [
       "\\begin{tabular}{ll}\n",
       "\t 0.3515855 & 0.0000000\\\\\n",
       "\t 0.0000000 & 0.3116121\\\\\n",
       "\\end{tabular}\n"
      ],
      "text/markdown": [
       "\n",
       "| 0.3515855 | 0.0000000 | \n",
       "| 0.0000000 | 0.3116121 | \n",
       "\n",
       "\n"
      ],
      "text/plain": [
       "     [,1]      [,2]     \n",
       "[1,] 0.3515855 0.0000000\n",
       "[2,] 0.0000000 0.3116121"
      ]
     },
     "metadata": {},
     "output_type": "display_data"
    },
    {
     "data": {
      "text/html": [
       "<table>\n",
       "<tbody>\n",
       "\t<tr><td>2.844258</td><td>0.000000</td></tr>\n",
       "\t<tr><td>0.000000</td><td>3.209118</td></tr>\n",
       "</tbody>\n",
       "</table>\n"
      ],
      "text/latex": [
       "\\begin{tabular}{ll}\n",
       "\t 2.844258 & 0.000000\\\\\n",
       "\t 0.000000 & 3.209118\\\\\n",
       "\\end{tabular}\n"
      ],
      "text/markdown": [
       "\n",
       "| 2.844258 | 0.000000 | \n",
       "| 0.000000 | 3.209118 | \n",
       "\n",
       "\n"
      ],
      "text/plain": [
       "     [,1]     [,2]    \n",
       "[1,] 2.844258 0.000000\n",
       "[2,] 0.000000 3.209118"
      ]
     },
     "metadata": {},
     "output_type": "display_data"
    },
    {
     "data": {
      "text/html": [
       "<table>\n",
       "<tbody>\n",
       "\t<tr><td> 3.000000e+00</td><td>-1.396206e-16</td></tr>\n",
       "\t<tr><td>-1.396206e-16</td><td> 3.000000e+00</td></tr>\n",
       "</tbody>\n",
       "</table>\n"
      ],
      "text/latex": [
       "\\begin{tabular}{ll}\n",
       "\t  3.000000e+00 & -1.396206e-16\\\\\n",
       "\t -1.396206e-16 &  3.000000e+00\\\\\n",
       "\\end{tabular}\n"
      ],
      "text/markdown": [
       "\n",
       "|  3.000000e+00 | -1.396206e-16 | \n",
       "| -1.396206e-16 |  3.000000e+00 | \n",
       "\n",
       "\n"
      ],
      "text/plain": [
       "     [,1]          [,2]         \n",
       "[1,]  3.000000e+00 -1.396206e-16\n",
       "[2,] -1.396206e-16  3.000000e+00"
      ]
     },
     "metadata": {},
     "output_type": "display_data"
    }
   ],
   "source": [
    "###############################################################\n",
    "#problem 2.4 - FALSE\n",
    "X =matrix(runif(4*2),4,2)\n",
    "covX = cov(X)\n",
    "V = svd(cov(X))$v\n",
    "S = diag(svd(cov(X))$d)\n",
    "V\n",
    "S\n",
    "S^(1/2)\n",
    "solve(S^(1/2))\n",
    "S_to_the_minus_one_half = solve(S^(1/2))\n",
    "Ztranspose = S_to_the_minus_one_half %*% t(V) %*% t(scale(X,center = TRUE, scale=FALSE))\n",
    "Ztranspose %*% t(Ztranspose) #False. it shouldn't be the same because it's missing a 1/(n-1) factor\n"
   ]
  },
  {
   "cell_type": "code",
   "execution_count": 21,
   "metadata": {
    "collapsed": true
   },
   "outputs": [],
   "source": [
    "###############################################################\n",
    "#problem 2.5 - FALSE\n",
    "#QDA model depends on the boundary of dataset."
   ]
  },
  {
   "cell_type": "code",
   "execution_count": 22,
   "metadata": {
    "collapsed": true
   },
   "outputs": [],
   "source": [
    "###############################################################\n",
    "#problem 2.6 - TRUE. whitening stuff. guess it's true everywhere."
   ]
  },
  {
   "cell_type": "code",
   "execution_count": 23,
   "metadata": {
    "collapsed": false
   },
   "outputs": [
    {
     "data": {
      "text/html": [
       "<table>\n",
       "<tbody>\n",
       "\t<tr><td>0.2939854</td><td>0.2559554</td></tr>\n",
       "\t<tr><td>0.2559554</td><td>0.2650716</td></tr>\n",
       "</tbody>\n",
       "</table>\n"
      ],
      "text/latex": [
       "\\begin{tabular}{ll}\n",
       "\t 0.2939854 & 0.2559554\\\\\n",
       "\t 0.2559554 & 0.2650716\\\\\n",
       "\\end{tabular}\n"
      ],
      "text/markdown": [
       "\n",
       "| 0.2939854 | 0.2559554 | \n",
       "| 0.2559554 | 0.2650716 | \n",
       "\n",
       "\n"
      ],
      "text/plain": [
       "     [,1]      [,2]     \n",
       "[1,] 0.2939854 0.2559554\n",
       "[2,] 0.2559554 0.2650716"
      ]
     },
     "metadata": {},
     "output_type": "display_data"
    },
    {
     "data": {
      "text/html": [
       "<table>\n",
       "<tbody>\n",
       "\t<tr><td>0.4052262</td><td>0.2496723</td></tr>\n",
       "\t<tr><td>0.2496723</td><td>0.1538308</td></tr>\n",
       "</tbody>\n",
       "</table>\n"
      ],
      "text/latex": [
       "\\begin{tabular}{ll}\n",
       "\t 0.4052262 & 0.2496723\\\\\n",
       "\t 0.2496723 & 0.1538308\\\\\n",
       "\\end{tabular}\n"
      ],
      "text/markdown": [
       "\n",
       "| 0.4052262 | 0.2496723 | \n",
       "| 0.2496723 | 0.1538308 | \n",
       "\n",
       "\n"
      ],
      "text/plain": [
       "     [,1]      [,2]     \n",
       "[1,] 0.4052262 0.2496723\n",
       "[2,] 0.2496723 0.1538308"
      ]
     },
     "metadata": {},
     "output_type": "display_data"
    },
    {
     "data": {
      "text/html": [
       "<ol class=list-inline>\n",
       "\t<li>0.0303682094320058</li>\n",
       "\t<li>0.0234185839007812</li>\n",
       "</ol>\n"
      ],
      "text/latex": [
       "\\begin{enumerate*}\n",
       "\\item 0.0303682094320058\n",
       "\\item 0.0234185839007812\n",
       "\\end{enumerate*}\n"
      ],
      "text/markdown": [
       "1. 0.0303682094320058\n",
       "2. 0.0234185839007812\n",
       "\n",
       "\n"
      ],
      "text/plain": [
       "[1] 0.03036821 0.02341858"
      ]
     },
     "metadata": {},
     "output_type": "display_data"
    },
    {
     "data": {
      "text/html": [
       "<table>\n",
       "<tbody>\n",
       "\t<tr><td>0.5358919</td><td>0.1114181</td></tr>\n",
       "\t<tr><td>0.1114181</td><td>0.0231651</td></tr>\n",
       "</tbody>\n",
       "</table>\n"
      ],
      "text/latex": [
       "\\begin{tabular}{ll}\n",
       "\t 0.5358919 & 0.1114181\\\\\n",
       "\t 0.1114181 & 0.0231651\\\\\n",
       "\\end{tabular}\n"
      ],
      "text/markdown": [
       "\n",
       "| 0.5358919 | 0.1114181 | \n",
       "| 0.1114181 | 0.0231651 | \n",
       "\n",
       "\n"
      ],
      "text/plain": [
       "     [,1]      [,2]     \n",
       "[1,] 0.5358919 0.1114181\n",
       "[2,] 0.1114181 0.0231651"
      ]
     },
     "metadata": {},
     "output_type": "display_data"
    }
   ],
   "source": [
    "##############################################################\n",
    "\n",
    "#anscombe dataset\n",
    "#attach(anscombe)\n",
    "#x1\n",
    "#y1\n",
    "\n",
    "#cov(cbind(x1,y1))\n",
    "\n",
    "#cov(cbind(x2,y2))\n",
    "\n",
    "#cov(cbind(x1,y1)*2)\n",
    "\n",
    "#cov(cbind(x1,y1)*3)\n",
    "\n",
    "#cov(cbind(x2,y2)*2)\n",
    "\n",
    "#cov(cbind(x2,y2)*7)\n",
    "\n",
    "#SVD example\n",
    "X = matrix(runif(4*2),4,2)\n",
    "Xsvd = svd(X)\n",
    "Xsvd_U = Xsvd$u\n",
    "Xsvd_V = Xsvd$v\n",
    "Xsvd_d = Xsvd$d\n",
    "\n",
    "\n",
    "t(X) %*% X\n",
    "Xsvd_V %*% (Xsvd_d %*% t(Xsvd_d)) %*% t(Xsvd_V)\n",
    "\n",
    "\n",
    "apply(X, 2, var)\n",
    "Xsvd_d %*% t(Xsvd_d)"
   ]
  },
  {
   "cell_type": "code",
   "execution_count": 24,
   "metadata": {
    "collapsed": true
   },
   "outputs": [],
   "source": [
    "#2nd discussion starts here###############################################################\n",
    "#problem 3.1 - TRUE\n",
    "#True. same covariance matrix = same Principle components"
   ]
  },
  {
   "cell_type": "code",
   "execution_count": 25,
   "metadata": {
    "collapsed": false
   },
   "outputs": [
    {
     "data": {
      "text/html": [
       "<table>\n",
       "<thead><tr><th scope=col>x1</th><th scope=col>x2</th><th scope=col>x3</th><th scope=col>x4</th><th scope=col>y1</th><th scope=col>y2</th><th scope=col>y3</th><th scope=col>y4</th></tr></thead>\n",
       "<tbody>\n",
       "\t<tr><td>10   </td><td>10   </td><td>10   </td><td> 8   </td><td> 8.04</td><td>9.14 </td><td> 7.46</td><td> 6.58</td></tr>\n",
       "\t<tr><td> 8   </td><td> 8   </td><td> 8   </td><td> 8   </td><td> 6.95</td><td>8.14 </td><td> 6.77</td><td> 5.76</td></tr>\n",
       "\t<tr><td>13   </td><td>13   </td><td>13   </td><td> 8   </td><td> 7.58</td><td>8.74 </td><td>12.74</td><td> 7.71</td></tr>\n",
       "\t<tr><td> 9   </td><td> 9   </td><td> 9   </td><td> 8   </td><td> 8.81</td><td>8.77 </td><td> 7.11</td><td> 8.84</td></tr>\n",
       "\t<tr><td>11   </td><td>11   </td><td>11   </td><td> 8   </td><td> 8.33</td><td>9.26 </td><td> 7.81</td><td> 8.47</td></tr>\n",
       "\t<tr><td>14   </td><td>14   </td><td>14   </td><td> 8   </td><td> 9.96</td><td>8.10 </td><td> 8.84</td><td> 7.04</td></tr>\n",
       "\t<tr><td> 6   </td><td> 6   </td><td> 6   </td><td> 8   </td><td> 7.24</td><td>6.13 </td><td> 6.08</td><td> 5.25</td></tr>\n",
       "\t<tr><td> 4   </td><td> 4   </td><td> 4   </td><td>19   </td><td> 4.26</td><td>3.10 </td><td> 5.39</td><td>12.50</td></tr>\n",
       "\t<tr><td>12   </td><td>12   </td><td>12   </td><td> 8   </td><td>10.84</td><td>9.13 </td><td> 8.15</td><td> 5.56</td></tr>\n",
       "\t<tr><td> 7   </td><td> 7   </td><td> 7   </td><td> 8   </td><td> 4.82</td><td>7.26 </td><td> 6.42</td><td> 7.91</td></tr>\n",
       "\t<tr><td> 5   </td><td> 5   </td><td> 5   </td><td> 8   </td><td> 5.68</td><td>4.74 </td><td> 5.73</td><td> 6.89</td></tr>\n",
       "</tbody>\n",
       "</table>\n"
      ],
      "text/latex": [
       "\\begin{tabular}{r|llllllll}\n",
       " x1 & x2 & x3 & x4 & y1 & y2 & y3 & y4\\\\\n",
       "\\hline\n",
       "\t 10    & 10    & 10    &  8    &  8.04 & 9.14  &  7.46 &  6.58\\\\\n",
       "\t  8    &  8    &  8    &  8    &  6.95 & 8.14  &  6.77 &  5.76\\\\\n",
       "\t 13    & 13    & 13    &  8    &  7.58 & 8.74  & 12.74 &  7.71\\\\\n",
       "\t  9    &  9    &  9    &  8    &  8.81 & 8.77  &  7.11 &  8.84\\\\\n",
       "\t 11    & 11    & 11    &  8    &  8.33 & 9.26  &  7.81 &  8.47\\\\\n",
       "\t 14    & 14    & 14    &  8    &  9.96 & 8.10  &  8.84 &  7.04\\\\\n",
       "\t  6    &  6    &  6    &  8    &  7.24 & 6.13  &  6.08 &  5.25\\\\\n",
       "\t  4    &  4    &  4    & 19    &  4.26 & 3.10  &  5.39 & 12.50\\\\\n",
       "\t 12    & 12    & 12    &  8    & 10.84 & 9.13  &  8.15 &  5.56\\\\\n",
       "\t  7    &  7    &  7    &  8    &  4.82 & 7.26  &  6.42 &  7.91\\\\\n",
       "\t  5    &  5    &  5    &  8    &  5.68 & 4.74  &  5.73 &  6.89\\\\\n",
       "\\end{tabular}\n"
      ],
      "text/markdown": [
       "\n",
       "x1 | x2 | x3 | x4 | y1 | y2 | y3 | y4 | \n",
       "|---|---|---|---|---|---|---|---|---|---|---|\n",
       "| 10    | 10    | 10    |  8    |  8.04 | 9.14  |  7.46 |  6.58 | \n",
       "|  8    |  8    |  8    |  8    |  6.95 | 8.14  |  6.77 |  5.76 | \n",
       "| 13    | 13    | 13    |  8    |  7.58 | 8.74  | 12.74 |  7.71 | \n",
       "|  9    |  9    |  9    |  8    |  8.81 | 8.77  |  7.11 |  8.84 | \n",
       "| 11    | 11    | 11    |  8    |  8.33 | 9.26  |  7.81 |  8.47 | \n",
       "| 14    | 14    | 14    |  8    |  9.96 | 8.10  |  8.84 |  7.04 | \n",
       "|  6    |  6    |  6    |  8    |  7.24 | 6.13  |  6.08 |  5.25 | \n",
       "|  4    |  4    |  4    | 19    |  4.26 | 3.10  |  5.39 | 12.50 | \n",
       "| 12    | 12    | 12    |  8    | 10.84 | 9.13  |  8.15 |  5.56 | \n",
       "|  7    |  7    |  7    |  8    |  4.82 | 7.26  |  6.42 |  7.91 | \n",
       "|  5    |  5    |  5    |  8    |  5.68 | 4.74  |  5.73 |  6.89 | \n",
       "\n",
       "\n"
      ],
      "text/plain": [
       "   x1 x2 x3 x4 y1    y2   y3    y4   \n",
       "1  10 10 10  8  8.04 9.14  7.46  6.58\n",
       "2   8  8  8  8  6.95 8.14  6.77  5.76\n",
       "3  13 13 13  8  7.58 8.74 12.74  7.71\n",
       "4   9  9  9  8  8.81 8.77  7.11  8.84\n",
       "5  11 11 11  8  8.33 9.26  7.81  8.47\n",
       "6  14 14 14  8  9.96 8.10  8.84  7.04\n",
       "7   6  6  6  8  7.24 6.13  6.08  5.25\n",
       "8   4  4  4 19  4.26 3.10  5.39 12.50\n",
       "9  12 12 12  8 10.84 9.13  8.15  5.56\n",
       "10  7  7  7  8  4.82 7.26  6.42  7.91\n",
       "11  5  5  5  8  5.68 4.74  5.73  6.89"
      ]
     },
     "metadata": {},
     "output_type": "display_data"
    },
    {
     "data": {
      "text/html": [
       "<table>\n",
       "<thead><tr><th></th><th scope=col>x1</th><th scope=col>y1</th></tr></thead>\n",
       "<tbody>\n",
       "\t<tr><th scope=row>x1</th><td>11.000  </td><td>5.501000</td></tr>\n",
       "\t<tr><th scope=row>y1</th><td> 5.501  </td><td>4.127269</td></tr>\n",
       "</tbody>\n",
       "</table>\n"
      ],
      "text/latex": [
       "\\begin{tabular}{r|ll}\n",
       "  & x1 & y1\\\\\n",
       "\\hline\n",
       "\tx1 & 11.000   & 5.501000\\\\\n",
       "\ty1 &  5.501   & 4.127269\\\\\n",
       "\\end{tabular}\n"
      ],
      "text/markdown": [
       "\n",
       "| <!--/--> | x1 | y1 | \n",
       "|---|---|\n",
       "| x1 | 11.000   | 5.501000 | \n",
       "| y1 |  5.501   | 4.127269 | \n",
       "\n",
       "\n"
      ],
      "text/plain": [
       "   x1     y1      \n",
       "x1 11.000 5.501000\n",
       "y1  5.501 4.127269"
      ]
     },
     "metadata": {},
     "output_type": "display_data"
    },
    {
     "data": {
      "text/html": [
       "<table>\n",
       "<thead><tr><th></th><th scope=col>x2</th><th scope=col>y2</th></tr></thead>\n",
       "<tbody>\n",
       "\t<tr><th scope=row>x2</th><td>11.0    </td><td>5.500000</td></tr>\n",
       "\t<tr><th scope=row>y2</th><td> 5.5    </td><td>4.127629</td></tr>\n",
       "</tbody>\n",
       "</table>\n"
      ],
      "text/latex": [
       "\\begin{tabular}{r|ll}\n",
       "  & x2 & y2\\\\\n",
       "\\hline\n",
       "\tx2 & 11.0     & 5.500000\\\\\n",
       "\ty2 &  5.5     & 4.127629\\\\\n",
       "\\end{tabular}\n"
      ],
      "text/markdown": [
       "\n",
       "| <!--/--> | x2 | y2 | \n",
       "|---|---|\n",
       "| x2 | 11.0     | 5.500000 | \n",
       "| y2 |  5.5     | 4.127629 | \n",
       "\n",
       "\n"
      ],
      "text/plain": [
       "   x2   y2      \n",
       "x2 11.0 5.500000\n",
       "y2  5.5 4.127629"
      ]
     },
     "metadata": {},
     "output_type": "display_data"
    },
    {
     "data": {
      "text/html": [
       "<table>\n",
       "<thead><tr><th></th><th scope=col>x1</th><th scope=col>y1</th></tr></thead>\n",
       "<tbody>\n",
       "\t<tr><th scope=row>x1</th><td>11.0000 </td><td>5.500500</td></tr>\n",
       "\t<tr><th scope=row>y1</th><td> 5.5005 </td><td>3.611529</td></tr>\n",
       "</tbody>\n",
       "</table>\n"
      ],
      "text/latex": [
       "\\begin{tabular}{r|ll}\n",
       "  & x1 & y1\\\\\n",
       "\\hline\n",
       "\tx1 & 11.0000  & 5.500500\\\\\n",
       "\ty1 &  5.5005  & 3.611529\\\\\n",
       "\\end{tabular}\n"
      ],
      "text/markdown": [
       "\n",
       "| <!--/--> | x1 | y1 | \n",
       "|---|---|\n",
       "| x1 | 11.0000  | 5.500500 | \n",
       "| y1 |  5.5005  | 3.611529 | \n",
       "\n",
       "\n"
      ],
      "text/plain": [
       "   x1      y1      \n",
       "x1 11.0000 5.500500\n",
       "y1  5.5005 3.611529"
      ]
     },
     "metadata": {},
     "output_type": "display_data"
    }
   ],
   "source": [
    "###############################################################\n",
    "#problem 3.2 - FALSE\n",
    "anscombe\n",
    "attach(anscombe)\n",
    "D1 = cbind(x1,y1)\n",
    "D2 = cbind(x2,y2)\n",
    "cov(D1)\n",
    "cov(D2)\n",
    "cov((D1+D2)/2) #False. not the same as cov(D1) or cov(D2)"
   ]
  },
  {
   "cell_type": "code",
   "execution_count": 26,
   "metadata": {
    "collapsed": false
   },
   "outputs": [
    {
     "data": {
      "text/html": [
       "<dl>\n",
       "\t<dt>$d</dt>\n",
       "\t\t<dd><ol class=list-inline>\n",
       "\t<li>14.0497434357827</li>\n",
       "\t<li>1.07752565512643</li>\n",
       "</ol>\n",
       "</dd>\n",
       "\t<dt>$u</dt>\n",
       "\t\t<dd><table>\n",
       "<tbody>\n",
       "\t<tr><td>-0.8745867</td><td>-0.4848691</td></tr>\n",
       "\t<tr><td>-0.4848691</td><td> 0.8745867</td></tr>\n",
       "</tbody>\n",
       "</table>\n",
       "</dd>\n",
       "\t<dt>$v</dt>\n",
       "\t\t<dd><table>\n",
       "<tbody>\n",
       "\t<tr><td>-0.8745867</td><td>-0.4848691</td></tr>\n",
       "\t<tr><td>-0.4848691</td><td> 0.8745867</td></tr>\n",
       "</tbody>\n",
       "</table>\n",
       "</dd>\n",
       "</dl>\n"
      ],
      "text/latex": [
       "\\begin{description}\n",
       "\\item[\\$d] \\begin{enumerate*}\n",
       "\\item 14.0497434357827\n",
       "\\item 1.07752565512643\n",
       "\\end{enumerate*}\n",
       "\n",
       "\\item[\\$u] \\begin{tabular}{ll}\n",
       "\t -0.8745867 & -0.4848691\\\\\n",
       "\t -0.4848691 &  0.8745867\\\\\n",
       "\\end{tabular}\n",
       "\n",
       "\\item[\\$v] \\begin{tabular}{ll}\n",
       "\t -0.8745867 & -0.4848691\\\\\n",
       "\t -0.4848691 &  0.8745867\\\\\n",
       "\\end{tabular}\n",
       "\n",
       "\\end{description}\n"
      ],
      "text/markdown": [
       "$d\n",
       ":   1. 14.0497434357827\n",
       "2. 1.07752565512643\n",
       "\n",
       "\n",
       "\n",
       "$u\n",
       ":   \n",
       "| -0.8745867 | -0.4848691 | \n",
       "| -0.4848691 |  0.8745867 | \n",
       "\n",
       "\n",
       "\n",
       "$v\n",
       ":   \n",
       "| -0.8745867 | -0.4848691 | \n",
       "| -0.4848691 |  0.8745867 | \n",
       "\n",
       "\n",
       "\n",
       "\n",
       "\n"
      ],
      "text/plain": [
       "$d\n",
       "[1] 14.049743  1.077526\n",
       "\n",
       "$u\n",
       "           [,1]       [,2]\n",
       "[1,] -0.8745867 -0.4848691\n",
       "[2,] -0.4848691  0.8745867\n",
       "\n",
       "$v\n",
       "           [,1]       [,2]\n",
       "[1,] -0.8745867 -0.4848691\n",
       "[2,] -0.4848691  0.8745867\n"
      ]
     },
     "metadata": {},
     "output_type": "display_data"
    },
    {
     "data": {
      "text/html": [
       "<dl>\n",
       "\t<dt>$d</dt>\n",
       "\t\t<dd><ol class=list-inline>\n",
       "\t<li>56.1989737431306</li>\n",
       "\t<li>4.31010262050573</li>\n",
       "</ol>\n",
       "</dd>\n",
       "\t<dt>$u</dt>\n",
       "\t\t<dd><table>\n",
       "<tbody>\n",
       "\t<tr><td>-0.8745867</td><td>-0.4848691</td></tr>\n",
       "\t<tr><td>-0.4848691</td><td> 0.8745867</td></tr>\n",
       "</tbody>\n",
       "</table>\n",
       "</dd>\n",
       "\t<dt>$v</dt>\n",
       "\t\t<dd><table>\n",
       "<tbody>\n",
       "\t<tr><td>-0.8745867</td><td>-0.4848691</td></tr>\n",
       "\t<tr><td>-0.4848691</td><td> 0.8745867</td></tr>\n",
       "</tbody>\n",
       "</table>\n",
       "</dd>\n",
       "</dl>\n"
      ],
      "text/latex": [
       "\\begin{description}\n",
       "\\item[\\$d] \\begin{enumerate*}\n",
       "\\item 56.1989737431306\n",
       "\\item 4.31010262050573\n",
       "\\end{enumerate*}\n",
       "\n",
       "\\item[\\$u] \\begin{tabular}{ll}\n",
       "\t -0.8745867 & -0.4848691\\\\\n",
       "\t -0.4848691 &  0.8745867\\\\\n",
       "\\end{tabular}\n",
       "\n",
       "\\item[\\$v] \\begin{tabular}{ll}\n",
       "\t -0.8745867 & -0.4848691\\\\\n",
       "\t -0.4848691 &  0.8745867\\\\\n",
       "\\end{tabular}\n",
       "\n",
       "\\end{description}\n"
      ],
      "text/markdown": [
       "$d\n",
       ":   1. 56.1989737431306\n",
       "2. 4.31010262050573\n",
       "\n",
       "\n",
       "\n",
       "$u\n",
       ":   \n",
       "| -0.8745867 | -0.4848691 | \n",
       "| -0.4848691 |  0.8745867 | \n",
       "\n",
       "\n",
       "\n",
       "$v\n",
       ":   \n",
       "| -0.8745867 | -0.4848691 | \n",
       "| -0.4848691 |  0.8745867 | \n",
       "\n",
       "\n",
       "\n",
       "\n",
       "\n"
      ],
      "text/plain": [
       "$d\n",
       "[1] 56.198974  4.310103\n",
       "\n",
       "$u\n",
       "           [,1]       [,2]\n",
       "[1,] -0.8745867 -0.4848691\n",
       "[2,] -0.4848691  0.8745867\n",
       "\n",
       "$v\n",
       "           [,1]       [,2]\n",
       "[1,] -0.8745867 -0.4848691\n",
       "[2,] -0.4848691  0.8745867\n"
      ]
     },
     "metadata": {},
     "output_type": "display_data"
    }
   ],
   "source": [
    "###############################################################\n",
    "#problem 3.3 - TRUE\n",
    "svd(cov(D1)) \n",
    "svd(cov(2*D1)) #True. eigenvalue changes, but eigenvector doesn't change"
   ]
  },
  {
   "cell_type": "code",
   "execution_count": 27,
   "metadata": {
    "collapsed": false
   },
   "outputs": [
    {
     "data": {
      "text/html": [
       "<dl>\n",
       "\t<dt>$d</dt>\n",
       "\t\t<dd><ol class=list-inline>\n",
       "\t<li>1.81642051634484</li>\n",
       "\t<li>0.18357948365516</li>\n",
       "</ol>\n",
       "</dd>\n",
       "\t<dt>$u</dt>\n",
       "\t\t<dd><table>\n",
       "<tbody>\n",
       "\t<tr><td>-0.7071068</td><td>-0.7071068</td></tr>\n",
       "\t<tr><td>-0.7071068</td><td> 0.7071068</td></tr>\n",
       "</tbody>\n",
       "</table>\n",
       "</dd>\n",
       "\t<dt>$v</dt>\n",
       "\t\t<dd><table>\n",
       "<tbody>\n",
       "\t<tr><td>-0.7071068</td><td>-0.7071068</td></tr>\n",
       "\t<tr><td>-0.7071068</td><td> 0.7071068</td></tr>\n",
       "</tbody>\n",
       "</table>\n",
       "</dd>\n",
       "</dl>\n"
      ],
      "text/latex": [
       "\\begin{description}\n",
       "\\item[\\$d] \\begin{enumerate*}\n",
       "\\item 1.81642051634484\n",
       "\\item 0.18357948365516\n",
       "\\end{enumerate*}\n",
       "\n",
       "\\item[\\$u] \\begin{tabular}{ll}\n",
       "\t -0.7071068 & -0.7071068\\\\\n",
       "\t -0.7071068 &  0.7071068\\\\\n",
       "\\end{tabular}\n",
       "\n",
       "\\item[\\$v] \\begin{tabular}{ll}\n",
       "\t -0.7071068 & -0.7071068\\\\\n",
       "\t -0.7071068 &  0.7071068\\\\\n",
       "\\end{tabular}\n",
       "\n",
       "\\end{description}\n"
      ],
      "text/markdown": [
       "$d\n",
       ":   1. 1.81642051634484\n",
       "2. 0.18357948365516\n",
       "\n",
       "\n",
       "\n",
       "$u\n",
       ":   \n",
       "| -0.7071068 | -0.7071068 | \n",
       "| -0.7071068 |  0.7071068 | \n",
       "\n",
       "\n",
       "\n",
       "$v\n",
       ":   \n",
       "| -0.7071068 | -0.7071068 | \n",
       "| -0.7071068 |  0.7071068 | \n",
       "\n",
       "\n",
       "\n",
       "\n",
       "\n"
      ],
      "text/plain": [
       "$d\n",
       "[1] 1.8164205 0.1835795\n",
       "\n",
       "$u\n",
       "           [,1]       [,2]\n",
       "[1,] -0.7071068 -0.7071068\n",
       "[2,] -0.7071068  0.7071068\n",
       "\n",
       "$v\n",
       "           [,1]       [,2]\n",
       "[1,] -0.7071068 -0.7071068\n",
       "[2,] -0.7071068  0.7071068\n"
      ]
     },
     "metadata": {},
     "output_type": "display_data"
    }
   ],
   "source": [
    "###############################################################\n",
    "#problem 3.4 - FALSE\n",
    "svd(cor(D1)) #False. eigenvectors u and v look weird"
   ]
  },
  {
   "cell_type": "code",
   "execution_count": 28,
   "metadata": {
    "collapsed": true
   },
   "outputs": [],
   "source": [
    "###############################################################\n",
    "#problem 3.5 - TRUE\n",
    "#not on midterm"
   ]
  },
  {
   "cell_type": "code",
   "execution_count": 29,
   "metadata": {
    "collapsed": true
   },
   "outputs": [],
   "source": [
    "###############################################################\n",
    "#problem 3.6 - TRUE\n",
    "#look at Rank k-th approximation Pg 58-59 on Linear Algebra Review notebook."
   ]
  },
  {
   "cell_type": "code",
   "execution_count": 30,
   "metadata": {
    "collapsed": true
   },
   "outputs": [],
   "source": [
    "###############################################################\n",
    "#problem 3.7 - TRUE\n",
    "#True. already went over Frobenius Norm in Question 1."
   ]
  },
  {
   "cell_type": "code",
   "execution_count": 31,
   "metadata": {
    "collapsed": false
   },
   "outputs": [
    {
     "data": {
      "text/html": [
       "<table>\n",
       "<tbody>\n",
       "\t<tr><td>0.83684307</td><td>0.7473068 </td><td>0.2619496 </td></tr>\n",
       "\t<tr><td>0.17854194</td><td>0.7274779 </td><td>0.8225568 </td></tr>\n",
       "\t<tr><td>0.06664068</td><td>0.4633466 </td><td>0.5785336 </td></tr>\n",
       "\t<tr><td>0.82431304</td><td>0.9034061 </td><td>0.5291383 </td></tr>\n",
       "</tbody>\n",
       "</table>\n"
      ],
      "text/latex": [
       "\\begin{tabular}{lll}\n",
       "\t 0.83684307 & 0.7473068  & 0.2619496 \\\\\n",
       "\t 0.17854194 & 0.7274779  & 0.8225568 \\\\\n",
       "\t 0.06664068 & 0.4633466  & 0.5785336 \\\\\n",
       "\t 0.82431304 & 0.9034061  & 0.5291383 \\\\\n",
       "\\end{tabular}\n"
      ],
      "text/markdown": [
       "\n",
       "| 0.83684307 | 0.7473068  | 0.2619496  | \n",
       "| 0.17854194 | 0.7274779  | 0.8225568  | \n",
       "| 0.06664068 | 0.4633466  | 0.5785336  | \n",
       "| 0.82431304 | 0.9034061  | 0.5291383  | \n",
       "\n",
       "\n"
      ],
      "text/plain": [
       "     [,1]       [,2]      [,3]     \n",
       "[1,] 0.83684307 0.7473068 0.2619496\n",
       "[2,] 0.17854194 0.7274779 0.8225568\n",
       "[3,] 0.06664068 0.4633466 0.5785336\n",
       "[4,] 0.82431304 0.9034061 0.5291383"
      ]
     },
     "metadata": {},
     "output_type": "display_data"
    },
    {
     "data": {
      "text/html": [
       "<table>\n",
       "<tbody>\n",
       "\t<tr><td>2.084707  </td><td>0.0000000 </td><td>0.00000000</td></tr>\n",
       "\t<tr><td>0.000000  </td><td>0.7404283 </td><td>0.00000000</td></tr>\n",
       "\t<tr><td>0.000000  </td><td>0.0000000 </td><td>0.01755239</td></tr>\n",
       "</tbody>\n",
       "</table>\n"
      ],
      "text/latex": [
       "\\begin{tabular}{lll}\n",
       "\t 2.084707   & 0.0000000  & 0.00000000\\\\\n",
       "\t 0.000000   & 0.7404283  & 0.00000000\\\\\n",
       "\t 0.000000   & 0.0000000  & 0.01755239\\\\\n",
       "\\end{tabular}\n"
      ],
      "text/markdown": [
       "\n",
       "| 2.084707   | 0.0000000  | 0.00000000 | \n",
       "| 0.000000   | 0.7404283  | 0.00000000 | \n",
       "| 0.000000   | 0.0000000  | 0.01755239 | \n",
       "\n",
       "\n"
      ],
      "text/plain": [
       "     [,1]     [,2]      [,3]      \n",
       "[1,] 2.084707 0.0000000 0.00000000\n",
       "[2,] 0.000000 0.7404283 0.00000000\n",
       "[3,] 0.000000 0.0000000 0.01755239"
      ]
     },
     "metadata": {},
     "output_type": "display_data"
    },
    {
     "data": {
      "text/html": [
       "<dl>\n",
       "\t<dt>$d</dt>\n",
       "\t\t<dd><ol class=list-inline>\n",
       "\t<li>2.08470726403372</li>\n",
       "\t<li>0.740428317763884</li>\n",
       "\t<li>0.0175523895423614</li>\n",
       "</ol>\n",
       "</dd>\n",
       "\t<dt>$u</dt>\n",
       "\t\t<dd><table>\n",
       "<tbody>\n",
       "\t<tr><td>-0.5178901</td><td> 0.5429814</td></tr>\n",
       "\t<tr><td>-0.4858386</td><td>-0.6216061</td></tr>\n",
       "\t<tr><td>-0.3111350</td><td>-0.4927428</td></tr>\n",
       "\t<tr><td>-0.6316214</td><td> 0.2756478</td></tr>\n",
       "</tbody>\n",
       "</table>\n",
       "</dd>\n",
       "\t<dt>$v</dt>\n",
       "\t\t<dd><table>\n",
       "<tbody>\n",
       "\t<tr><td>-0.5091954 </td><td> 0.72632395</td></tr>\n",
       "\t<tr><td>-0.6980518 </td><td>-0.03473633</td></tr>\n",
       "\t<tr><td>-0.5034319 </td><td>-0.68647426</td></tr>\n",
       "</tbody>\n",
       "</table>\n",
       "</dd>\n",
       "</dl>\n"
      ],
      "text/latex": [
       "\\begin{description}\n",
       "\\item[\\$d] \\begin{enumerate*}\n",
       "\\item 2.08470726403372\n",
       "\\item 0.740428317763884\n",
       "\\item 0.0175523895423614\n",
       "\\end{enumerate*}\n",
       "\n",
       "\\item[\\$u] \\begin{tabular}{ll}\n",
       "\t -0.5178901 &  0.5429814\\\\\n",
       "\t -0.4858386 & -0.6216061\\\\\n",
       "\t -0.3111350 & -0.4927428\\\\\n",
       "\t -0.6316214 &  0.2756478\\\\\n",
       "\\end{tabular}\n",
       "\n",
       "\\item[\\$v] \\begin{tabular}{ll}\n",
       "\t -0.5091954  &  0.72632395\\\\\n",
       "\t -0.6980518  & -0.03473633\\\\\n",
       "\t -0.5034319  & -0.68647426\\\\\n",
       "\\end{tabular}\n",
       "\n",
       "\\end{description}\n"
      ],
      "text/markdown": [
       "$d\n",
       ":   1. 2.08470726403372\n",
       "2. 0.740428317763884\n",
       "3. 0.0175523895423614\n",
       "\n",
       "\n",
       "\n",
       "$u\n",
       ":   \n",
       "| -0.5178901 |  0.5429814 | \n",
       "| -0.4858386 | -0.6216061 | \n",
       "| -0.3111350 | -0.4927428 | \n",
       "| -0.6316214 |  0.2756478 | \n",
       "\n",
       "\n",
       "\n",
       "$v\n",
       ":   \n",
       "| -0.5091954  |  0.72632395 | \n",
       "| -0.6980518  | -0.03473633 | \n",
       "| -0.5034319  | -0.68647426 | \n",
       "\n",
       "\n",
       "\n",
       "\n",
       "\n"
      ],
      "text/plain": [
       "$d\n",
       "[1] 2.08470726 0.74042832 0.01755239\n",
       "\n",
       "$u\n",
       "           [,1]       [,2]\n",
       "[1,] -0.5178901  0.5429814\n",
       "[2,] -0.4858386 -0.6216061\n",
       "[3,] -0.3111350 -0.4927428\n",
       "[4,] -0.6316214  0.2756478\n",
       "\n",
       "$v\n",
       "           [,1]        [,2]\n",
       "[1,] -0.5091954  0.72632395\n",
       "[2,] -0.6980518 -0.03473633\n",
       "[3,] -0.5034319 -0.68647426\n"
      ]
     },
     "metadata": {},
     "output_type": "display_data"
    },
    {
     "data": {
      "text/html": [
       "<table>\n",
       "<tbody>\n",
       "\t<tr><td>0.83684307</td><td>0.7473068 </td><td>0.2619496 </td></tr>\n",
       "\t<tr><td>0.17854194</td><td>0.7274779 </td><td>0.8225568 </td></tr>\n",
       "\t<tr><td>0.06664068</td><td>0.4633466 </td><td>0.5785336 </td></tr>\n",
       "\t<tr><td>0.82431304</td><td>0.9034061 </td><td>0.5291383 </td></tr>\n",
       "</tbody>\n",
       "</table>\n"
      ],
      "text/latex": [
       "\\begin{tabular}{lll}\n",
       "\t 0.83684307 & 0.7473068  & 0.2619496 \\\\\n",
       "\t 0.17854194 & 0.7274779  & 0.8225568 \\\\\n",
       "\t 0.06664068 & 0.4633466  & 0.5785336 \\\\\n",
       "\t 0.82431304 & 0.9034061  & 0.5291383 \\\\\n",
       "\\end{tabular}\n"
      ],
      "text/markdown": [
       "\n",
       "| 0.83684307 | 0.7473068  | 0.2619496  | \n",
       "| 0.17854194 | 0.7274779  | 0.8225568  | \n",
       "| 0.06664068 | 0.4633466  | 0.5785336  | \n",
       "| 0.82431304 | 0.9034061  | 0.5291383  | \n",
       "\n",
       "\n"
      ],
      "text/plain": [
       "     [,1]       [,2]      [,3]     \n",
       "[1,] 0.83684307 0.7473068 0.2619496\n",
       "[2,] 0.17854194 0.7274779 0.8225568\n",
       "[3,] 0.06664068 0.4633466 0.5785336\n",
       "[4,] 0.82431304 0.9034061 0.5291383"
      ]
     },
     "metadata": {},
     "output_type": "display_data"
    },
    {
     "data": {
      "text/html": [
       "<table>\n",
       "<tbody>\n",
       "\t<tr><td>0.84176287</td><td>0.7396858 </td><td>0.2675406 </td></tr>\n",
       "\t<tr><td>0.18143505</td><td>0.7229963 </td><td>0.8258447 </td></tr>\n",
       "\t<tr><td>0.06528454</td><td>0.4654473 </td><td>0.5769925 </td></tr>\n",
       "\t<tr><td>0.81872179</td><td>0.9120672 </td><td>0.5227842 </td></tr>\n",
       "</tbody>\n",
       "</table>\n"
      ],
      "text/latex": [
       "\\begin{tabular}{lll}\n",
       "\t 0.84176287 & 0.7396858  & 0.2675406 \\\\\n",
       "\t 0.18143505 & 0.7229963  & 0.8258447 \\\\\n",
       "\t 0.06528454 & 0.4654473  & 0.5769925 \\\\\n",
       "\t 0.81872179 & 0.9120672  & 0.5227842 \\\\\n",
       "\\end{tabular}\n"
      ],
      "text/markdown": [
       "\n",
       "| 0.84176287 | 0.7396858  | 0.2675406  | \n",
       "| 0.18143505 | 0.7229963  | 0.8258447  | \n",
       "| 0.06528454 | 0.4654473  | 0.5769925  | \n",
       "| 0.81872179 | 0.9120672  | 0.5227842  | \n",
       "\n",
       "\n"
      ],
      "text/plain": [
       "     [,1]       [,2]      [,3]     \n",
       "[1,] 0.84176287 0.7396858 0.2675406\n",
       "[2,] 0.18143505 0.7229963 0.8258447\n",
       "[3,] 0.06528454 0.4654473 0.5769925\n",
       "[4,] 0.81872179 0.9120672 0.5227842"
      ]
     },
     "metadata": {},
     "output_type": "display_data"
    },
    {
     "data": {
      "text/html": [
       "2.21229258247223"
      ],
      "text/latex": [
       "2.21229258247223"
      ],
      "text/markdown": [
       "2.21229258247223"
      ],
      "text/plain": [
       "[1] 2.212293"
      ]
     },
     "metadata": {},
     "output_type": "display_data"
    },
    {
     "data": {
      "text/html": [
       "2.21229258247223"
      ],
      "text/latex": [
       "2.21229258247223"
      ],
      "text/markdown": [
       "2.21229258247223"
      ],
      "text/plain": [
       "[1] 2.212293"
      ]
     },
     "metadata": {},
     "output_type": "display_data"
    },
    {
     "data": {
      "text/html": [
       "2.21236221194457"
      ],
      "text/latex": [
       "2.21236221194457"
      ],
      "text/markdown": [
       "2.21236221194457"
      ],
      "text/plain": [
       "[1] 2.212362"
      ]
     },
     "metadata": {},
     "output_type": "display_data"
    },
    {
     "data": {
      "text/html": [
       "2.21236221194457"
      ],
      "text/latex": [
       "2.21236221194457"
      ],
      "text/markdown": [
       "2.21236221194457"
      ],
      "text/plain": [
       "[1] 2.212362"
      ]
     },
     "metadata": {},
     "output_type": "display_data"
    }
   ],
   "source": [
    "###############################################################\n",
    "#problem 3.8 - TRUE\n",
    "X = matrix(runif(4*2),4,2)\n",
    "Xsvd = svd(X)\n",
    "X = matrix (runif(4*3),4,3)\n",
    "Xsvd= svd(X)\n",
    "X\n",
    "S = diag(Xsvd$d)\n",
    "S\n",
    "cheapXsvd = svd(X, nu=2,nv=2)\n",
    "cheapXsvd\n",
    "\n",
    "X_2 = cheapXsvd$u %*% diag(cheapXsvd$d[1:2]) %*% t(cheapXsvd$v)\n",
    "X\n",
    "X_2\n",
    "\n",
    "#cheapXsvd$d[1:3]^2\n",
    "\n",
    "norm(X_2, type=\"F\")\n",
    "sqrt(sum(cheapXsvd$d[1:2]^2)) #[1:2] to ignore last column?\n",
    "#True, approximation works\n",
    "\n",
    "sqrt(sum(cheapXsvd$d[1:3]^2)) #to take all 3\n",
    "norm(X, type=\"F\")"
   ]
  },
  {
   "cell_type": "code",
   "execution_count": 32,
   "metadata": {
    "collapsed": false
   },
   "outputs": [
    {
     "data": {
      "text/html": [
       "<table>\n",
       "<tbody>\n",
       "\t<tr><td>0</td><td>0</td></tr>\n",
       "\t<tr><td>0</td><td>0</td></tr>\n",
       "\t<tr><td>0</td><td>0</td></tr>\n",
       "\t<tr><td>0</td><td>0</td></tr>\n",
       "</tbody>\n",
       "</table>\n"
      ],
      "text/latex": [
       "\\begin{tabular}{ll}\n",
       "\t 0 & 0\\\\\n",
       "\t 0 & 0\\\\\n",
       "\t 0 & 0\\\\\n",
       "\t 0 & 0\\\\\n",
       "\\end{tabular}\n"
      ],
      "text/markdown": [
       "\n",
       "| 0 | 0 | \n",
       "| 0 | 0 | \n",
       "| 0 | 0 | \n",
       "| 0 | 0 | \n",
       "\n",
       "\n"
      ],
      "text/plain": [
       "     [,1] [,2]\n",
       "[1,] 0    0   \n",
       "[2,] 0    0   \n",
       "[3,] 0    0   \n",
       "[4,] 0    0   "
      ]
     },
     "metadata": {},
     "output_type": "display_data"
    },
    {
     "data": {
      "text/html": [
       "<ol class=list-inline>\n",
       "\t<li>0</li>\n",
       "\t<li>0</li>\n",
       "</ol>\n"
      ],
      "text/latex": [
       "\\begin{enumerate*}\n",
       "\\item 0\n",
       "\\item 0\n",
       "\\end{enumerate*}\n"
      ],
      "text/markdown": [
       "1. 0\n",
       "2. 0\n",
       "\n",
       "\n"
      ],
      "text/plain": [
       "[1] 0 0"
      ]
     },
     "metadata": {},
     "output_type": "display_data"
    }
   ],
   "source": [
    "###############################################################\n",
    "#problem 3.9 - False\n",
    "#eigenvalues cannot be negative, but can be 0.\n",
    "X  = matrix(0,4,2)\n",
    "X\n",
    "svd(X)$d #False. if matrix is all zeros, eigven values can be 0."
   ]
  },
  {
   "cell_type": "code",
   "execution_count": 33,
   "metadata": {
    "collapsed": false
   },
   "outputs": [
    {
     "data": {
      "text/html": [
       "<table>\n",
       "<tbody>\n",
       "\t<tr><td>-0.5707421</td><td>-0.7355199</td></tr>\n",
       "\t<tr><td>-0.8211294</td><td> 0.6775031</td></tr>\n",
       "</tbody>\n",
       "</table>\n"
      ],
      "text/latex": [
       "\\begin{tabular}{ll}\n",
       "\t -0.5707421 & -0.7355199\\\\\n",
       "\t -0.8211294 &  0.6775031\\\\\n",
       "\\end{tabular}\n"
      ],
      "text/markdown": [
       "\n",
       "| -0.5707421 | -0.7355199 | \n",
       "| -0.8211294 |  0.6775031 | \n",
       "\n",
       "\n"
      ],
      "text/plain": [
       "     [,1]       [,2]      \n",
       "[1,] -0.5707421 -0.7355199\n",
       "[2,] -0.8211294  0.6775031"
      ]
     },
     "metadata": {},
     "output_type": "display_data"
    },
    {
     "data": {
      "text/html": [
       "<table>\n",
       "<tbody>\n",
       "\t<tr><td>0.5707421 </td><td> 0.7355199</td></tr>\n",
       "\t<tr><td>0.8211294 </td><td>-0.6775031</td></tr>\n",
       "</tbody>\n",
       "</table>\n"
      ],
      "text/latex": [
       "\\begin{tabular}{ll}\n",
       "\t 0.5707421  &  0.7355199\\\\\n",
       "\t 0.8211294  & -0.6775031\\\\\n",
       "\\end{tabular}\n"
      ],
      "text/markdown": [
       "\n",
       "| 0.5707421  |  0.7355199 | \n",
       "| 0.8211294  | -0.6775031 | \n",
       "\n",
       "\n"
      ],
      "text/plain": [
       "     [,1]      [,2]      \n",
       "[1,] 0.5707421  0.7355199\n",
       "[2,] 0.8211294 -0.6775031"
      ]
     },
     "metadata": {},
     "output_type": "display_data"
    }
   ],
   "source": [
    "###############################################################\n",
    "#problem 3.10 - TRUE\n",
    "X = matrix(runif(4*2),2,2)\n",
    "U = eigen(X)$vectors\n",
    "U\n",
    "-U #True. if e is an eigvenvector of X, then -e is also an eigenvector of X"
   ]
  },
  {
   "cell_type": "code",
   "execution_count": 34,
   "metadata": {
    "collapsed": false
   },
   "outputs": [
    {
     "data": {
      "text/html": [
       "<table>\n",
       "<tbody>\n",
       "\t<tr><td> 1.000000e+00</td><td>-3.309226e-17</td></tr>\n",
       "\t<tr><td>-3.309226e-17</td><td> 1.000000e+00</td></tr>\n",
       "</tbody>\n",
       "</table>\n"
      ],
      "text/latex": [
       "\\begin{tabular}{ll}\n",
       "\t  1.000000e+00 & -3.309226e-17\\\\\n",
       "\t -3.309226e-17 &  1.000000e+00\\\\\n",
       "\\end{tabular}\n"
      ],
      "text/markdown": [
       "\n",
       "|  1.000000e+00 | -3.309226e-17 | \n",
       "| -3.309226e-17 |  1.000000e+00 | \n",
       "\n",
       "\n"
      ],
      "text/plain": [
       "     [,1]          [,2]         \n",
       "[1,]  1.000000e+00 -3.309226e-17\n",
       "[2,] -3.309226e-17  1.000000e+00"
      ]
     },
     "metadata": {},
     "output_type": "display_data"
    }
   ],
   "source": [
    "###############################################################\n",
    "#problem 3.11 - TRUE\n",
    "Xsvd = svd(X, nu = 4, nv=3)\n",
    "U = Xsvd$u #unitary matrix needs to be square\n",
    "t(U) %*% U #identity matrix"
   ]
  },
  {
   "cell_type": "code",
   "execution_count": 35,
   "metadata": {
    "collapsed": true
   },
   "outputs": [],
   "source": [
    "###############################################################\n",
    "#problem 3.12 -  FALSE\n",
    "#False. Pseudoinverse of U is U'. U is unitary matrix, and need to be squared."
   ]
  },
  {
   "cell_type": "code",
   "execution_count": 36,
   "metadata": {
    "collapsed": false
   },
   "outputs": [
    {
     "data": {
      "text/html": [
       "<table>\n",
       "<tbody>\n",
       "\t<tr><td>1.000000e+00</td><td>8.446976e-15</td></tr>\n",
       "\t<tr><td>1.160994e-14</td><td>1.000000e+00</td></tr>\n",
       "</tbody>\n",
       "</table>\n"
      ],
      "text/latex": [
       "\\begin{tabular}{ll}\n",
       "\t 1.000000e+00 & 8.446976e-15\\\\\n",
       "\t 1.160994e-14 & 1.000000e+00\\\\\n",
       "\\end{tabular}\n"
      ],
      "text/markdown": [
       "\n",
       "| 1.000000e+00 | 8.446976e-15 | \n",
       "| 1.160994e-14 | 1.000000e+00 | \n",
       "\n",
       "\n"
      ],
      "text/plain": [
       "     [,1]         [,2]        \n",
       "[1,] 1.000000e+00 8.446976e-15\n",
       "[2,] 1.160994e-14 1.000000e+00"
      ]
     },
     "metadata": {},
     "output_type": "display_data"
    },
    {
     "data": {
      "text/html": [
       "<table>\n",
       "<tbody>\n",
       "\t<tr><td>1.000000e+00</td><td>1.132753e-14</td></tr>\n",
       "\t<tr><td>8.758838e-15</td><td>1.000000e+00</td></tr>\n",
       "</tbody>\n",
       "</table>\n"
      ],
      "text/latex": [
       "\\begin{tabular}{ll}\n",
       "\t 1.000000e+00 & 1.132753e-14\\\\\n",
       "\t 8.758838e-15 & 1.000000e+00\\\\\n",
       "\\end{tabular}\n"
      ],
      "text/markdown": [
       "\n",
       "| 1.000000e+00 | 1.132753e-14 | \n",
       "| 8.758838e-15 | 1.000000e+00 | \n",
       "\n",
       "\n"
      ],
      "text/plain": [
       "     [,1]         [,2]        \n",
       "[1,] 1.000000e+00 1.132753e-14\n",
       "[2,] 8.758838e-15 1.000000e+00"
      ]
     },
     "metadata": {},
     "output_type": "display_data"
    },
    {
     "data": {
      "text/html": [
       "<table>\n",
       "<tbody>\n",
       "\t<tr><td>-4.774334</td><td> 3.763762</td></tr>\n",
       "\t<tr><td> 4.987821</td><td>-2.826272</td></tr>\n",
       "</tbody>\n",
       "</table>\n"
      ],
      "text/latex": [
       "\\begin{tabular}{ll}\n",
       "\t -4.774334 &  3.763762\\\\\n",
       "\t  4.987821 & -2.826272\\\\\n",
       "\\end{tabular}\n"
      ],
      "text/markdown": [
       "\n",
       "| -4.774334 |  3.763762 | \n",
       "|  4.987821 | -2.826272 | \n",
       "\n",
       "\n"
      ],
      "text/plain": [
       "     [,1]      [,2]     \n",
       "[1,] -4.774334  3.763762\n",
       "[2,]  4.987821 -2.826272"
      ]
     },
     "metadata": {},
     "output_type": "display_data"
    },
    {
     "data": {
      "text/html": [
       "<table>\n",
       "<tbody>\n",
       "\t<tr><td>0.7112372</td><td>0.1813228</td><td>0.9336670</td></tr>\n",
       "\t<tr><td>0.8043509</td><td>0.1488714</td><td>0.5453391</td></tr>\n",
       "\t<tr><td>0.2342710</td><td>0.1608599</td><td>0.6973249</td></tr>\n",
       "</tbody>\n",
       "</table>\n"
      ],
      "text/latex": [
       "\\begin{tabular}{lll}\n",
       "\t 0.7112372 & 0.1813228 & 0.9336670\\\\\n",
       "\t 0.8043509 & 0.1488714 & 0.5453391\\\\\n",
       "\t 0.2342710 & 0.1608599 & 0.6973249\\\\\n",
       "\\end{tabular}\n"
      ],
      "text/markdown": [
       "\n",
       "| 0.7112372 | 0.1813228 | 0.9336670 | \n",
       "| 0.8043509 | 0.1488714 | 0.5453391 | \n",
       "| 0.2342710 | 0.1608599 | 0.6973249 | \n",
       "\n",
       "\n"
      ],
      "text/plain": [
       "     [,1]      [,2]      [,3]     \n",
       "[1,] 0.7112372 0.1813228 0.9336670\n",
       "[2,] 0.8043509 0.1488714 0.5453391\n",
       "[3,] 0.2342710 0.1608599 0.6973249"
      ]
     },
     "metadata": {},
     "output_type": "display_data"
    },
    {
     "data": {
      "text/html": [
       "<table>\n",
       "<tbody>\n",
       "\t<tr><td>  0.760776</td><td> 1.123001 </td><td>-1.896860 </td></tr>\n",
       "\t<tr><td>-20.481679</td><td>13.109445 </td><td>17.171300 </td></tr>\n",
       "\t<tr><td>  4.469155</td><td>-3.401386 </td><td>-1.889785 </td></tr>\n",
       "</tbody>\n",
       "</table>\n"
      ],
      "text/latex": [
       "\\begin{tabular}{lll}\n",
       "\t   0.760776 &  1.123001  & -1.896860 \\\\\n",
       "\t -20.481679 & 13.109445  & 17.171300 \\\\\n",
       "\t   4.469155 & -3.401386  & -1.889785 \\\\\n",
       "\\end{tabular}\n"
      ],
      "text/markdown": [
       "\n",
       "|   0.760776 |  1.123001  | -1.896860  | \n",
       "| -20.481679 | 13.109445  | 17.171300  | \n",
       "|   4.469155 | -3.401386  | -1.889785  | \n",
       "\n",
       "\n"
      ],
      "text/plain": [
       "     [,1]       [,2]      [,3]     \n",
       "[1,]   0.760776  1.123001 -1.896860\n",
       "[2,] -20.481679 13.109445 17.171300\n",
       "[3,]   4.469155 -3.401386 -1.889785"
      ]
     },
     "metadata": {},
     "output_type": "display_data"
    },
    {
     "data": {
      "text/html": [
       "<table>\n",
       "<tbody>\n",
       "\t<tr><td>  0.760776</td><td> 1.123001 </td><td>-1.896860 </td></tr>\n",
       "\t<tr><td>-20.481679</td><td>13.109445 </td><td>17.171300 </td></tr>\n",
       "\t<tr><td>  4.469155</td><td>-3.401386 </td><td>-1.889785 </td></tr>\n",
       "</tbody>\n",
       "</table>\n"
      ],
      "text/latex": [
       "\\begin{tabular}{lll}\n",
       "\t   0.760776 &  1.123001  & -1.896860 \\\\\n",
       "\t -20.481679 & 13.109445  & 17.171300 \\\\\n",
       "\t   4.469155 & -3.401386  & -1.889785 \\\\\n",
       "\\end{tabular}\n"
      ],
      "text/markdown": [
       "\n",
       "|   0.760776 |  1.123001  | -1.896860  | \n",
       "| -20.481679 | 13.109445  | 17.171300  | \n",
       "|   4.469155 | -3.401386  | -1.889785  | \n",
       "\n",
       "\n"
      ],
      "text/plain": [
       "     [,1]       [,2]      [,3]     \n",
       "[1,]   0.760776  1.123001 -1.896860\n",
       "[2,] -20.481679 13.109445 17.171300\n",
       "[3,]   4.469155 -3.401386 -1.889785"
      ]
     },
     "metadata": {},
     "output_type": "display_data"
    }
   ],
   "source": [
    "###############################################################\n",
    "#problem 3.13\n",
    "#X = (t(X) %*% X)^-1 %*% t(X)\n",
    "Xpseudoinv = solve( t(X) %*% X) %*% t(X)\n",
    "X %*% Xpseudoinv #doesn't give correct inverse\n",
    "Xpseudoinv %*% X #gives correct inverse. True. if X is invertible, then pseudoinverse X^-1 of X is also inverse of X.\n",
    "\n",
    "ginv(X) #use library(MASS)\n",
    "\n",
    "X = matrix(runif(3*3),3,3)\n",
    "X\n",
    "ginv(X) #pseudoinverse\n",
    "solve(X) #regular inverse. If X is invertible, then regular inverse is the same as pseudoinverse"
   ]
  },
  {
   "cell_type": "code",
   "execution_count": 37,
   "metadata": {
    "collapsed": true
   },
   "outputs": [],
   "source": [
    "###############################################################\n",
    "#problem 4.1 - TRUE\n",
    "#All anscombe datasets have the same R^2 value. True.\n"
   ]
  },
  {
   "cell_type": "code",
   "execution_count": 38,
   "metadata": {
    "collapsed": false
   },
   "outputs": [
    {
     "data": {
      "text/html": [
       "<ol class=list-inline>\n",
       "\t<li>0.0399999999999991</li>\n",
       "\t<li>-0.0499999999999998</li>\n",
       "\t<li>-1.92</li>\n",
       "\t<li>1.31</li>\n",
       "\t<li>-0.17</li>\n",
       "\t<li>-0.0399999999999991</li>\n",
       "\t<li>1.24</li>\n",
       "\t<li>-0.74</li>\n",
       "\t<li>1.84</li>\n",
       "\t<li>-1.68</li>\n",
       "\t<li>0.18</li>\n",
       "</ol>\n"
      ],
      "text/latex": [
       "\\begin{enumerate*}\n",
       "\\item 0.0399999999999991\n",
       "\\item -0.0499999999999998\n",
       "\\item -1.92\n",
       "\\item 1.31\n",
       "\\item -0.17\n",
       "\\item -0.0399999999999991\n",
       "\\item 1.24\n",
       "\\item -0.74\n",
       "\\item 1.84\n",
       "\\item -1.68\n",
       "\\item 0.18\n",
       "\\end{enumerate*}\n"
      ],
      "text/markdown": [
       "1. 0.0399999999999991\n",
       "2. -0.0499999999999998\n",
       "3. -1.92\n",
       "4. 1.31\n",
       "5. -0.17\n",
       "6. -0.0399999999999991\n",
       "7. 1.24\n",
       "8. -0.74\n",
       "9. 1.84\n",
       "10. -1.68\n",
       "11. 0.18\n",
       "\n",
       "\n"
      ],
      "text/plain": [
       " [1]  0.04 -0.05 -1.92  1.31 -0.17 -0.04  1.24 -0.74  1.84 -1.68  0.18"
      ]
     },
     "metadata": {},
     "output_type": "display_data"
    },
    {
     "data": {
      "text/html": [
       "13.7627"
      ],
      "text/latex": [
       "13.7627"
      ],
      "text/markdown": [
       "13.7627"
      ],
      "text/plain": [
       "[1] 13.7627"
      ]
     },
     "metadata": {},
     "output_type": "display_data"
    },
    {
     "data": {
      "text/html": [
       "13.7763"
      ],
      "text/latex": [
       "13.7763"
      ],
      "text/markdown": [
       "13.7763"
      ],
      "text/plain": [
       "[1] 13.7763"
      ]
     },
     "metadata": {},
     "output_type": "display_data"
    },
    {
     "data": {
      "text/html": [
       "0.978910518414348"
      ],
      "text/latex": [
       "0.978910518414348"
      ],
      "text/markdown": [
       "0.978910518414348"
      ],
      "text/plain": [
       "[1] 0.9789105"
      ]
     },
     "metadata": {},
     "output_type": "display_data"
    },
    {
     "data": {
      "text/html": [
       "0.978905180328346"
      ],
      "text/latex": [
       "0.978905180328346"
      ],
      "text/markdown": [
       "0.978905180328346"
      ],
      "text/plain": [
       "[1] 0.9789052"
      ]
     },
     "metadata": {},
     "output_type": "display_data"
    },
    {
     "data": {
      "text/html": [
       "0.979201977283423"
      ],
      "text/latex": [
       "0.979201977283423"
      ],
      "text/markdown": [
       "0.979201977283423"
      ],
      "text/plain": [
       "[1] 0.979202"
      ]
     },
     "metadata": {},
     "output_type": "display_data"
    }
   ],
   "source": [
    "###############################################################\n",
    "#problem 4.2 - TRUE\n",
    "y1hat = x1/2 + 3\n",
    "epsilon1 = y1-y1hat\n",
    "epsilon1\n",
    "sum(epsilon1^2)\n",
    "\n",
    "y2hat = x2/2 + 3\n",
    "epsilon2 = y2-y2hat\n",
    "sum(epsilon2^2)\n",
    "\n",
    "y3hat = x3/2 + 3\n",
    "epsilon3 = y3-y3hat\n",
    "\n",
    "Rsquared = sum(y1hat^2)/sum(y1^2)\n",
    "Rsquared\n",
    "\n",
    "Rsquared = sum(y2hat^2)/sum(y2^2)\n",
    "Rsquared\n",
    "\n",
    "Rsquared = sum(y3hat^2)/sum(y3^2)\n",
    "Rsquared\n",
    "#True. All RSS value are the same for all 4 Anscombe datasets"
   ]
  },
  {
   "cell_type": "code",
   "execution_count": 39,
   "metadata": {
    "collapsed": true
   },
   "outputs": [],
   "source": [
    "###############################################################\n",
    "#Problem 4.3 - TRUE\n",
    "#True. If X has a single column x, then the lease squares solution for y ~ B_0 + B_1 x is\n",
    "# B_1 = cov(x,y) / cov(x,x)\n"
   ]
  },
  {
   "cell_type": "code",
   "execution_count": 40,
   "metadata": {
    "collapsed": true
   },
   "outputs": [],
   "source": [
    "###############################################################\n",
    "#Problem 4.4 - TRUE\n",
    "#True but not on midterm."
   ]
  },
  {
   "cell_type": "code",
   "execution_count": 41,
   "metadata": {
    "collapsed": true
   },
   "outputs": [],
   "source": [
    "###############################################################\n",
    "#problem 4.5 - FALSE\n",
    "#False. Look at chart. First pricipal component of data is not identical to the \n",
    "#regression line that we will obtain if we omit the intercept.\n"
   ]
  },
  {
   "cell_type": "code",
   "execution_count": 42,
   "metadata": {
    "collapsed": true
   },
   "outputs": [],
   "source": [
    "###############################################################\n",
    "#problem 4.6 - FALSE\n",
    "#False. No idea why."
   ]
  },
  {
   "cell_type": "code",
   "execution_count": 45,
   "metadata": {
    "collapsed": false
   },
   "outputs": [
    {
     "data": {
      "text/html": [
       "<table>\n",
       "<tbody>\n",
       "\t<tr><td>0.7916021 </td><td>0.89533140</td></tr>\n",
       "\t<tr><td>0.6070323 </td><td>0.08736096</td></tr>\n",
       "\t<tr><td>0.9226579 </td><td>0.71937014</td></tr>\n",
       "</tbody>\n",
       "</table>\n"
      ],
      "text/latex": [
       "\\begin{tabular}{ll}\n",
       "\t 0.7916021  & 0.89533140\\\\\n",
       "\t 0.6070323  & 0.08736096\\\\\n",
       "\t 0.9226579  & 0.71937014\\\\\n",
       "\\end{tabular}\n"
      ],
      "text/markdown": [
       "\n",
       "| 0.7916021  | 0.89533140 | \n",
       "| 0.6070323  | 0.08736096 | \n",
       "| 0.9226579  | 0.71937014 | \n",
       "\n",
       "\n"
      ],
      "text/plain": [
       "     [,1]      [,2]      \n",
       "[1,] 0.7916021 0.89533140\n",
       "[2,] 0.6070323 0.08736096\n",
       "[3,] 0.9226579 0.71937014"
      ]
     },
     "metadata": {},
     "output_type": "display_data"
    },
    {
     "data": {
      "text/html": [
       "<table>\n",
       "<tbody>\n",
       "\t<tr><td>-0.5412469</td><td> 1.630183 </td><td>0.47566749</td></tr>\n",
       "\t<tr><td> 1.2563724</td><td>-1.685692 </td><td>0.03112999</td></tr>\n",
       "</tbody>\n",
       "</table>\n"
      ],
      "text/latex": [
       "\\begin{tabular}{lll}\n",
       "\t -0.5412469 &  1.630183  & 0.47566749\\\\\n",
       "\t  1.2563724 & -1.685692  & 0.03112999\\\\\n",
       "\\end{tabular}\n"
      ],
      "text/markdown": [
       "\n",
       "| -0.5412469 |  1.630183  | 0.47566749 | \n",
       "|  1.2563724 | -1.685692  | 0.03112999 | \n",
       "\n",
       "\n"
      ],
      "text/plain": [
       "     [,1]       [,2]      [,3]      \n",
       "[1,] -0.5412469  1.630183 0.47566749\n",
       "[2,]  1.2563724 -1.685692 0.03112999"
      ]
     },
     "metadata": {},
     "output_type": "display_data"
    },
    {
     "data": {
      "text/html": [
       "<table>\n",
       "<tbody>\n",
       "\t<tr><td>1</td><td>0</td></tr>\n",
       "\t<tr><td>0</td><td>1</td></tr>\n",
       "</tbody>\n",
       "</table>\n"
      ],
      "text/latex": [
       "\\begin{tabular}{ll}\n",
       "\t 1 & 0\\\\\n",
       "\t 0 & 1\\\\\n",
       "\\end{tabular}\n"
      ],
      "text/markdown": [
       "\n",
       "| 1 | 0 | \n",
       "| 0 | 1 | \n",
       "\n",
       "\n"
      ],
      "text/plain": [
       "     [,1] [,2]\n",
       "[1,] 1    0   \n",
       "[2,] 0    1   "
      ]
     },
     "metadata": {},
     "output_type": "display_data"
    }
   ],
   "source": [
    "#pseduoInverse Implementation\n",
    "n = 3\n",
    "p = 2\n",
    "X = matrix(runif(n*p),n,p)\n",
    "X\n",
    "\n",
    "# [,1] [,2]\n",
    "# [1,] 0.9908163 0.55258366\n",
    "# [2,] 0.5928249 0.06533842\n",
    "# [3,] 0.5017761 0.70352193\n",
    "\n",
    "#pseudo inverse function\n",
    "pinv = function(X) { X_svd = svd(X)\n",
    "                    U = X_svd$u\n",
    "                    V = X_svd$v\n",
    "                    sigma = X_svd$d\n",
    "                    pseudo_invert = function (x) ifelse((x==0), 0, 1/x)\n",
    "                        S_pinv = diag(pseudo_invert(sigma))\n",
    "                        V %*% S_pinv %*% t(U) # return value X^- = V S^- U'\n",
    "                        }\n",
    "P = pinv(X)\n",
    "P\n",
    "# [,1] [,2] [,3]\n",
    "# [1,] 0.7078091 1.057542 -0.6541685\n",
    "# [2,] -0.1394906 -1.153377 1.6381010\n",
    "                    \n",
    "round( P %*% X, 3 ) # P should be a left inverse of X (when n > p)\n",
    "# [,1] [,2]\n",
    "# [1,] 1 0\n",
    "# [2,] 0 1\n",
    "                    \n"
   ]
  },
  {
   "cell_type": "code",
   "execution_count": 46,
   "metadata": {
    "collapsed": false
   },
   "outputs": [
    {
     "data": {
      "text/html": [
       "<table>\n",
       "<tbody>\n",
       "\t<tr><td>-0.5412469</td><td> 1.630183 </td><td>0.47566749</td></tr>\n",
       "\t<tr><td> 1.2563724</td><td>-1.685692 </td><td>0.03112999</td></tr>\n",
       "</tbody>\n",
       "</table>\n"
      ],
      "text/latex": [
       "\\begin{tabular}{lll}\n",
       "\t -0.5412469 &  1.630183  & 0.47566749\\\\\n",
       "\t  1.2563724 & -1.685692  & 0.03112999\\\\\n",
       "\\end{tabular}\n"
      ],
      "text/markdown": [
       "\n",
       "| -0.5412469 |  1.630183  | 0.47566749 | \n",
       "|  1.2563724 | -1.685692  | 0.03112999 | \n",
       "\n",
       "\n"
      ],
      "text/plain": [
       "     [,1]       [,2]      [,3]      \n",
       "[1,] -0.5412469  1.630183 0.47566749\n",
       "[2,]  1.2563724 -1.685692 0.03112999"
      ]
     },
     "metadata": {},
     "output_type": "display_data"
    },
    {
     "data": {
      "text/html": [
       "<table>\n",
       "<tbody>\n",
       "\t<tr><td>1</td><td>0</td></tr>\n",
       "\t<tr><td>0</td><td>1</td></tr>\n",
       "</tbody>\n",
       "</table>\n"
      ],
      "text/latex": [
       "\\begin{tabular}{ll}\n",
       "\t 1 & 0\\\\\n",
       "\t 0 & 1\\\\\n",
       "\\end{tabular}\n"
      ],
      "text/markdown": [
       "\n",
       "| 1 | 0 | \n",
       "| 0 | 1 | \n",
       "\n",
       "\n"
      ],
      "text/plain": [
       "     [,1] [,2]\n",
       "[1,] 1    0   \n",
       "[2,] 0    1   "
      ]
     },
     "metadata": {},
     "output_type": "display_data"
    }
   ],
   "source": [
    "another_pinv = function(X) {X_svd = svd(X)\n",
    "                            U = X_svd$u\n",
    "                            V = X_svd$v\n",
    "                            sigma = X_svd$d\n",
    "                            S = diag(sigma)\n",
    "                            V %*% solve(t(S) %*% S) %*% t(S) %*% t(U) # return value X^- = V (S' S)^(-1) S' U'\n",
    "                           }\n",
    "P = another_pinv(X)\n",
    "P\n",
    "# [,1] [,2] [,3]\n",
    "# [1,] 0.7078091 1.057542 -0.6541685\n",
    "# [2,] -0.1394906 -1.153377 1.6381010\n",
    "                    \n",
    "round( P %*% X, 3 ) # P should be a left inverse of X (when n > p)\n",
    "# [,1] [,2]\n",
    "# [1,] 1 0\n",
    "# [2,] 0 1\n",
    "    \n"
   ]
  },
  {
   "cell_type": "code",
   "execution_count": 47,
   "metadata": {
    "collapsed": false
   },
   "outputs": [
    {
     "data": {
      "text/html": [
       "<table>\n",
       "<tbody>\n",
       "\t<tr><td>-0.5412469</td><td> 1.630183 </td><td>0.47566749</td></tr>\n",
       "\t<tr><td> 1.2563724</td><td>-1.685692 </td><td>0.03112999</td></tr>\n",
       "</tbody>\n",
       "</table>\n"
      ],
      "text/latex": [
       "\\begin{tabular}{lll}\n",
       "\t -0.5412469 &  1.630183  & 0.47566749\\\\\n",
       "\t  1.2563724 & -1.685692  & 0.03112999\\\\\n",
       "\\end{tabular}\n"
      ],
      "text/markdown": [
       "\n",
       "| -0.5412469 |  1.630183  | 0.47566749 | \n",
       "|  1.2563724 | -1.685692  | 0.03112999 | \n",
       "\n",
       "\n"
      ],
      "text/plain": [
       "     [,1]       [,2]      [,3]      \n",
       "[1,] -0.5412469  1.630183 0.47566749\n",
       "[2,]  1.2563724 -1.685692 0.03112999"
      ]
     },
     "metadata": {},
     "output_type": "display_data"
    },
    {
     "data": {
      "text/html": [
       "<table>\n",
       "<tbody>\n",
       "\t<tr><td>1</td><td>0</td></tr>\n",
       "\t<tr><td>0</td><td>1</td></tr>\n",
       "</tbody>\n",
       "</table>\n"
      ],
      "text/latex": [
       "\\begin{tabular}{ll}\n",
       "\t 1 & 0\\\\\n",
       "\t 0 & 1\\\\\n",
       "\\end{tabular}\n"
      ],
      "text/markdown": [
       "\n",
       "| 1 | 0 | \n",
       "| 0 | 1 | \n",
       "\n",
       "\n"
      ],
      "text/plain": [
       "     [,1] [,2]\n",
       "[1,] 1    0   \n",
       "[2,] 0    1   "
      ]
     },
     "metadata": {},
     "output_type": "display_data"
    }
   ],
   "source": [
    "yet_another_pinv = function(X) {solve(t(X) %*% X) %*% t(X)} #return (X' X)^(-1) X'\n",
    "P = yet_another_pinv(X)\n",
    "P\n",
    "# [,1] [,2] [,3]\n",
    "# [1,] 0.7078091 1.057542 -0.6541685\n",
    "# [2,] -0.1394906 -1.153377 1.6381010\n",
    "round( P %*% X, 3 ) # P should be a left inverse of X (when n > p)\n",
    "# [,1] [,2]\n",
    "# [1,] 1 0\n",
    "# [2,] 0 1"
   ]
  },
  {
   "cell_type": "code",
   "execution_count": null,
   "metadata": {
    "collapsed": true
   },
   "outputs": [],
   "source": []
  }
 ],
 "metadata": {
  "anaconda-cloud": {},
  "kernelspec": {
   "display_name": "R",
   "language": "R",
   "name": "ir"
  },
  "language_info": {
   "codemirror_mode": "r",
   "file_extension": ".r",
   "mimetype": "text/x-r-source",
   "name": "R",
   "pygments_lexer": "r",
   "version": "3.3.2"
  }
 },
 "nbformat": 4,
 "nbformat_minor": 1
}
