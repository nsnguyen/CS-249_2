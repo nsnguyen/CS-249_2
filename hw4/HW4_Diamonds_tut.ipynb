{
 "cells": [
  {
   "cell_type": "markdown",
   "metadata": {},
   "source": [
    "CS249 -- Spring 2017 -- D.S. Parker &copy; 2017"
   ]
  },
  {
   "cell_type": "markdown",
   "metadata": {},
   "source": [
    "# HW4 -- Diamonds"
   ]
  },
  {
   "cell_type": "markdown",
   "metadata": {},
   "source": [
    "<hr style=\"border-width:50px;\">"
   ]
  },
  {
   "cell_type": "markdown",
   "metadata": {},
   "source": [
    "## Assignment Overview\n",
    "\n",
    "The goal of this assignment is for you to develop models for the <a href=\"http://docs.ggplot2.org/current/diamonds.html\"><b>diamonds</b> dataset</a>,\n",
    "which is included in the <a href=\"http://ggplot2.org\">ggplot2</a> package.\n",
    "\n",
    "This is a very simple assignment:  you are asked to build four models:\n",
    "LDA or QDA, simple Linear Regression, log-scaled Linear Regression, and Logistic Regression.\n",
    "You then just upload the formulas (R commands) you used to construct these models to CCLE.\n",
    "\n",
    "<hr style=\"border-width:20px;\">\n",
    "\n",
    "### Step 0:  build the numeric.diamonds dataset\n",
    "\n",
    "This notebook includes commands for buiding a dataset called `<code>numeric.diamonds</code>\n",
    "that you are to use for this assignment.\n",
    "\n",
    "\n",
    "The diamonds dataset has 3 categorical attributes (cut, color, clarity)\n",
    "that are <b>ordered</b>.\n",
    "<i>\n",
    "The <tt>numeric.diamonds</tt> dataset \n",
    "is a numeric version of the diamonds dataset\n",
    "in which all these categorical attributes are converted to integer codes.\n",
    "</i>\n",
    "\n",
    "For example, there are 7 colors, with the ordering: J < I < H < G < F < E < D (J is worst, D is best).\n",
    "We implement these by replacing J with the value 1,\n",
    "I with the value 2, ..., and D with the value 7.\n",
    "\n",
    "After doing this transformation for cut and clarity also,\n",
    "the result is an entirely numeric dataset called <tt>numeric.diamonds</tt>.\n",
    "\n",
    "In addition to this notebook, we've provided another called <tt>Diamonds.ipynb</tt> for gaining intuition\n",
    "about the data by walking through some exploratory graphics.\n",
    "Many aspects of the dataset are displayed.\n",
    "You do not have to use this notebook, it is totally optional, but it is included\n",
    "since visualization can help.\n",
    "\n",
    "<hr style=\"border-width:20px;\">\n",
    "\n",
    "### Step 1:  build a training set and test set (as subsets of numeric.diamonds) -- using your UID\n",
    "\n",
    "First, set the random number generator seed to your UID.\n",
    "Then generate a training set and test set using the following commands:\n",
    "\n",
    "<code>\n",
    "       MY_UID = 123456789 </code><b style=\"color:blue;\">########## you must enter your UCLA UID here !!!</b><code>\n",
    "       set.seed( MY_UID )\n",
    "\n",
    "       n = nrow( numeric.diamonds )\n",
    "       sample.size = 0.75 * n   ###### Use 75% of the data for the training set\n",
    "       training.row.ids = sample( (1:n), sample.size )\n",
    "       \n",
    "       my.training.set = numeric.diamonds[  training.row.ids, ]\n",
    "       my.test.set     = numeric.diamonds[ -training.row.ids, ]   # set complement of training.set.ids\n",
    "</code>\n",
    "\n",
    "<b>\n",
    "Please use exactly these commands to construct your training set and test set.\n",
    "Also, use the training set to construct each model,\n",
    "and use the test set to compute the accuracy of each model.\n",
    "The grading program will re-compute your model and its accuracy using this method.\n",
    "</b>\n",
    "\n",
    "<hr style=\"border-width:20px;\">\n",
    "\n",
    "### Step 2: compute accuracy of 4 Baseline Models about diamonds\n",
    "\n",
    "<hr style=\"border-width:20px;\">\n",
    "\n",
    "### Step 2: build four models about diamonds\n",
    "\n",
    "For the numeric.diamonds dataset you are to develop a notebook that builds four models in R:\n",
    "<ol><li>\n",
    "a LDA or QDA classification model that predicts a diamond's <b>Cut</b>.\n",
    "</li><li>\n",
    "a linear regression model that predicts a diamond's <b>Price</b>.\n",
    "</li><li>\n",
    "a linear regression model that predicts a diamond's <b>log10(Price)</b>.\n",
    "</li><li>\n",
    "a logistic regression model that predicts whether a diamond's <b>Price is above &dollar;1500</b>.\n",
    "</li></ol>\n",
    "\n",
    "As an example, you might produce these models:\n",
    "<ol><li>\n",
    "<code>  qda( cut ~ price + table + color + clarity,       data=my.training.set )</code>\n",
    "</li><li>\n",
    "<code>  lm(  price ~ carat + x + y + z + clarity,         data=my.training.set )</code>\n",
    "</li><li>\n",
    "<code>  lm(  log10(price) ~ table + log10(carat) + color, data=my.training.set )</code>\n",
    "</li><li>\n",
    "<code>  glm( I(price>1500) ~ carat + table + clarity,     data=my.training.set, family = binomial )</code>\n",
    "</li></ol>\n",
    "\n",
    "As these examples show, details matter:\n",
    "<b>you must specify the complete formula for each model in detail, listing all variables included.</b>\n",
    "\n",
    "Please choose attributes that produce the most accuracy models you can.\n",
    "More accurate models will get a higher score; see below.\n",
    "\n",
    "<hr style=\"border-width:20px;\">\n",
    "\n",
    "### Step 3: generate a CSV file \"HW4_output.csv\" including your 4 models\n",
    "\n",
    "If these were your four models, then to complete the assignment you would create\n",
    "a CSV file <tt>HW4_output.csv</tt> containing eight lines:\n",
    "\n",
    "<code>\n",
    "      33.333, qda( cut ~ .,           data=my.training.set )\n",
    "      88.888, lm(  price ~ .,         data=my.training.set )\n",
    "      77.777, lm(  log10(price) ~ .,  data=my.training.set )\n",
    "      88.888, glm( I(price>1500) ~ ., data=my.training.set, family=binomial )\n",
    "      44.444, qda( cut ~ price + table + color + clarity, data=my.training.set )\n",
    "      99.999, lm( price ~ carat + x + y + z + clarity, data=my.training.set )\n",
    "      99.999, lm( log10(price) ~ table + log10(carat) + color, data=my.training.set )\n",
    "      99.999, glm( I(price>1500) ~ carat + table + clarity, data=my.training.set, family=binomial )\n",
    "</code>\n",
    "\n",
    "<b>Each line gives the accuracy of a model <u>on <tt>my.test.set</tt></u></b>\n",
    "as well as <b>the exact command you used to generate the model</b>.\n",
    "There is no length restriction on the lines.\n",
    "\n",
    "<hr style=\"border-width:20px;\">\n",
    "\n",
    "### Step 4: upload your CSV file and notebook to CCLE\n",
    "\n",
    "Finally, go to CCLE and upload:\n",
    "<ul><li>\n",
    "your output CSV file <tt>HW4_output.csv</tt>\n",
    "</li><li>\n",
    "your notebook file <tt>HW4_Diamonds.ipynb</tt>\n",
    "</li></ul>\n",
    "\n",
    "We are not planning to run any of the uploaded notebooks.\n",
    "However, your notebook should have the commands you used in developing your models ---\n",
    "in order to show your work.\n",
    "As announced, all assignment grading in this course will be automated,\n",
    "and the notebook is needed in order to check results of the grading program."
   ]
  },
  {
   "cell_type": "markdown",
   "metadata": {},
   "source": [
    "##### <hr style=\"border-width:50px;\">"
   ]
  },
  {
   "cell_type": "markdown",
   "metadata": {},
   "source": [
    "## Rules -- building accurate models\n",
    "\n",
    "### All evaluation of your models' accuracy will be done using your Training and Test data.\n",
    "\n",
    "As mentioned above, everyone will generate their own Training set and Test set\n",
    "<b style=\"color:blue;\">after setting the random number seed to their UID</b>.\n",
    "The measure of accuracy will be determined by your Test set.\n",
    "\n",
    "As a result, in this assignment everyone has their own accuracy objective function,\n",
    "defined by their UID.\n",
    "\n",
    "Also: if you do not set the seed with your UID, your accuracy measures will differ from the\n",
    "ones produced by the grading program.\n",
    "\n",
    "### Models must be constructed using the functions lda(), qda(), lm(), and glm()\n",
    "\n",
    "You must use the <tt>lm</tt>, <tt>glm</tt>, <tt>lda</tt> and <tt>qda</tt> functions to compute your models.\n",
    "Both <tt>lda()</tt> and <tt>qda()</tt> are in the <tt>MASS</tt> package.)\n",
    "To produce a logistic regression model, you must include the option <tt>family=binomial</tt>, or equivalently <tt>family=binomial(\"logit\")</tt>.\n",
    "\n",
    "However, you have complete control over which variables are used in your model,\n",
    "and over which transformations you apply to the variables.\n",
    "So many different models are possible.\n",
    "\n",
    "### \"Accuracy\" is a standard measure of performance for models\n",
    "\n",
    "For LDA and QDA, and for logistic regression,\n",
    "the accuracy measure is the percentage of correct classifications.\n",
    "For linear regressions a standard measure is $R^2$.\n",
    "You must implement these measures as described below.\n",
    "\n",
    "### The grading will compare your model's accuracy against a baseline model, using your data\n",
    "\n",
    "The grading program will use these baseline models:\n",
    "<code>\n",
    "      qda( cut ~ .,           data=my.training.set )\n",
    "      lm(  price ~ .,         data=my.training.set )\n",
    "      lm(  log10(price) ~ .,  data=my.training.set )\n",
    "      glm( I(price>1500) ~ ., data=my.training.set, family=binomial )\n",
    "</code>\n",
    "\n",
    "For each of the four baseline models, you must do two things:\n",
    "<ol><li>\n",
    "(17 points):  compute the accuracy of the baseline model.\n",
    "</li><li>\n",
    "(8 points):  find a model that has higher accuracy than the baseline model.\n",
    "</li></ol>\n",
    "\n",
    "It is not difficult to get 4 &ast; 17 = 68 points on this assignment.\n",
    "However, 4 models that are better than the baseline will give 4 &ast; 25 = 100 points.\n",
    "\n"
   ]
  },
  {
   "cell_type": "markdown",
   "metadata": {},
   "source": [
    "<hr style=\"border-width:50px;\">"
   ]
  },
  {
   "cell_type": "markdown",
   "metadata": {},
   "source": [
    "# Generation of the numeric.diamonds Dataset\n",
    "\n",
    "## Use this transformed dataset for building all Models in this assignment"
   ]
  },
  {
   "cell_type": "code",
   "execution_count": 118,
   "metadata": {
    "collapsed": false
   },
   "outputs": [],
   "source": [
    "# we need the ggplot2 package to get the \"diamonds\" dataset\n",
    "\n",
    "not.installed <- function(pkg) !is.element(pkg, installed.packages()[,1])\n",
    "\n",
    "if (not.installed(\"ggplot2\")) install.packages(\"ggplot2\")\n",
    "library(ggplot2)\n",
    "    \n",
    "if (not.installed(\"ggbiplot\")) install.packages(\"ggbiplot\")\n",
    "library(ggbiplot)"
   ]
  },
  {
   "cell_type": "code",
   "execution_count": 119,
   "metadata": {
    "collapsed": false
   },
   "outputs": [
    {
     "data": {
      "text/plain": [
       "     carat               cut        color        clarity          depth      \n",
       " Min.   :0.2000   Fair     : 1610   D: 6775   SI1    :13065   Min.   :43.00  \n",
       " 1st Qu.:0.4000   Good     : 4906   E: 9797   VS2    :12258   1st Qu.:61.00  \n",
       " Median :0.7000   Very Good:12082   F: 9542   SI2    : 9194   Median :61.80  \n",
       " Mean   :0.7979   Premium  :13791   G:11292   VS1    : 8171   Mean   :61.75  \n",
       " 3rd Qu.:1.0400   Ideal    :21551   H: 8304   VVS2   : 5066   3rd Qu.:62.50  \n",
       " Max.   :5.0100                     I: 5422   VVS1   : 3655   Max.   :79.00  \n",
       "                                    J: 2808   (Other): 2531                  \n",
       "     table           price             x                y         \n",
       " Min.   :43.00   Min.   :  326   Min.   : 0.000   Min.   : 0.000  \n",
       " 1st Qu.:56.00   1st Qu.:  950   1st Qu.: 4.710   1st Qu.: 4.720  \n",
       " Median :57.00   Median : 2401   Median : 5.700   Median : 5.710  \n",
       " Mean   :57.46   Mean   : 3933   Mean   : 5.731   Mean   : 5.735  \n",
       " 3rd Qu.:59.00   3rd Qu.: 5324   3rd Qu.: 6.540   3rd Qu.: 6.540  \n",
       " Max.   :95.00   Max.   :18823   Max.   :10.740   Max.   :58.900  \n",
       "                                                                  \n",
       "       z         \n",
       " Min.   : 0.000  \n",
       " 1st Qu.: 2.910  \n",
       " Median : 3.530  \n",
       " Mean   : 3.539  \n",
       " 3rd Qu.: 4.040  \n",
       " Max.   :31.800  \n",
       "                 "
      ]
     },
     "metadata": {},
     "output_type": "display_data"
    }
   ],
   "source": [
    "data(diamonds, package=\"ggplot2\")\n",
    "\n",
    "summary(diamonds)"
   ]
  },
  {
   "cell_type": "markdown",
   "metadata": {},
   "source": [
    "The dataset has the following columns:\n",
    "<table>\n",
    "<tr><td>   <b>carat</b></td><td>weight of the diamond in carats, rounded to an integer  (1 carat = 0.2 grams)</td></tr>\n",
    "<tr><td>   <b>cut</b></td><td>quality of the cut  {Fair, Good, VeryGood, Premium, Ideal}</td></tr>\n",
    "<tr><td>   <b>color</b></td><td>color code: &lbrace; J &lt; I &lt; H &lt; G &lt; F &lt; E &lt; D &rbrace;  (J is worst, D is best)</td></tr>\n",
    "<tr><td>   <b>clarity</b></td><td>clarity code: &lbrace; I1 &lt; SI1 &lt; SI2 &lt; VS1 &lt; VS2 &lt; VVS1 &lt; VVS2 &lt; IF &rbrace; (I1 is worst, IF is best)</td></tr>\n",
    "\n",
    "<tr><td>   <b>depth</b></td><td>total depth percentage  =  2*z/(x+y)</td></tr>\n",
    "<tr><td>   <b>table</b></td><td>width of top of diamond relative to widest point</td></tr>\n",
    "\n",
    "<tr><td>   <b>price</b></td><td>in US dollars</td></tr>\n",
    "\n",
    "<tr><td>   <b>x</b></td><td>Length in mm (numeric value between 0 and 6)</td></tr>\n",
    "<tr><td>   <b>y</b></td><td>Width  in mm (numeric value between 0 and 9)</td></tr>\n",
    "<tr><td>   <b>z</b></td><td>Depth  in mm (numeric value between 0 and 6)</td></tr>\n",
    "\n",
    "</table>\n",
    "\n",
    "Caution:  the datset has skewed distributions.  Please check below.\n"
   ]
  },
  {
   "cell_type": "code",
   "execution_count": 120,
   "metadata": {
    "collapsed": false
   },
   "outputs": [
    {
     "data": {
      "text/html": [
       "<ol class=list-inline>\n",
       "\t<li>53940</li>\n",
       "\t<li>10</li>\n",
       "</ol>\n"
      ],
      "text/latex": [
       "\\begin{enumerate*}\n",
       "\\item 53940\n",
       "\\item 10\n",
       "\\end{enumerate*}\n"
      ],
      "text/markdown": [
       "1. 53940\n",
       "2. 10\n",
       "\n",
       "\n"
      ],
      "text/plain": [
       "[1] 53940    10"
      ]
     },
     "metadata": {},
     "output_type": "display_data"
    }
   ],
   "source": [
    "dim(diamonds)  # not a tiny dataset"
   ]
  },
  {
   "cell_type": "code",
   "execution_count": 121,
   "metadata": {
    "collapsed": false
   },
   "outputs": [],
   "source": [
    "# low_prices = subset( diamonds$price, diamonds$price<5000 )\n",
    "\n",
    "# hist( low_prices, breaks=200, col=\"green\",\n",
    "#      main = \"diamond prices below $5000; notice the odd gap around 1500\")"
   ]
  },
  {
   "cell_type": "code",
   "execution_count": 122,
   "metadata": {
    "collapsed": false
   },
   "outputs": [],
   "source": [
    "# log-scaling the prices makes patterns clearer\n",
    "\n",
    "# hist( log10(diamonds$price), breaks=50, col=\"skyblue\",\n",
    "#      main=\"distribution of log10(price) looks like a mixture\" )\n",
    "\n",
    "# plot(sort(log10(diamonds$price)), pch=\".\", col=\"skyblue\")"
   ]
  },
  {
   "cell_type": "markdown",
   "metadata": {},
   "source": [
    "## Basic cleaning of the data"
   ]
  },
  {
   "cell_type": "code",
   "execution_count": 123,
   "metadata": {
    "collapsed": true
   },
   "outputs": [],
   "source": [
    "diamonds = subset( diamonds, (x>0) & (y>0) & (z>0) )  #  There are actually some zero values, we omit them."
   ]
  },
  {
   "cell_type": "markdown",
   "metadata": {},
   "source": [
    "### Prepare numeric encodings of \"ordered categorical\" values for Cut, Color, and Clarity"
   ]
  },
  {
   "cell_type": "code",
   "execution_count": 124,
   "metadata": {
    "collapsed": false
   },
   "outputs": [
    {
     "data": {
      "text/html": [
       "<ol class=list-inline>\n",
       "\t<li>'carat'</li>\n",
       "\t<li>'cut'</li>\n",
       "\t<li>'color'</li>\n",
       "\t<li>'clarity'</li>\n",
       "\t<li>'depth'</li>\n",
       "\t<li>'table'</li>\n",
       "\t<li>'price'</li>\n",
       "\t<li>'x'</li>\n",
       "\t<li>'y'</li>\n",
       "\t<li>'z'</li>\n",
       "</ol>\n"
      ],
      "text/latex": [
       "\\begin{enumerate*}\n",
       "\\item 'carat'\n",
       "\\item 'cut'\n",
       "\\item 'color'\n",
       "\\item 'clarity'\n",
       "\\item 'depth'\n",
       "\\item 'table'\n",
       "\\item 'price'\n",
       "\\item 'x'\n",
       "\\item 'y'\n",
       "\\item 'z'\n",
       "\\end{enumerate*}\n"
      ],
      "text/markdown": [
       "1. 'carat'\n",
       "2. 'cut'\n",
       "3. 'color'\n",
       "4. 'clarity'\n",
       "5. 'depth'\n",
       "6. 'table'\n",
       "7. 'price'\n",
       "8. 'x'\n",
       "9. 'y'\n",
       "10. 'z'\n",
       "\n",
       "\n"
      ],
      "text/plain": [
       " [1] \"carat\"   \"cut\"     \"color\"   \"clarity\" \"depth\"   \"table\"   \"price\"  \n",
       " [8] \"x\"       \"y\"       \"z\"      "
      ]
     },
     "metadata": {},
     "output_type": "display_data"
    }
   ],
   "source": [
    "colnames(diamonds)"
   ]
  },
  {
   "cell_type": "code",
   "execution_count": 125,
   "metadata": {
    "collapsed": false
   },
   "outputs": [
    {
     "data": {
      "text/html": [
       "<ol class=list-inline>\n",
       "\t<li>'D'</li>\n",
       "\t<li>'E'</li>\n",
       "\t<li>'F'</li>\n",
       "\t<li>'G'</li>\n",
       "\t<li>'H'</li>\n",
       "\t<li>'I'</li>\n",
       "\t<li>'J'</li>\n",
       "</ol>\n"
      ],
      "text/latex": [
       "\\begin{enumerate*}\n",
       "\\item 'D'\n",
       "\\item 'E'\n",
       "\\item 'F'\n",
       "\\item 'G'\n",
       "\\item 'H'\n",
       "\\item 'I'\n",
       "\\item 'J'\n",
       "\\end{enumerate*}\n"
      ],
      "text/markdown": [
       "1. 'D'\n",
       "2. 'E'\n",
       "3. 'F'\n",
       "4. 'G'\n",
       "5. 'H'\n",
       "6. 'I'\n",
       "7. 'J'\n",
       "\n",
       "\n"
      ],
      "text/plain": [
       "[1] \"D\" \"E\" \"F\" \"G\" \"H\" \"I\" \"J\""
      ]
     },
     "metadata": {},
     "output_type": "display_data"
    }
   ],
   "source": [
    "( colors = levels(diamonds$color) )"
   ]
  },
  {
   "cell_type": "code",
   "execution_count": 126,
   "metadata": {
    "collapsed": false
   },
   "outputs": [
    {
     "data": {
      "text/html": [
       "<ol class=list-inline>\n",
       "\t<li>'J'</li>\n",
       "\t<li>'I'</li>\n",
       "\t<li>'H'</li>\n",
       "\t<li>'G'</li>\n",
       "\t<li>'F'</li>\n",
       "\t<li>'E'</li>\n",
       "\t<li>'D'</li>\n",
       "</ol>\n"
      ],
      "text/latex": [
       "\\begin{enumerate*}\n",
       "\\item 'J'\n",
       "\\item 'I'\n",
       "\\item 'H'\n",
       "\\item 'G'\n",
       "\\item 'F'\n",
       "\\item 'E'\n",
       "\\item 'D'\n",
       "\\end{enumerate*}\n"
      ],
      "text/markdown": [
       "1. 'J'\n",
       "2. 'I'\n",
       "3. 'H'\n",
       "4. 'G'\n",
       "5. 'F'\n",
       "6. 'E'\n",
       "7. 'D'\n",
       "\n",
       "\n"
      ],
      "text/plain": [
       "[1] \"J\" \"I\" \"H\" \"G\" \"F\" \"E\" \"D\""
      ]
     },
     "metadata": {},
     "output_type": "display_data"
    }
   ],
   "source": [
    "## The levels of Colors should have the reverse ordering\n",
    "##  { D > E > F > G > H > I > J }\n",
    "##  (J is worst, D is best)\n",
    "\n",
    "( levels(diamonds$color) = rev(colors) )"
   ]
  },
  {
   "cell_type": "code",
   "execution_count": 127,
   "metadata": {
    "collapsed": false
   },
   "outputs": [
    {
     "data": {
      "text/html": [
       "<ol class=list-inline>\n",
       "\t<li>'Fair'</li>\n",
       "\t<li>'Good'</li>\n",
       "\t<li>'Very Good'</li>\n",
       "\t<li>'Premium'</li>\n",
       "\t<li>'Ideal'</li>\n",
       "</ol>\n"
      ],
      "text/latex": [
       "\\begin{enumerate*}\n",
       "\\item 'Fair'\n",
       "\\item 'Good'\n",
       "\\item 'Very Good'\n",
       "\\item 'Premium'\n",
       "\\item 'Ideal'\n",
       "\\end{enumerate*}\n"
      ],
      "text/markdown": [
       "1. 'Fair'\n",
       "2. 'Good'\n",
       "3. 'Very Good'\n",
       "4. 'Premium'\n",
       "5. 'Ideal'\n",
       "\n",
       "\n"
      ],
      "text/plain": [
       "[1] \"Fair\"      \"Good\"      \"Very Good\" \"Premium\"   \"Ideal\"    "
      ]
     },
     "metadata": {},
     "output_type": "display_data"
    }
   ],
   "source": [
    "( cuts = levels(diamonds$cut) )"
   ]
  },
  {
   "cell_type": "code",
   "execution_count": 128,
   "metadata": {
    "collapsed": true
   },
   "outputs": [],
   "source": [
    "## The levels of Cuts have the correct ordering"
   ]
  },
  {
   "cell_type": "code",
   "execution_count": 97,
   "metadata": {
    "collapsed": false
   },
   "outputs": [
    {
     "data": {
      "text/html": [
       "<ol class=list-inline>\n",
       "\t<li>'I1'</li>\n",
       "\t<li>'SI2'</li>\n",
       "\t<li>'SI1'</li>\n",
       "\t<li>'VS2'</li>\n",
       "\t<li>'VS1'</li>\n",
       "\t<li>'VVS2'</li>\n",
       "\t<li>'VVS1'</li>\n",
       "\t<li>'IF'</li>\n",
       "</ol>\n"
      ],
      "text/latex": [
       "\\begin{enumerate*}\n",
       "\\item 'I1'\n",
       "\\item 'SI2'\n",
       "\\item 'SI1'\n",
       "\\item 'VS2'\n",
       "\\item 'VS1'\n",
       "\\item 'VVS2'\n",
       "\\item 'VVS1'\n",
       "\\item 'IF'\n",
       "\\end{enumerate*}\n"
      ],
      "text/markdown": [
       "1. 'I1'\n",
       "2. 'SI2'\n",
       "3. 'SI1'\n",
       "4. 'VS2'\n",
       "5. 'VS1'\n",
       "6. 'VVS2'\n",
       "7. 'VVS1'\n",
       "8. 'IF'\n",
       "\n",
       "\n"
      ],
      "text/plain": [
       "[1] \"I1\"   \"SI2\"  \"SI1\"  \"VS2\"  \"VS1\"  \"VVS2\" \"VVS1\" \"IF\"  "
      ]
     },
     "metadata": {},
     "output_type": "display_data"
    }
   ],
   "source": [
    "( clarities = levels(diamonds$clarity) )"
   ]
  },
  {
   "cell_type": "code",
   "execution_count": 129,
   "metadata": {
    "collapsed": false
   },
   "outputs": [],
   "source": [
    "## The levels of Clarity have ordering\n",
    "##  { I1 < SI2 < SI1 < VS2 < VS1 < VVS2 < VVS1 < IF }\n",
    "##  (I1 is worst, IF is best)\n",
    "\n",
    "# ( levels(diamonds$clarity) = clarities[c(1:8)] )\n",
    "#  the factor levels of 'clarity' match the real ordering."
   ]
  },
  {
   "cell_type": "markdown",
   "metadata": {},
   "source": [
    "### Convert the categorical values to integers -- using the unclass() function."
   ]
  },
  {
   "cell_type": "code",
   "execution_count": 130,
   "metadata": {
    "collapsed": true
   },
   "outputs": [],
   "source": [
    "numeric.diamonds = transform( diamonds,\n",
    "                              cut = as.numeric(unclass(diamonds$cut)),\n",
    "                              color = as.numeric(unclass(diamonds$color)),\n",
    "                              clarity = as.numeric(unclass(diamonds$clarity))\n",
    "                   )"
   ]
  },
  {
   "cell_type": "code",
   "execution_count": 131,
   "metadata": {
    "collapsed": false
   },
   "outputs": [
    {
     "data": {
      "text/html": [
       "<ol class=list-inline>\n",
       "\t<li>'Fair'</li>\n",
       "\t<li>'Good'</li>\n",
       "\t<li>'Very Good'</li>\n",
       "\t<li>'Premium'</li>\n",
       "\t<li>'Ideal'</li>\n",
       "</ol>\n"
      ],
      "text/latex": [
       "\\begin{enumerate*}\n",
       "\\item 'Fair'\n",
       "\\item 'Good'\n",
       "\\item 'Very Good'\n",
       "\\item 'Premium'\n",
       "\\item 'Ideal'\n",
       "\\end{enumerate*}\n"
      ],
      "text/markdown": [
       "1. 'Fair'\n",
       "2. 'Good'\n",
       "3. 'Very Good'\n",
       "4. 'Premium'\n",
       "5. 'Ideal'\n",
       "\n",
       "\n"
      ],
      "text/plain": [
       "[1] \"Fair\"      \"Good\"      \"Very Good\" \"Premium\"   \"Ideal\"    "
      ]
     },
     "metadata": {},
     "output_type": "display_data"
    },
    {
     "data": {
      "text/plain": [
       "           \n",
       "                1     2     3     4     5\n",
       "  Fair       1609     0     0     0     0\n",
       "  Good          0  4902     0     0     0\n",
       "  Very Good     0     0 12081     0     0\n",
       "  Premium       0     0     0 13780     0\n",
       "  Ideal         0     0     0     0 21548"
      ]
     },
     "metadata": {},
     "output_type": "display_data"
    }
   ],
   "source": [
    "levels(diamonds$cut)\n",
    "table( diamonds$cut, numeric.diamonds$cut )"
   ]
  },
  {
   "cell_type": "code",
   "execution_count": 132,
   "metadata": {
    "collapsed": false
   },
   "outputs": [
    {
     "data": {
      "text/html": [
       "<ol class=list-inline>\n",
       "\t<li>'J'</li>\n",
       "\t<li>'I'</li>\n",
       "\t<li>'H'</li>\n",
       "\t<li>'G'</li>\n",
       "\t<li>'F'</li>\n",
       "\t<li>'E'</li>\n",
       "\t<li>'D'</li>\n",
       "</ol>\n"
      ],
      "text/latex": [
       "\\begin{enumerate*}\n",
       "\\item 'J'\n",
       "\\item 'I'\n",
       "\\item 'H'\n",
       "\\item 'G'\n",
       "\\item 'F'\n",
       "\\item 'E'\n",
       "\\item 'D'\n",
       "\\end{enumerate*}\n"
      ],
      "text/markdown": [
       "1. 'J'\n",
       "2. 'I'\n",
       "3. 'H'\n",
       "4. 'G'\n",
       "5. 'F'\n",
       "6. 'E'\n",
       "7. 'D'\n",
       "\n",
       "\n"
      ],
      "text/plain": [
       "[1] \"J\" \"I\" \"H\" \"G\" \"F\" \"E\" \"D\""
      ]
     },
     "metadata": {},
     "output_type": "display_data"
    },
    {
     "data": {
      "text/plain": [
       "   \n",
       "        1     2     3     4     5     6     7\n",
       "  J  6774     0     0     0     0     0     0\n",
       "  I     0  9797     0     0     0     0     0\n",
       "  H     0     0  9538     0     0     0     0\n",
       "  G     0     0     0 11284     0     0     0\n",
       "  F     0     0     0     0  8298     0     0\n",
       "  E     0     0     0     0     0  5421     0\n",
       "  D     0     0     0     0     0     0  2808"
      ]
     },
     "metadata": {},
     "output_type": "display_data"
    }
   ],
   "source": [
    "levels(diamonds$color)\n",
    "table( diamonds$color, numeric.diamonds$color )"
   ]
  },
  {
   "cell_type": "code",
   "execution_count": 133,
   "metadata": {
    "collapsed": false
   },
   "outputs": [
    {
     "data": {
      "text/html": [
       "<ol class=list-inline>\n",
       "\t<li>'I1'</li>\n",
       "\t<li>'SI2'</li>\n",
       "\t<li>'SI1'</li>\n",
       "\t<li>'VS2'</li>\n",
       "\t<li>'VS1'</li>\n",
       "\t<li>'VVS2'</li>\n",
       "\t<li>'VVS1'</li>\n",
       "\t<li>'IF'</li>\n",
       "</ol>\n"
      ],
      "text/latex": [
       "\\begin{enumerate*}\n",
       "\\item 'I1'\n",
       "\\item 'SI2'\n",
       "\\item 'SI1'\n",
       "\\item 'VS2'\n",
       "\\item 'VS1'\n",
       "\\item 'VVS2'\n",
       "\\item 'VVS1'\n",
       "\\item 'IF'\n",
       "\\end{enumerate*}\n"
      ],
      "text/markdown": [
       "1. 'I1'\n",
       "2. 'SI2'\n",
       "3. 'SI1'\n",
       "4. 'VS2'\n",
       "5. 'VS1'\n",
       "6. 'VVS2'\n",
       "7. 'VVS1'\n",
       "8. 'IF'\n",
       "\n",
       "\n"
      ],
      "text/plain": [
       "[1] \"I1\"   \"SI2\"  \"SI1\"  \"VS2\"  \"VS1\"  \"VVS2\" \"VVS1\" \"IF\"  "
      ]
     },
     "metadata": {},
     "output_type": "display_data"
    },
    {
     "data": {
      "text/plain": [
       "      \n",
       "           1     2     3     4     5     6     7     8\n",
       "  I1     738     0     0     0     0     0     0     0\n",
       "  SI2      0  9185     0     0     0     0     0     0\n",
       "  SI1      0     0 13063     0     0     0     0     0\n",
       "  VS2      0     0     0 12254     0     0     0     0\n",
       "  VS1      0     0     0     0  8170     0     0     0\n",
       "  VVS2     0     0     0     0     0  5066     0     0\n",
       "  VVS1     0     0     0     0     0     0  3654     0\n",
       "  IF       0     0     0     0     0     0     0  1790"
      ]
     },
     "metadata": {},
     "output_type": "display_data"
    }
   ],
   "source": [
    "levels(diamonds$clarity)\n",
    "table( diamonds$clarity, numeric.diamonds$clarity )"
   ]
  },
  {
   "cell_type": "markdown",
   "metadata": {},
   "source": [
    "### Inspect correlations among the Numeric Diamonds variables, as a check"
   ]
  },
  {
   "cell_type": "code",
   "execution_count": 134,
   "metadata": {
    "collapsed": false
   },
   "outputs": [
    {
     "data": {
      "text/html": [
       "<table>\n",
       "<thead><tr><th></th><th scope=col>carat</th><th scope=col>cut</th><th scope=col>color</th><th scope=col>clarity</th><th scope=col>depth</th><th scope=col>table</th><th scope=col>price</th><th scope=col>x</th><th scope=col>y</th><th scope=col>z</th></tr></thead>\n",
       "<tbody>\n",
       "\t<tr><th scope=row>carat</th><td> 1.00</td><td>-0.13</td><td> 0.29</td><td>-0.35</td><td> 0.03</td><td> 0.18</td><td> 0.92</td><td> 0.98</td><td> 0.95</td><td> 0.96</td></tr>\n",
       "\t<tr><th scope=row>cut</th><td>-0.13</td><td> 1.00</td><td>-0.02</td><td> 0.19</td><td>-0.22</td><td>-0.43</td><td>-0.05</td><td>-0.13</td><td>-0.12</td><td>-0.15</td></tr>\n",
       "\t<tr><th scope=row>color</th><td> 0.29</td><td>-0.02</td><td> 1.00</td><td> 0.03</td><td> 0.05</td><td> 0.03</td><td> 0.17</td><td> 0.27</td><td> 0.26</td><td> 0.27</td></tr>\n",
       "\t<tr><th scope=row>clarity</th><td>-0.35</td><td> 0.19</td><td> 0.03</td><td> 1.00</td><td>-0.07</td><td>-0.16</td><td>-0.15</td><td>-0.37</td><td>-0.36</td><td>-0.37</td></tr>\n",
       "\t<tr><th scope=row>depth</th><td> 0.03</td><td>-0.22</td><td> 0.05</td><td>-0.07</td><td> 1.00</td><td>-0.30</td><td>-0.01</td><td>-0.03</td><td>-0.03</td><td> 0.10</td></tr>\n",
       "\t<tr><th scope=row>table</th><td> 0.18</td><td>-0.43</td><td> 0.03</td><td>-0.16</td><td>-0.30</td><td> 1.00</td><td> 0.13</td><td> 0.20</td><td> 0.18</td><td> 0.15</td></tr>\n",
       "\t<tr><th scope=row>price</th><td> 0.92</td><td>-0.05</td><td> 0.17</td><td>-0.15</td><td>-0.01</td><td> 0.13</td><td> 1.00</td><td> 0.89</td><td> 0.87</td><td> 0.87</td></tr>\n",
       "\t<tr><th scope=row>x</th><td> 0.98</td><td>-0.13</td><td> 0.27</td><td>-0.37</td><td>-0.03</td><td> 0.20</td><td> 0.89</td><td> 1.00</td><td> 0.97</td><td> 0.98</td></tr>\n",
       "\t<tr><th scope=row>y</th><td> 0.95</td><td>-0.12</td><td> 0.26</td><td>-0.36</td><td>-0.03</td><td> 0.18</td><td> 0.87</td><td> 0.97</td><td> 1.00</td><td> 0.96</td></tr>\n",
       "\t<tr><th scope=row>z</th><td> 0.96</td><td>-0.15</td><td> 0.27</td><td>-0.37</td><td> 0.10</td><td> 0.15</td><td> 0.87</td><td> 0.98</td><td> 0.96</td><td> 1.00</td></tr>\n",
       "</tbody>\n",
       "</table>\n"
      ],
      "text/latex": [
       "\\begin{tabular}{r|llllllllll}\n",
       "  & carat & cut & color & clarity & depth & table & price & x & y & z\\\\\n",
       "\\hline\n",
       "\tcarat &  1.00 & -0.13 &  0.29 & -0.35 &  0.03 &  0.18 &  0.92 &  0.98 &  0.95 &  0.96\\\\\n",
       "\tcut & -0.13 &  1.00 & -0.02 &  0.19 & -0.22 & -0.43 & -0.05 & -0.13 & -0.12 & -0.15\\\\\n",
       "\tcolor &  0.29 & -0.02 &  1.00 &  0.03 &  0.05 &  0.03 &  0.17 &  0.27 &  0.26 &  0.27\\\\\n",
       "\tclarity & -0.35 &  0.19 &  0.03 &  1.00 & -0.07 & -0.16 & -0.15 & -0.37 & -0.36 & -0.37\\\\\n",
       "\tdepth &  0.03 & -0.22 &  0.05 & -0.07 &  1.00 & -0.30 & -0.01 & -0.03 & -0.03 &  0.10\\\\\n",
       "\ttable &  0.18 & -0.43 &  0.03 & -0.16 & -0.30 &  1.00 &  0.13 &  0.20 &  0.18 &  0.15\\\\\n",
       "\tprice &  0.92 & -0.05 &  0.17 & -0.15 & -0.01 &  0.13 &  1.00 &  0.89 &  0.87 &  0.87\\\\\n",
       "\tx &  0.98 & -0.13 &  0.27 & -0.37 & -0.03 &  0.20 &  0.89 &  1.00 &  0.97 &  0.98\\\\\n",
       "\ty &  0.95 & -0.12 &  0.26 & -0.36 & -0.03 &  0.18 &  0.87 &  0.97 &  1.00 &  0.96\\\\\n",
       "\tz &  0.96 & -0.15 &  0.27 & -0.37 &  0.10 &  0.15 &  0.87 &  0.98 &  0.96 &  1.00\\\\\n",
       "\\end{tabular}\n"
      ],
      "text/markdown": [
       "\n",
       "| <!--/--> | carat | cut | color | clarity | depth | table | price | x | y | z | \n",
       "|---|---|---|---|---|---|---|---|---|---|\n",
       "| carat |  1.00 | -0.13 |  0.29 | -0.35 |  0.03 |  0.18 |  0.92 |  0.98 |  0.95 |  0.96 | \n",
       "| cut | -0.13 |  1.00 | -0.02 |  0.19 | -0.22 | -0.43 | -0.05 | -0.13 | -0.12 | -0.15 | \n",
       "| color |  0.29 | -0.02 |  1.00 |  0.03 |  0.05 |  0.03 |  0.17 |  0.27 |  0.26 |  0.27 | \n",
       "| clarity | -0.35 |  0.19 |  0.03 |  1.00 | -0.07 | -0.16 | -0.15 | -0.37 | -0.36 | -0.37 | \n",
       "| depth |  0.03 | -0.22 |  0.05 | -0.07 |  1.00 | -0.30 | -0.01 | -0.03 | -0.03 |  0.10 | \n",
       "| table |  0.18 | -0.43 |  0.03 | -0.16 | -0.30 |  1.00 |  0.13 |  0.20 |  0.18 |  0.15 | \n",
       "| price |  0.92 | -0.05 |  0.17 | -0.15 | -0.01 |  0.13 |  1.00 |  0.89 |  0.87 |  0.87 | \n",
       "| x |  0.98 | -0.13 |  0.27 | -0.37 | -0.03 |  0.20 |  0.89 |  1.00 |  0.97 |  0.98 | \n",
       "| y |  0.95 | -0.12 |  0.26 | -0.36 | -0.03 |  0.18 |  0.87 |  0.97 |  1.00 |  0.96 | \n",
       "| z |  0.96 | -0.15 |  0.27 | -0.37 |  0.10 |  0.15 |  0.87 |  0.98 |  0.96 |  1.00 | \n",
       "\n",
       "\n"
      ],
      "text/plain": [
       "        carat cut   color clarity depth table price x     y     z    \n",
       "carat    1.00 -0.13  0.29 -0.35    0.03  0.18  0.92  0.98  0.95  0.96\n",
       "cut     -0.13  1.00 -0.02  0.19   -0.22 -0.43 -0.05 -0.13 -0.12 -0.15\n",
       "color    0.29 -0.02  1.00  0.03    0.05  0.03  0.17  0.27  0.26  0.27\n",
       "clarity -0.35  0.19  0.03  1.00   -0.07 -0.16 -0.15 -0.37 -0.36 -0.37\n",
       "depth    0.03 -0.22  0.05 -0.07    1.00 -0.30 -0.01 -0.03 -0.03  0.10\n",
       "table    0.18 -0.43  0.03 -0.16   -0.30  1.00  0.13  0.20  0.18  0.15\n",
       "price    0.92 -0.05  0.17 -0.15   -0.01  0.13  1.00  0.89  0.87  0.87\n",
       "x        0.98 -0.13  0.27 -0.37   -0.03  0.20  0.89  1.00  0.97  0.98\n",
       "y        0.95 -0.12  0.26 -0.36   -0.03  0.18  0.87  0.97  1.00  0.96\n",
       "z        0.96 -0.15  0.27 -0.37    0.10  0.15  0.87  0.98  0.96  1.00"
      ]
     },
     "metadata": {},
     "output_type": "display_data"
    }
   ],
   "source": [
    "diamonds.correlation.matrix = cor( numeric.diamonds )\n",
    "\n",
    "round( diamonds.correlation.matrix, 2 )"
   ]
  },
  {
   "cell_type": "code",
   "execution_count": 135,
   "metadata": {
    "collapsed": true
   },
   "outputs": [],
   "source": [
    "# Quick PCA of a sample of the data, to see if everything looks OK\n",
    "\n",
    "n = nrow(numeric.diamonds)\n",
    "sample.size = 2000\n",
    "\n",
    "sample.row.ids = sample( (1:n), sample.size )\n",
    "\n",
    "numeric.diamonds.sample = numeric.diamonds[sample.row.ids, ]\n",
    "\n",
    "diamonds.sample = diamonds[sample.row.ids, ]"
   ]
  },
  {
   "cell_type": "code",
   "execution_count": 136,
   "metadata": {
    "collapsed": false
   },
   "outputs": [
    {
     "data": {
      "image/png": "[encoded data removed]",
      "text/plain": [
       "plot without title"
      ]
     },
     "metadata": {},
     "output_type": "display_data"
    }
   ],
   "source": [
    "numeric.diamonds.pca = prcomp(numeric.diamonds.sample, scale.=TRUE)\n",
    "## biplot( numeric.diamonds.pca, xlabs=rep(\".\",sample.size) )\n",
    "\n",
    "# ggbiplot( numeric.diamonds.pca, var.scale = 1,\n",
    " #         groups = diamonds$cut[sample.row.ids], ellipse = TRUE ) +\n",
    " #         labs(title = \"Diamonds dataset:  principal components biplot, colored by cut\")\n",
    "biplot(numeric.diamonds.pca, cex=0.1)\n",
    "\n",
    "# More visualization examples are in the notebook  Diamonds.ipynb"
   ]
  },
  {
   "cell_type": "code",
   "execution_count": 137,
   "metadata": {
    "collapsed": false
   },
   "outputs": [
    {
     "name": "stderr",
     "output_type": "stream",
     "text": [
      "`geom_smooth()` using method = 'gam'\n"
     ]
    },
    {
     "data": {},
     "metadata": {},
     "output_type": "display_data"
    },
    {
     "data": {
      "image/png": "[encoded data removed]",
      "text/plain": [
       "plot without title"
      ]
     },
     "metadata": {},
     "output_type": "display_data"
    }
   ],
   "source": [
    "ggplot(data=diamonds, aes(x=log10(carat), y=log10(price), color=color)) + geom_smooth() +\n",
    "     ggtitle( \"log10(price) as a function of log10(carat), colored by diamond color\")"
   ]
  },
  {
   "cell_type": "code",
   "execution_count": 138,
   "metadata": {
    "collapsed": false
   },
   "outputs": [
    {
     "name": "stderr",
     "output_type": "stream",
     "text": [
      "`geom_smooth()` using method = 'gam'\n"
     ]
    },
    {
     "data": {},
     "metadata": {},
     "output_type": "display_data"
    },
    {
     "data": {
      "image/png": "[encoded data removed]",
      "text/plain": [
       "plot without title"
      ]
     },
     "metadata": {},
     "output_type": "display_data"
    }
   ],
   "source": [
    "ggplot(data=diamonds, aes(x=log10(carat), y=log10(price), color=clarity)) +\n",
    "     geom_smooth() +\n",
    "     ggtitle( \"different grades of clarity can impact accuracy of the model\")"
   ]
  },
  {
   "cell_type": "code",
   "execution_count": 139,
   "metadata": {
    "collapsed": false
   },
   "outputs": [],
   "source": [
    "### another interesting plot, suggesting impacts on linearity by cut\n",
    "# ggplot(data=diamonds, aes(x=log10(carat), y=log10(price), color=cut)) + geom_smooth() +\n",
    "#     ggtitle( \"log10(price) as a function of log10(carat), colored by cut\")"
   ]
  },
  {
   "cell_type": "markdown",
   "metadata": {},
   "source": [
    "<hr style=\"border-width:50px;\">"
   ]
  },
  {
   "cell_type": "markdown",
   "metadata": {},
   "source": [
    "# Step 1:  generate your Training Set and Test Set from numeric.diamonds"
   ]
  },
  {
   "cell_type": "code",
   "execution_count": 140,
   "metadata": {
    "collapsed": true
   },
   "outputs": [],
   "source": [
    "#  Please use exactly the following statements to generate these things:\n",
    "\n",
    "\n",
    "set.seed( 123456789 ) ########## please enter your UCLA UID here !!!\n",
    "\n",
    "\n",
    "n = nrow(numeric.diamonds)\n",
    "\n",
    "training.sample.size = 0.75 * n  ###### Use 75% of the data for the training set\n",
    "\n",
    "training.row.ids = sample( (1:n), training.sample.size )\n",
    "       \n",
    "my.training.set = numeric.diamonds[  training.row.ids, ]\n",
    "my.test.set     = numeric.diamonds[ -training.row.ids, ]   # set complement of training.set.ids\n"
   ]
  },
  {
   "cell_type": "markdown",
   "metadata": {},
   "source": [
    "# Step 2:  compute Accuracy of the 4 Baseline Models on your Test Set"
   ]
  },
  {
   "cell_type": "markdown",
   "metadata": {},
   "source": [
    "As mentioned above, there are 4 Baseline Models:\n",
    "<code>\n",
    "      qda( cut ~ .,           data=my.training.set )\n",
    "      lm(  price ~ .,         data=my.training.set )\n",
    "      lm(  log10(price) ~ .,  data=my.training.set )\n",
    "      glm( I(price>1500) ~ ., data=my.training.set, family=binomial )\n",
    "</code>\n",
    "\n",
    "Develop procedures to compute their accuracy:\n",
    "one for classification models\n",
    "(like lda() and qda() in the MASS package),\n",
    "one for linear regression models (like lm()),\n",
    "and one for logistic regression models (like glm(family=binomial)).\n",
    "\n",
    "See the section <b>Measuring Accuracy of Models in this Assignment</b> below.\n",
    "\n",
    "\n",
    "Then: use your procedures to compute the accuracy of the Baseline Models on your Test Set."
   ]
  },
  {
   "cell_type": "markdown",
   "metadata": {},
   "source": [
    "# Step 2:  build 4 Models improving on the Baseline Models"
   ]
  },
  {
   "cell_type": "markdown",
   "metadata": {},
   "source": [
    "## Problem 1:  a LDA or QDA classification model that predicts a diamond's Cut.\n",
    "\n",
    "An example of a possible model is:\n",
    "<code>\n",
    "sample_m1  =  qda( cut ~ price + table + color + clarity,       data=my.training.set )\n",
    "</code>\n",
    "\n",
    "If this model outperforms the first Baseline Model, you are done."
   ]
  },
  {
   "cell_type": "markdown",
   "metadata": {},
   "source": [
    "## Problem 2:  a linear regression model that predicts Price.\n",
    "\n",
    "An example of a possible model is:\n",
    "<code>\n",
    "sample_m2  =  lm(  price ~ carat + x + y + z + clarity,         data=my.training.set )\n",
    "</code>"
   ]
  },
  {
   "cell_type": "markdown",
   "metadata": {},
   "source": [
    "## Problem 3: a linear regression model that predicts log10(Price).\n",
    "\n",
    "An example of a possible model is:\n",
    "<code>\n",
    "sample_m3  =  lm(  log10(price) ~ table + log10(carat) + color, data=my.training.set )\n",
    "</code>"
   ]
  },
  {
   "cell_type": "markdown",
   "metadata": {},
   "source": [
    "## Problem 4:  a logistic regression model that predicts whether Price is above &dollar;1500.\n",
    "\n",
    "An example of a possible model is:\n",
    "<code>\n",
    "sample_m4  =  glm( I(price>1500) ~ carat + table + clarity,   data=my.training.set, family = binomial )\n",
    "</code>\n",
    "\n",
    "Notice that the values of <code>I(price>1500)</code> are always 0 or 1.\n",
    "This model's predictions will be <b>0</b> if the price is below &dollar;1500,\n",
    "and <b>1</b> if the price is above &dollar;1500, so the resulting values are \"binomial\".\n",
    "\n",
    "The dataset includes information on about 50 thousand diamonds.\n",
    "About 20 thousand have a price below &dollar;1500; and the others have a price above.\n",
    "\n",
    "Thus a model that always simply predicts prices above &dollar;1500 might be right about 60% of the time.\n",
    "Your job is to do better than this baseline rate.\n"
   ]
  },
  {
   "cell_type": "markdown",
   "metadata": {},
   "source": [
    "# Step 3: generate a CSV file \"HW4_output.csv\" including your model results\n",
    "\n",
    "If these were your four models, then to complete the assignment you would create\n",
    "a CSV file <tt>HW4_output.csv</tt> containing eight lines:\n",
    "<code>\n",
    "      33.333, qda( cut ~ .,           data=my.training.set )\n",
    "      88.888, lm(  price ~ .,         data=my.training.set )\n",
    "      77.777, lm(  log10(price) ~ .,  data=my.training.set )\n",
    "      88.888, glm( I(price>1500) ~ ., data=my.training.set, family=binomial )\n",
    "      44.444, qda( cut ~ price + table + color + clarity, data=my.training.set )\n",
    "      99.999, lm( price ~ carat + x + y + z + clarity, data=my.training.set )\n",
    "      99.999, lm( log10(price) ~ table + log10(carat) + color, data=my.training.set )\n",
    "      99.999, glm( I(price>1500) ~ carat + table + clarity, data=my.training.set, family=binomial )\n",
    "</code>\n",
    "\n",
    "Each line gives <b>the accuracy of a model <u>on <tt>my.test.set</tt></u></b>,\n",
    "and also <b>the exact command you used to generate your model</b>.\n",
    "The first four lines are for the baseline models.\n",
    "The second four lines are your improvements.\n",
    "\n",
    "There is no length restriction on the lines; they can be as long as you want.\n",
    "These examples above are just examples,\n",
    "and they may not improve on the Baseline Models."
   ]
  },
  {
   "cell_type": "markdown",
   "metadata": {},
   "source": [
    "# Step 4: upload your CSV file and notebook to CCLE"
   ]
  },
  {
   "cell_type": "markdown",
   "metadata": {
    "collapsed": true
   },
   "source": [
    "Upload the files HW4_output.csv <u>and</u> your Jupyter notebook."
   ]
  },
  {
   "cell_type": "markdown",
   "metadata": {},
   "source": [
    "<hr style=\"border-width:50px;\">"
   ]
  },
  {
   "cell_type": "markdown",
   "metadata": {},
   "source": [
    "# Background Material\n",
    "\n",
    "## R Formulas, Models, and the General Linear Model:\n",
    "\n",
    "Chapter 11 of the <a href=\"https://cran.r-project.org/doc/manuals/R-intro.pdf\">R Introduction Manual</a>\n",
    "gives a good description of formulas, models, model updating (exploring alternative models), and the GLM.\n",
    "\n",
    "<hr style=\"border-width:20px;\">\n",
    "\n",
    "### R formulas:\n",
    "\n",
    "Sections 11.1 in Chapter 11 of the <a href=\"https://cran.r-project.org/doc/manuals/R-intro.pdf\">R Introduction Manual</a>\n",
    "hs a good description of formulas.  A few constructs are important for this assignment:\n",
    "<ul><li> <b>Including an Intercept</b>:\n",
    "<br/>\n",
    "<code>  y ~ x</code><br/>\n",
    "<code>  y ~ x + 1</code><br/>\n",
    "<code>  y ~ 1 + x</code><br/>\n",
    "An intercept is included by default,\n",
    "so all of these formulas correspond to the same simple linear regression model of <code>y</code> on <code>x</code>.\n",
    "<br/>\n",
    "</li><li> <b>Omitting the Intercept</b>:\n",
    "<br/>\n",
    "<code>  y ~  x - 1</code><br/>\n",
    "<code>  y ~  x + 0</code><br/>\n",
    "<code>  y ~  0 + x</code><br/>\n",
    "<code>  y ~ -1 + x</code><br/>\n",
    "These formulas are all equivalent,\n",
    "and correspond to the linear regression of <code>y</code> on <code>x</code> without an intercept.\n",
    "<br/>\n",
    "</li><li> <b>Log-transformed Variables</b>:\n",
    "<br/>\n",
    "<code>  log(y) ~ x</code><br/>\n",
    "Regression on <code>x</code> of the transformed variable <code>log(y)</code> (with an implicit intercept term).\n",
    "<br/>\n",
    "</li><li> <b>Integer Powers of a Variable</b>:\n",
    "<br/>\n",
    "<code>  y ~ x^2</code><br/>\n",
    "<code>  y ~ 1 + x + I(x^2)</code><br/>\n",
    "<code>  y ~ poly(x,2)</code><br/>\n",
    "regression of y on a quadratic polynomial of x.\n",
    "<u>The first two formulas are equivalent --\n",
    "the power <code>x^2</code> implicitly includes the powers below it.</u>\n",
    "The third formula looks very similar, but is not completely equivalent:\n",
    "it uses \"orthogonal\" polynomials (with no interaction between each other),\n",
    "while the first two formulas use explicit powers, and interactions between them are considered.\n",
    "<br/>\n",
    "Note that the expression  <code>I(x^2)</code> represents an \"insulated\" new variable\n",
    "whose values are squares of values of <code>x</code>.\n",
    "<!--\n",
    "<br/>\n",
    "</li><li> <b>Integer Powers of a Variable</b>:\n",
    "y ~ A*B\n",
    "y ~ A + B + A:B\n",
    "y ~ B %in% A\n",
    "y ~ A/B Two factor non-additive model of y on A and B. The first two specify the same\n",
    "crossed classification and the second two specify the same nested classification. In\n",
    "abstract terms all four specify the same model subspace.\n",
    "<br/>\n",
    "</li><li> <b>Integer Powers of a Variable</b>:\n",
    "y ~ (A + B + C)^2\n",
    "y ~ A*B*C - A:B:C\n",
    "Three factor experiment but with a model containing main effects and two factor\n",
    "interactions only. Both formulae specify the same model.\n",
    "<br/>\n",
    "</li><li> <b>Integer Powers of a Variable</b>:\n",
    "y ~ A * x\n",
    "y ~ A/x\n",
    "y ~ A/(1 + x) - 1\n",
    "Separate simple linear regression models of y on x within the levels of A, with\n",
    "different codings. The last form produces explicit estimates of as many different\n",
    "intercepts and slopes as there are levels in A.\n",
    "-->\n",
    "</li></ul>\n",
    "\n",
    "<hr style=\"border-width:20px;\">\n",
    "\n",
    "### Functions on R models:\n",
    "\n",
    "Sections 11.3 in Chapter 11 of the <a href=\"https://cran.r-project.org/doc/manuals/R-intro.pdf\">R Introduction Manual</a>\n",
    "also gives a good description of functions on models that one can use:\n",
    "<ul><li>\n",
    "<b>coef</b>(model) <br/>\n",
    "Extract the regression coefficient (matrix).\n",
    "Long form: coefficients(object).\n",
    "<br/>\n",
    "<br/>\n",
    "</li><li>\n",
    "<b>formula</b>(model) <br/>\n",
    "Extract the model formula.\n",
    "<br/>\n",
    "<br/>\n",
    "</li><li>\n",
    "<b>plot</b>(model) <br/>\n",
    "Produce four plots, showing residuals, fitted values and some diagnostics.\n",
    "<br/>\n",
    "<br/>\n",
    "</li><li>\n",
    "<b>predict</b>(model, newdata=data.frame) <br/>\n",
    "The data frame supplied must have variables specified with the same labels as the\n",
    "original. The value is a vector or matrix of predicted values corresponding to the\n",
    "determining variable values in data.frame.\n",
    "<br/>\n",
    "<br/>\n",
    "</li><li>\n",
    "<b>residuals</b>(model) <br/>\n",
    "Extract the (matrix of) residuals, weighted as appropriate.\n",
    "<br/>\n",
    "<br/>\n",
    "</li><li>\n",
    "<b>step</b>(model) <br/>\n",
    "Select a suitable model by adding or dropping terms and preserving hierarchies. The\n",
    "model with the smallest value of AIC (Akaike’s An Information Criterion) discovered\n",
    "in the stepwise search is returned.\n",
    "<br/>\n",
    "<br/>\n",
    "</li><li>\n",
    "<b>summary</b>(model) <br/>\n",
    "Print a comprehensive summary of the results of the regression analysis.\n",
    "<br/>\n",
    "<br/>\n",
    "</li><li>\n",
    "<b>vcov</b>(model) <br/>\n",
    "Returns the variance-covariance matrix of the main parameters of a fitted model\n",
    "object.\n",
    "</li></ul>\n",
    "\n",
    "<hr style=\"border-width:20px;\">\n",
    "\n",
    "### The General Linear Model:\n",
    "\n",
    "Sections 11.6 in Chapter 11 of the <a href=\"https://cran.r-project.org/doc/manuals/R-intro.pdf\">R Introduction Manual</a>\n",
    "includes a tutorial on the GLM, and options for the glm() function.\n",
    "\n",
    "Relevant for this assignment:\n",
    "<ul><li>\n",
    "<code>glm(x ~ y, family = gaussian )</code>\n",
    "    is equivalent to the usual linear regression model\n",
    "<code>lm( x ~ y )</code>    \n",
    "</li><li>\n",
    "<code>glm(x ~ y, family = gaussian(\"log\") )</code>\n",
    "    is equivalent to the log-linear model\n",
    "<code>lm( log(x) ~ y )</code>   \n",
    "</li><li>\n",
    "<code>glm(x ~ y, family = binomial )</code>\n",
    "    is the logistic regression model\n",
    "</li></ul>"
   ]
  },
  {
   "cell_type": "markdown",
   "metadata": {},
   "source": [
    "<hr style=\"border-width:50px;\">"
   ]
  },
  {
   "cell_type": "markdown",
   "metadata": {},
   "source": [
    "# Example:  Building a Model (simple supervised learning)"
   ]
  },
  {
   "cell_type": "markdown",
   "metadata": {},
   "source": [
    "### This example, discussed in class, uses the MASS package for supervised learning of LDA models."
   ]
  },
  {
   "cell_type": "markdown",
   "metadata": {},
   "source": [
    "### Construct a training set and test set (from the Iris dataset)"
   ]
  },
  {
   "cell_type": "code",
   "execution_count": 141,
   "metadata": {
    "collapsed": false
   },
   "outputs": [
    {
     "data": {
      "text/html": [
       "<ol class=list-inline>\n",
       "\t<li>130</li>\n",
       "\t<li>91</li>\n",
       "\t<li>112</li>\n",
       "\t<li>1</li>\n",
       "\t<li>9</li>\n",
       "\t<li>38</li>\n",
       "\t<li>39</li>\n",
       "\t<li>105</li>\n",
       "\t<li>75</li>\n",
       "\t<li>114</li>\n",
       "\t<li>16</li>\n",
       "\t<li>40</li>\n",
       "\t<li>13</li>\n",
       "\t<li>116</li>\n",
       "\t<li>52</li>\n",
       "\t<li>42</li>\n",
       "\t<li>56</li>\n",
       "\t<li>81</li>\n",
       "\t<li>73</li>\n",
       "\t<li>72</li>\n",
       "\t<li>142</li>\n",
       "\t<li>138</li>\n",
       "\t<li>22</li>\n",
       "\t<li>5</li>\n",
       "\t<li>104</li>\n",
       "\t<li>131</li>\n",
       "\t<li>125</li>\n",
       "\t<li>46</li>\n",
       "\t<li>109</li>\n",
       "\t<li>86</li>\n",
       "\t<li>137</li>\n",
       "\t<li>124</li>\n",
       "\t<li>48</li>\n",
       "\t<li>67</li>\n",
       "\t<li>59</li>\n",
       "\t<li>144</li>\n",
       "\t<li>126</li>\n",
       "\t<li>128</li>\n",
       "\t<li>94</li>\n",
       "\t<li>62</li>\n",
       "\t<li>28</li>\n",
       "\t<li>2</li>\n",
       "\t<li>113</li>\n",
       "\t<li>93</li>\n",
       "\t<li>135</li>\n",
       "\t<li>53</li>\n",
       "\t<li>32</li>\n",
       "\t<li>139</li>\n",
       "\t<li>92</li>\n",
       "\t<li>24</li>\n",
       "\t<li>20</li>\n",
       "\t<li>21</li>\n",
       "\t<li>74</li>\n",
       "\t<li>133</li>\n",
       "\t<li>96</li>\n",
       "\t<li>87</li>\n",
       "\t<li>85</li>\n",
       "\t<li>78</li>\n",
       "\t<li>45</li>\n",
       "\t<li>69</li>\n",
       "\t<li>18</li>\n",
       "\t<li>41</li>\n",
       "\t<li>119</li>\n",
       "\t<li>148</li>\n",
       "\t<li>60</li>\n",
       "\t<li>12</li>\n",
       "\t<li>49</li>\n",
       "\t<li>4</li>\n",
       "\t<li>117</li>\n",
       "\t<li>141</li>\n",
       "\t<li>66</li>\n",
       "\t<li>132</li>\n",
       "\t<li>120</li>\n",
       "\t<li>71</li>\n",
       "\t<li>25</li>\n",
       "\t<li>89</li>\n",
       "\t<li>107</li>\n",
       "\t<li>140</li>\n",
       "\t<li>115</li>\n",
       "\t<li>50</li>\n",
       "\t<li>110</li>\n",
       "\t<li>68</li>\n",
       "\t<li>29</li>\n",
       "\t<li>14</li>\n",
       "\t<li>83</li>\n",
       "\t<li>98</li>\n",
       "\t<li>127</li>\n",
       "\t<li>82</li>\n",
       "\t<li>111</li>\n",
       "\t<li>103</li>\n",
       "\t<li>7</li>\n",
       "\t<li>33</li>\n",
       "\t<li>58</li>\n",
       "\t<li>102</li>\n",
       "\t<li>90</li>\n",
       "\t<li>27</li>\n",
       "\t<li>34</li>\n",
       "\t<li>17</li>\n",
       "\t<li>65</li>\n",
       "\t<li>97</li>\n",
       "\t<li>11</li>\n",
       "\t<li>99</li>\n",
       "\t<li>10</li>\n",
       "\t<li>31</li>\n",
       "\t<li>3</li>\n",
       "\t<li>145</li>\n",
       "\t<li>122</li>\n",
       "\t<li>57</li>\n",
       "\t<li>101</li>\n",
       "\t<li>70</li>\n",
       "\t<li>134</li>\n",
       "\t<li>8</li>\n",
       "</ol>\n"
      ],
      "text/latex": [
       "\\begin{enumerate*}\n",
       "\\item 130\n",
       "\\item 91\n",
       "\\item 112\n",
       "\\item 1\n",
       "\\item 9\n",
       "\\item 38\n",
       "\\item 39\n",
       "\\item 105\n",
       "\\item 75\n",
       "\\item 114\n",
       "\\item 16\n",
       "\\item 40\n",
       "\\item 13\n",
       "\\item 116\n",
       "\\item 52\n",
       "\\item 42\n",
       "\\item 56\n",
       "\\item 81\n",
       "\\item 73\n",
       "\\item 72\n",
       "\\item 142\n",
       "\\item 138\n",
       "\\item 22\n",
       "\\item 5\n",
       "\\item 104\n",
       "\\item 131\n",
       "\\item 125\n",
       "\\item 46\n",
       "\\item 109\n",
       "\\item 86\n",
       "\\item 137\n",
       "\\item 124\n",
       "\\item 48\n",
       "\\item 67\n",
       "\\item 59\n",
       "\\item 144\n",
       "\\item 126\n",
       "\\item 128\n",
       "\\item 94\n",
       "\\item 62\n",
       "\\item 28\n",
       "\\item 2\n",
       "\\item 113\n",
       "\\item 93\n",
       "\\item 135\n",
       "\\item 53\n",
       "\\item 32\n",
       "\\item 139\n",
       "\\item 92\n",
       "\\item 24\n",
       "\\item 20\n",
       "\\item 21\n",
       "\\item 74\n",
       "\\item 133\n",
       "\\item 96\n",
       "\\item 87\n",
       "\\item 85\n",
       "\\item 78\n",
       "\\item 45\n",
       "\\item 69\n",
       "\\item 18\n",
       "\\item 41\n",
       "\\item 119\n",
       "\\item 148\n",
       "\\item 60\n",
       "\\item 12\n",
       "\\item 49\n",
       "\\item 4\n",
       "\\item 117\n",
       "\\item 141\n",
       "\\item 66\n",
       "\\item 132\n",
       "\\item 120\n",
       "\\item 71\n",
       "\\item 25\n",
       "\\item 89\n",
       "\\item 107\n",
       "\\item 140\n",
       "\\item 115\n",
       "\\item 50\n",
       "\\item 110\n",
       "\\item 68\n",
       "\\item 29\n",
       "\\item 14\n",
       "\\item 83\n",
       "\\item 98\n",
       "\\item 127\n",
       "\\item 82\n",
       "\\item 111\n",
       "\\item 103\n",
       "\\item 7\n",
       "\\item 33\n",
       "\\item 58\n",
       "\\item 102\n",
       "\\item 90\n",
       "\\item 27\n",
       "\\item 34\n",
       "\\item 17\n",
       "\\item 65\n",
       "\\item 97\n",
       "\\item 11\n",
       "\\item 99\n",
       "\\item 10\n",
       "\\item 31\n",
       "\\item 3\n",
       "\\item 145\n",
       "\\item 122\n",
       "\\item 57\n",
       "\\item 101\n",
       "\\item 70\n",
       "\\item 134\n",
       "\\item 8\n",
       "\\end{enumerate*}\n"
      ],
      "text/markdown": [
       "1. 130\n",
       "2. 91\n",
       "3. 112\n",
       "4. 1\n",
       "5. 9\n",
       "6. 38\n",
       "7. 39\n",
       "8. 105\n",
       "9. 75\n",
       "10. 114\n",
       "11. 16\n",
       "12. 40\n",
       "13. 13\n",
       "14. 116\n",
       "15. 52\n",
       "16. 42\n",
       "17. 56\n",
       "18. 81\n",
       "19. 73\n",
       "20. 72\n",
       "21. 142\n",
       "22. 138\n",
       "23. 22\n",
       "24. 5\n",
       "25. 104\n",
       "26. 131\n",
       "27. 125\n",
       "28. 46\n",
       "29. 109\n",
       "30. 86\n",
       "31. 137\n",
       "32. 124\n",
       "33. 48\n",
       "34. 67\n",
       "35. 59\n",
       "36. 144\n",
       "37. 126\n",
       "38. 128\n",
       "39. 94\n",
       "40. 62\n",
       "41. 28\n",
       "42. 2\n",
       "43. 113\n",
       "44. 93\n",
       "45. 135\n",
       "46. 53\n",
       "47. 32\n",
       "48. 139\n",
       "49. 92\n",
       "50. 24\n",
       "51. 20\n",
       "52. 21\n",
       "53. 74\n",
       "54. 133\n",
       "55. 96\n",
       "56. 87\n",
       "57. 85\n",
       "58. 78\n",
       "59. 45\n",
       "60. 69\n",
       "61. 18\n",
       "62. 41\n",
       "63. 119\n",
       "64. 148\n",
       "65. 60\n",
       "66. 12\n",
       "67. 49\n",
       "68. 4\n",
       "69. 117\n",
       "70. 141\n",
       "71. 66\n",
       "72. 132\n",
       "73. 120\n",
       "74. 71\n",
       "75. 25\n",
       "76. 89\n",
       "77. 107\n",
       "78. 140\n",
       "79. 115\n",
       "80. 50\n",
       "81. 110\n",
       "82. 68\n",
       "83. 29\n",
       "84. 14\n",
       "85. 83\n",
       "86. 98\n",
       "87. 127\n",
       "88. 82\n",
       "89. 111\n",
       "90. 103\n",
       "91. 7\n",
       "92. 33\n",
       "93. 58\n",
       "94. 102\n",
       "95. 90\n",
       "96. 27\n",
       "97. 34\n",
       "98. 17\n",
       "99. 65\n",
       "100. 97\n",
       "101. 11\n",
       "102. 99\n",
       "103. 10\n",
       "104. 31\n",
       "105. 3\n",
       "106. 145\n",
       "107. 122\n",
       "108. 57\n",
       "109. 101\n",
       "110. 70\n",
       "111. 134\n",
       "112. 8\n",
       "\n",
       "\n"
      ],
      "text/plain": [
       "  [1] 130  91 112   1   9  38  39 105  75 114  16  40  13 116  52  42  56  81\n",
       " [19]  73  72 142 138  22   5 104 131 125  46 109  86 137 124  48  67  59 144\n",
       " [37] 126 128  94  62  28   2 113  93 135  53  32 139  92  24  20  21  74 133\n",
       " [55]  96  87  85  78  45  69  18  41 119 148  60  12  49   4 117 141  66 132\n",
       " [73] 120  71  25  89 107 140 115  50 110  68  29  14  83  98 127  82 111 103\n",
       " [91]   7  33  58 102  90  27  34  17  65  97  11  99  10  31   3 145 122  57\n",
       "[109] 101  70 134   8"
      ]
     },
     "metadata": {},
     "output_type": "display_data"
    },
    {
     "data": {
      "text/html": [
       "<ol class=list-inline>\n",
       "\t<li>6</li>\n",
       "\t<li>15</li>\n",
       "\t<li>19</li>\n",
       "\t<li>23</li>\n",
       "\t<li>26</li>\n",
       "\t<li>30</li>\n",
       "\t<li>35</li>\n",
       "\t<li>36</li>\n",
       "\t<li>37</li>\n",
       "\t<li>43</li>\n",
       "\t<li>44</li>\n",
       "\t<li>47</li>\n",
       "\t<li>51</li>\n",
       "\t<li>54</li>\n",
       "\t<li>55</li>\n",
       "\t<li>61</li>\n",
       "\t<li>63</li>\n",
       "\t<li>64</li>\n",
       "\t<li>76</li>\n",
       "\t<li>77</li>\n",
       "\t<li>79</li>\n",
       "\t<li>80</li>\n",
       "\t<li>84</li>\n",
       "\t<li>88</li>\n",
       "\t<li>95</li>\n",
       "\t<li>100</li>\n",
       "\t<li>106</li>\n",
       "\t<li>108</li>\n",
       "\t<li>118</li>\n",
       "\t<li>121</li>\n",
       "\t<li>123</li>\n",
       "\t<li>129</li>\n",
       "\t<li>136</li>\n",
       "\t<li>143</li>\n",
       "\t<li>146</li>\n",
       "\t<li>147</li>\n",
       "\t<li>149</li>\n",
       "\t<li>150</li>\n",
       "</ol>\n"
      ],
      "text/latex": [
       "\\begin{enumerate*}\n",
       "\\item 6\n",
       "\\item 15\n",
       "\\item 19\n",
       "\\item 23\n",
       "\\item 26\n",
       "\\item 30\n",
       "\\item 35\n",
       "\\item 36\n",
       "\\item 37\n",
       "\\item 43\n",
       "\\item 44\n",
       "\\item 47\n",
       "\\item 51\n",
       "\\item 54\n",
       "\\item 55\n",
       "\\item 61\n",
       "\\item 63\n",
       "\\item 64\n",
       "\\item 76\n",
       "\\item 77\n",
       "\\item 79\n",
       "\\item 80\n",
       "\\item 84\n",
       "\\item 88\n",
       "\\item 95\n",
       "\\item 100\n",
       "\\item 106\n",
       "\\item 108\n",
       "\\item 118\n",
       "\\item 121\n",
       "\\item 123\n",
       "\\item 129\n",
       "\\item 136\n",
       "\\item 143\n",
       "\\item 146\n",
       "\\item 147\n",
       "\\item 149\n",
       "\\item 150\n",
       "\\end{enumerate*}\n"
      ],
      "text/markdown": [
       "1. 6\n",
       "2. 15\n",
       "3. 19\n",
       "4. 23\n",
       "5. 26\n",
       "6. 30\n",
       "7. 35\n",
       "8. 36\n",
       "9. 37\n",
       "10. 43\n",
       "11. 44\n",
       "12. 47\n",
       "13. 51\n",
       "14. 54\n",
       "15. 55\n",
       "16. 61\n",
       "17. 63\n",
       "18. 64\n",
       "19. 76\n",
       "20. 77\n",
       "21. 79\n",
       "22. 80\n",
       "23. 84\n",
       "24. 88\n",
       "25. 95\n",
       "26. 100\n",
       "27. 106\n",
       "28. 108\n",
       "29. 118\n",
       "30. 121\n",
       "31. 123\n",
       "32. 129\n",
       "33. 136\n",
       "34. 143\n",
       "35. 146\n",
       "36. 147\n",
       "37. 149\n",
       "38. 150\n",
       "\n",
       "\n"
      ],
      "text/plain": [
       " [1]   6  15  19  23  26  30  35  36  37  43  44  47  51  54  55  61  63  64  76\n",
       "[20]  77  79  80  84  88  95 100 106 108 118 121 123 129 136 143 146 147 149 150"
      ]
     },
     "metadata": {},
     "output_type": "display_data"
    }
   ],
   "source": [
    "data(iris)\n",
    "\n",
    "n = nrow(iris)\n",
    "\n",
    "training.sample.size = floor( 0.75 * n )  ###### Use 75% of the data for the training set\n",
    "\n",
    "iris.ids = (1:n)\n",
    "\n",
    "training.set = sample( iris.ids, training.sample.size ) # Generate a random sample\n",
    "test.set     = iris.ids[-training.set]       # The set complement of training.set\n",
    "\n",
    "training.set\n",
    "test.set\n",
    "# table(iris$Species)                  # Tabulate the number of each species\n",
    "# table(iris$Species[training.set])    # Tabulate species for the training set\n",
    "# table(iris$Species[test.set])        # Tabulate species for the test set"
   ]
  },
  {
   "cell_type": "markdown",
   "metadata": {},
   "source": [
    "### Constructing an LDA model"
   ]
  },
  {
   "cell_type": "code",
   "execution_count": 142,
   "metadata": {
    "collapsed": false
   },
   "outputs": [
    {
     "data": {
      "text/plain": [
       "Call:\n",
       "lda(Species ~ ., data = iris, subset = training.set)\n",
       "\n",
       "Prior probabilities of groups:\n",
       "    setosa versicolor  virginica \n",
       " 0.3392857  0.3214286  0.3392857 \n",
       "\n",
       "Group means:\n",
       "           Sepal.Length Sepal.Width Petal.Length Petal.Width\n",
       "setosa         4.978947    3.410526     1.468421   0.2421053\n",
       "versicolor     5.888889    2.813889     4.236111   1.3305556\n",
       "virginica      6.505263    2.963158     5.476316   2.0078947\n",
       "\n",
       "Coefficients of linear discriminants:\n",
       "                   LD1        LD2\n",
       "Sepal.Length  0.870845  0.2391903\n",
       "Sepal.Width   1.452269  1.8951132\n",
       "Petal.Length -2.477253 -1.1918484\n",
       "Petal.Width  -2.276150  3.1216930\n",
       "\n",
       "Proportion of trace:\n",
       "   LD1    LD2 \n",
       "0.9936 0.0064 "
      ]
     },
     "metadata": {},
     "output_type": "display_data"
    }
   ],
   "source": [
    "if (!(is.element(\"MASS\", installed.packages())))  install.packages(\"MASS\")\n",
    "library(MASS)\n",
    "\n",
    "LDA.model = lda( Species ~ ., data = iris, subset = training.set )\n",
    "LDA.model"
   ]
  },
  {
   "cell_type": "code",
   "execution_count": 143,
   "metadata": {
    "collapsed": false
   },
   "outputs": [
    {
     "name": "stdout",
     "output_type": "stream",
     "text": [
      "List of 3\n",
      " $ class    : Factor w/ 3 levels \"setosa\",\"versicolor\",..: 3 2 3 1 1 1 1 3 2 3 ...\n",
      " $ posterior: num [1:112, 1:3] 2.66e-34 1.49e-23 1.07e-37 1.00 1.00 ...\n",
      "  ..- attr(*, \"dimnames\")=List of 2\n",
      "  .. ..$ : chr [1:112] \"130\" \"91\" \"112\" \"1\" ...\n",
      "  .. ..$ : chr [1:3] \"setosa\" \"versicolor\" \"virginica\"\n",
      " $ x        : num [1:112, 1:2] -4.96 -2.64 -5.53 8.03 6.55 ...\n",
      "  ..- attr(*, \"dimnames\")=List of 2\n",
      "  .. ..$ : chr [1:112] \"130\" \"91\" \"112\" \"1\" ...\n",
      "  .. ..$ : chr [1:2] \"LD1\" \"LD2\"\n"
     ]
    }
   ],
   "source": [
    "str( predict( LDA.model, subset = test.set, data = iris ))"
   ]
  },
  {
   "cell_type": "markdown",
   "metadata": {},
   "source": [
    "### Simple accuracy calculation (for a classification model)"
   ]
  },
  {
   "cell_type": "code",
   "execution_count": 144,
   "metadata": {
    "collapsed": false
   },
   "outputs": [
    {
     "name": "stdout",
     "output_type": "stream",
     "text": [
      " [1] setosa     setosa     setosa     setosa     setosa     setosa    \n",
      " [7] setosa     setosa     setosa     setosa     setosa     setosa    \n",
      "[13] versicolor versicolor versicolor versicolor versicolor versicolor\n",
      "[19] versicolor versicolor versicolor versicolor virginica  versicolor\n",
      "[25] versicolor versicolor virginica  virginica  virginica  virginica \n",
      "[31] virginica  virginica  virginica  virginica  virginica  virginica \n",
      "[37] virginica  virginica \n",
      "Levels: setosa versicolor virginica\n"
     ]
    },
    {
     "data": {
      "text/plain": [
       "            \n",
       "             setosa versicolor virginica\n",
       "  setosa         12          0         0\n",
       "  versicolor      0         13         1\n",
       "  virginica       0          0        12"
      ]
     },
     "metadata": {},
     "output_type": "display_data"
    },
    {
     "data": {
      "text/html": [
       "0.973684210526316"
      ],
      "text/latex": [
       "0.973684210526316"
      ],
      "text/markdown": [
       "0.973684210526316"
      ],
      "text/plain": [
       "[1] 0.9736842"
      ]
     },
     "metadata": {},
     "output_type": "display_data"
    }
   ],
   "source": [
    "predictions = predict( LDA.model, iris[test.set, 1:4] )\n",
    "print(predictions$class)\n",
    "incorrect.predictions  =  (predictions$class != iris$Species[test.set] )\n",
    "\n",
    "incorrect.ids = test.set[incorrect.predictions]\n",
    "\n",
    "# iris[ incorrect.ids , ]\n",
    "\n",
    "confusion.matrix = table( iris$Species[test.set], predictions$class )\n",
    "confusion.matrix\n",
    "\n",
    "accuracy = (length(test.set) - length(incorrect.ids)) / length(test.set)\n",
    "accuracy"
   ]
  },
  {
   "cell_type": "markdown",
   "metadata": {},
   "source": [
    "<hr style=\"border-width:50px;\">"
   ]
  },
  {
   "cell_type": "markdown",
   "metadata": {},
   "source": [
    "# Examples:  Measuring Accuracy of Models in this Assignment"
   ]
  },
  {
   "cell_type": "markdown",
   "metadata": {},
   "source": [
    "## Accuracy of an LDA or QDA model is the percentage of correct classifications"
   ]
  },
  {
   "cell_type": "markdown",
   "metadata": {},
   "source": [
    "## FILL THIS IN:"
   ]
  },
  {
   "cell_type": "code",
   "execution_count": 145,
   "metadata": {
    "collapsed": true
   },
   "outputs": [],
   "source": [
    "# classification_accuracy = function( model, test.data, test.solutions ) {\n",
    "    # .......................................................\n",
    "# }"
   ]
  },
  {
   "cell_type": "code",
   "execution_count": 146,
   "metadata": {
    "collapsed": false
   },
   "outputs": [],
   "source": [
    "# classification_accuracy( LDA.model, iris[test.set, 1:4], iris[test.set,5])\n",
    "\n",
    "# should be about  0.97"
   ]
  },
  {
   "cell_type": "markdown",
   "metadata": {},
   "source": [
    "## Accuracy of a Linear Regression model is its R<sup>2</sup> value"
   ]
  },
  {
   "cell_type": "markdown",
   "metadata": {},
   "source": [
    "## FILL THIS IN:"
   ]
  },
  {
   "cell_type": "code",
   "execution_count": 147,
   "metadata": {
    "collapsed": true
   },
   "outputs": [],
   "source": [
    "# linear_regression_accuracy = function( model, test.data, test.solutions ) {\n",
    "    # .......................................................\n",
    "# }"
   ]
  },
  {
   "cell_type": "code",
   "execution_count": 148,
   "metadata": {
    "collapsed": false
   },
   "outputs": [],
   "source": [
    "sample.LR.model = lm( Petal.Length ~ Petal.Width, data = iris, subset= training.set )\n",
    "# linear_regression_accuracy( sample.LR.model, iris[test.set,], iris$Petal.Length[test.set] )\n",
    "\n",
    "# should be about  0.93"
   ]
  },
  {
   "cell_type": "markdown",
   "metadata": {},
   "source": [
    "## Accuracy of a Logistic Regression model is the percentage of correct classifications"
   ]
  },
  {
   "cell_type": "markdown",
   "metadata": {},
   "source": [
    "## FILL THIS IN:"
   ]
  },
  {
   "cell_type": "code",
   "execution_count": 149,
   "metadata": {
    "collapsed": true
   },
   "outputs": [],
   "source": [
    "# logistic_regression_accuracy = function( model, test.data, test.solutions ) {\n",
    "    # .......................................................\n",
    "# }"
   ]
  },
  {
   "cell_type": "code",
   "execution_count": 150,
   "metadata": {
    "collapsed": false
   },
   "outputs": [
    {
     "data": {
      "text/html": [
       "<table>\n",
       "<thead><tr><th scope=col>Sepal.Length</th><th scope=col>Sepal.Width</th><th scope=col>Petal.Length</th><th scope=col>Petal.Width</th><th scope=col>Species</th></tr></thead>\n",
       "<tbody>\n",
       "\t<tr><td>5.1  </td><td>3.5  </td><td>1.4  </td><td>0.2  </td><td>FALSE</td></tr>\n",
       "\t<tr><td>4.9  </td><td>3.0  </td><td>1.4  </td><td>0.2  </td><td>FALSE</td></tr>\n",
       "\t<tr><td>4.7  </td><td>3.2  </td><td>1.3  </td><td>0.2  </td><td>FALSE</td></tr>\n",
       "\t<tr><td>4.6  </td><td>3.1  </td><td>1.5  </td><td>0.2  </td><td>FALSE</td></tr>\n",
       "\t<tr><td>5.0  </td><td>3.6  </td><td>1.4  </td><td>0.2  </td><td>FALSE</td></tr>\n",
       "\t<tr><td>5.4  </td><td>3.9  </td><td>1.7  </td><td>0.4  </td><td>FALSE</td></tr>\n",
       "</tbody>\n",
       "</table>\n"
      ],
      "text/latex": [
       "\\begin{tabular}{r|lllll}\n",
       " Sepal.Length & Sepal.Width & Petal.Length & Petal.Width & Species\\\\\n",
       "\\hline\n",
       "\t 5.1   & 3.5   & 1.4   & 0.2   & FALSE\\\\\n",
       "\t 4.9   & 3.0   & 1.4   & 0.2   & FALSE\\\\\n",
       "\t 4.7   & 3.2   & 1.3   & 0.2   & FALSE\\\\\n",
       "\t 4.6   & 3.1   & 1.5   & 0.2   & FALSE\\\\\n",
       "\t 5.0   & 3.6   & 1.4   & 0.2   & FALSE\\\\\n",
       "\t 5.4   & 3.9   & 1.7   & 0.4   & FALSE\\\\\n",
       "\\end{tabular}\n"
      ],
      "text/markdown": [
       "\n",
       "Sepal.Length | Sepal.Width | Petal.Length | Petal.Width | Species | \n",
       "|---|---|---|---|---|---|\n",
       "| 5.1   | 3.5   | 1.4   | 0.2   | FALSE | \n",
       "| 4.9   | 3.0   | 1.4   | 0.2   | FALSE | \n",
       "| 4.7   | 3.2   | 1.3   | 0.2   | FALSE | \n",
       "| 4.6   | 3.1   | 1.5   | 0.2   | FALSE | \n",
       "| 5.0   | 3.6   | 1.4   | 0.2   | FALSE | \n",
       "| 5.4   | 3.9   | 1.7   | 0.4   | FALSE | \n",
       "\n",
       "\n"
      ],
      "text/plain": [
       "  Sepal.Length Sepal.Width Petal.Length Petal.Width Species\n",
       "1 5.1          3.5         1.4          0.2         FALSE  \n",
       "2 4.9          3.0         1.4          0.2         FALSE  \n",
       "3 4.7          3.2         1.3          0.2         FALSE  \n",
       "4 4.6          3.1         1.5          0.2         FALSE  \n",
       "5 5.0          3.6         1.4          0.2         FALSE  \n",
       "6 5.4          3.9         1.7          0.4         FALSE  "
      ]
     },
     "metadata": {},
     "output_type": "display_data"
    }
   ],
   "source": [
    "LRiris = transform( iris, Species = I(Species == 'Virginica') )\n",
    "\n",
    "head(LRiris)  # For logistic regression, the Species is converted to {0, 1}"
   ]
  },
  {
   "cell_type": "code",
   "execution_count": 151,
   "metadata": {
    "collapsed": false
   },
   "outputs": [],
   "source": [
    "sample.LR.model = suppressWarnings( glm( Species ~ ., data = LRiris,\n",
    "                                        subset=training.set, family='binomial' ) )\n",
    "\n",
    "# logistic_regression_accuracy( sample.LR.model, LRiris[test.set,], LRiris$Species[test.set] )\n",
    "\n",
    "#  should be close to 1"
   ]
  },
  {
   "cell_type": "markdown",
   "metadata": {},
   "source": [
    "<hr style=\"border-width:50px;\">"
   ]
  },
  {
   "cell_type": "code",
   "execution_count": 153,
   "metadata": {
    "collapsed": false
   },
   "outputs": [],
   "source": [
    "str(summary(m2))"
   ]
  },
  {
   "cell_type": "code",
   "execution_count": null,
   "metadata": {
    "collapsed": false
   },
   "outputs": [],
   "source": [
    "summary(m2)$r.squared"
   ]
  },
  {
   "cell_type": "code",
   "execution_count": null,
   "metadata": {
    "collapsed": false
   },
   "outputs": [],
   "source": [
    "plot(m2, which=4)"
   ]
  },
  {
   "cell_type": "markdown",
   "metadata": {},
   "source": [
    "## Computing Accuracy of the Baseline Models"
   ]
  },
  {
   "cell_type": "code",
   "execution_count": null,
   "metadata": {
    "collapsed": true
   },
   "outputs": [],
   "source": [
    "baseline_m1 = qda( cut ~ .,             data=my.training.set )\n",
    "baseline_m1\n",
    "cat(sprintf(\"\\nClassification Accuracy: %8.6f\\n\",\n",
    "            classification_accuracy(baseline_m1, my.test.set, my.test.set$cut )))\n",
    "\n",
    "baseline_m2 = lm(  price ~ .,           data=my.training.set )\n",
    "summary(baseline_m2)\n",
    "cat(sprintf(\"\\nLinear Regression Accuracy: %8.6f\\n\",\n",
    "            linear_regression_accuracy(baseline_m2, my.test.set, my.test.set$price )))\n",
    "\n",
    "baseline_m3 = lm(  log10(price) ~ .,    data=my.training.set )\n",
    "summary(baseline_m3)\n",
    "cat(sprintf(\"\\nLinear Regression Accuracy: %8.6f\\n\",\n",
    "            linear_regression_accuracy(baseline_m3, my.test.set, log10(my.test.set$price) )))\n",
    "\n",
    "baseline_m4 = glm( I(price>1500) ~ ., data=my.training.set, family=binomial )\n",
    "summary(baseline_m4)\n",
    "cat(sprintf(\"\\nLogistic Regression Accuracy: %8.6f\\n\",\n",
    "            logistic_regression_accuracy(baseline_m4, my.test.set, I(my.test.set$price>1500) )))"
   ]
  },
  {
   "cell_type": "markdown",
   "metadata": {},
   "source": [
    "## Now: improve on the Baseline Models"
   ]
  },
  {
   "cell_type": "code",
   "execution_count": null,
   "metadata": {
    "collapsed": false
   },
   "outputs": [],
   "source": [
    "#  The Baseline models:\n",
    "\n",
    "m1 = qda( cut ~ .,           data=my.training.set )\n",
    "m2 = lm(  price ~ .,         data=my.training.set )\n",
    "m3 = lm(  log10(price) ~ .,  data=my.training.set )\n",
    "m4 = glm( I(price>1500) ~ ., data=my.training.set, family = binomial )"
   ]
  },
  {
   "cell_type": "markdown",
   "metadata": {},
   "source": [
    "<hr style=\"border-width:50px;\">"
   ]
  },
  {
   "cell_type": "markdown",
   "metadata": {},
   "source": [
    "# Examples: Converting between categorical and numeric variables\n",
    "\n",
    "R uses a jargon for categorical values that some find confusing:\n",
    "<ul><li>\n",
    "a categorical variable is called a <b>factor</b>\n",
    "</li><li>\n",
    "the set of all possible factor values is called its <b>levels</b>\n",
    "</li><li>\n",
    "the levels of a factor are not the same thing as strings --- they are symbolic values.\n",
    "</li></ul>\n",
    "\n",
    "This may seem odd at first, but it is very useful, and it is easy to get used to."
   ]
  },
  {
   "cell_type": "code",
   "execution_count": null,
   "metadata": {
    "collapsed": false
   },
   "outputs": [],
   "source": [
    "# Levels of a factor\n",
    "\n",
    "levels(iris$Species)"
   ]
  },
  {
   "cell_type": "code",
   "execution_count": null,
   "metadata": {
    "collapsed": false
   },
   "outputs": [],
   "source": [
    "#  Altering the names of levels (dangerous)\n",
    "\n",
    "levels(iris$Species) = c( 'Setosa', 'Versicolor', 'Virginica' )\n",
    "levels(iris$Species)"
   ]
  },
  {
   "cell_type": "code",
   "execution_count": null,
   "metadata": {
    "collapsed": false
   },
   "outputs": [],
   "source": [
    "# Converting numeric values to levels:\n",
    "\n",
    "cut.factor = as.factor( numeric.diamonds$cut )\n",
    "levels(cut.factor)"
   ]
  },
  {
   "cell_type": "code",
   "execution_count": null,
   "metadata": {
    "collapsed": false
   },
   "outputs": [],
   "source": [
    "# Converting numeric values to levels:\n",
    "\n",
    "cut.factor.numeric = unclass( cut.factor )\n",
    "# cut.factor.numeric = as.numeric( cut.factor )    ## more or less equivalent\n",
    "\n",
    "unique( cut.factor.numeric )  # find all unique values (in a list of values)\n"
   ]
  },
  {
   "cell_type": "markdown",
   "metadata": {},
   "source": [
    "<hr style=\"border-width:50px;\">"
   ]
  },
  {
   "cell_type": "markdown",
   "metadata": {},
   "source": [
    "# Examples: Transforming variables to make them more nearly Gaussian"
   ]
  },
  {
   "cell_type": "code",
   "execution_count": null,
   "metadata": {
    "collapsed": true
   },
   "outputs": [],
   "source": [
    "# ?transform\n",
    "\n",
    "transformed.diamonds  =  transform(\n",
    "                                   numeric.diamonds,\n",
    "                                   log10_carat = log10(carat)\n",
    "                                  )\n",
    "\n",
    "#  this example transform adds a log10_carat column "
   ]
  },
  {
   "cell_type": "code",
   "execution_count": null,
   "metadata": {
    "collapsed": false
   },
   "outputs": [],
   "source": [
    "opar = par(mfrow=c(2,1))\n",
    "\n",
    "data = numeric.diamonds$price\n",
    "\n",
    "hist( data, probability=TRUE, col=\"deepskyblue\", breaks=50)\n",
    "curve( dnorm(x,mean(data),sd(data)), col=\"red\", lwd=3, add=TRUE)\n",
    "abline( v=1500, col=\"green\", lwd=3 )\n",
    "mtext( \"green line:  price = 1500\" )\n",
    "           \n",
    "hist( log10(data), probability=TRUE, col=\"deepskyblue\", breaks=50)\n",
    "curve( dnorm(x,mean(log10(data)),sd(log10(data))), col=\"red\", lwd=3, add=TRUE)\n",
    "abline( v=log10(1500), col=\"green\", lwd=3)\n",
    "mtext( \"green line:  price = 1500\" )\n",
    "  \n",
    "par(opar)"
   ]
  },
  {
   "cell_type": "code",
   "execution_count": null,
   "metadata": {
    "collapsed": false
   },
   "outputs": [],
   "source": [
    "ggplot( data=diamonds, aes(x=log10(price), y=log10(table), color=cut)) +\n",
    "        geom_smooth() + ggtitle(\"This doesn't look very linear (for some cuts)\")"
   ]
  },
  {
   "cell_type": "code",
   "execution_count": null,
   "metadata": {
    "collapsed": false
   },
   "outputs": [],
   "source": [
    "#  Possibly of interest:\n",
    "#  Box-Cox transformations are a popular way of making variables closer to Gaussian\n",
    "\n",
    "# library(MASS)\n",
    "# help(boxcox)\n",
    "# example(boxcox)"
   ]
  },
  {
   "cell_type": "markdown",
   "metadata": {},
   "source": [
    "<hr style=\"border-width:50px;\">"
   ]
  },
  {
   "cell_type": "markdown",
   "metadata": {},
   "source": [
    "## fyi: regsubsets() might be useful for improving regression models"
   ]
  },
  {
   "cell_type": "code",
   "execution_count": null,
   "metadata": {
    "collapsed": false
   },
   "outputs": [],
   "source": [
    "if (!(is.element(\"leaps\", installed.packages())))  install.packages(\"leaps\")\n",
    "  \n",
    "library(leaps)\n",
    "\n",
    "#  regsubsets() generates regression models for subsets of sizes up to nvmax\n",
    "#  regsubsets( y ~ x, data=D, nbest=3 )  #  generates the 3 best models of each size\n",
    "\n",
    "# ?regsubsets"
   ]
  },
  {
   "cell_type": "markdown",
   "metadata": {},
   "source": [
    "### regsubsets() searches for the best subsets of the variables"
   ]
  },
  {
   "cell_type": "code",
   "execution_count": null,
   "metadata": {
    "collapsed": false
   },
   "outputs": [],
   "source": [
    "rs = regsubsets( carat ~ ., data=numeric.diamonds, nbest=1, nvmax=5 )\n",
    "\n",
    "summary(rs)"
   ]
  },
  {
   "cell_type": "code",
   "execution_count": null,
   "metadata": {
    "collapsed": false
   },
   "outputs": [],
   "source": [
    "rs.summary = summary(rs)\n",
    "str(rs.summary)"
   ]
  },
  {
   "cell_type": "code",
   "execution_count": null,
   "metadata": {
    "collapsed": false
   },
   "outputs": [],
   "source": [
    "cat('subset of variables included in each model:\\n#var')\n",
    "print(rs.summary$which * 1)"
   ]
  },
  {
   "cell_type": "code",
   "execution_count": null,
   "metadata": {
    "collapsed": false
   },
   "outputs": [],
   "source": [
    "N = nrow(rs.summary$which)\n",
    "for (i in 1:N) {\n",
    "    cat(sprintf('\\n----- model %d: ----------------------\\n', i))\n",
    "    print( coef(rs, i) )\n",
    "    cat(sprintf(\" R^2:  %7.3f\\n\", rs.summary$rsq[i] ))\n",
    "    cat(sprintf(\" BIC:    %8.4g\\n\", rs.summary$bic[i] ))\n",
    "}"
   ]
  },
  {
   "cell_type": "code",
   "execution_count": null,
   "metadata": {
    "collapsed": false
   },
   "outputs": [],
   "source": [
    "plot(rs.summary$rsq, type=\"l\", col=\"blue\",\n",
    "     xlab=\"# of variables in model\", ylab=\"R-squared of model\",\n",
    "     main=\"R^2 increases as the number of variables increases\")"
   ]
  },
  {
   "cell_type": "code",
   "execution_count": null,
   "metadata": {
    "collapsed": false
   },
   "outputs": [],
   "source": [
    "plot(rs.summary$bic, type=\"l\", col=\"red\",\n",
    "     xlab=\"# of variables in model\", ylab=\"BIC of model\",\n",
    "     main=\"BIC decreases as the number of variables increases\")"
   ]
  },
  {
   "cell_type": "code",
   "execution_count": null,
   "metadata": {
    "collapsed": false
   },
   "outputs": [],
   "source": [
    "# ?summary.regsubsets"
   ]
  },
  {
   "cell_type": "code",
   "execution_count": null,
   "metadata": {
    "collapsed": true
   },
   "outputs": [],
   "source": []
  },
  {
   "cell_type": "code",
   "execution_count": null,
   "metadata": {
    "collapsed": true
   },
   "outputs": [],
   "source": []
  }
 ],
 "metadata": {
  "kernelspec": {
   "display_name": "R",
   "language": "R",
   "name": "ir"
  },
  "language_info": {
   "codemirror_mode": "r",
   "file_extension": ".r",
   "mimetype": "text/x-r-source",
   "name": "R",
   "pygments_lexer": "r",
   "version": "3.3.2"
  }
 },
 "nbformat": 4,
 "nbformat_minor": 0
}
