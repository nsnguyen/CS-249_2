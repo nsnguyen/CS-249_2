{
 "cells": [
  {
   "cell_type": "markdown",
   "metadata": {},
   "source": [
    "# HW5 Problem:  Predicting Solubility -- using Applied Predictive Modeling\n",
    "## Due Sunday May 28, at 11:55pm"
   ]
  },
  {
   "cell_type": "markdown",
   "metadata": {},
   "source": [
    "Jennifer MacDonald 604501712\n",
    "\n",
    "CS249 -- Spring 2017 -- D.S. Parker &copy; 2017"
   ]
  },
  {
   "cell_type": "markdown",
   "metadata": {},
   "source": [
    "#  The Goal\n",
    "\n",
    "For this problem you will analyze a variant of the <i>Solubility</i> dataset. You are to predict the solubility values for a set of test data:\n",
    "<ul><li>\n",
    "Given the file <tt>training_set</tt>, develop a regression model that is as accurate as possible.\n",
    "</li><li>\n",
    "Use your model to predict solubility for each row of data in <tt>test_set.csv</tt>.\n",
    "</li><li>\n",
    "Put your predictions in a .csv file called  <tt>HW5_Solubility_Predictions.csv</tt> and upload it to CCLE.\n",
    "</li></ul>"
   ]
  },
  {
   "cell_type": "markdown",
   "metadata": {},
   "source": [
    "#  Appied Predictive Modeling"
   ]
  },
  {
   "cell_type": "markdown",
   "metadata": {},
   "source": [
    "<p>The <tt>caret</tt> library (<a href=\"http://caret.r-forge.r-project.org\">http://caret.r-forge.r-project.org</a>) is integrated with R packages that support Supervised Learning using\n",
    "mainstream model evaluation methods and  100 popular models.</p>"
   ]
  },
  {
   "cell_type": "code",
   "execution_count": 1,
   "metadata": {
    "collapsed": false
   },
   "outputs": [
    {
     "name": "stderr",
     "output_type": "stream",
     "text": [
      "Loading required package: lattice\n",
      "Loading required package: ggplot2\n"
     ]
    }
   ],
   "source": [
    "not.installed <- function(pkg) !is.element(pkg, installed.packages()[,1])\n",
    "    \n",
    "if (not.installed(\"caret\")) install.packages(\"caret\", repos=\"http://cran.us.r-project.org\")\n",
    "if (not.installed(\"lattice\")) install.packages(\"lattice\", repos=\"http://cran.us.r-project.org\")\n",
    "if (not.installed(\"ggplot2\")) install.packages(\"ggplot2\", repos=\"http://cran.us.r-project.org\")    \n",
    "\n",
    "library(caret)\n",
    "library(lattice)\n",
    "library(ggplot2)"
   ]
  },
  {
   "cell_type": "markdown",
   "metadata": {},
   "source": [
    "An integrated package for supervised learning, using over 50 kinds of\n",
    "models, and a variety of different metrics:</p>"
   ]
  },
  {
   "cell_type": "code",
   "execution_count": 2,
   "metadata": {
    "collapsed": false
   },
   "outputs": [],
   "source": [
    "if (not.installed(\"AppliedPredictiveModeling\")) {\n",
    "    \n",
    "    install.packages(\"AppliedPredictiveModeling\")\n",
    "    \n",
    "    \n",
    "    library(AppliedPredictiveModeling)\n",
    "    \n",
    "    \n",
    "    for (chapter in c(2,3,4,6,7,8,10, 11,12,13,14,16,17,19))  getPackages(chapter)  # this takes a while\n",
    "\n",
    "        \n",
    "        \n",
    "} else {\n",
    "\n",
    "    library(AppliedPredictiveModeling)\n",
    "\n",
    "}"
   ]
  },
  {
   "cell_type": "code",
   "execution_count": 3,
   "metadata": {
    "collapsed": false
   },
   "outputs": [
    {
     "name": "stderr",
     "output_type": "stream",
     "text": [
      "Loading required package: foreach\n",
      "Loading required package: iterators\n",
      "Loading required package: parallel\n"
     ]
    }
   ],
   "source": [
    "# Grid Search is often used in APM to search a model's parameter space, and\n",
    "# some chapters use the \"doMC\" package to do Multi-Core computation\n",
    "# (supported only on Linux or MacOS):\n",
    "\n",
    "if (not.installed(\"doMC\"))  install.packages(\"doMC\")   # multicore computation in R\n",
    "if (not.installed(\"foreach\"))  install.packages(\"foreach\")\n",
    "if (not.installed(\"iterators\"))  install.packages(\"iterators\")\n",
    "if (not.installed(\"parallel\"))  install.packages(\"parallel\")    \n",
    "\n",
    "library(doMC)\n",
    "library(foreach)\n",
    "library(iterators)\n",
    "library(parallel)    "
   ]
  },
  {
   "cell_type": "markdown",
   "metadata": {},
   "source": [
    "## Get the datasets"
   ]
  },
  {
   "cell_type": "code",
   "execution_count": 4,
   "metadata": {
    "collapsed": false
   },
   "outputs": [],
   "source": [
    "my.training.set = data.matrix(read.csv(file=\"training_set.csv\"))\n",
    "my.test.set = data.matrix(read.csv(file=\"test_set.csv\"))"
   ]
  },
  {
   "cell_type": "markdown",
   "metadata": {},
   "source": [
    "## Construct a model from <tt>training_set.csv</tt>\n",
    "\n",
    "Using the <tt>training_set.csv</tt> data, construct a regression model."
   ]
  },
  {
   "cell_type": "code",
   "execution_count": 5,
   "metadata": {
    "collapsed": false,
    "scrolled": true
   },
   "outputs": [],
   "source": [
    "# Separate the training data from the data we want to predict\n",
    "solTrainY = c(subset(my.training.set, select = c(solubility)))\n",
    "solTrainX = subset(my.training.set, select = -c(solubility))\n",
    "\n",
    "solTestX = as.data.frame(my.test.set)\n",
    "\n",
    "## Use caret's preProcess function to transform for skewness\n",
    "solTrainXPP <- preProcess(solTrainX, method=c(\"BoxCox\"))\n",
    "## Apply the transformations\n",
    "solTrainXtrans <- predict(solTrainXPP, solTrainX)\n",
    "\n",
    "# Similarly transform the testing data\n",
    "solTestXPP <- preProcess(solTestX, method=c(\"BoxCox\"))\n",
    "solTestXtrans <- predict(solTestXPP, solTestX)"
   ]
  },
  {
   "cell_type": "code",
   "execution_count": 6,
   "metadata": {
    "collapsed": false
   },
   "outputs": [],
   "source": [
    "### Create a control function that will be used across models. We\n",
    "### create the fold assignments explicitly instead of relying on the\n",
    "### random number seed being set to identical values.\n",
    "\n",
    "set.seed(100)\n",
    "indx <- createFolds(solTrainY, returnTrain = TRUE)\n",
    "ctrl <- trainControl(method = \"cv\", index = indx)"
   ]
  },
  {
   "cell_type": "markdown",
   "metadata": {},
   "source": [
    "## Generate predictions from <tt>test_set.csv</tt>"
   ]
  },
  {
   "cell_type": "code",
   "execution_count": 7,
   "metadata": {
    "collapsed": false
   },
   "outputs": [
    {
     "name": "stdout",
     "output_type": "stream",
     "text": [
      "0.9394862"
     ]
    },
    {
     "data": {
      "text/html": [
       "<table>\n",
       "<thead><tr><th scope=col>Solubility</th></tr></thead>\n",
       "<tbody>\n",
       "\t<tr><td>-2.7069885</td></tr>\n",
       "\t<tr><td>-2.0753398</td></tr>\n",
       "\t<tr><td>-1.5059886</td></tr>\n",
       "\t<tr><td>-3.2890363</td></tr>\n",
       "\t<tr><td>-1.5640699</td></tr>\n",
       "\t<tr><td>-8.3175572</td></tr>\n",
       "\t<tr><td>-0.9259844</td></tr>\n",
       "\t<tr><td>-5.7480065</td></tr>\n",
       "\t<tr><td>-0.2230922</td></tr>\n",
       "\t<tr><td>-1.5473190</td></tr>\n",
       "\t<tr><td> 1.5381798</td></tr>\n",
       "\t<tr><td>-1.1388809</td></tr>\n",
       "\t<tr><td>-3.7755014</td></tr>\n",
       "\t<tr><td>-2.0513062</td></tr>\n",
       "\t<tr><td>-0.9974590</td></tr>\n",
       "\t<tr><td>-2.2155007</td></tr>\n",
       "\t<tr><td>-2.0753398</td></tr>\n",
       "\t<tr><td>-2.7399254</td></tr>\n",
       "\t<tr><td>-1.5410342</td></tr>\n",
       "\t<tr><td>-4.3155473</td></tr>\n",
       "\t<tr><td>-1.1713476</td></tr>\n",
       "\t<tr><td>-1.4769338</td></tr>\n",
       "\t<tr><td>-1.3908955</td></tr>\n",
       "\t<tr><td> 0.5898651</td></tr>\n",
       "\t<tr><td>-5.8899857</td></tr>\n",
       "\t<tr><td>-6.2021824</td></tr>\n",
       "\t<tr><td>-1.4394768</td></tr>\n",
       "\t<tr><td>-0.8874931</td></tr>\n",
       "\t<tr><td> 0.1501158</td></tr>\n",
       "\t<tr><td>-0.5477319</td></tr>\n",
       "\t<tr><td>⋮</td></tr>\n",
       "\t<tr><td>-2.6604442</td></tr>\n",
       "\t<tr><td>-4.6171955</td></tr>\n",
       "\t<tr><td>-1.5225083</td></tr>\n",
       "\t<tr><td>-6.7594015</td></tr>\n",
       "\t<tr><td>-1.6912979</td></tr>\n",
       "\t<tr><td>-2.1908507</td></tr>\n",
       "\t<tr><td> 0.3343870</td></tr>\n",
       "\t<tr><td>-0.9832840</td></tr>\n",
       "\t<tr><td>-6.7157991</td></tr>\n",
       "\t<tr><td>-3.1239017</td></tr>\n",
       "\t<tr><td>-4.4197195</td></tr>\n",
       "\t<tr><td> 0.4757326</td></tr>\n",
       "\t<tr><td>-4.4974903</td></tr>\n",
       "\t<tr><td>-0.4196381</td></tr>\n",
       "\t<tr><td>-3.6991532</td></tr>\n",
       "\t<tr><td>-2.2069331</td></tr>\n",
       "\t<tr><td>-2.2082560</td></tr>\n",
       "\t<tr><td>-4.0585611</td></tr>\n",
       "\t<tr><td>-3.0886419</td></tr>\n",
       "\t<tr><td>-3.4143473</td></tr>\n",
       "\t<tr><td>-0.3843762</td></tr>\n",
       "\t<tr><td>-0.7131268</td></tr>\n",
       "\t<tr><td>-3.8229255</td></tr>\n",
       "\t<tr><td>-0.9499853</td></tr>\n",
       "\t<tr><td>-1.3485872</td></tr>\n",
       "\t<tr><td>-5.1854828</td></tr>\n",
       "\t<tr><td>-7.8825714</td></tr>\n",
       "\t<tr><td>-2.6280652</td></tr>\n",
       "\t<tr><td>-3.9202233</td></tr>\n",
       "\t<tr><td>-6.3277095</td></tr>\n",
       "</tbody>\n",
       "</table>\n"
      ],
      "text/latex": [
       "\\begin{tabular}{r|l}\n",
       " Solubility\\\\\n",
       "\\hline\n",
       "\t -2.7069885\\\\\n",
       "\t -2.0753398\\\\\n",
       "\t -1.5059886\\\\\n",
       "\t -3.2890363\\\\\n",
       "\t -1.5640699\\\\\n",
       "\t -8.3175572\\\\\n",
       "\t -0.9259844\\\\\n",
       "\t -5.7480065\\\\\n",
       "\t -0.2230922\\\\\n",
       "\t -1.5473190\\\\\n",
       "\t  1.5381798\\\\\n",
       "\t -1.1388809\\\\\n",
       "\t -3.7755014\\\\\n",
       "\t -2.0513062\\\\\n",
       "\t -0.9974590\\\\\n",
       "\t -2.2155007\\\\\n",
       "\t -2.0753398\\\\\n",
       "\t -2.7399254\\\\\n",
       "\t -1.5410342\\\\\n",
       "\t -4.3155473\\\\\n",
       "\t -1.1713476\\\\\n",
       "\t -1.4769338\\\\\n",
       "\t -1.3908955\\\\\n",
       "\t  0.5898651\\\\\n",
       "\t -5.8899857\\\\\n",
       "\t -6.2021824\\\\\n",
       "\t -1.4394768\\\\\n",
       "\t -0.8874931\\\\\n",
       "\t  0.1501158\\\\\n",
       "\t -0.5477319\\\\\n",
       "\t ⋮\\\\\n",
       "\t -2.6604442\\\\\n",
       "\t -4.6171955\\\\\n",
       "\t -1.5225083\\\\\n",
       "\t -6.7594015\\\\\n",
       "\t -1.6912979\\\\\n",
       "\t -2.1908507\\\\\n",
       "\t  0.3343870\\\\\n",
       "\t -0.9832840\\\\\n",
       "\t -6.7157991\\\\\n",
       "\t -3.1239017\\\\\n",
       "\t -4.4197195\\\\\n",
       "\t  0.4757326\\\\\n",
       "\t -4.4974903\\\\\n",
       "\t -0.4196381\\\\\n",
       "\t -3.6991532\\\\\n",
       "\t -2.2069331\\\\\n",
       "\t -2.2082560\\\\\n",
       "\t -4.0585611\\\\\n",
       "\t -3.0886419\\\\\n",
       "\t -3.4143473\\\\\n",
       "\t -0.3843762\\\\\n",
       "\t -0.7131268\\\\\n",
       "\t -3.8229255\\\\\n",
       "\t -0.9499853\\\\\n",
       "\t -1.3485872\\\\\n",
       "\t -5.1854828\\\\\n",
       "\t -7.8825714\\\\\n",
       "\t -2.6280652\\\\\n",
       "\t -3.9202233\\\\\n",
       "\t -6.3277095\\\\\n",
       "\\end{tabular}\n"
      ],
      "text/markdown": [
       "\n",
       "Solubility | \n",
       "|---|---|---|---|---|---|---|---|---|---|---|---|---|---|---|---|---|---|---|---|---|---|---|---|---|---|---|---|---|---|---|---|---|---|---|---|---|---|---|---|---|---|---|---|---|---|---|---|---|---|---|---|---|---|---|---|---|---|---|---|---|\n",
       "| -2.7069885 | \n",
       "| -2.0753398 | \n",
       "| -1.5059886 | \n",
       "| -3.2890363 | \n",
       "| -1.5640699 | \n",
       "| -8.3175572 | \n",
       "| -0.9259844 | \n",
       "| -5.7480065 | \n",
       "| -0.2230922 | \n",
       "| -1.5473190 | \n",
       "|  1.5381798 | \n",
       "| -1.1388809 | \n",
       "| -3.7755014 | \n",
       "| -2.0513062 | \n",
       "| -0.9974590 | \n",
       "| -2.2155007 | \n",
       "| -2.0753398 | \n",
       "| -2.7399254 | \n",
       "| -1.5410342 | \n",
       "| -4.3155473 | \n",
       "| -1.1713476 | \n",
       "| -1.4769338 | \n",
       "| -1.3908955 | \n",
       "|  0.5898651 | \n",
       "| -5.8899857 | \n",
       "| -6.2021824 | \n",
       "| -1.4394768 | \n",
       "| -0.8874931 | \n",
       "|  0.1501158 | \n",
       "| -0.5477319 | \n",
       "| ⋮ | \n",
       "| -2.6604442 | \n",
       "| -4.6171955 | \n",
       "| -1.5225083 | \n",
       "| -6.7594015 | \n",
       "| -1.6912979 | \n",
       "| -2.1908507 | \n",
       "|  0.3343870 | \n",
       "| -0.9832840 | \n",
       "| -6.7157991 | \n",
       "| -3.1239017 | \n",
       "| -4.4197195 | \n",
       "|  0.4757326 | \n",
       "| -4.4974903 | \n",
       "| -0.4196381 | \n",
       "| -3.6991532 | \n",
       "| -2.2069331 | \n",
       "| -2.2082560 | \n",
       "| -4.0585611 | \n",
       "| -3.0886419 | \n",
       "| -3.4143473 | \n",
       "| -0.3843762 | \n",
       "| -0.7131268 | \n",
       "| -3.8229255 | \n",
       "| -0.9499853 | \n",
       "| -1.3485872 | \n",
       "| -5.1854828 | \n",
       "| -7.8825714 | \n",
       "| -2.6280652 | \n",
       "| -3.9202233 | \n",
       "| -6.3277095 | \n",
       "\n",
       "\n"
      ],
      "text/plain": [
       "    Solubility\n",
       "1   -2.7069885\n",
       "2   -2.0753398\n",
       "3   -1.5059886\n",
       "4   -3.2890363\n",
       "5   -1.5640699\n",
       "6   -8.3175572\n",
       "7   -0.9259844\n",
       "8   -5.7480065\n",
       "9   -0.2230922\n",
       "10  -1.5473190\n",
       "11   1.5381798\n",
       "12  -1.1388809\n",
       "13  -3.7755014\n",
       "14  -2.0513062\n",
       "15  -0.9974590\n",
       "16  -2.2155007\n",
       "17  -2.0753398\n",
       "18  -2.7399254\n",
       "19  -1.5410342\n",
       "20  -4.3155473\n",
       "21  -1.1713476\n",
       "22  -1.4769338\n",
       "23  -1.3908955\n",
       "24   0.5898651\n",
       "25  -5.8899857\n",
       "26  -6.2021824\n",
       "27  -1.4394768\n",
       "28  -0.8874931\n",
       "29   0.1501158\n",
       "30  -0.5477319\n",
       "⋮   ⋮         \n",
       "255 -2.6604442\n",
       "256 -4.6171955\n",
       "257 -1.5225083\n",
       "258 -6.7594015\n",
       "259 -1.6912979\n",
       "260 -2.1908507\n",
       "261  0.3343870\n",
       "262 -0.9832840\n",
       "263 -6.7157991\n",
       "264 -3.1239017\n",
       "265 -4.4197195\n",
       "266  0.4757326\n",
       "267 -4.4974903\n",
       "268 -0.4196381\n",
       "269 -3.6991532\n",
       "270 -2.2069331\n",
       "271 -2.2082560\n",
       "272 -4.0585611\n",
       "273 -3.0886419\n",
       "274 -3.4143473\n",
       "275 -0.3843762\n",
       "276 -0.7131268\n",
       "277 -3.8229255\n",
       "278 -0.9499853\n",
       "279 -1.3485872\n",
       "280 -5.1854828\n",
       "281 -7.8825714\n",
       "282 -2.6280652\n",
       "283 -3.9202233\n",
       "284 -6.3277095"
      ]
     },
     "metadata": {},
     "output_type": "display_data"
    }
   ],
   "source": [
    "### Using a set of predictors reduced by unsupervised\n",
    "### filtering. We apply a filter to reduce extreme between-predictor\n",
    "### correlations.\n",
    "\n",
    "tooHigh <- findCorrelation(cor(solTrainXtrans), .9)\n",
    "\n",
    "trainXfiltered <- solTrainXtrans[, -tooHigh]\n",
    "testXfiltered  <-  solTestXtrans[, -tooHigh]\n",
    "\n",
    "set.seed(100)\n",
    "lmTune <- train(x = trainXfiltered, y = c(solTrainY),\n",
    "                method = \"lm\",\n",
    "                trControl = ctrl)\n",
    "\n",
    "\n",
    "lmFit = lm(solubility ~., data=as.data.frame(my.training.set))\n",
    "r_squared = cat(summary(lmFit)$r.squared)\n",
    "\n",
    "predictions = suppressWarnings(as.data.frame(predict(lmFit, newdata = solTestX)))\n",
    "colnames(predictions) <- \"Solubility\"\n",
    "\n",
    "# write.csv(predictions, file = \"HW5_Solubility_Predictions.csv\")\n",
    "\n",
    "predictions"
   ]
  },
  {
   "cell_type": "code",
   "execution_count": null,
   "metadata": {
    "collapsed": true
   },
   "outputs": [],
   "source": []
  }
 ],
 "metadata": {
  "kernelspec": {
   "display_name": "R",
   "language": "R",
   "name": "ir"
  },
  "language_info": {
   "codemirror_mode": "r",
   "file_extension": ".r",
   "mimetype": "text/x-r-source",
   "name": "R",
   "pygments_lexer": "r",
   "version": "3.3.2"
  }
 },
 "nbformat": 4,
 "nbformat_minor": 2
}
