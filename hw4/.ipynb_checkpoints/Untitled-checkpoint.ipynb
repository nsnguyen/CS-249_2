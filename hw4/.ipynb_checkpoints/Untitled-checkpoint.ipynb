{
 "cells": [
  {
   "cell_type": "code",
   "execution_count": 61,
   "metadata": {
    "collapsed": false
   },
   "outputs": [],
   "source": [
    "#HW4\n",
    "\n",
    "not.installed <- function(pkg) !is.element(pkg, installed.packages()[,1])\n",
    "\n",
    "if (not.installed(\"ggplot2\")) install.packages(\"ggplot2\")\n",
    "if (not.installed(\"devtools\")) install.packages(\"devtools\")\n",
    "library(ggplot2)\n",
    "library(MASS)\n",
    "    \n",
    "#library(devtools)\n",
    "#install_github(\"ggbiplot\", \"vqv\")\n",
    "    \n",
    "  "
   ]
  },
  {
   "cell_type": "code",
   "execution_count": 62,
   "metadata": {
    "collapsed": true
   },
   "outputs": [],
   "source": [
    "numeric.diamonds = transform( diamonds,\n",
    "                              cut = as.numeric(unclass(diamonds$cut)),\n",
    "                              color = as.numeric(unclass(diamonds$color)),\n",
    "                              clarity = as.numeric(unclass(diamonds$clarity))\n",
    "                   ) "
   ]
  },
  {
   "cell_type": "code",
   "execution_count": 63,
   "metadata": {
    "collapsed": false
   },
   "outputs": [],
   "source": [
    "MY_UID = 004870721 ########## you must enter your UCLA UID here !!!\n",
    "\n",
    "set.seed( MY_UID )\n",
    "\n",
    "n = nrow( numeric.diamonds )\n",
    "sample.size = 0.75 * n   ###### Use 75% of the data for the training set\n",
    "training.row.ids = sample( (1:n), sample.size )\n",
    "\n",
    "my.training.set = numeric.diamonds[  training.row.ids, ]\n",
    "my.test.set     = numeric.diamonds[ -training.row.ids, ]   # set complement of training.set.ids"
   ]
  },
  {
   "cell_type": "code",
   "execution_count": 86,
   "metadata": {
    "collapsed": false
   },
   "outputs": [
    {
     "name": "stdout",
     "output_type": "stream",
     "text": [
      "              \n",
      "test.solutions    1    2    3    4    5\n",
      "             1  179  191    6    6    3\n",
      "             2   56  656  328   45  129\n",
      "             3   39  457 1052  166 1277\n",
      "             4   77  680  713  779 1283\n",
      "             5   34   36  147  108 5038\n"
     ]
    },
    {
     "data": {
      "text/html": [
       "0.571301446051168"
      ],
      "text/latex": [
       "0.571301446051168"
      ],
      "text/markdown": [
       "0.571301446051168"
      ],
      "text/plain": [
       "[1] 0.5713014"
      ]
     },
     "metadata": {},
     "output_type": "display_data"
    }
   ],
   "source": [
    "classification_accuracy = function( model, test.data, test.solutions ) {\n",
    "    predictions = predict(model, test.data)\n",
    "    incorrect.predictions  =  (predictions$class != test.solutions)\n",
    "    confusion.matrix = table( test.solutions, predictions$class )\n",
    "    \n",
    "    print(confusion.matrix)\n",
    "    \n",
    "    accuracy = (length(test.solutions) - length(incorrect.ids)) / length(test.solutions)\n",
    "    accuracy\n",
    "\n",
    "\n",
    "}\n",
    "\n",
    "QDA.model = qda( cut ~ .,           data=my.training.set )\n",
    "\n",
    "classification_accuracy(QDA.model, my.test.set, my.test.set$cut)\n",
    "\n",
    "\n",
    "# classification_accuracy( LDA.model, iris[test.set, 1:4], iris[test.set,5])\n",
    "\n",
    "# should be about  0.97"
   ]
  },
  {
   "cell_type": "code",
   "execution_count": 81,
   "metadata": {
    "collapsed": false
   },
   "outputs": [
    {
     "data": {
      "text/plain": [
       "   \n",
       "       1    2    3    4    5\n",
       "  1  179  191    6    6    3\n",
       "  2   56  656  328   45  129\n",
       "  3   39  457 1052  166 1277\n",
       "  4   77  680  713  779 1283\n",
       "  5   34   36  147  108 5038"
      ]
     },
     "metadata": {},
     "output_type": "display_data"
    },
    {
     "data": {
      "text/html": [
       "0.571301446051168"
      ],
      "text/latex": [
       "0.571301446051168"
      ],
      "text/markdown": [
       "0.571301446051168"
      ],
      "text/plain": [
       "[1] 0.5713014"
      ]
     },
     "metadata": {},
     "output_type": "display_data"
    }
   ],
   "source": [
    "QDA.model = qda( cut ~ .,           data=my.training.set )\n",
    " \n",
    "#QDA.model\n",
    "\n",
    "#my.test.set\n",
    "\n",
    "predictions = predict( QDA.model, my.test.set  )\n",
    "#print(predictions$class)\n",
    "incorrect.predictions  =  (predictions$class != my.test.set$cut )\n",
    "\n",
    "incorrect.ids = my.test.set$cut[incorrect.predictions]\n",
    "\n",
    "confusion.matrix = table( my.test.set$cut, predictions$class )\n",
    "confusion.matrix\n",
    "\n",
    "accuracy = (length(my.test.set$cut) - length(incorrect.ids)) / length(my.test.set$cut)\n",
    "accuracy\n"
   ]
  },
  {
   "cell_type": "code",
   "execution_count": null,
   "metadata": {
    "collapsed": true
   },
   "outputs": [],
   "source": [
    "# linear_regression_accuracy = function( model, test.data, test.solutions ) {\n",
    "    # .......................................................\n",
    "# }\n",
    "\n",
    "# sample.LR.model = lm( Petal.Length ~ Petal.Width, data = iris, subset= training.set )\n",
    "# #linear_regression_accuracy( sample.LR.model, iris[test.set,], iris$Petal.Length[test.set] )\n",
    "\n",
    "# # should be about  0.93"
   ]
  },
  {
   "cell_type": "code",
   "execution_count": 67,
   "metadata": {
    "collapsed": false
   },
   "outputs": [
    {
     "data": {
      "text/plain": [
       "\n",
       "Call:\n",
       "lm(formula = price ~ ., data = my.training.set)\n",
       "\n",
       "Coefficients:\n",
       "(Intercept)        carat          cut        color      clarity        depth  \n",
       "    5368.93     10630.80       122.80      -323.18       499.02       -82.96  \n",
       "      table            x            y            z  \n",
       "     -25.56      -815.53        26.82       -43.43  \n"
      ]
     },
     "metadata": {},
     "output_type": "display_data"
    }
   ],
   "source": [
    "LM.model = lm(  price ~ .,         data=my.training.set )\n",
    "LM.model\n",
    "\n",
    "predictions = predict( QDA.model, my.test.set  )"
   ]
  },
  {
   "cell_type": "code",
   "execution_count": null,
   "metadata": {
    "collapsed": false
   },
   "outputs": [],
   "source": [
    "\n"
   ]
  },
  {
   "cell_type": "code",
   "execution_count": null,
   "metadata": {
    "collapsed": false
   },
   "outputs": [],
   "source": []
  },
  {
   "cell_type": "code",
   "execution_count": null,
   "metadata": {
    "collapsed": true
   },
   "outputs": [],
   "source": [
    "#      33.333, qda( cut ~ .,           data=my.training.set )\n",
    "#       88.888, lm(  price ~ .,         data=my.training.set )\n",
    "#       77.777, lm(  log10(price) ~ .,  data=my.training.set )\n",
    "#       88.888, glm( I(price>1500) ~ ., data=my.training.set, family=binomial )\n",
    "#       44.444, qda( cut ~ price + table + color + clarity, data=my.training.set )\n",
    "#       99.999, lm( price ~ carat + x + y + z + clarity, data=my.training.set )\n",
    "#       99.999, lm( log10(price) ~ table + log10(carat) + color, data=my.training.set )\n",
    "#       99.999, glm( I(price>1500) ~ carat + table + clarity, data=my.training.set, family=binomial )"
   ]
  }
 ],
 "metadata": {
  "anaconda-cloud": {},
  "kernelspec": {
   "display_name": "R",
   "language": "R",
   "name": "ir"
  },
  "language_info": {
   "codemirror_mode": "r",
   "file_extension": ".r",
   "mimetype": "text/x-r-source",
   "name": "R",
   "pygments_lexer": "r",
   "version": "3.3.2"
  }
 },
 "nbformat": 4,
 "nbformat_minor": 1
}
