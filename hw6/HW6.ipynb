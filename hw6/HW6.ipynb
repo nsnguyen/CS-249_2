{
 "cells": [
  {
   "cell_type": "markdown",
   "metadata": {},
   "source": [
    "# HW6:  Analyzing Data Science in the StackOverflow Tech Job Survey\n",
    "\n",
    "Every year Stackoverflow does a large survey of tech workers on jobs:\n",
    "https://insights.stackoverflow.com/survey\n",
    "\n",
    "Details about the data are below.\n",
    "\n",
    "For this problem, we want you to extract part of the data involving <i>data science</i> and do two things:\n",
    "(1) build a regression model to predict salary, and\n",
    "(2) build a classifier model to predict the job title (\"occupation\").\n",
    "\n",
    "You are encouraged to use Python for this assignment.\n",
    "Python will be the default platform for the datasets in the Final Exam."
   ]
  },
  {
   "cell_type": "code",
   "execution_count": 245,
   "metadata": {
    "collapsed": false
   },
   "outputs": [],
   "source": [
    "import matplotlib.pyplot as plt\n",
    "%matplotlib inline\n",
    "\n",
    "import numpy as np\n",
    "from patsy import dmatrices\n",
    "\n",
    "import pandas as pd\n",
    "from pandas import Series, DataFrame\n",
    "\n",
    "import statsmodels.api as sm\n",
    "\n",
    "from sklearn import datasets, svm\n",
    "\n"
   ]
  },
  {
   "cell_type": "markdown",
   "metadata": {},
   "source": [
    "## Part 0:  Getting the Survey data\n",
    "\n",
    "First, go to the survey site and download the 2016 data:\n",
    "https://insights.stackoverflow.com/survey\n",
    "    \n",
    "(The results of the 2017 survey are there, but the data is not yet available for download now.)\n",
    "\n",
    "For this problem, we want you to extract a subset of the data involving <i>data science</i>,\n",
    "and compare the results for it with results for the entire dataset.\n",
    "\n",
    "The <b>occupation</b> column in the dataset (i.e., column number 10)\n",
    "involves job titles.  Please extract all rows that have\n",
    "any of the job titles of interest here\n",
    "(with the number of occurrences listed first):\n",
    "<ul><li>\n",
    "<b>Business intelligence or data warehousing expert</b> (392 occurrences)\n",
    "</li><li>\n",
    "<b>Data scientist</b> (800 occurrences)\n",
    "</li><li>\n",
    "<b>Developer with a statistics or mathematics background</b>  (960)\n",
    "</li><li>\n",
    "<b>Machine learning developer</b> (385).\n",
    "</li></ul>\n",
    "\n",
    "For this problem, extract all rows with these job titles into a <tt>DataScience</tt> table with about 2500 rows.\n",
    "\n",
    "We also want you to consider the entire dataset; for simplicity let's call it <tt>JobSurvey</tt>.\n",
    "\n",
    "<b>HOWEVER:  We want you to drop all rows with null values from</b> <tt>JobSurvey</tt>.\n",
    "\n",
    "For each of the following parts, extract a model and compute its accuracy for each of these two datasets.\n"
   ]
  },
  {
   "cell_type": "code",
   "execution_count": 246,
   "metadata": {
    "collapsed": false
   },
   "outputs": [
    {
     "data": {
      "text/plain": [
       "(56030, 66)"
      ]
     },
     "execution_count": 246,
     "metadata": {},
     "output_type": "execute_result"
    }
   ],
   "source": [
    "JobSurvey = pd.read_csv('2016 Stack Overflow Survey Responses.csv')\n",
    "\n",
    "JobSurvey.shape"
   ]
  },
  {
   "cell_type": "code",
   "execution_count": 247,
   "metadata": {
    "collapsed": true
   },
   "outputs": [],
   "source": [
    "df1 = JobSurvey[JobSurvey.occupation == 'Business intelligence or data warehousing expert']\n",
    "df2 = JobSurvey[JobSurvey.occupation == 'Data scientist']\n",
    "df3 = JobSurvey[JobSurvey.occupation == 'Developer with a statistics or mathematics background']\n",
    "df4 = JobSurvey[JobSurvey.occupation == 'Machine learning developer']\n",
    "\n",
    "frames = [df1,df2,df3,df4]\n",
    "\n",
    "DataScience = pd.concat(frames)"
   ]
  },
  {
   "cell_type": "code",
   "execution_count": 248,
   "metadata": {
    "collapsed": false
   },
   "outputs": [
    {
     "data": {
      "text/plain": [
       "(2537, 66)"
      ]
     },
     "execution_count": 248,
     "metadata": {},
     "output_type": "execute_result"
    }
   ],
   "source": [
    "DataScience.shape"
   ]
  },
  {
   "cell_type": "code",
   "execution_count": 249,
   "metadata": {
    "collapsed": false
   },
   "outputs": [],
   "source": [
    "# #fill Na with max values\n",
    "# DataScience.collector.fillna(DataScience.collector.dropna().max(),inplace=True)\n",
    "# DataScience.country.fillna(DataScience.country.dropna().max(),inplace=True)\n",
    "# DataScience.un_subregion.fillna(DataScience.un_subregion.dropna().max(),inplace=True)\n",
    "# DataScience.so_region.fillna(DataScience.so_region.dropna().max(),inplace=True)\n",
    "# DataScience.age_range.fillna(DataScience.age_range.dropna().max(),inplace=True)\n",
    "# DataScience.age_midpoint.fillna(DataScience.age_midpoint.dropna().max(),inplace=True)\n",
    "# DataScience.gender.fillna(DataScience.gender.dropna().max(),inplace=True)\n",
    "# DataScience.self_identification.fillna(DataScience.self_identification.dropna().max(),inplace=True)\n",
    "# DataScience.occupation.fillna(DataScience.occupation.dropna().max(),inplace=True)\n",
    "# DataScience.occupation_group.fillna(DataScience.occupation_group.dropna().max(),inplace=True)\n",
    "# DataScience.experience_range.fillna(DataScience.experience_range.dropna().max(),inplace=True)\n",
    "# DataScience.experience_midpoint.fillna(DataScience.experience_midpoint.dropna().max(),inplace=True)\n",
    "# DataScience.salary_range.fillna(DataScience.salary_range.dropna().max(),inplace=True)\n",
    "# DataScience.salary_midpoint.fillna(DataScience.salary_midpoint.dropna().max(),inplace=True)\n",
    "# DataScience.big_mac_index.fillna(DataScience.big_mac_index.dropna().max(),inplace=True)\n",
    "# DataScience.tech_do.fillna(DataScience.tech_do.dropna().max(),inplace=True)\n",
    "# DataScience.tech_want.fillna(DataScience.tech_want.dropna().max(),inplace=True)\n",
    "# DataScience.aliens.fillna(DataScience.aliens.dropna().max(),inplace=True)\n",
    "# DataScience.programming_ability.fillna(DataScience.programming_ability.dropna().max(),inplace=True)\n",
    "# DataScience.employment_status.fillna(DataScience.employment_status.dropna().max(),inplace=True)\n",
    "# DataScience.industry.fillna(DataScience.industry.dropna().max(),inplace=True)\n",
    "# DataScience.company_size_range.fillna(DataScience.company_size_range.dropna().max(),inplace=True)\n",
    "# DataScience.team_size_range.fillna(DataScience.team_size_range.dropna().max(),inplace=True)\n",
    "# DataScience.women_on_team.fillna(DataScience.women_on_team.dropna().max(),inplace=True)\n",
    "# DataScience.remote.fillna(DataScience.remote.dropna().max(),inplace=True)\n",
    "# DataScience.job_satisfaction.fillna(DataScience.job_satisfaction.dropna().max(),inplace=True)\n",
    "# DataScience.job_discovery.fillna(DataScience.job_discovery.dropna().max(),inplace=True)\n",
    "# DataScience.dev_environment.fillna(DataScience.dev_environment.dropna().max(),inplace=True)\n",
    "# DataScience.commit_frequency.fillna(DataScience.commit_frequency.dropna().max(),inplace=True)\n",
    "# DataScience.hobby.fillna(DataScience.hobby.dropna().max(),inplace=True)\n",
    "# DataScience.dogs_vs_cats.fillna(DataScience.dogs_vs_cats.dropna().max(),inplace=True)\n",
    "# DataScience.desktop_os.fillna(DataScience.desktop_os.dropna().max(),inplace=True)\n",
    "# DataScience.unit_testing.fillna(DataScience.unit_testing.dropna().max(),inplace=True)\n",
    "# DataScience.rep_range.fillna(DataScience.rep_range.dropna().max(),inplace=True)\n",
    "# DataScience.visit_frequency.fillna(DataScience.visit_frequency.dropna().max(),inplace=True)\n",
    "# DataScience.why_learn_new_tech.fillna(DataScience.why_learn_new_tech.dropna().max(),inplace=True)\n",
    "# DataScience.education.fillna(DataScience.education.dropna().max(),inplace=True)\n",
    "# DataScience.open_to_new_job.fillna(DataScience.open_to_new_job.dropna().max(),inplace=True)\n",
    "# DataScience.new_job_value.fillna(DataScience.new_job_value.dropna().max(),inplace=True)\n",
    "# DataScience.job_search_annoyance.fillna(DataScience.job_search_annoyance.dropna().max(),inplace=True)\n",
    "# DataScience.interview_likelihood.fillna(DataScience.interview_likelihood.dropna().max(),inplace=True)\n",
    "# DataScience.how_to_improve_interview_process.fillna(DataScience.how_to_improve_interview_process.dropna().max(),inplace=True)\n",
    "# DataScience.star_wars_vs_star_trek.fillna(DataScience.star_wars_vs_star_trek.dropna().max(),inplace=True)\n",
    "# DataScience.agree_tech.fillna(DataScience.agree_tech.dropna().max(),inplace=True)\n",
    "# DataScience.agree_notice.fillna(DataScience.agree_notice.dropna().max(),inplace=True)\n",
    "# DataScience.agree_problemsolving.fillna(DataScience.agree_problemsolving.dropna().max(),inplace=True)\n",
    "# DataScience.agree_diversity.fillna(DataScience.agree_diversity.dropna().max(),inplace=True)\n",
    "# DataScience.agree_adblocker.fillna(DataScience.agree_adblocker.dropna().max(),inplace=True)\n",
    "# DataScience.agree_alcohol.fillna(DataScience.agree_alcohol.dropna().max(),inplace=True)\n",
    "# DataScience.agree_loveboss.fillna(DataScience.agree_loveboss.dropna().max(),inplace=True)\n",
    "# DataScience.agree_nightcode.fillna(DataScience.agree_nightcode.dropna().max(),inplace=True)\n",
    "# DataScience.agree_legacy.fillna(DataScience.agree_legacy.dropna().max(),inplace=True)\n",
    "# DataScience.agree_mars.fillna(DataScience.agree_mars.dropna().max(),inplace=True)\n",
    "# DataScience.important_variety.fillna(DataScience.important_variety.dropna().max(),inplace=True)\n",
    "# DataScience.important_control.fillna(DataScience.important_control.dropna().max(),inplace=True)\n",
    "# DataScience.important_sameend.fillna(DataScience.important_sameend.dropna().max(),inplace=True)\n",
    "# DataScience.important_newtech.fillna(DataScience.important_newtech.dropna().max(),inplace=True)\n",
    "# DataScience.important_buildnew.fillna(DataScience.important_buildnew.dropna().max(),inplace=True)\n",
    "# DataScience.important_buildexisting.fillna(DataScience.important_buildexisting.dropna().max(),inplace=True)\n",
    "# DataScience.important_promotion.fillna(DataScience.important_promotion.dropna().max(),inplace=True)\n",
    "# DataScience.important_companymission.fillna(DataScience.important_companymission.dropna().max(),inplace=True)\n",
    "# DataScience.important_wfh.fillna(DataScience.important_wfh.dropna().max(),inplace=True)\n",
    "# DataScience.important_ownoffice.fillna(DataScience.important_ownoffice.dropna().max(),inplace=True)\n",
    "# DataScience.developer_challenges.fillna(DataScience.developer_challenges.dropna().max(),inplace=True)\n",
    "# DataScience.why_stack_overflow.fillna(DataScience.why_stack_overflow.dropna().max(),inplace=True)\n",
    "\n",
    "\n",
    "\n",
    "\n"
   ]
  },
  {
   "cell_type": "code",
   "execution_count": 250,
   "metadata": {
    "collapsed": true
   },
   "outputs": [],
   "source": [
    "JobSurvey_dropna = JobSurvey.dropna()"
   ]
  },
  {
   "cell_type": "code",
   "execution_count": 251,
   "metadata": {
    "collapsed": true
   },
   "outputs": [],
   "source": [
    "DataScience_dropna = DataScience.dropna()"
   ]
  },
  {
   "cell_type": "markdown",
   "metadata": {},
   "source": [
    "## Part 1:  Predicting Salary\n",
    "\n",
    "The texts in this course have presented a number of regression models for predicting numeric values.\n",
    "\n",
    "Develop a \"regression\" model that predicts the <b>salary_midpoint</b> value (i.e., column number 15).\n",
    "\n",
    "You should use \"MSE\" (Minimum Squared Error) as the accuracy measure.\n",
    "Develop a model that reduces this error measure.\n",
    "\n",
    "This is asking you to produce the best model you can for each of the two datasets\n",
    "-- with the highest possible accuracy.\n",
    "In other words, you are asked to produce to models, and report the accuracy of each of them."
   ]
  },
  {
   "cell_type": "code",
   "execution_count": 252,
   "metadata": {
    "collapsed": true
   },
   "outputs": [],
   "source": [
    "##################################\n",
    "#DataScience dataset"
   ]
  },
  {
   "cell_type": "code",
   "execution_count": 253,
   "metadata": {
    "collapsed": false
   },
   "outputs": [],
   "source": [
    "features = ['Unnamed: 0', 'collector', 'country', 'un_subregion', 'so_region',\n",
    "       'age_range', 'age_midpoint', 'gender', 'self_identification',\n",
    "       'occupation', 'occupation_group', 'experience_range',\n",
    "       'experience_midpoint', 'salary_range', 'salary_midpoint',\n",
    "       'big_mac_index', 'tech_do', 'tech_want', 'aliens',\n",
    "       'programming_ability', 'employment_status', 'industry',\n",
    "       'company_size_range', 'team_size_range', 'women_on_team', 'remote',\n",
    "       'job_satisfaction', 'job_discovery', 'dev_environment',\n",
    "       'commit_frequency', 'hobby', 'dogs_vs_cats', 'desktop_os',\n",
    "       'unit_testing', 'rep_range', 'visit_frequency', 'why_learn_new_tech',\n",
    "       'education', 'open_to_new_job', 'new_job_value', 'job_search_annoyance',\n",
    "       'interview_likelihood', 'how_to_improve_interview_process',\n",
    "       'star_wars_vs_star_trek', 'agree_tech', 'agree_notice',\n",
    "       'agree_problemsolving', 'agree_diversity', 'agree_adblocker',\n",
    "       'agree_alcohol', 'agree_loveboss', 'agree_nightcode', 'agree_legacy',\n",
    "       'agree_mars', 'important_variety', 'important_control',\n",
    "       'important_sameend', 'important_newtech', 'important_buildnew',\n",
    "       'important_buildexisting', 'important_promotion',\n",
    "       'important_companymission', 'important_wfh', 'important_ownoffice',\n",
    "       'developer_challenges', 'why_stack_overflow', 'jobId']\n",
    "\n",
    "drop_list = ['salary_midpoint','Unnamed: 0','age_midpoint','un_subregion','so_region','occupation_group','experience_midpoint']"
   ]
  },
  {
   "cell_type": "code",
   "execution_count": null,
   "metadata": {
    "collapsed": false
   },
   "outputs": [],
   "source": []
  },
  {
   "cell_type": "code",
   "execution_count": 254,
   "metadata": {
    "collapsed": false
   },
   "outputs": [],
   "source": [
    "from sklearn import preprocessing\n",
    "le_rf = preprocessing.LabelEncoder()\n",
    "X_rf = DataScience_dropna.drop('salary_midpoint',1)\n",
    "X_rf = X_rf.drop('salary_range',1)\n",
    "X_rf = X_rf.drop('Unnamed: 0',1).drop('age_midpoint',1).drop('un_subregion',1).drop('so_region',1)\\\n",
    "    .drop('occupation_group',1).drop('experience_midpoint',1)\n",
    "X_rf_2 = X_rf.apply(le_rf.fit_transform)\n",
    "y_rf = DataScience_dropna['salary_midpoint']"
   ]
  },
  {
   "cell_type": "code",
   "execution_count": 255,
   "metadata": {
    "collapsed": false
   },
   "outputs": [],
   "source": [
    "from sklearn.cross_validation import train_test_split\n",
    "X_train_rf, X_test_rf, y_train_rf, y_test_rf = train_test_split(X_rf_2, y_rf, test_size=.2, random_state=42)"
   ]
  },
  {
   "cell_type": "code",
   "execution_count": 256,
   "metadata": {
    "collapsed": false
   },
   "outputs": [],
   "source": [
    "from sklearn.ensemble import RandomForestRegressor\n",
    "rfreg = RandomForestRegressor(n_estimators=100, criterion='mse', random_state=1000)\n",
    "\n",
    "# fit the model to the training data (learn the coefficients)\n",
    "rfreg.fit(X_train_rf, y_train_rf)\n",
    "\n",
    "y_pred_rf = rfreg.predict(X_test_rf)"
   ]
  },
  {
   "cell_type": "code",
   "execution_count": 257,
   "metadata": {
    "collapsed": false
   },
   "outputs": [
    {
     "name": "stdout",
     "output_type": "stream",
     "text": [
      "MAE:  24625.433526\n",
      "MSE:  1130393323.7\n",
      "RMSE:  33621.3224561\n",
      "R-squared:  0.5975152274\n"
     ]
    }
   ],
   "source": [
    "#calculate MAE using scikit-learn\n",
    "from sklearn import metrics\n",
    "import numpy as np\n",
    "print('MAE: ',metrics.mean_absolute_error(y_test_rf, y_pred_rf))\n",
    "\n",
    "#calculate MSE using scikit-learn\n",
    "print( 'MSE: ',metrics.mean_squared_error(y_test_rf, y_pred_rf))\n",
    "\n",
    "# calculate RMSE using scikit-learn\n",
    "print('RMSE: ',np.sqrt(metrics.mean_squared_error(y_test_rf, y_pred_rf)))\n",
    "\n",
    "# print the R-squared value for the model\n",
    "print('R-squared: ',rfreg.score(X_test_rf, y_test_rf))\n",
    "\n",
    "#compute classification accuracy for the logistic regression model\n",
    "#print(metrics.accuracy_score(y_test_rf, y_pred_rf))\n"
   ]
  },
  {
   "cell_type": "code",
   "execution_count": 258,
   "metadata": {
    "collapsed": false
   },
   "outputs": [
    {
     "data": {
      "image/png": "[encoded data removed]",
      "text/plain": [
       "<matplotlib.figure.Figure at 0xf258358>"
      ]
     },
     "metadata": {},
     "output_type": "display_data"
    }
   ],
   "source": [
    "import matplotlib.pyplot as plt\n",
    "fig, ax = plt.subplots()\n",
    "ax.scatter(y_test_rf, y_pred_rf)\n",
    "ax.plot([y_rf.min(), y_rf.max()], [y_rf.min(), y_rf.max()], 'k--', lw=4)\n",
    "ax.set_xlabel('Measured')\n",
    "ax.set_ylabel('Predicted')\n",
    "plt.show()\n"
   ]
  },
  {
   "cell_type": "code",
   "execution_count": 259,
   "metadata": {
    "collapsed": true
   },
   "outputs": [],
   "source": [
    "##################################\n",
    "#JobSurvey DataSet"
   ]
  },
  {
   "cell_type": "code",
   "execution_count": 260,
   "metadata": {
    "collapsed": false
   },
   "outputs": [],
   "source": [
    "le_rf_JS = preprocessing.LabelEncoder()\n",
    "\n",
    "X_JS_rf = JobSurvey_dropna.drop('salary_midpoint',1)\n",
    "X_JS_rf = X_JS_rf.drop('salary_range',1)\n",
    "X_JS_rf = X_JS_rf.drop('Unnamed: 0',1).drop('age_midpoint',1).drop('un_subregion',1).drop('so_region',1)\\\n",
    "    .drop('occupation_group',1).drop('experience_midpoint',1)\n",
    "X_JS_rf_2 = X_JS_rf.apply(le_rf_JS.fit_transform)\n",
    "y_JS_rf = JobSurvey_dropna['salary_midpoint']"
   ]
  },
  {
   "cell_type": "code",
   "execution_count": 261,
   "metadata": {
    "collapsed": false
   },
   "outputs": [],
   "source": [
    "from sklearn.cross_validation import train_test_split\n",
    "X_train_rf_JS, X_test_rf_JS, y_train_rf_JS, y_test_rf_JS = train_test_split(X_JS_rf_2, y_JS_rf , test_size=.2, random_state=42)"
   ]
  },
  {
   "cell_type": "code",
   "execution_count": 262,
   "metadata": {
    "collapsed": false
   },
   "outputs": [
    {
     "data": {
      "text/plain": [
       "RandomForestRegressor(bootstrap=True, criterion='mse', max_depth=None,\n",
       "           max_features='auto', max_leaf_nodes=None,\n",
       "           min_impurity_split=1e-07, min_samples_leaf=1,\n",
       "           min_samples_split=2, min_weight_fraction_leaf=0.0,\n",
       "           n_estimators=100, n_jobs=1, oob_score=False, random_state=1000,\n",
       "           verbose=0, warm_start=False)"
      ]
     },
     "execution_count": 262,
     "metadata": {},
     "output_type": "execute_result"
    }
   ],
   "source": [
    "from sklearn.ensemble import RandomForestRegressor\n",
    "rfreg_JS = RandomForestRegressor(n_estimators=100, criterion='mse', random_state=1000)\n",
    "\n",
    "# fit the model to the training data (learn the coefficients)\n",
    "rfreg_JS.fit(X_train_rf_JS, y_train_rf_JS)"
   ]
  },
  {
   "cell_type": "code",
   "execution_count": 263,
   "metadata": {
    "collapsed": false
   },
   "outputs": [],
   "source": [
    "y_pred_rf_JS = rfreg_JS.predict(X_test_rf_JS)"
   ]
  },
  {
   "cell_type": "code",
   "execution_count": 264,
   "metadata": {
    "collapsed": false
   },
   "outputs": [
    {
     "name": "stdout",
     "output_type": "stream",
     "text": [
      "MAE:  19220.8881052\n",
      "MSE:  758220441.648\n",
      "RMSE:  27535.8029055\n",
      "R-squared of Test values:  0.632134033859\n"
     ]
    }
   ],
   "source": [
    "#calculate MAE using scikit-learn\n",
    "from sklearn import metrics\n",
    "import numpy as np\n",
    "print('MAE: ', metrics.mean_absolute_error(y_test_rf_JS, y_pred_rf_JS))\n",
    "\n",
    "#calculate MSE using scikit-learn\n",
    "print('MSE: ', metrics.mean_squared_error(y_test_rf_JS, y_pred_rf_JS))\n",
    "\n",
    "# calculate RMSE using scikit-learn\n",
    "print('RMSE: ', np.sqrt(metrics.mean_squared_error(y_test_rf_JS, y_pred_rf_JS)))\n",
    "\n",
    "# print the R-squared value for the model\n",
    "print('R-squared of Test values: ', rfreg_JS.score(X_test_rf_JS, y_test_rf_JS))\n",
    "\n",
    "# compute classification accuracy for the logistic regression model\n",
    "#print(metrics.accuracy_score(y_test_rf_JS, y_pred_rf_JS))"
   ]
  },
  {
   "cell_type": "code",
   "execution_count": 265,
   "metadata": {
    "collapsed": false
   },
   "outputs": [
    {
     "data": {
      "image/png": "[encoded data removed]",
      "text/plain": [
       "<matplotlib.figure.Figure at 0xc191630>"
      ]
     },
     "metadata": {},
     "output_type": "display_data"
    }
   ],
   "source": [
    "import matplotlib.pyplot as plt\n",
    "fig, ax = plt.subplots()\n",
    "ax.scatter(y_test_rf_JS, y_pred_rf_JS)\n",
    "ax.plot([y_JS_rf.min(), y_JS_rf.max()], [y_JS_rf.min(), y_JS_rf.max()], 'k--', lw=4)\n",
    "ax.set_xlabel('Measured')\n",
    "ax.set_ylabel('Predicted')\n",
    "plt.show()"
   ]
  },
  {
   "cell_type": "code",
   "execution_count": null,
   "metadata": {
    "collapsed": true
   },
   "outputs": [],
   "source": []
  },
  {
   "cell_type": "markdown",
   "metadata": {},
   "source": [
    "## Part 2:  Predicting Job Satisfaction\n",
    "\n",
    "All of the tools covered in this course provide a large number of classifiers.\n",
    "\n",
    "Develop a classifier model that predicts the <b>job satisfaction</b> value (i.e., column number 27).\n",
    "\n",
    "More specifically, predict whether the value is <tt>\"I love my job\"</tt>.\n",
    "\n",
    "Please use \"accuracy rate\" (percentage of correct predictions) as the measure of accuracy for this analysis.\n",
    "For each of the two datasets, develop the best model you can -- with the highest possible accuracy.\n"
   ]
  },
  {
   "cell_type": "code",
   "execution_count": 266,
   "metadata": {
    "collapsed": true
   },
   "outputs": [],
   "source": [
    "##################################\n",
    "#DataScience DataSet"
   ]
  },
  {
   "cell_type": "code",
   "execution_count": 267,
   "metadata": {
    "collapsed": false,
    "scrolled": true
   },
   "outputs": [],
   "source": [
    "from sklearn import preprocessing\n",
    "\n",
    "DataScience_dropna_sat = DataScience_dropna.copy(deep=True)\n",
    "\n",
    "mask = (DataScience_dropna_sat.job_satisfaction == 'I love my job')\n",
    "DataScience_dropna_sat.loc[mask, 'job_satisfaction'] = 1\n",
    "DataScience_dropna_sat.loc[~mask, 'job_satisfaction'] = 0 \n",
    "\n",
    "\n",
    "le_rf = preprocessing.LabelEncoder()\n",
    "X_rf = DataScience_dropna_sat.drop('job_satisfaction',1)\n",
    "X_rf = X_rf.drop('Unnamed: 0',1).drop('age_midpoint',1).drop('un_subregion',1).drop('so_region',1)\\\n",
    "    .drop('occupation_group',1).drop('experience_midpoint',1)\n",
    "X_rf_2 = X_rf.apply(le_rf.fit_transform)\n",
    "y_rf = DataScience_dropna_sat['job_satisfaction']\n",
    "#y_rf_2 = y_rf.apply(le_rf.fit_transform)"
   ]
  },
  {
   "cell_type": "code",
   "execution_count": 268,
   "metadata": {
    "collapsed": true
   },
   "outputs": [],
   "source": [
    "from sklearn.cross_validation import train_test_split\n",
    "X_train_rf, X_test_rf, y_train_rf, y_test_rf = train_test_split(X_rf_2, y_rf, test_size=.2, random_state=42)"
   ]
  },
  {
   "cell_type": "code",
   "execution_count": 269,
   "metadata": {
    "collapsed": false
   },
   "outputs": [],
   "source": [
    "from sklearn.ensemble import RandomForestClassifier\n",
    "rfreg = RandomForestClassifier(n_estimators=100, criterion='gini', random_state=1000)\n",
    "\n",
    "# fit the model to the training data (learn the coefficients)\n",
    "rfreg.fit(X_train_rf, list(y_train_rf))\n",
    "\n",
    "y_pred_rf = rfreg.predict(X_test_rf)"
   ]
  },
  {
   "cell_type": "code",
   "execution_count": 270,
   "metadata": {
    "collapsed": false
   },
   "outputs": [
    {
     "name": "stdout",
     "output_type": "stream",
     "text": [
      "Accuracy:  0.739884393064\n"
     ]
    }
   ],
   "source": [
    "from sklearn import metrics\n",
    "import numpy as np\n",
    "\n",
    "# print the R-squared value for the model\n",
    "#print('R-squared: ', rfreg.score(X_test_rf, np.array(y_test_rf, dtype=int)))\n",
    "\n",
    "# compute classification accuracy for the logistic regression model\n",
    "print('Accuracy: ', metrics.accuracy_score(np.array(y_test_rf, dtype=int), y_pred_rf))"
   ]
  },
  {
   "cell_type": "code",
   "execution_count": null,
   "metadata": {
    "collapsed": true
   },
   "outputs": [],
   "source": []
  },
  {
   "cell_type": "code",
   "execution_count": 271,
   "metadata": {
    "collapsed": true
   },
   "outputs": [],
   "source": [
    "##################################\n",
    "#JobSurvey DataSet"
   ]
  },
  {
   "cell_type": "code",
   "execution_count": 272,
   "metadata": {
    "collapsed": false
   },
   "outputs": [],
   "source": [
    "JobSurvey_dropna_sat = JobSurvey_dropna.copy(deep=True)\n",
    "\n",
    "mask = (JobSurvey_dropna_sat.job_satisfaction == 'I love my job')\n",
    "JobSurvey_dropna_sat.loc[mask, 'job_satisfaction'] = 1\n",
    "JobSurvey_dropna_sat.loc[~mask, 'job_satisfaction'] = 0 \n",
    "\n",
    "\n",
    "le_rf = preprocessing.LabelEncoder()\n",
    "X_rf_JS = JobSurvey_dropna_sat.drop('job_satisfaction',1)\n",
    "X_rf_JS = X_rf_JS.drop('Unnamed: 0',1).drop('age_midpoint',1).drop('un_subregion',1).drop('so_region',1)\\\n",
    "    .drop('occupation_group',1).drop('experience_midpoint',1)\n",
    "X_rf_JS_2 = X_rf_JS.apply(le_rf.fit_transform)\n",
    "y_rf_JS = JobSurvey_dropna_sat['job_satisfaction']\n"
   ]
  },
  {
   "cell_type": "code",
   "execution_count": 273,
   "metadata": {
    "collapsed": true
   },
   "outputs": [],
   "source": [
    "from sklearn.cross_validation import train_test_split\n",
    "X_train_JS_rf, X_test_JS_rf, y_train_JS_rf, y_test_JS_rf = train_test_split(X_rf_JS_2, y_rf_JS, test_size=.2, random_state=42)"
   ]
  },
  {
   "cell_type": "code",
   "execution_count": 274,
   "metadata": {
    "collapsed": false
   },
   "outputs": [],
   "source": [
    "from sklearn.ensemble import RandomForestClassifier\n",
    "rfreg = RandomForestClassifier(n_estimators=100, criterion='gini', random_state=1000)\n",
    "\n",
    "# fit the model to the training data (learn the coefficients)\n",
    "rfreg.fit(X_train_JS_rf, list(y_train_JS_rf))\n",
    "\n",
    "y_pred_JS_rf = rfreg.predict(X_test_JS_rf)\n",
    "\n"
   ]
  },
  {
   "cell_type": "code",
   "execution_count": 275,
   "metadata": {
    "collapsed": false
   },
   "outputs": [
    {
     "name": "stdout",
     "output_type": "stream",
     "text": [
      "Accuracy:  0.761782622635\n"
     ]
    }
   ],
   "source": [
    "#calculate MAE using scikit-learn\n",
    "from sklearn import metrics\n",
    "import numpy as np\n",
    "#print(metrics.mean_absolute_error(y_test_rf, y_pred_rf))\n",
    "\n",
    "#calculate MSE using scikit-learn\n",
    "#print(metrics.mean_squared_error(y_test_rf, y_pred_rf))\n",
    "\n",
    "# calculate RMSE using scikit-learn\n",
    "#print(np.sqrt(metrics.mean_squared_error(y_test_rf, y_pred_rf)))\n",
    "\n",
    "# print the R-squared value for the model\n",
    "#print('R-squared: ',rfreg.score(X_test_JS_rf, np.array(y_test_JS_rf, dtype=int)))\n",
    "\n",
    "# compute classification accuracy for the logistic regression model\n",
    "print('Accuracy: ',metrics.accuracy_score(np.array(y_test_JS_rf, dtype=int), y_pred_JS_rf))"
   ]
  },
  {
   "cell_type": "code",
   "execution_count": null,
   "metadata": {
    "collapsed": false
   },
   "outputs": [],
   "source": []
  },
  {
   "cell_type": "code",
   "execution_count": null,
   "metadata": {
    "collapsed": true
   },
   "outputs": [],
   "source": []
  }
 ],
 "metadata": {
  "anaconda-cloud": {},
  "kernelspec": {
   "display_name": "Python [default]",
   "language": "python",
   "name": "python3"
  },
  "language_info": {
   "codemirror_mode": {
    "name": "ipython",
    "version": 3
   },
   "file_extension": ".py",
   "mimetype": "text/x-python",
   "name": "python",
   "nbconvert_exporter": "python",
   "pygments_lexer": "ipython3",
   "version": "3.5.2"
  }
 },
 "nbformat": 4,
 "nbformat_minor": 2
}
