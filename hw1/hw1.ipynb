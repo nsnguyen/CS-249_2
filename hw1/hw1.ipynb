{
 "cells": [
  {
   "cell_type": "code",
   "execution_count": 1,
   "metadata": {
    "collapsed": false
   },
   "outputs": [],
   "source": [
    "#Name: Nguyen Nguyen\n",
    "#ID: 004870721\n",
    "\n",
    "not.installed <- function(pkg) !is.element(pkg, installed.packages()[,1])\n",
    "\n",
    "if (not.installed(\"MASS\"))  install.packages(\"MASS\", repos = \"http://cran.us.r-project.org\")  # we need the MASS package\n",
    "\n",
    "\n"
   ]
  },
  {
   "cell_type": "code",
   "execution_count": 2,
   "metadata": {
    "collapsed": false
   },
   "outputs": [],
   "source": [
    "#load package\n",
    "library(MASS)"
   ]
  },
  {
   "cell_type": "code",
   "execution_count": 3,
   "metadata": {
    "collapsed": true
   },
   "outputs": [],
   "source": [
    "#Read in csv Format file. hw1_test_file.csv\n",
    "Table = data.matrix(read.csv(\"hw1_test_file.csv\", header=TRUE))"
   ]
  },
  {
   "cell_type": "code",
   "execution_count": 4,
   "metadata": {
    "collapsed": false
   },
   "outputs": [
    {
     "data": {
      "text/html": [
       "<table>\n",
       "<thead><tr><th scope=col>D1</th><th scope=col>D2</th><th scope=col>D3</th><th scope=col>D4</th><th scope=col>D5</th><th scope=col>D6</th></tr></thead>\n",
       "<tbody>\n",
       "\t<tr><td>1.564214 </td><td>0.8415668</td><td>7.628661 </td><td>8.7487201</td><td> 4.263017</td><td>4.191930 </td></tr>\n",
       "\t<tr><td>2.731029 </td><td>0.7392454</td><td>4.509516 </td><td>4.3974295</td><td>-1.274856</td><td>2.816493 </td></tr>\n",
       "\t<tr><td>1.708183 </td><td>0.6672123</td><td>1.892801 </td><td>3.0415664</td><td> 2.947167</td><td>2.771239 </td></tr>\n",
       "\t<tr><td>2.946161 </td><td>0.4378659</td><td>3.231396 </td><td>1.6755471</td><td> 9.464632</td><td>3.199926 </td></tr>\n",
       "\t<tr><td>8.580706 </td><td>0.7618903</td><td>1.683667 </td><td>2.2438655</td><td> 3.826596</td><td>6.305021 </td></tr>\n",
       "\t<tr><td>4.100573 </td><td>0.6010761</td><td>4.160650 </td><td>0.8998384</td><td> 6.400953</td><td>2.037575 </td></tr>\n",
       "</tbody>\n",
       "</table>\n"
      ],
      "text/latex": [
       "\\begin{tabular}{llllll}\n",
       " D1 & D2 & D3 & D4 & D5 & D6\\\\\n",
       "\\hline\n",
       "\t 1.564214  & 0.8415668 & 7.628661  & 8.7487201 &  4.263017 & 4.191930 \\\\\n",
       "\t 2.731029  & 0.7392454 & 4.509516  & 4.3974295 & -1.274856 & 2.816493 \\\\\n",
       "\t 1.708183  & 0.6672123 & 1.892801  & 3.0415664 &  2.947167 & 2.771239 \\\\\n",
       "\t 2.946161  & 0.4378659 & 3.231396  & 1.6755471 &  9.464632 & 3.199926 \\\\\n",
       "\t 8.580706  & 0.7618903 & 1.683667  & 2.2438655 &  3.826596 & 6.305021 \\\\\n",
       "\t 4.100573  & 0.6010761 & 4.160650  & 0.8998384 &  6.400953 & 2.037575 \\\\\n",
       "\\end{tabular}\n"
      ],
      "text/markdown": [
       "\n",
       "D1 | D2 | D3 | D4 | D5 | D6 | \n",
       "|---|---|---|---|---|---|\n",
       "| 1.564214  | 0.8415668 | 7.628661  | 8.7487201 |  4.263017 | 4.191930  | \n",
       "| 2.731029  | 0.7392454 | 4.509516  | 4.3974295 | -1.274856 | 2.816493  | \n",
       "| 1.708183  | 0.6672123 | 1.892801  | 3.0415664 |  2.947167 | 2.771239  | \n",
       "| 2.946161  | 0.4378659 | 3.231396  | 1.6755471 |  9.464632 | 3.199926  | \n",
       "| 8.580706  | 0.7618903 | 1.683667  | 2.2438655 |  3.826596 | 6.305021  | \n",
       "| 4.100573  | 0.6010761 | 4.160650  | 0.8998384 |  6.400953 | 2.037575  | \n",
       "\n",
       "\n"
      ],
      "text/plain": [
       "     D1       D2        D3       D4        D5        D6      \n",
       "[1,] 1.564214 0.8415668 7.628661 8.7487201  4.263017 4.191930\n",
       "[2,] 2.731029 0.7392454 4.509516 4.3974295 -1.274856 2.816493\n",
       "[3,] 1.708183 0.6672123 1.892801 3.0415664  2.947167 2.771239\n",
       "[4,] 2.946161 0.4378659 3.231396 1.6755471  9.464632 3.199926\n",
       "[5,] 8.580706 0.7618903 1.683667 2.2438655  3.826596 6.305021\n",
       "[6,] 4.100573 0.6010761 4.160650 0.8998384  6.400953 2.037575"
      ]
     },
     "metadata": {},
     "output_type": "display_data"
    }
   ],
   "source": [
    "head(Table)"
   ]
  },
  {
   "cell_type": "code",
   "execution_count": 5,
   "metadata": {
    "collapsed": true
   },
   "outputs": [],
   "source": [
    "Distribution = c( \"normal\", \"t\", \"chi-squared\", \"lognormal\", \"exponential\", \"gamma\", \"logistic\")\n",
    "Distribution_can_have_negative_values = c( TRUE, TRUE, FALSE, FALSE, FALSE, FALSE, TRUE )\n"
   ]
  },
  {
   "cell_type": "code",
   "execution_count": 12,
   "metadata": {
    "collapsed": false
   },
   "outputs": [
    {
     "name": "stdout",
     "output_type": "stream",
     "text": [
      "\n",
      "trying Dataset 1:\n",
      "normal 4 3\n",
      "               log-likelihood = -24419.095747\n",
      "t 4 2 5\n",
      "               log-likelihood = -24035.945475\n",
      "chi-squared 4\n",
      "               log-likelihood = -22580.732340\n",
      "lognormal 1 1\n",
      "               log-likelihood = -22995.743010\n",
      "exponential 0\n",
      "               log-likelihood = -23778.346244\n",
      "gamma 2 1\n",
      "               log-likelihood = -22579.654986\n",
      "logistic 4 1\n",
      "               log-likelihood = -24087.035660\n",
      "\n",
      "trying Dataset 2:\n",
      "normal 1 1\n",
      "               log-likelihood = -14430.775977\n",
      "t 1 1 3\n",
      "               log-likelihood = -13149.777894\n",
      "chi-squared 1\n",
      "               log-likelihood = -10777.018318\n",
      "lognormal -1 1\n",
      "               log-likelihood = -10931.260454\n",
      "exponential 1\n",
      "               log-likelihood = -10098.049493\n",
      "gamma 1 1\n",
      "               log-likelihood = -10097.451601\n",
      "logistic 1 1\n",
      "               log-likelihood = -13562.209755\n",
      "\n",
      "trying Dataset 3:\n",
      "normal 3 2\n",
      "               log-likelihood = -21252.869188\n",
      "t 3 2 88\n",
      "               log-likelihood = -21253.982403\n",
      "logistic 3 1\n",
      "               log-likelihood = -21355.497905\n",
      "\n",
      "trying Dataset 4:\n",
      "normal 4 6\n",
      "               log-likelihood = -31649.336709\n",
      "t 3 2 1\n",
      "               log-likelihood = -27011.669465\n",
      "chi-squared 4\n",
      "               log-likelihood = -26200.259701\n",
      "lognormal 1 1\n",
      "               log-likelihood = -24259.288773\n",
      "exponential 0\n",
      "               log-likelihood = -25039.590047\n",
      "gamma 1 0\n",
      "               log-likelihood = -24984.414856\n",
      "logistic 4 2\n",
      "               log-likelihood = -28974.186667\n",
      "\n",
      "trying Dataset 5:\n",
      "normal 3 4\n",
      "               log-likelihood = -27086.755374\n",
      "t 3 3 8\n",
      "               log-likelihood = -26950.478749\n",
      "logistic 3 2\n",
      "               log-likelihood = -26946.108452\n",
      "\n",
      "trying Dataset 6:\n",
      "normal 2 1\n",
      "               log-likelihood = -15248.206409\n",
      "t 2 1 9\n",
      "               log-likelihood = -15137.989615\n",
      "chi-squared 3\n",
      "               log-likelihood = -17543.121835\n",
      "lognormal 1 0\n",
      "               log-likelihood = -14669.330532\n",
      "exponential 0\n",
      "               log-likelihood = -19102.239655\n",
      "gamma 5 2\n",
      "               log-likelihood = -14520.329003\n",
      "logistic 2 1\n",
      "               log-likelihood = -15150.879783\n"
     ]
    }
   ],
   "source": [
    "for (j in 1:ncol(Table)){ #loop through each column from 1..6 (max columns)\n",
    "    Dataset = Table[,j] #create each Dataset object for each column\n",
    "    Dataset_is_nonnegative = !any( Dataset < 0 ) #check if any item in Dataset is negative.\n",
    "    cat(sprintf(\"\\ntrying Dataset %d:\\n\", j))\n",
    "    \n",
    "    for(i in 1:length(Distribution)){ #loop through each item in Distirbution from 1..7\n",
    "        dist_name = Distribution[i] #set distribution name\n",
    "        if(Distribution_can_have_negative_values[i] || Dataset_is_nonnegative){\n",
    "            # don't try to fit a nonnegative distribution to data that is negative\n",
    "            \n",
    "            if (dist_name == \"chi-squared\") {\n",
    "                # fitdistr requires special handling of chi-squared\n",
    "                fit = suppressWarnings( fitdistr( Dataset, dist_name,\n",
    "                                  list(df=round(mean(Dataset))), method=\"BFGS\" ) )\n",
    "            } else {\n",
    "                fit = suppressWarnings( fitdistr( Dataset, dist_name ) )\n",
    "            }\n",
    "            \n",
    "            #print(fit)\n",
    "            \n",
    "            fitted_parameters = fit$estimate\n",
    "            log_likelihood = fit$loglik\n",
    "            \n",
    "            # we round the parameter values so that they are integers.\n",
    "            parameter_value_string = paste(round(fitted_parameters), collapse=\" \")\n",
    "            \n",
    "            # print integer parameters\n",
    "            cat(sprintf(\"%s %s\\n\", dist_name, parameter_value_string))\n",
    "\n",
    "            # To show how good the fit is, we also print the log-likelihood here\n",
    "            cat(sprintf(\"               log-likelihood = %f\\n\", log_likelihood))\n",
    "            \n",
    "            # The optimal distribution is the one with maximum-likelihood\n",
    "            #  (and:  maximum-likelihood == maximum-log-likelihood).\n",
    "            # The optimal distribution needs to be tracked here .............\n",
    "            \n",
    "        }\n",
    "        \n",
    "    }\n",
    "    \n",
    "}\n"
   ]
  },
  {
   "cell_type": "code",
   "execution_count": null,
   "metadata": {
    "collapsed": true
   },
   "outputs": [],
   "source": []
  },
  {
   "cell_type": "code",
   "execution_count": null,
   "metadata": {
    "collapsed": true
   },
   "outputs": [],
   "source": []
  }
 ],
 "metadata": {
  "anaconda-cloud": {},
  "kernelspec": {
   "display_name": "R",
   "language": "R",
   "name": "ir"
  },
  "language_info": {
   "codemirror_mode": "r",
   "file_extension": ".r",
   "mimetype": "text/x-r-source",
   "name": "R",
   "pygments_lexer": "r",
   "version": "3.3.2"
  }
 },
 "nbformat": 4,
 "nbformat_minor": 2
}
