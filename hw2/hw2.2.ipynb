{
 "cells": [
  {
   "cell_type": "code",
   "execution_count": 35,
   "metadata": {
    "collapsed": false
   },
   "outputs": [
    {
     "name": "stdout",
     "output_type": "stream",
     "text": [
      "[1] \"iris\"\n",
      "50 0 0 \n",
      "0 48 1 \n",
      "0 2 49 \n",
      "50 0 0 \n",
      "0 48 1 \n",
      "0 2 49 \n"
     ]
    }
   ],
   "source": [
    "#Hw2.2\n",
    "\n",
    "LDA_and_QDA = function(Table){\n",
    "    \n",
    "    not.installed <- function(pkg) !is.element(pkg, installed.packages()[,1])\n",
    "    if (not.installed(\"MASS\"))  install.packages(\"MASS\")  # we need the MASS package\n",
    "    library(MASS) \n",
    "        \n",
    "    # printing only the mean value/centroid for each class\n",
    "    \n",
    "    #remove class in last column\n",
    "    X = data.matrix(Table[, 1:(ncol(Table)-1)])\n",
    "    \n",
    "    classifications = Table[, ncol(Table)]\n",
    "        \n",
    "    #putting unique classifications into classes\n",
    "    classes = as.character( unique(classifications) )\n",
    "    k = length(classes)\n",
    "    \n",
    "    y = unclass(classifications) #convert class to numeric indices\n",
    "    \n",
    "    n = nrow(X) #row\n",
    "    p = ncol(X) #column\n",
    "    \n",
    "    \n",
    "    # ... construct an LDA representation of X       \n",
    "    LDA.model = lda(y ~ X)\n",
    "    \n",
    "    #print(LDA.model)\n",
    "        \n",
    "    # Compute the LDA predictions (\"classifications\") for each input row.\n",
    "    LDA.classifications = predict(LDA.model, as.data.frame(X))$class\n",
    "        \n",
    "    #print(LDA.classifications)\n",
    "        \n",
    "    # ... determine for which rows in X the LDA classification differs from y\n",
    "    LDA.disagreements = (1:nrow(X))[LDA.classifications != y]\n",
    "        \n",
    "    #print(LDA.disagreements)\n",
    "    \n",
    "    # Tabulate the number of LDA classification values vs. y values\n",
    "    LDA.confusion.matrix = table(LDA.classifications, y)      \n",
    "    rownames(LDA.confusion.matrix) = classes\n",
    "    colnames(LDA.confusion.matrix) = classes\n",
    "    \n",
    "    #print(LDA.confusion.matrix)\n",
    "    \n",
    "    # ... print the confusion matrix for LDA\n",
    "    for (i in 1:nrow(LDA.confusion.matrix)) {\n",
    "       cat( LDA.confusion.matrix[i,], \"\\n\" )  # print each row as a sequence\n",
    "    }\n",
    "        \n",
    "    \n",
    "    \n",
    "    # ... construct a QDA representation of X\n",
    "    QDA.model <- qda(y ~ X)    \n",
    "            \n",
    "    # Compute the LDA predictions (\"classifications\") for each input row.\n",
    "    QDA.classifications = predict(QDA.model, as.data.frame(X))$class\n",
    "             \n",
    "    # ... determine for which rows in X the QDA classification differs from y\n",
    "    QDA.disagreements = (1:nrow(X))[QDA.classifications != y]\n",
    "              \n",
    "    \n",
    "    # Tabulate the number of LDA classification values vs. y values\n",
    "    QDA.confusion.matrix = table(QDA.classifications, y)      \n",
    "    rownames(QDA.confusion.matrix) = classes\n",
    "    colnames(QDA.confusion.matrix) = classes  \n",
    "        \n",
    "        \n",
    "    # ... print the confusion matrix for QDA\n",
    "    for (i in 1:nrow(QDA.confusion.matrix)) {\n",
    "       cat( QDA.confusion.matrix[i,], \"\\n\" )  # print each row as a sequence\n",
    "    }    \n",
    "       \n",
    "}\n",
    "        \n",
    "print('iris')\n",
    "LDA_and_QDA(iris)\n",
    "        \n",
    "# print('vowels')\n",
    "# Table = data.matrix(read.csv( 'vowels.csv', header=TRUE ))\n",
    "# LDA_and_QDA(Table)\n",
    "        \n",
    "        \n",
    "# print('spam')\n",
    "# Table = data.matrix(read.csv( 'spam.csv', header=TRUE ))\n",
    "# LDA_and_QDA(Table)\n",
    "\n"
   ]
  },
  {
   "cell_type": "code",
   "execution_count": null,
   "metadata": {
    "collapsed": false
   },
   "outputs": [],
   "source": [
    "\n"
   ]
  },
  {
   "cell_type": "code",
   "execution_count": null,
   "metadata": {
    "collapsed": true
   },
   "outputs": [],
   "source": []
  }
 ],
 "metadata": {
  "anaconda-cloud": {},
  "kernelspec": {
   "display_name": "R",
   "language": "R",
   "name": "ir"
  },
  "language_info": {
   "codemirror_mode": "r",
   "file_extension": ".r",
   "mimetype": "text/x-r-source",
   "name": "R",
   "pygments_lexer": "r",
   "version": "3.3.2"
  }
 },
 "nbformat": 4,
 "nbformat_minor": 1
}
