{
 "cells": [
  {
   "cell_type": "code",
   "execution_count": 1,
   "metadata": {
    "collapsed": true
   },
   "outputs": [],
   "source": [
    "#Hw3.1"
   ]
  },
  {
   "cell_type": "code",
   "execution_count": 71,
   "metadata": {
    "collapsed": false
   },
   "outputs": [
    {
     "name": "stdout",
     "output_type": "stream",
     "text": [
      "USAArrests\n",
      "2 \n",
      "1 \n",
      "3 1 2 2 \n",
      "33 \n",
      "33 \n",
      "9 \n",
      "MtCars\n",
      "2 \n",
      "2 \n",
      "6 4 4 1 3 4 2 2 3 1 2 \n",
      "15 \n",
      "15 \n",
      "15 \n",
      "inverted_mtcars\n",
      "2 \n",
      "2 \n",
      "6 4 4 3 4 4 4 4 4 2 2 \n",
      "15 \n",
      "15 \n",
      "15 \n"
     ]
    }
   ],
   "source": [
    "PCA = function(Table){\n",
    "    not.installed <- function(pkg) !is.element(pkg, installed.packages()[,1])\n",
    "    if (not.installed(\"ISLR\"))  install.packages(\"ISLR\")\n",
    "    library(ISLR)  #  load the ISLR package\n",
    "            \n",
    "   #computer principal components analysis (PCA)\n",
    "    pr.out= prcomp(Table, scale=TRUE) #scaling variables before  performing PCA\n",
    "    \n",
    "    #print(pr.out$rotation)\n",
    "    \n",
    "    #principale components (PC) are only unique up to a sign change\n",
    "    pr.out$rotation = -pr.out$rotation\n",
    "    pr.out$x = -pr.out$x \n",
    "    \n",
    "    #calculate the variance\n",
    "    pr.var = pr.out$sdev^2\n",
    "    \n",
    "    #compute the proportion of variance explained by each principal component\n",
    "    pve = pr.var/sum(pr.var)\n",
    "            \n",
    "    #Part A - Rule 1: Keep enough PCs to explain 70% of the variance\n",
    "    total_variance = 0\n",
    "    for(i in 1:length(pve)){\n",
    "        total_variance = total_variance + pve[i]\n",
    "        if (total_variance >= (70/100)){\n",
    "    #     cat( ... number of principal components to keep by Rule 1 ..., \"\\n\" )\n",
    "            cat(i, \"\\n\")\n",
    "            break\n",
    "        }\n",
    "    }\n",
    "        \n",
    "    #Part A - Rule 2: Keep All PCs whose correlation matrix eigenvalues are greater than 1\n",
    "    lambda = svd(cor(Table))$d\n",
    "        \n",
    "    total_lambda = 0   \n",
    "    for(i in 1:length(lambda)){\n",
    "        \n",
    "        if(lambda[i] >= 1){\n",
    "    #     cat( ... number of principal components to keep by Rule 2 ..., \"\\n\" )\n",
    "            total_lambda = total_lambda + 1\n",
    "        }\n",
    "    }\n",
    "    cat(total_lambda, \"\\n\")\n",
    "    \n",
    "    #Part B- Each PC is an eigenvector u. It has p entries for each variable.\n",
    "    #We say the q strongest loadings of u are the largest q entries u^2 whose sum exceeds 0.7\n",
    "        \n",
    "    PrincipalComponents = svd(cor(Table))$u\n",
    "    ComponentEntryRanks = apply(-PrincipalComponents^2, 2, rank)       \n",
    "    SortedSquaredComponents = apply(PrincipalComponents^2, 2, function(x) sort(x, decreasing=TRUE))\n",
    "    CumulativeSortedSquaredComponents = apply( SortedSquaredComponents, 2, cumsum)\n",
    "    \n",
    "    q_strongest_loadings = vector()   \n",
    "    for(i in 1:ncol(CumulativeSortedSquaredComponents)){       \n",
    "        for(j in 1:nrow(CumulativeSortedSquaredComponents)){\n",
    "            if(CumulativeSortedSquaredComponents[j,i] > 0.7){\n",
    "                q_strongest_loadings = append(q_strongest_loadings,j)\n",
    "                break\n",
    "            }\n",
    "        }\n",
    "    }   \n",
    "    #     cat( ... vector of numbers of strongest loadings for each PC, as defined above ..., \"\\n\" )\n",
    "    cat(q_strongest_loadings, \"\\n\")\n",
    "        \n",
    "    \n",
    "        \n",
    "    #Part C - Find the observations that have greatest influence on the PCs   \n",
    "    U = PrincipalComponents\n",
    "    Z = scale(Table, center=TRUE, scale=FALSE) %*% U\n",
    "    lambda = rep(1, nrow(Z)) %*% t(lambda)\n",
    "    \n",
    "    #     cat( ... the value of i that maximizes  a[i] ..., \"\\n\" )\n",
    "    a = apply(Z^2, 1, sum)\n",
    "    i = which(a == max(a))\n",
    "    cat(i, \"\\n\")\n",
    "     \n",
    "    #     cat( ... the value of i that maximizes  b[i] ..., \"\\n\" )\n",
    "    b = apply(Z^2/lambda, 1, sum)\n",
    "    i = which(b == max(b))\n",
    "    cat(i, \"\\n\")\n",
    "   \n",
    "    #     cat( ... the value of i that maximizes  c[i] ..., \"\\n\" )\n",
    "    c = apply(lambda*Z^2, 1, sum)\n",
    "    i = which(c == max(c))\n",
    "    cat(i, \"\\n\")\n",
    "        \n",
    "}\n",
    "                                    \n",
    "cat('USAArrests\\n')\n",
    "PCA(USArrests)\n",
    "                                    \n",
    "cat('MtCars\\n')                                    \n",
    "PCA(mtcars)\n",
    "\n",
    "cat('inverted_mtcars\\n')                                    \n",
    "inverted_mtcars = transform( mtcars, mpg = 1/mpg )                                    \n",
    "PCA(inverted_mtcars)\n"
   ]
  },
  {
   "cell_type": "code",
   "execution_count": null,
   "metadata": {
    "collapsed": true
   },
   "outputs": [],
   "source": []
  },
  {
   "cell_type": "code",
   "execution_count": null,
   "metadata": {
    "collapsed": true
   },
   "outputs": [],
   "source": []
  }
 ],
 "metadata": {
  "anaconda-cloud": {},
  "kernelspec": {
   "display_name": "R",
   "language": "R",
   "name": "ir"
  },
  "language_info": {
   "codemirror_mode": "r",
   "file_extension": ".r",
   "mimetype": "text/x-r-source",
   "name": "R",
   "pygments_lexer": "r",
   "version": "3.3.2"
  }
 },
 "nbformat": 4,
 "nbformat_minor": 1
}
