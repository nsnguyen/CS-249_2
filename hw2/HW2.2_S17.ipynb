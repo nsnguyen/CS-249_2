{
 "cells": [
  {
   "cell_type": "markdown",
   "metadata": {},
   "source": [
    "# HW2 Problem #2:  LDA and QDA\n",
    "\n",
    "## Due Sunday April 30, at 11:55pm"
   ]
  },
  {
   "cell_type": "markdown",
   "metadata": {},
   "source": [
    "### Problem:  given a tabular dataset of feature values $X$ and classes $\\boldsymbol{y}$, derive both LDA and QDA models, and determine how accurate they are.\n",
    "\n",
    "More specifically, develop a program that reads in a numeric table with X and y from stdin, determines the normal distribution parameters for X, and derive the LDA and QDA models described in Chapter 4.4 of the ISL text (an introduction), and Chapter 4.3 of the ESL text (more rigorous treatment).\n",
    "\n",
    "The columns of $X$ should all be numeric.  The values in the last column, $\\boldsymbol{y}$,\n",
    "can be either symbolic or numeric.\n",
    "For example, with the <tt>iris</tt> dataset, the last column is symbolic.\n",
    "\n",
    "Your program should print the <i>confusion matrix</i> for LDA,\n",
    "and also print the confusion matrix for QDA.\n",
    "\n",
    "If there are $k$ different classes, the confusion matrix is a $k \\times k$ table\n",
    "whose $i,j$-th entry is the number of times that an input row $\\boldsymbol{x}$\n",
    "was classified (by LDA or QDA) as being in class $i$, when in fact its $y$ value is $j$.\n",
    "\n",
    "Your program should print the confusion matrices both for LDA and for QDA.\n",
    "For example, with the iris dataset (as described below) the confusion matrices are 3x3, and your output should look like this:\n",
    "\n",
    "<pre>\n",
    "50 0 0\n",
    "0 48 1\n",
    "0 2 49\n",
    "50 0 0\n",
    "0 48 1\n",
    "0 2 49\n",
    "</pre>\n",
    "\n",
    "There are implementations of LDA and QDA in the MASS package,\n",
    "and you are permitted to use them.\n",
    "However, as the texts show, it is not difficult to implement either LDA or QDA.\n",
    "\n",
    "\n"
   ]
  },
  {
   "cell_type": "markdown",
   "metadata": {},
   "source": [
    "##  Centroids of the 3 classes in the iris dataset\n",
    "\n",
    "The $X$ matrix is of size $150 \\times 4$, with 4 features\n",
    "(Sepal Length, Sepal Width, Petal Length, Petal Width). The $150 \\times 1$ vector $\\boldsymbol{y}$ gives classes for these irises.\n",
    "Each of the 3 classes has 50 observations.\n",
    "\n",
    "We can compute the centroids of each class (means of each gaussian) using R.\n"
   ]
  },
  {
   "cell_type": "code",
   "execution_count": 2,
   "metadata": {
    "collapsed": false
   },
   "outputs": [
    {
     "name": "stdout",
     "output_type": "stream",
     "text": [
      "INDICES: 1\n",
      "  Sepal.Length    Sepal.Width     Petal.Length    Petal.Width   \n",
      " Min.   :4.300   Min.   :2.300   Min.   :1.000   Min.   :0.100  \n",
      " 1st Qu.:4.800   1st Qu.:3.200   1st Qu.:1.400   1st Qu.:0.200  \n",
      " Median :5.000   Median :3.400   Median :1.500   Median :0.200  \n",
      " Mean   :5.006   Mean   :3.428   Mean   :1.462   Mean   :0.246  \n",
      " 3rd Qu.:5.200   3rd Qu.:3.675   3rd Qu.:1.575   3rd Qu.:0.300  \n",
      " Max.   :5.800   Max.   :4.400   Max.   :1.900   Max.   :0.600  \n",
      "------------------------------------------------------------ \n",
      "INDICES: 2\n",
      "  Sepal.Length    Sepal.Width     Petal.Length   Petal.Width   \n",
      " Min.   :4.900   Min.   :2.000   Min.   :3.00   Min.   :1.000  \n",
      " 1st Qu.:5.600   1st Qu.:2.525   1st Qu.:4.00   1st Qu.:1.200  \n",
      " Median :5.900   Median :2.800   Median :4.35   Median :1.300  \n",
      " Mean   :5.936   Mean   :2.770   Mean   :4.26   Mean   :1.326  \n",
      " 3rd Qu.:6.300   3rd Qu.:3.000   3rd Qu.:4.60   3rd Qu.:1.500  \n",
      " Max.   :7.000   Max.   :3.400   Max.   :5.10   Max.   :1.800  \n",
      "------------------------------------------------------------ \n",
      "INDICES: 3\n",
      "  Sepal.Length    Sepal.Width     Petal.Length    Petal.Width   \n",
      " Min.   :4.900   Min.   :2.200   Min.   :4.500   Min.   :1.400  \n",
      " 1st Qu.:6.225   1st Qu.:2.800   1st Qu.:5.100   1st Qu.:1.800  \n",
      " Median :6.500   Median :3.000   Median :5.550   Median :2.000  \n",
      " Mean   :6.588   Mean   :2.974   Mean   :5.552   Mean   :2.026  \n",
      " 3rd Qu.:6.900   3rd Qu.:3.175   3rd Qu.:5.875   3rd Qu.:2.300  \n",
      " Max.   :7.900   Max.   :3.800   Max.   :6.900   Max.   :2.500  \n"
     ]
    }
   ],
   "source": [
    "data(iris)\n",
    "\n",
    "X = data.matrix(iris[,1:4]) #  equivalently:  X = data.matrix(iris[, -5 ])\n",
    "y = unclass(iris[,5])       #  equivalently:  y = unclass(iris$Species)\n",
    "\n",
    "# print summary statistics for each kind of iris\n",
    "\n",
    "print( by( X, y, summary ) )  # summarizes the subsets of X \"grouped by\" y\n",
    "\n",
    "# the Mean values in these summaries give the centroids of each cluster/MVN\n"
   ]
  },
  {
   "cell_type": "code",
   "execution_count": 3,
   "metadata": {
    "collapsed": false
   },
   "outputs": [
    {
     "name": "stdout",
     "output_type": "stream",
     "text": [
      "setosa \n",
      "Sepal.Length  Sepal.Width Petal.Length  Petal.Width \n",
      "       5.006        3.428        1.462        0.246 \n",
      "versicolor \n",
      "Sepal.Length  Sepal.Width Petal.Length  Petal.Width \n",
      "       5.936        2.770        4.260        1.326 \n",
      "virginica \n",
      "Sepal.Length  Sepal.Width Petal.Length  Petal.Width \n",
      "       6.588        2.974        5.552        2.026 \n"
     ]
    }
   ],
   "source": [
    "# printing only the mean value/centroid for each class\n",
    "\n",
    "classes = as.character( unique(iris$Species) )\n",
    "k = length(classes)\n",
    "\n",
    "for (j in 1:k) {\n",
    "    cat( classes[j], \"\\n\" )\n",
    "    Xc = subset( X, (y == j) )\n",
    "    print( apply(Xc, 2, mean) ) # vector of means for each column\n",
    "}"
   ]
  },
  {
   "cell_type": "markdown",
   "metadata": {},
   "source": [
    "##  Sample use of LDA and QDA -- with the iris dataset\n",
    "\n",
    "The $X$ matrix is of size $150 \\times 4$, with 4 features\n",
    "(Sepal Length, Sepal Width, Petal Length, Petal Width).\n",
    "Thus each column in this dataset is a random sample from a different distribution,\n",
    "but they are nontrivially correlated.\n",
    "\n",
    "The $150 \\times 1$ vector $\\boldsymbol{y}$ gives classes for these irises.\n",
    "Each of the 3 classes has 50 observations.\n"
   ]
  },
  {
   "cell_type": "code",
   "execution_count": 6,
   "metadata": {
    "collapsed": false
   },
   "outputs": [],
   "source": [
    "# load the MASS package, which includes simple implementations of LDA and QDA\n",
    "\n",
    "not.installed <- function(pkg) !is.element(pkg, installed.packages()[,1])\n",
    "\n",
    "if (not.installed(\"MASS\"))  install.packages(\"MASS\")  # we need the MASS package\n",
    "\n",
    "library(MASS)  #  load the MASS package\n",
    "\n",
    "  ?lda      #  help for the LDA classifier\n",
    "#  ?qda      #  help for the QDA classifier\n"
   ]
  },
  {
   "cell_type": "markdown",
   "metadata": {},
   "source": [
    "## run LDA on the iris data"
   ]
  },
  {
   "cell_type": "code",
   "execution_count": 21,
   "metadata": {
    "collapsed": false
   },
   "outputs": [
    {
     "name": "stdout",
     "output_type": "stream",
     "text": [
      "\n",
      "\n",
      "Centroids of the model:\n",
      "\n",
      "  XSepal.Length XSepal.Width XPetal.Length XPetal.Width\n",
      "1         5.006        3.428         1.462        0.246\n",
      "2         5.936        2.770         4.260        1.326\n",
      "3         6.588        2.974         5.552        2.026\n"
     ]
    }
   ],
   "source": [
    "X = data.matrix(iris[,1:4]) #  equivalently:  X = data.matrix(iris[, -5 ])\n",
    "y = unclass(iris[,5])       #  equivalently:  y = unclass(iris$Species)\n",
    "\n",
    "LDA.model <- lda(y ~ X)\n",
    "\n",
    "\n",
    "\n",
    "## equivalently:\n",
    "#  LDA.model <- qda(Species ~ ., iris)\n",
    "\n",
    "cat(\"\\n\\nCentroids of the model:\\n\\n\")\n",
    "print( LDA.model$means )\n",
    "\n",
    "# cat(\"\\n\\nScaling of the model:\\n\\n\")\n",
    "# print( LDA.model$scaling )\n",
    "\n",
    "# cat(\"\\n\\nWhat the model data structure looks like:\\n\\n\")\n",
    "# str(LDA.model)   #  str() lets us inspect all the information in the model data structure\n"
   ]
  },
  {
   "cell_type": "markdown",
   "metadata": {},
   "source": [
    "## In R, the function predict() is used to turn a model into a function\n",
    "\n",
    "If $M$ is a model, and $X$ is a (possibly new) set of $X$ values, then  <b>predict(M, X)</b> yields the vector of $\\boldsymbol{y}$ values predicted by the model for the input matrix $X$.\n",
    "\n",
    "If $M$ is a classification model, then <b>predict(M, X)</b> yields the classifications for feature vectors in the rows of $X$."
   ]
  },
  {
   "cell_type": "code",
   "execution_count": 23,
   "metadata": {
    "collapsed": false
   },
   "outputs": [
    {
     "name": "stdout",
     "output_type": "stream",
     "text": [
      "[1]  71  84 134\n"
     ]
    }
   ],
   "source": [
    "LDAclassifier = function(Model,X)  {\n",
    "   predict(Model, as.data.frame(X))$class\n",
    "}\n",
    "\n",
    "# Compute the LDA predictions (\"classifications\") for each input row.\n",
    "\n",
    "LDA.classifications = LDAclassifier(LDA.model, X)\n",
    "\n",
    "#print(LDA.classifications)\n",
    "\n",
    "# Find all points whose classifications didn't agree with LDA.\n",
    "\n",
    "LDA.disagreements = (1:nrow(X))[ LDA.classifications != y ]\n",
    "print(LDA.disagreements)  # print row numbers where LDA differed from y\n"
   ]
  },
  {
   "cell_type": "code",
   "execution_count": 24,
   "metadata": {
    "collapsed": false
   },
   "outputs": [
    {
     "name": "stdout",
     "output_type": "stream",
     "text": [
      "                   y\n",
      "LDA.classifications setosa versicolor virginica\n",
      "         setosa         50          0         0\n",
      "         versicolor      0         48         1\n",
      "         virginica       0          2        49\n"
     ]
    }
   ],
   "source": [
    "# Tabulate the number of LDA classification values vs. y values\n",
    "\n",
    "LDA.confusion.matrix = table( LDA.classifications, y )\n",
    "\n",
    "rownames( LDA.confusion.matrix ) = classes\n",
    "colnames( LDA.confusion.matrix ) = classes\n",
    "print( LDA.confusion.matrix )\n"
   ]
  },
  {
   "cell_type": "markdown",
   "metadata": {},
   "source": [
    "## Print the confusion matrix in the format required"
   ]
  },
  {
   "cell_type": "code",
   "execution_count": 14,
   "metadata": {
    "collapsed": false
   },
   "outputs": [
    {
     "name": "stdout",
     "output_type": "stream",
     "text": [
      "50 0 0 \n",
      "0 48 1 \n",
      "0 2 49 \n"
     ]
    }
   ],
   "source": [
    "print_matrix = function(Matrix) {\n",
    "    for (i in 1:nrow(Matrix)) {\n",
    "       cat( Matrix[i,], \"\\n\" )  # print each row as a sequence\n",
    "    }\n",
    "}\n",
    "\n",
    "\n",
    "LDA.confusion.matrix = table( LDA.classifications, y )\n",
    "\n",
    "print_matrix( LDA.confusion.matrix )\n"
   ]
  },
  {
   "cell_type": "markdown",
   "metadata": {},
   "source": [
    "## run QDA on the iris data"
   ]
  },
  {
   "cell_type": "code",
   "execution_count": 25,
   "metadata": {
    "collapsed": false
   },
   "outputs": [
    {
     "name": "stdout",
     "output_type": "stream",
     "text": [
      "\n",
      "\n",
      "Centroids of the model:\n",
      "\n",
      "  XSepal.Length XSepal.Width XPetal.Length XPetal.Width\n",
      "1         5.006        3.428         1.462        0.246\n",
      "2         5.936        2.770         4.260        1.326\n",
      "3         6.588        2.974         5.552        2.026\n",
      "\n",
      "\n",
      "Scaling of the model:\n",
      "\n",
      ", , 1\n",
      "\n",
      "                      1         2          3          4\n",
      "XSepal.Length -2.836962 -3.145110 -0.8878372 -0.4637981\n",
      "XSepal.Width   0.000000  3.938634  0.1263223 -0.2043238\n",
      "XPetal.Length  0.000000  0.000000  5.9785398 -1.7416275\n",
      "XPetal.Width   0.000000  0.000000  0.0000000 10.2978593\n",
      "\n",
      ", , 2\n",
      "\n",
      "                      1         2         3          4\n",
      "XSepal.Length -1.937342  1.197909  1.958819 -0.6910239\n",
      "XSepal.Width   0.000000 -3.746750  1.150301  2.0855780\n",
      "XPetal.Length  0.000000  0.000000 -3.389213  2.8839194\n",
      "XPetal.Width   0.000000  0.000000  0.000000 -9.3404922\n",
      "\n",
      ", , 3\n",
      "\n",
      "                     1          2          3          4\n",
      "XSepal.Length 1.572625 -0.8085097  2.6909994  0.4068814\n",
      "XSepal.Width  0.000000  3.4866013  0.0459556 -1.9279371\n",
      "XPetal.Length 0.000000  0.0000000 -3.6018203 -0.6578080\n",
      "XPetal.Width  0.000000  0.0000000  0.0000000  4.3947753\n",
      "\n",
      "\n",
      "\n",
      "What the model object looks like:\n",
      "\n",
      "List of 10\n",
      " $ prior  : Named num [1:3] 0.333 0.333 0.333\n",
      "  ..- attr(*, \"names\")= chr [1:3] \"1\" \"2\" \"3\"\n",
      " $ counts : Named int [1:3] 50 50 50\n",
      "  ..- attr(*, \"names\")= chr [1:3] \"1\" \"2\" \"3\"\n",
      " $ means  : num [1:3, 1:4] 5.01 5.94 6.59 3.43 2.77 ...\n",
      "  ..- attr(*, \"dimnames\")=List of 2\n",
      "  .. ..$ : chr [1:3] \"1\" \"2\" \"3\"\n",
      "  .. ..$ : chr [1:4] \"XSepal.Length\" \"XSepal.Width\" \"XPetal.Length\" \"XPetal.Width\"\n",
      " $ scaling: num [1:4, 1:4, 1:3] -2.84 0 0 0 -3.15 ...\n",
      "  ..- attr(*, \"dimnames\")=List of 3\n",
      "  .. ..$ : chr [1:4] \"XSepal.Length\" \"XSepal.Width\" \"XPetal.Length\" \"XPetal.Width\"\n",
      "  .. ..$ : chr [1:4] \"1\" \"2\" \"3\" \"4\"\n",
      "  .. ..$ : chr [1:3] \"1\" \"2\" \"3\"\n",
      " $ ldet   : num [1:3] -13.07 -10.87 -8.93\n",
      " $ lev    : chr [1:3] \"1\" \"2\" \"3\"\n",
      " $ N      : int 150\n",
      " $ call   : language qda(formula = y ~ X)\n",
      " $ terms  :Classes 'terms', 'formula'  language y ~ X\n",
      "  .. ..- attr(*, \"variables\")= language list(y, X)\n",
      "  .. ..- attr(*, \"factors\")= int [1:2, 1] 0 1\n",
      "  .. .. ..- attr(*, \"dimnames\")=List of 2\n",
      "  .. .. .. ..$ : chr [1:2] \"y\" \"X\"\n",
      "  .. .. .. ..$ : chr \"X\"\n",
      "  .. ..- attr(*, \"term.labels\")= chr \"X\"\n",
      "  .. ..- attr(*, \"order\")= int 1\n",
      "  .. ..- attr(*, \"intercept\")= int 1\n",
      "  .. ..- attr(*, \"response\")= int 1\n",
      "  .. ..- attr(*, \".Environment\")=<environment: R_GlobalEnv> \n",
      "  .. ..- attr(*, \"predvars\")= language list(y, X)\n",
      "  .. ..- attr(*, \"dataClasses\")= Named chr [1:2] \"numeric\" \"nmatrix.4\"\n",
      "  .. .. ..- attr(*, \"names\")= chr [1:2] \"y\" \"X\"\n",
      " $ xlevels: Named list()\n",
      " - attr(*, \"class\")= chr \"qda\"\n",
      "\n",
      "\n",
      "Numbers of misclassified instances with the Quadratic Discriminant:\n",
      "\n",
      "71 84 134 \n",
      "\n",
      "\n",
      "\n",
      "Data for the instances misclassified with the Quadratic Discriminant:\n",
      "\n",
      "    Sepal.Length Sepal.Width Petal.Length Petal.Width    Species\n",
      "71           5.9         3.2          4.8         1.8 versicolor\n",
      "84           6.0         2.7          5.1         1.6 versicolor\n",
      "134          6.3         2.8          5.1         1.5  virginica\n"
     ]
    }
   ],
   "source": [
    "QDA.model <- qda(y ~ X)\n",
    "\n",
    "## equivalently:\n",
    "#  QDA.model <- qda(Species ~ ., iris)\n",
    "\n",
    "cat(\"\\n\\nCentroids of the model:\\n\\n\")\n",
    "print( QDA.model$means )\n",
    "\n",
    "cat(\"\\n\\nScaling of the model:\\n\\n\")\n",
    "print( QDA.model$scaling )\n",
    "\n",
    "cat(\"\\n\\nWhat the model object looks like:\\n\\n\")\n",
    "str(QDA.model)   #  str() lets us inspect all the information in the model data structure\n",
    "\n",
    "QDAclassification = function(Model,X)  {\n",
    "   predict(Model,as.data.frame(X))$class\n",
    "}\n",
    "\n",
    "# find all points whose classifications didn't agree with QDA\n",
    "\n",
    "cat(\"\\n\\nNumbers of misclassified instances with the Quadratic Discriminant:\\n\\n\")\n",
    "\n",
    "QDA.disagreements = (1:nrow(X))[ QDAclassification(QDA.model, X) != y ]\n",
    "cat(QDA.disagreements, \"\\n\\n\")\n",
    "\n",
    "cat(\"\\n\\nData for the instances misclassified with the Quadratic Discriminant:\\n\\n\")\n",
    "\n",
    "print(iris[QDA.disagreements,])\n"
   ]
  },
  {
   "cell_type": "markdown",
   "metadata": {},
   "source": [
    "## That's it!  Now write an R function that does this for any table it is given.\n",
    "\n",
    "Write a function in R called <tt>LDA_and_QDA(Table)</tt>\n",
    "that takes an R data.frame called <tt>Table</tt>\n",
    "and then prints the confusion matrices for both LDA and for QDA.\n",
    "\n",
    "To get you started, your R function can be an extension of this outline below:\n",
    "\n",
    "<pre>\n",
    "LDA_and_QDA = function(Table) {\n",
    "\n",
    "    X = data.matrix( Table[, 1:(ncol(Table)-1) ]\n",
    "    classifications = Table[, ncol(Table) ]\n",
    "\n",
    "    y = unclass(classifications)  # convert the class values into numeric indices\n",
    "\n",
    "    n = nrow(X)\n",
    "    p = ncol(X)\n",
    "\n",
    "    # ... construct an LDA representation of X\n",
    "    # ... determine for which rows in X the LDA classification differs from y\n",
    "    # ... print the confusion matrix for LDA\n",
    "\n",
    "    # ... construct a QDA representation of X\n",
    "    # ... determine for which rows in X the QDA classification differs from y\n",
    "    # ... print the confusion matrix for QDA\n",
    "    \n",
    "}\n",
    "</pre>\n",
    "\n",
    "Put your function in a file called <tt>LDA_and_QDA.R</tt>, and upload it to CCLE."
   ]
  },
  {
   "cell_type": "markdown",
   "metadata": {},
   "source": [
    "# What your program's output should look like\n",
    "\n",
    "For example, with the iris dataset, the confusion matrices are $3 \\times 3$, and it turns out the LDA and QDA matrices are identical.\n",
    "Thus the output should look like this:\n",
    "\n",
    "<pre>\n",
    "50 0 0\n",
    "0 48 1\n",
    "0 2 49\n",
    "50 0 0\n",
    "0 48 1\n",
    "0 2 49\n",
    "</pre>"
   ]
  },
  {
   "cell_type": "markdown",
   "metadata": {},
   "source": [
    "#  Before submitting it, test your function on two datasets:\n",
    "\n",
    "### 1. Try your function on the \"vowels\" dataset.\n",
    "\n",
    "<pre>\n",
    "vowels = read.csv(\"vowels.csv\", header=TRUE)  # vowels.csv is included with this assignment\n",
    "\n",
    "LDA_and_QDA(vowels)\n",
    "\n",
    "##  'y', the last column, is an integer between 1 and 11 (the classification of the vowel sound).\n",
    "</pre>\n",
    "\n",
    "### 2. Try your function on the \"spam\" dataset.\n",
    "\n",
    "<pre>\n",
    "spam = read.csv(\"spam.csv\", header=TRUE)  # spam.csv is included with this assignment\n",
    "\n",
    "LDA_and_QDA(spam)\n",
    "\n",
    "##  'is_spam', the last column, is 2 if the classification is spam, 1 if not spam.\n",
    "</pre>\n",
    "\n",
    "You can include your output for these two tests in your notebook here,\n",
    "or in some separate file.\n",
    "Submit this output along with the rest of your HW2 materials.\n",
    "\n",
    "## Then:  Upload to CCLE both your R function file <tt>LDA_and_QDA.R</tt> and its output for these two test datasets."
   ]
  },
  {
   "cell_type": "code",
   "execution_count": null,
   "metadata": {
    "collapsed": true
   },
   "outputs": [],
   "source": []
  }
 ],
 "metadata": {
  "anaconda-cloud": {},
  "kernelspec": {
   "display_name": "R",
   "language": "R",
   "name": "ir"
  },
  "language_info": {
   "codemirror_mode": "r",
   "file_extension": ".r",
   "mimetype": "text/x-r-source",
   "name": "R",
   "pygments_lexer": "r",
   "version": "3.3.2"
  }
 },
 "nbformat": 4,
 "nbformat_minor": 0
}
