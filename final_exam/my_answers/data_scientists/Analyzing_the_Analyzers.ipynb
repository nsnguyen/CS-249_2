{
 "cells": [
  {
   "cell_type": "markdown",
   "metadata": {},
   "source": [
    "Copyright &copy; 2017 D.S. Parker"
   ]
  },
  {
   "cell_type": "markdown",
   "metadata": {},
   "source": [
    "# Final Exam Problem: Analyzing The Analyzers\n",
    "\n",
    "\n",
    "The goal of this problem is to define \"Data Scientists\", based on the StackOverflow Tech Job Survey,\n",
    "using nonnegative matrix factorization.\n",
    "\n",
    "This is the method used in the O'Reilly booklet <b>Analyzing the Analyzers</b>\n",
    "discussed at the start of this course."
   ]
  },
  {
   "cell_type": "markdown",
   "metadata": {},
   "source": [
    "For this problem,\n",
    "however, you are asked to use the Stackoverflow data that you used in HW6,\n",
    "rather than the survey the authors used.\n",
    "\n",
    "(Stackoverflow does a large survey of tech workers on jobs:\n",
    "https://insights.stackoverflow.com/survey )"
   ]
  },
  {
   "cell_type": "code",
   "execution_count": 80,
   "metadata": {
    "collapsed": true
   },
   "outputs": [],
   "source": [
    "import matplotlib.pyplot as plt\n",
    "%matplotlib inline\n",
    "\n",
    "import numpy as np\n",
    "from patsy import dmatrices\n",
    "\n",
    "import pandas as pd\n",
    "from pandas import Series, DataFrame\n",
    "\n",
    "import statsmodels.api as sm\n",
    "\n",
    "from sklearn import datasets, svm\n",
    "\n",
    "from sklearn.decomposition import NMF\n",
    "from sklearn import preprocessing"
   ]
  },
  {
   "cell_type": "markdown",
   "metadata": {},
   "source": [
    "## Part 0:  Getting the Survey data\n",
    "\n",
    "First, go to the survey site and download the 2016 data:\n",
    "https://insights.stackoverflow.com/survey\n",
    "    \n",
    "(The results of the 2017 survey are there, but the data is not yet available for download now.)"
   ]
  },
  {
   "cell_type": "markdown",
   "metadata": {},
   "source": [
    "# IMPORTANT\n",
    "\n",
    "For this problem, we want you to extract a subset of the data involving <i>data science</i>,\n",
    "and compare the results for it with results for the entire dataset.\n",
    "\n",
    "The <b>occupation</b> column in the dataset (i.e., column number 10)\n",
    "involves job titles.  Please extract all rows that have\n",
    "any of the job titles of interest here\n",
    "(with the number of occurrences listed first):\n",
    "<ul><li>\n",
    "<b>Business intelligence or data warehousing expert</b> (392 occurrences)\n",
    "</li><li>\n",
    "<b>Data scientist</b> (800 occurrences)\n",
    "</li><li>\n",
    "<b>Developer with a statistics or mathematics background</b>  (960)\n",
    "</li><li>\n",
    "<b>Machine learning developer</b> (385).\n",
    "</li></ul>\n",
    "\n",
    "For this problem, extract all rows with these job titles into a <tt>DataScience</tt> table with about 2500 rows.\n",
    "\n",
    "<!--\n",
    "We also want you to consider the entire dataset; for simplicity let's call it <tt>JobSurvey</tt>.\n",
    "-->"
   ]
  },
  {
   "cell_type": "code",
   "execution_count": 120,
   "metadata": {
    "collapsed": false
   },
   "outputs": [
    {
     "data": {
      "text/plain": [
       "(56030, 66)"
      ]
     },
     "execution_count": 120,
     "metadata": {},
     "output_type": "execute_result"
    }
   ],
   "source": [
    "JobSurvey = pd.read_csv('2016 Stack Overflow Survey Results/2016 Stack Overflow Survey Responses.csv')\n",
    "\n",
    "JobSurvey.shape"
   ]
  },
  {
   "cell_type": "markdown",
   "metadata": {},
   "source": [
    "#  IN THIS ASSIGNMENT, DROP MISSING VALUES CAREFULLY\n",
    "\n",
    "Instead of dropping all rows with nulls (a drastic solution), first selectively delete columns in a way that maximizes the size of the \"data scientist\" dataset.\n"
   ]
  },
  {
   "cell_type": "markdown",
   "metadata": {},
   "source": [
    "## A nice way to avoid missing values:  some missing values are not 'NA's\n",
    "\n",
    "Your alert classmate Phillip David discovered that the 'star_wars_vs_star_trek' column\n",
    "was based on a question that permitted '' (empty string) as an answer.\n",
    "This gets turned into NaN by Pandas when reading in data.\n",
    "\n",
    "So this column should have something like '' instead of NaN\n",
    "(after Pandas reads in the data).\n",
    "Thus we can use .fillna('') to replace all the NaNs in this column.\n",
    "\n",
    "In fact, Phillip showed that lots of columns can get fixed this way:\n",
    "<pre>\n",
    "self_identification,\n",
    "education,\n",
    "tech_do,\n",
    "tech_want,\n",
    "how_to_improve_interview_process,\n",
    "why_stack_overflow,\n",
    "dev_environment,\n",
    "developer_challenges,\n",
    "star_wars_vs_star_trek,\n",
    "new_job_value\n",
    "</pre>\n",
    "\n",
    "The code below repairs each of these columns."
   ]
  },
  {
   "cell_type": "code",
   "execution_count": 121,
   "metadata": {
    "collapsed": false
   },
   "outputs": [
    {
     "data": {
      "text/plain": [
       "0          NaN\n",
       "1    Star Wars\n",
       "2          NaN\n",
       "3          NaN\n",
       "4          NaN\n",
       "Name: star_wars_vs_star_trek, dtype: object"
      ]
     },
     "execution_count": 121,
     "metadata": {},
     "output_type": "execute_result"
    }
   ],
   "source": [
    "JobSurvey['star_wars_vs_star_trek'].head()"
   ]
  },
  {
   "cell_type": "code",
   "execution_count": 122,
   "metadata": {
    "collapsed": false
   },
   "outputs": [
    {
     "data": {
      "text/plain": [
       "0             \n",
       "1    Star Wars\n",
       "2             \n",
       "3             \n",
       "4             \n",
       "Name: star_wars_vs_star_trek, dtype: object"
      ]
     },
     "execution_count": 122,
     "metadata": {},
     "output_type": "execute_result"
    }
   ],
   "source": [
    "JobSurvey['star_wars_vs_star_trek'] = JobSurvey['star_wars_vs_star_trek'].fillna('')\n",
    "\n",
    "JobSurvey['star_wars_vs_star_trek'].head()"
   ]
  },
  {
   "cell_type": "code",
   "execution_count": 123,
   "metadata": {
    "collapsed": false
   },
   "outputs": [
    {
     "data": {
      "text/html": [
       "<div>\n",
       "<table border=\"1\" class=\"dataframe\">\n",
       "  <thead>\n",
       "    <tr style=\"text-align: right;\">\n",
       "      <th></th>\n",
       "      <th>self_identification</th>\n",
       "      <th>education</th>\n",
       "      <th>tech_do</th>\n",
       "      <th>tech_want</th>\n",
       "      <th>how_to_improve_interview_process</th>\n",
       "      <th>why_stack_overflow</th>\n",
       "      <th>dev_environment</th>\n",
       "      <th>developer_challenges</th>\n",
       "      <th>star_wars_vs_star_trek</th>\n",
       "      <th>new_job_value</th>\n",
       "    </tr>\n",
       "  </thead>\n",
       "  <tbody>\n",
       "    <tr>\n",
       "      <th>0</th>\n",
       "      <td>Programmer</td>\n",
       "      <td></td>\n",
       "      <td></td>\n",
       "      <td></td>\n",
       "      <td></td>\n",
       "      <td></td>\n",
       "      <td></td>\n",
       "      <td></td>\n",
       "      <td></td>\n",
       "      <td></td>\n",
       "    </tr>\n",
       "    <tr>\n",
       "      <th>1</th>\n",
       "      <td>Developer; Engineer; Programmer</td>\n",
       "      <td>I'm self-taught; On-the-job training; B.S. in ...</td>\n",
       "      <td>iOS; Objective-C</td>\n",
       "      <td>Swift</td>\n",
       "      <td>Show me more live code; Introduce me to the te...</td>\n",
       "      <td>To get help for my job; Because I can't do my ...</td>\n",
       "      <td>TextMate; Xcode</td>\n",
       "      <td>Unrealistic expectations; Interacting with non...</td>\n",
       "      <td>Star Wars</td>\n",
       "      <td>Salary; Ability to make or influence important...</td>\n",
       "    </tr>\n",
       "    <tr>\n",
       "      <th>2</th>\n",
       "      <td></td>\n",
       "      <td></td>\n",
       "      <td></td>\n",
       "      <td></td>\n",
       "      <td></td>\n",
       "      <td></td>\n",
       "      <td></td>\n",
       "      <td></td>\n",
       "      <td></td>\n",
       "      <td></td>\n",
       "    </tr>\n",
       "    <tr>\n",
       "      <th>3</th>\n",
       "      <td>Engineer</td>\n",
       "      <td>I'm self-taught; On-the-job training</td>\n",
       "      <td></td>\n",
       "      <td></td>\n",
       "      <td>Be more flexible about interview scheduling; O...</td>\n",
       "      <td>To get help for my job; Beacause I love to learn</td>\n",
       "      <td>Visual Studio</td>\n",
       "      <td>Corporate policies; Interacting with non-techn...</td>\n",
       "      <td></td>\n",
       "      <td>Office location; Remote working option; Flexib...</td>\n",
       "    </tr>\n",
       "    <tr>\n",
       "      <th>4</th>\n",
       "      <td>Developer; Engineer; Programmer; Sr. Developer...</td>\n",
       "      <td></td>\n",
       "      <td></td>\n",
       "      <td></td>\n",
       "      <td></td>\n",
       "      <td></td>\n",
       "      <td></td>\n",
       "      <td></td>\n",
       "      <td></td>\n",
       "      <td></td>\n",
       "    </tr>\n",
       "  </tbody>\n",
       "</table>\n",
       "</div>"
      ],
      "text/plain": [
       "                                 self_identification  \\\n",
       "0                                         Programmer   \n",
       "1                    Developer; Engineer; Programmer   \n",
       "2                                                      \n",
       "3                                           Engineer   \n",
       "4  Developer; Engineer; Programmer; Sr. Developer...   \n",
       "\n",
       "                                           education           tech_do  \\\n",
       "0                                                                        \n",
       "1  I'm self-taught; On-the-job training; B.S. in ...  iOS; Objective-C   \n",
       "2                                                                        \n",
       "3               I'm self-taught; On-the-job training                     \n",
       "4                                                                        \n",
       "\n",
       "  tech_want                   how_to_improve_interview_process  \\\n",
       "0                                                                \n",
       "1     Swift  Show me more live code; Introduce me to the te...   \n",
       "2                                                                \n",
       "3            Be more flexible about interview scheduling; O...   \n",
       "4                                                                \n",
       "\n",
       "                                  why_stack_overflow  dev_environment  \\\n",
       "0                                                                       \n",
       "1  To get help for my job; Because I can't do my ...  TextMate; Xcode   \n",
       "2                                                                       \n",
       "3   To get help for my job; Beacause I love to learn    Visual Studio   \n",
       "4                                                                       \n",
       "\n",
       "                                developer_challenges star_wars_vs_star_trek  \\\n",
       "0                                                                             \n",
       "1  Unrealistic expectations; Interacting with non...              Star Wars   \n",
       "2                                                                             \n",
       "3  Corporate policies; Interacting with non-techn...                          \n",
       "4                                                                             \n",
       "\n",
       "                                       new_job_value  \n",
       "0                                                     \n",
       "1  Salary; Ability to make or influence important...  \n",
       "2                                                     \n",
       "3  Office location; Remote working option; Flexib...  \n",
       "4                                                     "
      ]
     },
     "execution_count": 123,
     "metadata": {},
     "output_type": "execute_result"
    }
   ],
   "source": [
    "Phillips_repairable_columns = 'self_identification,education,tech_do,tech_want,\\\n",
    "how_to_improve_interview_process,why_stack_overflow,dev_environment,\\\n",
    "developer_challenges,star_wars_vs_star_trek,new_job_value'.split(',')\n",
    "#  the .split(',') method turns this into a list of strings\n",
    "\n",
    "for column in Phillips_repairable_columns:\n",
    "    JobSurvey[column] = JobSurvey[column].fillna('')\n",
    "    \n",
    "JobSurvey[Phillips_repairable_columns].head()"
   ]
  },
  {
   "cell_type": "markdown",
   "metadata": {},
   "source": [
    "##  Another column that can be fixed:  The Big Mac Index\n",
    "\n",
    "The 'Big Mac Index' is the Jan 2016 local price of a Big Mac divided by dollar price,\n",
    "and is inferrable from Country.  See:  http://www.economist.com/content/big-mac-index\n",
    "\n",
    "The index is only tracked by the Economist in 56 countries, and so is not always entered.\n",
    "Since it is undefined mainly by poor countries, we just fillna(...) with the highest value."
   ]
  },
  {
   "cell_type": "code",
   "execution_count": 124,
   "metadata": {
    "collapsed": false
   },
   "outputs": [
    {
     "data": {
      "text/plain": [
       "6.4400000000000004"
      ]
     },
     "execution_count": 124,
     "metadata": {},
     "output_type": "execute_result"
    }
   ],
   "source": [
    "max_big_mac_index = JobSurvey['big_mac_index'].max()\n",
    "max_big_mac_index"
   ]
  },
  {
   "cell_type": "code",
   "execution_count": 125,
   "metadata": {
    "collapsed": true
   },
   "outputs": [],
   "source": [
    "JobSurvey['big_mac_index'] = JobSurvey['big_mac_index'].fillna(max_big_mac_index)"
   ]
  },
  {
   "cell_type": "code",
   "execution_count": 126,
   "metadata": {
    "collapsed": false
   },
   "outputs": [
    {
     "data": {
      "text/plain": [
       "0    6.44\n",
       "1    6.44\n",
       "2    6.44\n",
       "3    6.44\n",
       "4    6.44\n",
       "Name: big_mac_index, dtype: float64"
      ]
     },
     "execution_count": 126,
     "metadata": {},
     "output_type": "execute_result"
    }
   ],
   "source": [
    "JobSurvey['big_mac_index'].head()"
   ]
  },
  {
   "cell_type": "markdown",
   "metadata": {},
   "source": [
    "## Taking Stock:  Find out how many values are non-null in each column"
   ]
  },
  {
   "cell_type": "code",
   "execution_count": 127,
   "metadata": {
    "collapsed": false
   },
   "outputs": [
    {
     "data": {
      "text/plain": [
       "Unnamed: 0                          56030\n",
       "collector                           56030\n",
       "country                             55528\n",
       "un_subregion                        55313\n",
       "so_region                           55390\n",
       "age_range                           55727\n",
       "age_midpoint                        55336\n",
       "gender                              55586\n",
       "self_identification                 56030\n",
       "occupation                          49519\n",
       "occupation_group                    46934\n",
       "experience_range                    49520\n",
       "experience_midpoint                 49520\n",
       "salary_range                        46121\n",
       "salary_midpoint                     41742\n",
       "big_mac_index                       56030\n",
       "tech_do                             56030\n",
       "tech_want                           56030\n",
       "aliens                              49177\n",
       "programming_ability                 46982\n",
       "employment_status                   49576\n",
       "industry                            40110\n",
       "company_size_range                  39932\n",
       "team_size_range                     39962\n",
       "women_on_team                       39808\n",
       "remote                              40118\n",
       "job_satisfaction                    40110\n",
       "job_discovery                       40027\n",
       "dev_environment                     56030\n",
       "commit_frequency                    46598\n",
       "                                    ...  \n",
       "why_learn_new_tech                  46145\n",
       "education                           56030\n",
       "open_to_new_job                     44380\n",
       "new_job_value                       56030\n",
       "job_search_annoyance                42851\n",
       "interview_likelihood                42263\n",
       "how_to_improve_interview_process    56030\n",
       "star_wars_vs_star_trek              56030\n",
       "agree_tech                          42662\n",
       "agree_notice                        42755\n",
       "agree_problemsolving                42659\n",
       "agree_diversity                     42505\n",
       "agree_adblocker                     42627\n",
       "agree_alcohol                       42692\n",
       "agree_loveboss                      42096\n",
       "agree_nightcode                     42613\n",
       "agree_legacy                        42382\n",
       "agree_mars                          42685\n",
       "important_variety                   42628\n",
       "important_control                   42572\n",
       "important_sameend                   42531\n",
       "important_newtech                   42604\n",
       "important_buildnew                  42538\n",
       "important_buildexisting             42580\n",
       "important_promotion                 42483\n",
       "important_companymission            42529\n",
       "important_wfh                       42582\n",
       "important_ownoffice                 42538\n",
       "developer_challenges                56030\n",
       "why_stack_overflow                  56030\n",
       "dtype: int64"
      ]
     },
     "execution_count": 127,
     "metadata": {},
     "output_type": "execute_result"
    }
   ],
   "source": [
    "JobSurvey.count()"
   ]
  },
  {
   "cell_type": "markdown",
   "metadata": {},
   "source": [
    "## Taking Stock for \"data scientists\": determining which columns have the most missing values\n",
    "\n",
    "With this information, we can omit columns that have the most missing values (below)."
   ]
  },
  {
   "cell_type": "code",
   "execution_count": 128,
   "metadata": {
    "collapsed": false
   },
   "outputs": [
    {
     "data": {
      "text/plain": [
       "Unnamed: 0                          800\n",
       "collector                           800\n",
       "country                             796\n",
       "un_subregion                        795\n",
       "so_region                           795\n",
       "age_range                           796\n",
       "age_midpoint                        786\n",
       "gender                              797\n",
       "self_identification                 800\n",
       "occupation                          800\n",
       "occupation_group                    800\n",
       "experience_range                    795\n",
       "experience_midpoint                 795\n",
       "salary_range                        735\n",
       "salary_midpoint                     686\n",
       "big_mac_index                       800\n",
       "tech_do                             800\n",
       "tech_want                           800\n",
       "aliens                              791\n",
       "programming_ability                 746\n",
       "employment_status                   797\n",
       "industry                            677\n",
       "company_size_range                  666\n",
       "team_size_range                     666\n",
       "women_on_team                       665\n",
       "remote                              674\n",
       "job_satisfaction                    674\n",
       "job_discovery                       670\n",
       "dev_environment                     800\n",
       "commit_frequency                    750\n",
       "                                   ... \n",
       "why_learn_new_tech                  741\n",
       "education                           800\n",
       "open_to_new_job                     711\n",
       "new_job_value                       800\n",
       "job_search_annoyance                689\n",
       "interview_likelihood                674\n",
       "how_to_improve_interview_process    800\n",
       "star_wars_vs_star_trek              800\n",
       "agree_tech                          671\n",
       "agree_notice                        668\n",
       "agree_problemsolving                668\n",
       "agree_diversity                     669\n",
       "agree_adblocker                     668\n",
       "agree_alcohol                       670\n",
       "agree_loveboss                      665\n",
       "agree_nightcode                     667\n",
       "agree_legacy                        666\n",
       "agree_mars                          669\n",
       "important_variety                   666\n",
       "important_control                   665\n",
       "important_sameend                   667\n",
       "important_newtech                   667\n",
       "important_buildnew                  667\n",
       "important_buildexisting             666\n",
       "important_promotion                 663\n",
       "important_companymission            667\n",
       "important_wfh                       666\n",
       "important_ownoffice                 667\n",
       "developer_challenges                800\n",
       "why_stack_overflow                  800\n",
       "dtype: int64"
      ]
     },
     "execution_count": 128,
     "metadata": {},
     "output_type": "execute_result"
    }
   ],
   "source": [
    "JobSurvey[ JobSurvey.occupation == 'Data scientist' ].count()"
   ]
  },
  {
   "cell_type": "code",
   "execution_count": 129,
   "metadata": {
    "collapsed": false
   },
   "outputs": [
    {
     "data": {
      "text/html": [
       "<div>\n",
       "<table border=\"1\" class=\"dataframe\">\n",
       "  <thead>\n",
       "    <tr style=\"text-align: right;\">\n",
       "      <th></th>\n",
       "      <th>Unnamed: 0</th>\n",
       "      <th>collector</th>\n",
       "      <th>country</th>\n",
       "      <th>un_subregion</th>\n",
       "      <th>so_region</th>\n",
       "      <th>age_range</th>\n",
       "      <th>age_midpoint</th>\n",
       "      <th>gender</th>\n",
       "      <th>self_identification</th>\n",
       "      <th>occupation</th>\n",
       "      <th>...</th>\n",
       "      <th>important_sameend</th>\n",
       "      <th>important_newtech</th>\n",
       "      <th>important_buildnew</th>\n",
       "      <th>important_buildexisting</th>\n",
       "      <th>important_promotion</th>\n",
       "      <th>important_companymission</th>\n",
       "      <th>important_wfh</th>\n",
       "      <th>important_ownoffice</th>\n",
       "      <th>developer_challenges</th>\n",
       "      <th>why_stack_overflow</th>\n",
       "    </tr>\n",
       "  </thead>\n",
       "  <tbody>\n",
       "    <tr>\n",
       "      <th>28</th>\n",
       "      <td>34171</td>\n",
       "      <td>Facebook</td>\n",
       "      <td>Andorra</td>\n",
       "      <td>Southern Europe</td>\n",
       "      <td>Western Europe</td>\n",
       "      <td>20-24</td>\n",
       "      <td>22.0</td>\n",
       "      <td>Female</td>\n",
       "      <td>Hacker</td>\n",
       "      <td>Data scientist</td>\n",
       "      <td>...</td>\n",
       "      <td>NaN</td>\n",
       "      <td>NaN</td>\n",
       "      <td>NaN</td>\n",
       "      <td>NaN</td>\n",
       "      <td>NaN</td>\n",
       "      <td>NaN</td>\n",
       "      <td>NaN</td>\n",
       "      <td>NaN</td>\n",
       "      <td></td>\n",
       "      <td></td>\n",
       "    </tr>\n",
       "    <tr>\n",
       "      <th>34</th>\n",
       "      <td>29315</td>\n",
       "      <td>Facebook</td>\n",
       "      <td>Argentina</td>\n",
       "      <td>South America</td>\n",
       "      <td>South America</td>\n",
       "      <td>20-24</td>\n",
       "      <td>22.0</td>\n",
       "      <td>Male</td>\n",
       "      <td>Developer; Engineer; Sr. Developer; Full-stack...</td>\n",
       "      <td>Data scientist</td>\n",
       "      <td>...</td>\n",
       "      <td>This is somewhat important</td>\n",
       "      <td>This is somewhat important</td>\n",
       "      <td>This is very important</td>\n",
       "      <td>I don't care about this</td>\n",
       "      <td>This is very important</td>\n",
       "      <td>This is somewhat important</td>\n",
       "      <td>This is somewhat important</td>\n",
       "      <td>I don't care about this</td>\n",
       "      <td>Fragile code base; Poor documentation; Changin...</td>\n",
       "      <td>To get help for my job; To give help to others</td>\n",
       "    </tr>\n",
       "    <tr>\n",
       "      <th>205</th>\n",
       "      <td>31023</td>\n",
       "      <td>Facebook</td>\n",
       "      <td>Australia</td>\n",
       "      <td>Australia and New Zealand</td>\n",
       "      <td>Oceania</td>\n",
       "      <td>35-39</td>\n",
       "      <td>37.0</td>\n",
       "      <td>Female</td>\n",
       "      <td>Programmer</td>\n",
       "      <td>Data scientist</td>\n",
       "      <td>...</td>\n",
       "      <td>I don't care about this</td>\n",
       "      <td>This is very important</td>\n",
       "      <td>This is somewhat important</td>\n",
       "      <td>This is somewhat important</td>\n",
       "      <td>This is very important</td>\n",
       "      <td>This is very important</td>\n",
       "      <td>This is somewhat important</td>\n",
       "      <td>This is somewhat important</td>\n",
       "      <td>Poor team dynamics; Inefficient development pr...</td>\n",
       "      <td>To get help for my job</td>\n",
       "    </tr>\n",
       "    <tr>\n",
       "      <th>225</th>\n",
       "      <td>49442</td>\n",
       "      <td>Facebook</td>\n",
       "      <td>Australia</td>\n",
       "      <td>Australia and New Zealand</td>\n",
       "      <td>Oceania</td>\n",
       "      <td>20-24</td>\n",
       "      <td>22.0</td>\n",
       "      <td>Male</td>\n",
       "      <td>Developer; Engineer; Programmer</td>\n",
       "      <td>Data scientist</td>\n",
       "      <td>...</td>\n",
       "      <td>NaN</td>\n",
       "      <td>NaN</td>\n",
       "      <td>NaN</td>\n",
       "      <td>NaN</td>\n",
       "      <td>NaN</td>\n",
       "      <td>NaN</td>\n",
       "      <td>NaN</td>\n",
       "      <td>NaN</td>\n",
       "      <td></td>\n",
       "      <td></td>\n",
       "    </tr>\n",
       "  </tbody>\n",
       "</table>\n",
       "<p>4 rows × 66 columns</p>\n",
       "</div>"
      ],
      "text/plain": [
       "     Unnamed: 0 collector    country               un_subregion  \\\n",
       "28        34171  Facebook    Andorra            Southern Europe   \n",
       "34        29315  Facebook  Argentina              South America   \n",
       "205       31023  Facebook  Australia  Australia and New Zealand   \n",
       "225       49442  Facebook  Australia  Australia and New Zealand   \n",
       "\n",
       "          so_region age_range  age_midpoint  gender  \\\n",
       "28   Western Europe     20-24          22.0  Female   \n",
       "34    South America     20-24          22.0    Male   \n",
       "205         Oceania     35-39          37.0  Female   \n",
       "225         Oceania     20-24          22.0    Male   \n",
       "\n",
       "                                   self_identification      occupation  \\\n",
       "28                                              Hacker  Data scientist   \n",
       "34   Developer; Engineer; Sr. Developer; Full-stack...  Data scientist   \n",
       "205                                         Programmer  Data scientist   \n",
       "225                    Developer; Engineer; Programmer  Data scientist   \n",
       "\n",
       "                          ...                        \\\n",
       "28                        ...                         \n",
       "34                        ...                         \n",
       "205                       ...                         \n",
       "225                       ...                         \n",
       "\n",
       "              important_sameend           important_newtech  \\\n",
       "28                          NaN                         NaN   \n",
       "34   This is somewhat important  This is somewhat important   \n",
       "205     I don't care about this      This is very important   \n",
       "225                         NaN                         NaN   \n",
       "\n",
       "             important_buildnew     important_buildexisting  \\\n",
       "28                          NaN                         NaN   \n",
       "34       This is very important     I don't care about this   \n",
       "205  This is somewhat important  This is somewhat important   \n",
       "225                         NaN                         NaN   \n",
       "\n",
       "        important_promotion    important_companymission  \\\n",
       "28                      NaN                         NaN   \n",
       "34   This is very important  This is somewhat important   \n",
       "205  This is very important      This is very important   \n",
       "225                     NaN                         NaN   \n",
       "\n",
       "                  important_wfh         important_ownoffice  \\\n",
       "28                          NaN                         NaN   \n",
       "34   This is somewhat important     I don't care about this   \n",
       "205  This is somewhat important  This is somewhat important   \n",
       "225                         NaN                         NaN   \n",
       "\n",
       "                                  developer_challenges  \\\n",
       "28                                                       \n",
       "34   Fragile code base; Poor documentation; Changin...   \n",
       "205  Poor team dynamics; Inefficient development pr...   \n",
       "225                                                      \n",
       "\n",
       "                                 why_stack_overflow  \n",
       "28                                                   \n",
       "34   To get help for my job; To give help to others  \n",
       "205                          To get help for my job  \n",
       "225                                                  \n",
       "\n",
       "[4 rows x 66 columns]"
      ]
     },
     "execution_count": 129,
     "metadata": {},
     "output_type": "execute_result"
    }
   ],
   "source": [
    "JobSurvey[ JobSurvey.occupation == 'Data scientist' ][0:4]"
   ]
  },
  {
   "cell_type": "code",
   "execution_count": 130,
   "metadata": {
    "collapsed": false
   },
   "outputs": [
    {
     "data": {
      "text/plain": [
       "'Unnamed: 0'"
      ]
     },
     "execution_count": 130,
     "metadata": {},
     "output_type": "execute_result"
    }
   ],
   "source": [
    "JobSurvey.columns[0]  # strangely named because the column name was omitted"
   ]
  },
  {
   "cell_type": "code",
   "execution_count": 131,
   "metadata": {
    "collapsed": false
   },
   "outputs": [
    {
     "data": {
      "text/plain": [
       "(56030, 66)"
      ]
     },
     "execution_count": 131,
     "metadata": {},
     "output_type": "execute_result"
    }
   ],
   "source": [
    "JobSurvey.shape"
   ]
  },
  {
   "cell_type": "code",
   "execution_count": 132,
   "metadata": {
    "collapsed": false
   },
   "outputs": [
    {
     "data": {
      "text/plain": [
       "(56030, 67)"
      ]
     },
     "execution_count": 132,
     "metadata": {},
     "output_type": "execute_result"
    }
   ],
   "source": [
    "JobSurvey[['jobId']] = JobSurvey[['Unnamed: 0']]\n",
    "JobSurvey.shape"
   ]
  },
  {
   "cell_type": "code",
   "execution_count": 133,
   "metadata": {
    "collapsed": false
   },
   "outputs": [
    {
     "data": {
      "text/html": [
       "<div>\n",
       "<table border=\"1\" class=\"dataframe\">\n",
       "  <thead>\n",
       "    <tr style=\"text-align: right;\">\n",
       "      <th></th>\n",
       "      <th>Unnamed: 0</th>\n",
       "      <th>collector</th>\n",
       "      <th>country</th>\n",
       "      <th>un_subregion</th>\n",
       "      <th>so_region</th>\n",
       "      <th>age_range</th>\n",
       "      <th>age_midpoint</th>\n",
       "      <th>gender</th>\n",
       "      <th>self_identification</th>\n",
       "      <th>occupation</th>\n",
       "      <th>...</th>\n",
       "      <th>important_newtech</th>\n",
       "      <th>important_buildnew</th>\n",
       "      <th>important_buildexisting</th>\n",
       "      <th>important_promotion</th>\n",
       "      <th>important_companymission</th>\n",
       "      <th>important_wfh</th>\n",
       "      <th>important_ownoffice</th>\n",
       "      <th>developer_challenges</th>\n",
       "      <th>why_stack_overflow</th>\n",
       "      <th>jobId</th>\n",
       "    </tr>\n",
       "  </thead>\n",
       "  <tbody>\n",
       "    <tr>\n",
       "      <th>28</th>\n",
       "      <td>34171</td>\n",
       "      <td>Facebook</td>\n",
       "      <td>Andorra</td>\n",
       "      <td>Southern Europe</td>\n",
       "      <td>Western Europe</td>\n",
       "      <td>20-24</td>\n",
       "      <td>22.0</td>\n",
       "      <td>Female</td>\n",
       "      <td>Hacker</td>\n",
       "      <td>Data scientist</td>\n",
       "      <td>...</td>\n",
       "      <td>NaN</td>\n",
       "      <td>NaN</td>\n",
       "      <td>NaN</td>\n",
       "      <td>NaN</td>\n",
       "      <td>NaN</td>\n",
       "      <td>NaN</td>\n",
       "      <td>NaN</td>\n",
       "      <td></td>\n",
       "      <td></td>\n",
       "      <td>34171</td>\n",
       "    </tr>\n",
       "    <tr>\n",
       "      <th>34</th>\n",
       "      <td>29315</td>\n",
       "      <td>Facebook</td>\n",
       "      <td>Argentina</td>\n",
       "      <td>South America</td>\n",
       "      <td>South America</td>\n",
       "      <td>20-24</td>\n",
       "      <td>22.0</td>\n",
       "      <td>Male</td>\n",
       "      <td>Developer; Engineer; Sr. Developer; Full-stack...</td>\n",
       "      <td>Data scientist</td>\n",
       "      <td>...</td>\n",
       "      <td>This is somewhat important</td>\n",
       "      <td>This is very important</td>\n",
       "      <td>I don't care about this</td>\n",
       "      <td>This is very important</td>\n",
       "      <td>This is somewhat important</td>\n",
       "      <td>This is somewhat important</td>\n",
       "      <td>I don't care about this</td>\n",
       "      <td>Fragile code base; Poor documentation; Changin...</td>\n",
       "      <td>To get help for my job; To give help to others</td>\n",
       "      <td>29315</td>\n",
       "    </tr>\n",
       "    <tr>\n",
       "      <th>205</th>\n",
       "      <td>31023</td>\n",
       "      <td>Facebook</td>\n",
       "      <td>Australia</td>\n",
       "      <td>Australia and New Zealand</td>\n",
       "      <td>Oceania</td>\n",
       "      <td>35-39</td>\n",
       "      <td>37.0</td>\n",
       "      <td>Female</td>\n",
       "      <td>Programmer</td>\n",
       "      <td>Data scientist</td>\n",
       "      <td>...</td>\n",
       "      <td>This is very important</td>\n",
       "      <td>This is somewhat important</td>\n",
       "      <td>This is somewhat important</td>\n",
       "      <td>This is very important</td>\n",
       "      <td>This is very important</td>\n",
       "      <td>This is somewhat important</td>\n",
       "      <td>This is somewhat important</td>\n",
       "      <td>Poor team dynamics; Inefficient development pr...</td>\n",
       "      <td>To get help for my job</td>\n",
       "      <td>31023</td>\n",
       "    </tr>\n",
       "    <tr>\n",
       "      <th>225</th>\n",
       "      <td>49442</td>\n",
       "      <td>Facebook</td>\n",
       "      <td>Australia</td>\n",
       "      <td>Australia and New Zealand</td>\n",
       "      <td>Oceania</td>\n",
       "      <td>20-24</td>\n",
       "      <td>22.0</td>\n",
       "      <td>Male</td>\n",
       "      <td>Developer; Engineer; Programmer</td>\n",
       "      <td>Data scientist</td>\n",
       "      <td>...</td>\n",
       "      <td>NaN</td>\n",
       "      <td>NaN</td>\n",
       "      <td>NaN</td>\n",
       "      <td>NaN</td>\n",
       "      <td>NaN</td>\n",
       "      <td>NaN</td>\n",
       "      <td>NaN</td>\n",
       "      <td></td>\n",
       "      <td></td>\n",
       "      <td>49442</td>\n",
       "    </tr>\n",
       "    <tr>\n",
       "      <th>241</th>\n",
       "      <td>2229</td>\n",
       "      <td>Facebook</td>\n",
       "      <td>Austria</td>\n",
       "      <td>Western Europe</td>\n",
       "      <td>Western Europe</td>\n",
       "      <td>50-59</td>\n",
       "      <td>54.5</td>\n",
       "      <td>Male</td>\n",
       "      <td>Engineer; Programmer; Sr. Developer; Expert</td>\n",
       "      <td>Data scientist</td>\n",
       "      <td>...</td>\n",
       "      <td>This is very important</td>\n",
       "      <td>This is very important</td>\n",
       "      <td>This is very important</td>\n",
       "      <td>I don't care about this</td>\n",
       "      <td>This is somewhat important</td>\n",
       "      <td>This is very important</td>\n",
       "      <td>This is somewhat important</td>\n",
       "      <td>Unrealistic expectations; Poor documentation; ...</td>\n",
       "      <td>To get help for my job; Beacause I love to learn</td>\n",
       "      <td>2229</td>\n",
       "    </tr>\n",
       "  </tbody>\n",
       "</table>\n",
       "<p>5 rows × 67 columns</p>\n",
       "</div>"
      ],
      "text/plain": [
       "     Unnamed: 0 collector    country               un_subregion  \\\n",
       "28        34171  Facebook    Andorra            Southern Europe   \n",
       "34        29315  Facebook  Argentina              South America   \n",
       "205       31023  Facebook  Australia  Australia and New Zealand   \n",
       "225       49442  Facebook  Australia  Australia and New Zealand   \n",
       "241        2229  Facebook    Austria             Western Europe   \n",
       "\n",
       "          so_region age_range  age_midpoint  gender  \\\n",
       "28   Western Europe     20-24          22.0  Female   \n",
       "34    South America     20-24          22.0    Male   \n",
       "205         Oceania     35-39          37.0  Female   \n",
       "225         Oceania     20-24          22.0    Male   \n",
       "241  Western Europe     50-59          54.5    Male   \n",
       "\n",
       "                                   self_identification      occupation  ...    \\\n",
       "28                                              Hacker  Data scientist  ...     \n",
       "34   Developer; Engineer; Sr. Developer; Full-stack...  Data scientist  ...     \n",
       "205                                         Programmer  Data scientist  ...     \n",
       "225                    Developer; Engineer; Programmer  Data scientist  ...     \n",
       "241        Engineer; Programmer; Sr. Developer; Expert  Data scientist  ...     \n",
       "\n",
       "              important_newtech          important_buildnew  \\\n",
       "28                          NaN                         NaN   \n",
       "34   This is somewhat important      This is very important   \n",
       "205      This is very important  This is somewhat important   \n",
       "225                         NaN                         NaN   \n",
       "241      This is very important      This is very important   \n",
       "\n",
       "        important_buildexisting      important_promotion  \\\n",
       "28                          NaN                      NaN   \n",
       "34      I don't care about this   This is very important   \n",
       "205  This is somewhat important   This is very important   \n",
       "225                         NaN                      NaN   \n",
       "241      This is very important  I don't care about this   \n",
       "\n",
       "       important_companymission               important_wfh  \\\n",
       "28                          NaN                         NaN   \n",
       "34   This is somewhat important  This is somewhat important   \n",
       "205      This is very important  This is somewhat important   \n",
       "225                         NaN                         NaN   \n",
       "241  This is somewhat important      This is very important   \n",
       "\n",
       "            important_ownoffice  \\\n",
       "28                          NaN   \n",
       "34      I don't care about this   \n",
       "205  This is somewhat important   \n",
       "225                         NaN   \n",
       "241  This is somewhat important   \n",
       "\n",
       "                                  developer_challenges  \\\n",
       "28                                                       \n",
       "34   Fragile code base; Poor documentation; Changin...   \n",
       "205  Poor team dynamics; Inefficient development pr...   \n",
       "225                                                      \n",
       "241  Unrealistic expectations; Poor documentation; ...   \n",
       "\n",
       "                                   why_stack_overflow  jobId  \n",
       "28                                                     34171  \n",
       "34     To get help for my job; To give help to others  29315  \n",
       "205                            To get help for my job  31023  \n",
       "225                                                    49442  \n",
       "241  To get help for my job; Beacause I love to learn   2229  \n",
       "\n",
       "[5 rows x 67 columns]"
      ]
     },
     "execution_count": 133,
     "metadata": {},
     "output_type": "execute_result"
    }
   ],
   "source": [
    "DataScienceJobSurvey = JobSurvey[ JobSurvey.occupation == 'Data scientist' ]\n",
    "DataScienceJobSurvey[0:5]"
   ]
  },
  {
   "cell_type": "markdown",
   "metadata": {},
   "source": [
    "# Problem:  Factor the Survey Matrix for Data Scientists using Nonnegative Matrix factorization\n",
    "\n",
    "This is asking you to produce the matrix factorization of data scientists that you can.\n",
    "The factors obtained will correspond to \"classes\" of data scientist.\n"
   ]
  },
  {
   "cell_type": "markdown",
   "metadata": {},
   "source": [
    "To do this, first extract all rows with these job titles\n",
    "into a <tt>DataScience</tt> table with about 2500 rows.\n",
    "\n",
    "After eliminating as few columns and rows as possible,\n",
    "perform nonnegative matrix factorization.\n",
    "\n",
    "Finally, report the clearest factors you obtain this way.\n",
    "These factors should identify types of \"data scientist\",\n",
    "just as described in the Appendix of <b>Analyzing the Analyzers</b>."
   ]
  },
  {
   "cell_type": "markdown",
   "metadata": {},
   "source": [
    "# Part 0:  Extract all \"data scientists\", using the 4 types of job titles"
   ]
  },
  {
   "cell_type": "markdown",
   "metadata": {},
   "source": [
    "As mentioned above, you are supposed to include all 4 kinds of job titles in this model:\n",
    "<ul><li>\n",
    "<b>Business intelligence or data warehousing expert</b> (392 occurrences)\n",
    "</li><li>\n",
    "<b>Data scientist</b> (800 occurrences)\n",
    "</li><li>\n",
    "<b>Developer with a statistics or mathematics background</b>  (960)\n",
    "</li><li>\n",
    "<b>Machine learning developer</b> (385).\n",
    "</li></ul>"
   ]
  },
  {
   "cell_type": "code",
   "execution_count": 134,
   "metadata": {
    "collapsed": true
   },
   "outputs": [],
   "source": [
    "#This is similar to hw6.\n",
    "DataScience = JobSurvey.copy()\n",
    "df1 = DataScience[ DataScience.occupation == 'Business intelligence or data warehousing expert' ]\n",
    "df2 = DataScience[ DataScience.occupation == 'Data scientist' ]\n",
    "df3 = DataScience[ DataScience.occupation == 'Developer with a statistics or mathematics background' ]\n",
    "df4 = DataScience[ DataScience.occupation == 'Machine learning developer' ]\n",
    "frames = [df1, df2, df3, df4]\n",
    "DataScience = pd.concat(frames)"
   ]
  },
  {
   "cell_type": "code",
   "execution_count": 135,
   "metadata": {
    "collapsed": false
   },
   "outputs": [
    {
     "data": {
      "text/html": [
       "<div>\n",
       "<table border=\"1\" class=\"dataframe\">\n",
       "  <thead>\n",
       "    <tr style=\"text-align: right;\">\n",
       "      <th></th>\n",
       "      <th>Unnamed: 0</th>\n",
       "      <th>collector</th>\n",
       "      <th>country</th>\n",
       "      <th>un_subregion</th>\n",
       "      <th>so_region</th>\n",
       "      <th>age_range</th>\n",
       "      <th>age_midpoint</th>\n",
       "      <th>gender</th>\n",
       "      <th>self_identification</th>\n",
       "      <th>occupation</th>\n",
       "      <th>...</th>\n",
       "      <th>important_newtech</th>\n",
       "      <th>important_buildnew</th>\n",
       "      <th>important_buildexisting</th>\n",
       "      <th>important_promotion</th>\n",
       "      <th>important_companymission</th>\n",
       "      <th>important_wfh</th>\n",
       "      <th>important_ownoffice</th>\n",
       "      <th>developer_challenges</th>\n",
       "      <th>why_stack_overflow</th>\n",
       "      <th>jobId</th>\n",
       "    </tr>\n",
       "  </thead>\n",
       "  <tbody>\n",
       "    <tr>\n",
       "      <th>245</th>\n",
       "      <td>3080</td>\n",
       "      <td>Facebook</td>\n",
       "      <td>Austria</td>\n",
       "      <td>Western Europe</td>\n",
       "      <td>Western Europe</td>\n",
       "      <td>25-29</td>\n",
       "      <td>27.0</td>\n",
       "      <td>Female</td>\n",
       "      <td>Engineer</td>\n",
       "      <td>Business intelligence or data warehousing expert</td>\n",
       "      <td>...</td>\n",
       "      <td>This is very important</td>\n",
       "      <td>This is very important</td>\n",
       "      <td>This is very important</td>\n",
       "      <td>This is somewhat important</td>\n",
       "      <td>This is very important</td>\n",
       "      <td>This is somewhat important</td>\n",
       "      <td>This is somewhat important</td>\n",
       "      <td>Unrealistic expectations; Poor documentation; ...</td>\n",
       "      <td>To get help for my job; To receive help on my ...</td>\n",
       "      <td>3080</td>\n",
       "    </tr>\n",
       "    <tr>\n",
       "      <th>359</th>\n",
       "      <td>52419</td>\n",
       "      <td>Facebook</td>\n",
       "      <td>Austria</td>\n",
       "      <td>Western Europe</td>\n",
       "      <td>Western Europe</td>\n",
       "      <td>30-34</td>\n",
       "      <td>32.0</td>\n",
       "      <td>Male</td>\n",
       "      <td>Developer; Expert; Full-stack Developer</td>\n",
       "      <td>Business intelligence or data warehousing expert</td>\n",
       "      <td>...</td>\n",
       "      <td>This is somewhat important</td>\n",
       "      <td>This is somewhat important</td>\n",
       "      <td>This is somewhat important</td>\n",
       "      <td>I don't care about this</td>\n",
       "      <td>This is somewhat important</td>\n",
       "      <td>This is somewhat important</td>\n",
       "      <td>I don't care about this</td>\n",
       "      <td>Inefficient development processes; Unrealistic...</td>\n",
       "      <td>To get help for my job; To communicate with ot...</td>\n",
       "      <td>52419</td>\n",
       "    </tr>\n",
       "    <tr>\n",
       "      <th>662</th>\n",
       "      <td>46022</td>\n",
       "      <td>Facebook</td>\n",
       "      <td>Brazil</td>\n",
       "      <td>South America</td>\n",
       "      <td>South America</td>\n",
       "      <td>50-59</td>\n",
       "      <td>54.5</td>\n",
       "      <td>Male</td>\n",
       "      <td>Developer; Engineer; Programmer</td>\n",
       "      <td>Business intelligence or data warehousing expert</td>\n",
       "      <td>...</td>\n",
       "      <td>NaN</td>\n",
       "      <td>NaN</td>\n",
       "      <td>NaN</td>\n",
       "      <td>NaN</td>\n",
       "      <td>NaN</td>\n",
       "      <td>NaN</td>\n",
       "      <td>NaN</td>\n",
       "      <td></td>\n",
       "      <td></td>\n",
       "      <td>46022</td>\n",
       "    </tr>\n",
       "    <tr>\n",
       "      <th>779</th>\n",
       "      <td>51412</td>\n",
       "      <td>Facebook</td>\n",
       "      <td>Brazil</td>\n",
       "      <td>South America</td>\n",
       "      <td>South America</td>\n",
       "      <td>40-49</td>\n",
       "      <td>44.5</td>\n",
       "      <td>Male</td>\n",
       "      <td>Manager</td>\n",
       "      <td>Business intelligence or data warehousing expert</td>\n",
       "      <td>...</td>\n",
       "      <td>NaN</td>\n",
       "      <td>NaN</td>\n",
       "      <td>NaN</td>\n",
       "      <td>NaN</td>\n",
       "      <td>NaN</td>\n",
       "      <td>NaN</td>\n",
       "      <td>NaN</td>\n",
       "      <td></td>\n",
       "      <td></td>\n",
       "      <td>51412</td>\n",
       "    </tr>\n",
       "    <tr>\n",
       "      <th>1213</th>\n",
       "      <td>46457</td>\n",
       "      <td>Facebook</td>\n",
       "      <td>Denmark</td>\n",
       "      <td>Northern Europe</td>\n",
       "      <td>Western Europe</td>\n",
       "      <td>40-49</td>\n",
       "      <td>44.5</td>\n",
       "      <td>Male</td>\n",
       "      <td>Developer; Sr. Developer; Expert; Full-stack D...</td>\n",
       "      <td>Business intelligence or data warehousing expert</td>\n",
       "      <td>...</td>\n",
       "      <td>This is very important</td>\n",
       "      <td>This is somewhat important</td>\n",
       "      <td>This is somewhat important</td>\n",
       "      <td>This is somewhat important</td>\n",
       "      <td>This is somewhat important</td>\n",
       "      <td>This is somewhat important</td>\n",
       "      <td>This is somewhat important</td>\n",
       "      <td>Inefficient development processes; Poor docume...</td>\n",
       "      <td>To communicate with others like me</td>\n",
       "      <td>46457</td>\n",
       "    </tr>\n",
       "  </tbody>\n",
       "</table>\n",
       "<p>5 rows × 67 columns</p>\n",
       "</div>"
      ],
      "text/plain": [
       "      Unnamed: 0 collector  country     un_subregion       so_region  \\\n",
       "245         3080  Facebook  Austria   Western Europe  Western Europe   \n",
       "359        52419  Facebook  Austria   Western Europe  Western Europe   \n",
       "662        46022  Facebook   Brazil    South America   South America   \n",
       "779        51412  Facebook   Brazil    South America   South America   \n",
       "1213       46457  Facebook  Denmark  Northern Europe  Western Europe   \n",
       "\n",
       "     age_range  age_midpoint  gender  \\\n",
       "245      25-29          27.0  Female   \n",
       "359      30-34          32.0    Male   \n",
       "662      50-59          54.5    Male   \n",
       "779      40-49          44.5    Male   \n",
       "1213     40-49          44.5    Male   \n",
       "\n",
       "                                    self_identification  \\\n",
       "245                                            Engineer   \n",
       "359             Developer; Expert; Full-stack Developer   \n",
       "662                     Developer; Engineer; Programmer   \n",
       "779                                             Manager   \n",
       "1213  Developer; Sr. Developer; Expert; Full-stack D...   \n",
       "\n",
       "                                            occupation  ...    \\\n",
       "245   Business intelligence or data warehousing expert  ...     \n",
       "359   Business intelligence or data warehousing expert  ...     \n",
       "662   Business intelligence or data warehousing expert  ...     \n",
       "779   Business intelligence or data warehousing expert  ...     \n",
       "1213  Business intelligence or data warehousing expert  ...     \n",
       "\n",
       "               important_newtech          important_buildnew  \\\n",
       "245       This is very important      This is very important   \n",
       "359   This is somewhat important  This is somewhat important   \n",
       "662                          NaN                         NaN   \n",
       "779                          NaN                         NaN   \n",
       "1213      This is very important  This is somewhat important   \n",
       "\n",
       "         important_buildexisting         important_promotion  \\\n",
       "245       This is very important  This is somewhat important   \n",
       "359   This is somewhat important     I don't care about this   \n",
       "662                          NaN                         NaN   \n",
       "779                          NaN                         NaN   \n",
       "1213  This is somewhat important  This is somewhat important   \n",
       "\n",
       "        important_companymission               important_wfh  \\\n",
       "245       This is very important  This is somewhat important   \n",
       "359   This is somewhat important  This is somewhat important   \n",
       "662                          NaN                         NaN   \n",
       "779                          NaN                         NaN   \n",
       "1213  This is somewhat important  This is somewhat important   \n",
       "\n",
       "             important_ownoffice  \\\n",
       "245   This is somewhat important   \n",
       "359      I don't care about this   \n",
       "662                          NaN   \n",
       "779                          NaN   \n",
       "1213  This is somewhat important   \n",
       "\n",
       "                                   developer_challenges  \\\n",
       "245   Unrealistic expectations; Poor documentation; ...   \n",
       "359   Inefficient development processes; Unrealistic...   \n",
       "662                                                       \n",
       "779                                                       \n",
       "1213  Inefficient development processes; Poor docume...   \n",
       "\n",
       "                                     why_stack_overflow  jobId  \n",
       "245   To get help for my job; To receive help on my ...   3080  \n",
       "359   To get help for my job; To communicate with ot...  52419  \n",
       "662                                                      46022  \n",
       "779                                                      51412  \n",
       "1213                 To communicate with others like me  46457  \n",
       "\n",
       "[5 rows x 67 columns]"
      ]
     },
     "execution_count": 135,
     "metadata": {},
     "output_type": "execute_result"
    }
   ],
   "source": [
    "DataScience.head()"
   ]
  },
  {
   "cell_type": "markdown",
   "metadata": {},
   "source": [
    "# Part 1: drop columns that have the most missing values for data scientists"
   ]
  },
  {
   "cell_type": "code",
   "execution_count": 136,
   "metadata": {
    "collapsed": false
   },
   "outputs": [],
   "source": [
    "#  Drop (or repair) columns from JobSurvey that have the most missing values.\n",
    "#   The goal is to get a good matrix factorization.\n",
    "Phillips_repairable_columns = 'self_identification,education,tech_do,tech_want,\\\n",
    "how_to_improve_interview_process,why_stack_overflow,dev_environment,\\\n",
    "developer_challenges,star_wars_vs_star_trek,new_job_value'.split(',')\n",
    "#  the .split(',') method turns this into a list of strings\n",
    "\n",
    "for column in Phillips_repairable_columns:\n",
    "    DataScience[column] = JobSurvey[column].fillna('')\n",
    "    \n",
    "DataScience[Phillips_repairable_columns].head()\n",
    "\n",
    "#Fill Big_mac_index with highest value\n",
    "max_big_mac_index = DataScience['big_mac_index'].max()\n",
    "DataScience['big_mac_index'] = DataScience['big_mac_index'].fillna(max_big_mac_index)    \n"
   ]
  },
  {
   "cell_type": "code",
   "execution_count": 137,
   "metadata": {
    "collapsed": false
   },
   "outputs": [],
   "source": [
    "###\n",
    "### You can implement the method devised by your alert classmate Anna Merkoulovitch --\n",
    "### She dropped all columns in which more than 10% of the values were missing.\n",
    "###\n",
    "### She told us that this got rid of some columns that didn't seem likely to help --\n",
    "### including questions about aliens, cats and dogs -- and saved a lot of data.\n",
    "###\n",
    "threshold = DataScience.shape[0] * 0.9        \n",
    "DataScience = DataScience.dropna(thresh=int(threshold), axis=1)\n",
    "\n",
    "#DataScience = DataScience.drop('jobId', axis=1)\n",
    "DataScience = DataScience.drop('Unnamed: 0', axis=1)"
   ]
  },
  {
   "cell_type": "code",
   "execution_count": 138,
   "metadata": {
    "collapsed": false
   },
   "outputs": [
    {
     "data": {
      "text/plain": [
       "collector                             0\n",
       "country                              15\n",
       "un_subregion                         20\n",
       "so_region                            18\n",
       "age_range                            11\n",
       "age_midpoint                         36\n",
       "gender                               18\n",
       "self_identification                   0\n",
       "occupation                            0\n",
       "occupation_group                      0\n",
       "experience_range                     16\n",
       "experience_midpoint                  16\n",
       "salary_range                        189\n",
       "big_mac_index                         0\n",
       "tech_do                               0\n",
       "tech_want                             0\n",
       "aliens                               40\n",
       "programming_ability                 155\n",
       "employment_status                    10\n",
       "dev_environment                       0\n",
       "commit_frequency                    159\n",
       "hobby                               158\n",
       "dogs_vs_cats                        247\n",
       "desktop_os                          167\n",
       "unit_testing                        160\n",
       "rep_range                           184\n",
       "visit_frequency                     189\n",
       "why_learn_new_tech                  188\n",
       "education                             0\n",
       "new_job_value                         0\n",
       "how_to_improve_interview_process      0\n",
       "star_wars_vs_star_trek                0\n",
       "developer_challenges                  0\n",
       "why_stack_overflow                    0\n",
       "jobId                                 0\n",
       "dtype: int64"
      ]
     },
     "execution_count": 138,
     "metadata": {},
     "output_type": "execute_result"
    }
   ],
   "source": [
    " DataScience.isnull().sum()"
   ]
  },
  {
   "cell_type": "code",
   "execution_count": 139,
   "metadata": {
    "collapsed": false
   },
   "outputs": [
    {
     "data": {
      "text/plain": [
       "(800, 35)"
      ]
     },
     "execution_count": 139,
     "metadata": {},
     "output_type": "execute_result"
    }
   ],
   "source": [
    "#  Determine how many \"data scientist\" rows are left over after your careful dropping of columns.\n",
    "DataScience[ DataScience.occupation == 'Data scientist' ].shape\n"
   ]
  },
  {
   "cell_type": "code",
   "execution_count": 140,
   "metadata": {
    "collapsed": false
   },
   "outputs": [
    {
     "data": {
      "text/plain": [
       "(2537, 35)"
      ]
     },
     "execution_count": 140,
     "metadata": {},
     "output_type": "execute_result"
    }
   ],
   "source": [
    "DataScience.shape"
   ]
  },
  {
   "cell_type": "markdown",
   "metadata": {},
   "source": [
    "# Part 2: drop all rows that still have null values (with .dropna)"
   ]
  },
  {
   "cell_type": "code",
   "execution_count": 141,
   "metadata": {
    "collapsed": false
   },
   "outputs": [
    {
     "data": {
      "text/plain": [
       "(1943, 35)"
      ]
     },
     "execution_count": 141,
     "metadata": {},
     "output_type": "execute_result"
    }
   ],
   "source": [
    "DataScience = DataScience.dropna()\n",
    "\n",
    "DataScience.shape"
   ]
  },
  {
   "cell_type": "code",
   "execution_count": 142,
   "metadata": {
    "collapsed": false
   },
   "outputs": [
    {
     "data": {
      "text/plain": [
       "collector                           0\n",
       "country                             0\n",
       "un_subregion                        0\n",
       "so_region                           0\n",
       "age_range                           0\n",
       "age_midpoint                        0\n",
       "gender                              0\n",
       "self_identification                 0\n",
       "occupation                          0\n",
       "occupation_group                    0\n",
       "experience_range                    0\n",
       "experience_midpoint                 0\n",
       "salary_range                        0\n",
       "big_mac_index                       0\n",
       "tech_do                             0\n",
       "tech_want                           0\n",
       "aliens                              0\n",
       "programming_ability                 0\n",
       "employment_status                   0\n",
       "dev_environment                     0\n",
       "commit_frequency                    0\n",
       "hobby                               0\n",
       "dogs_vs_cats                        0\n",
       "desktop_os                          0\n",
       "unit_testing                        0\n",
       "rep_range                           0\n",
       "visit_frequency                     0\n",
       "why_learn_new_tech                  0\n",
       "education                           0\n",
       "new_job_value                       0\n",
       "how_to_improve_interview_process    0\n",
       "star_wars_vs_star_trek              0\n",
       "developer_challenges                0\n",
       "why_stack_overflow                  0\n",
       "jobId                               0\n",
       "dtype: int64"
      ]
     },
     "execution_count": 142,
     "metadata": {},
     "output_type": "execute_result"
    }
   ],
   "source": [
    " DataScience.isnull().sum()"
   ]
  },
  {
   "cell_type": "markdown",
   "metadata": {},
   "source": [
    "#  Part 3:  do the Nonnegative Matrix Factorization"
   ]
  },
  {
   "cell_type": "code",
   "execution_count": 143,
   "metadata": {
    "collapsed": true
   },
   "outputs": [],
   "source": [
    "#  consider for example:\n",
    "#  http://scikit-learn.org/stable/modules/generated/sklearn.decomposition.NMF.html"
   ]
  },
  {
   "cell_type": "code",
   "execution_count": 144,
   "metadata": {
    "collapsed": true
   },
   "outputs": [],
   "source": [
    "#  NMF factors a (n x p) dataset matrix X  into   X = W H\n",
    "#   where W is (n x k) and H is (k x p), and k is the desired number of factors for NMF.\n",
    "#   Thus the H matrix is a matrix of \"factors\" involving the p variables in X.\n",
    "#   The factors are \"weight vectors\" that are interpreted like principal components."
   ]
  },
  {
   "cell_type": "code",
   "execution_count": 145,
   "metadata": {
    "collapsed": false
   },
   "outputs": [],
   "source": [
    "le = preprocessing.LabelEncoder()\n",
    "DataScience_trans = DataScience.apply(le.fit_transform)"
   ]
  },
  {
   "cell_type": "code",
   "execution_count": 146,
   "metadata": {
    "collapsed": true
   },
   "outputs": [],
   "source": [
    "nwf = NMF(n_components=4, random_state=1234, init='random')\n",
    "DataScience_fit = nwf.fit_transform(DataScience_trans)\n",
    "DataScience_comps = nwf.components_"
   ]
  },
  {
   "cell_type": "code",
   "execution_count": 147,
   "metadata": {
    "collapsed": false
   },
   "outputs": [],
   "source": [
    "DataScience_comps_df = pd.DataFrame(data=DataScience_comps, columns=DataScience.columns.values)"
   ]
  },
  {
   "cell_type": "code",
   "execution_count": 153,
   "metadata": {
    "collapsed": false
   },
   "outputs": [],
   "source": [
    "DataScience_comps_df= DataScience_comps_df.drop('jobId', axis=1) #don't need jobId"
   ]
  },
  {
   "cell_type": "code",
   "execution_count": 157,
   "metadata": {
    "collapsed": false
   },
   "outputs": [
    {
     "data": {
      "text/html": [
       "<div>\n",
       "<table border=\"1\" class=\"dataframe\">\n",
       "  <thead>\n",
       "    <tr style=\"text-align: right;\">\n",
       "      <th></th>\n",
       "      <th>collector</th>\n",
       "      <th>country</th>\n",
       "      <th>un_subregion</th>\n",
       "      <th>so_region</th>\n",
       "      <th>age_range</th>\n",
       "      <th>age_midpoint</th>\n",
       "      <th>gender</th>\n",
       "      <th>self_identification</th>\n",
       "      <th>occupation</th>\n",
       "      <th>occupation_group</th>\n",
       "      <th>...</th>\n",
       "      <th>unit_testing</th>\n",
       "      <th>rep_range</th>\n",
       "      <th>visit_frequency</th>\n",
       "      <th>why_learn_new_tech</th>\n",
       "      <th>education</th>\n",
       "      <th>new_job_value</th>\n",
       "      <th>how_to_improve_interview_process</th>\n",
       "      <th>star_wars_vs_star_trek</th>\n",
       "      <th>developer_challenges</th>\n",
       "      <th>why_stack_overflow</th>\n",
       "    </tr>\n",
       "  </thead>\n",
       "  <tbody>\n",
       "    <tr>\n",
       "      <th>0</th>\n",
       "      <td>0.042083</td>\n",
       "      <td>1.265698</td>\n",
       "      <td>0.213982</td>\n",
       "      <td>0.216892</td>\n",
       "      <td>0.036203</td>\n",
       "      <td>0.060655</td>\n",
       "      <td>0.024612</td>\n",
       "      <td>2.691210</td>\n",
       "      <td>0.047410</td>\n",
       "      <td>0.022204</td>\n",
       "      <td>...</td>\n",
       "      <td>0.062702</td>\n",
       "      <td>0.101563</td>\n",
       "      <td>0.043546</td>\n",
       "      <td>0.060811</td>\n",
       "      <td>2.879122</td>\n",
       "      <td>75.905445</td>\n",
       "      <td>3.832668</td>\n",
       "      <td>0.047740</td>\n",
       "      <td>0.000000</td>\n",
       "      <td>2.908847</td>\n",
       "    </tr>\n",
       "    <tr>\n",
       "      <th>1</th>\n",
       "      <td>0.029453</td>\n",
       "      <td>1.310314</td>\n",
       "      <td>0.248183</td>\n",
       "      <td>0.212512</td>\n",
       "      <td>0.037749</td>\n",
       "      <td>0.061765</td>\n",
       "      <td>0.019124</td>\n",
       "      <td>3.495378</td>\n",
       "      <td>0.023447</td>\n",
       "      <td>0.018013</td>\n",
       "      <td>...</td>\n",
       "      <td>0.038625</td>\n",
       "      <td>0.110128</td>\n",
       "      <td>0.050304</td>\n",
       "      <td>0.062829</td>\n",
       "      <td>2.669384</td>\n",
       "      <td>0.000000</td>\n",
       "      <td>1.566862</td>\n",
       "      <td>0.023083</td>\n",
       "      <td>0.000000</td>\n",
       "      <td>1.057928</td>\n",
       "    </tr>\n",
       "    <tr>\n",
       "      <th>2</th>\n",
       "      <td>0.225299</td>\n",
       "      <td>2.891698</td>\n",
       "      <td>0.336740</td>\n",
       "      <td>0.352712</td>\n",
       "      <td>0.111112</td>\n",
       "      <td>0.129766</td>\n",
       "      <td>0.051376</td>\n",
       "      <td>6.236897</td>\n",
       "      <td>0.080550</td>\n",
       "      <td>0.038874</td>\n",
       "      <td>...</td>\n",
       "      <td>0.125539</td>\n",
       "      <td>0.162075</td>\n",
       "      <td>0.076803</td>\n",
       "      <td>0.085897</td>\n",
       "      <td>5.023018</td>\n",
       "      <td>0.000000</td>\n",
       "      <td>5.784187</td>\n",
       "      <td>0.057233</td>\n",
       "      <td>0.000000</td>\n",
       "      <td>3.579555</td>\n",
       "    </tr>\n",
       "    <tr>\n",
       "      <th>3</th>\n",
       "      <td>0.011798</td>\n",
       "      <td>1.235523</td>\n",
       "      <td>0.278434</td>\n",
       "      <td>0.214270</td>\n",
       "      <td>0.055318</td>\n",
       "      <td>0.078940</td>\n",
       "      <td>0.022873</td>\n",
       "      <td>3.320660</td>\n",
       "      <td>0.035590</td>\n",
       "      <td>0.019444</td>\n",
       "      <td>...</td>\n",
       "      <td>0.043202</td>\n",
       "      <td>0.109133</td>\n",
       "      <td>0.041195</td>\n",
       "      <td>0.062793</td>\n",
       "      <td>3.798718</td>\n",
       "      <td>0.950010</td>\n",
       "      <td>2.998137</td>\n",
       "      <td>0.038018</td>\n",
       "      <td>43.468525</td>\n",
       "      <td>2.976172</td>\n",
       "    </tr>\n",
       "  </tbody>\n",
       "</table>\n",
       "<p>4 rows × 34 columns</p>\n",
       "</div>"
      ],
      "text/plain": [
       "   collector   country  un_subregion  so_region  age_range  age_midpoint  \\\n",
       "0   0.042083  1.265698      0.213982   0.216892   0.036203      0.060655   \n",
       "1   0.029453  1.310314      0.248183   0.212512   0.037749      0.061765   \n",
       "2   0.225299  2.891698      0.336740   0.352712   0.111112      0.129766   \n",
       "3   0.011798  1.235523      0.278434   0.214270   0.055318      0.078940   \n",
       "\n",
       "     gender  self_identification  occupation  occupation_group  \\\n",
       "0  0.024612             2.691210    0.047410          0.022204   \n",
       "1  0.019124             3.495378    0.023447          0.018013   \n",
       "2  0.051376             6.236897    0.080550          0.038874   \n",
       "3  0.022873             3.320660    0.035590          0.019444   \n",
       "\n",
       "          ...          unit_testing  rep_range  visit_frequency  \\\n",
       "0         ...              0.062702   0.101563         0.043546   \n",
       "1         ...              0.038625   0.110128         0.050304   \n",
       "2         ...              0.125539   0.162075         0.076803   \n",
       "3         ...              0.043202   0.109133         0.041195   \n",
       "\n",
       "   why_learn_new_tech  education  new_job_value  \\\n",
       "0            0.060811   2.879122      75.905445   \n",
       "1            0.062829   2.669384       0.000000   \n",
       "2            0.085897   5.023018       0.000000   \n",
       "3            0.062793   3.798718       0.950010   \n",
       "\n",
       "   how_to_improve_interview_process  star_wars_vs_star_trek  \\\n",
       "0                          3.832668                0.047740   \n",
       "1                          1.566862                0.023083   \n",
       "2                          5.784187                0.057233   \n",
       "3                          2.998137                0.038018   \n",
       "\n",
       "   developer_challenges  why_stack_overflow  \n",
       "0              0.000000            2.908847  \n",
       "1              0.000000            1.057928  \n",
       "2              0.000000            3.579555  \n",
       "3             43.468525            2.976172  \n",
       "\n",
       "[4 rows x 34 columns]"
      ]
     },
     "execution_count": 157,
     "metadata": {},
     "output_type": "execute_result"
    }
   ],
   "source": [
    "DataScience_comps_df.head()"
   ]
  },
  {
   "cell_type": "code",
   "execution_count": 264,
   "metadata": {
    "collapsed": false
   },
   "outputs": [],
   "source": [
    "df_1 = DataScience_comps_df.apply(np.sort, axis=1)\n",
    "#df_2 = DataScience_comps_df.loc[[1]].sort(ascending=False, axis=1)\n",
    "#df_3 = DataScience_comps_df.loc[[2]].sort(ascending=False, axis=1)\n",
    "#df_4 = DataScience_comps_df.loc[[3]].sort(ascending=False, axis=1)\n",
    "\n"
   ]
  },
  {
   "cell_type": "code",
   "execution_count": 257,
   "metadata": {
    "collapsed": false
   },
   "outputs": [
    {
     "data": {
      "text/html": [
       "<div>\n",
       "<table border=\"1\" class=\"dataframe\">\n",
       "  <thead>\n",
       "    <tr style=\"text-align: right;\">\n",
       "      <th></th>\n",
       "      <th>collector</th>\n",
       "      <th>country</th>\n",
       "      <th>un_subregion</th>\n",
       "      <th>so_region</th>\n",
       "      <th>age_range</th>\n",
       "      <th>age_midpoint</th>\n",
       "      <th>gender</th>\n",
       "      <th>self_identification</th>\n",
       "      <th>occupation</th>\n",
       "      <th>occupation_group</th>\n",
       "      <th>...</th>\n",
       "      <th>unit_testing</th>\n",
       "      <th>rep_range</th>\n",
       "      <th>visit_frequency</th>\n",
       "      <th>why_learn_new_tech</th>\n",
       "      <th>education</th>\n",
       "      <th>new_job_value</th>\n",
       "      <th>how_to_improve_interview_process</th>\n",
       "      <th>star_wars_vs_star_trek</th>\n",
       "      <th>developer_challenges</th>\n",
       "      <th>why_stack_overflow</th>\n",
       "    </tr>\n",
       "  </thead>\n",
       "  <tbody>\n",
       "    <tr>\n",
       "      <th>0</th>\n",
       "      <td>0.0</td>\n",
       "      <td>0.000000</td>\n",
       "      <td>0.003620</td>\n",
       "      <td>0.021725</td>\n",
       "      <td>0.022204</td>\n",
       "      <td>0.024612</td>\n",
       "      <td>0.030040</td>\n",
       "      <td>0.036203</td>\n",
       "      <td>0.042083</td>\n",
       "      <td>0.043095</td>\n",
       "      <td>...</td>\n",
       "      <td>0.275700</td>\n",
       "      <td>0.472970</td>\n",
       "      <td>1.161062</td>\n",
       "      <td>1.265698</td>\n",
       "      <td>2.691210</td>\n",
       "      <td>2.879122</td>\n",
       "      <td>2.908847</td>\n",
       "      <td>3.832668</td>\n",
       "      <td>8.884166</td>\n",
       "      <td>75.905445</td>\n",
       "    </tr>\n",
       "    <tr>\n",
       "      <th>1</th>\n",
       "      <td>0.0</td>\n",
       "      <td>0.000000</td>\n",
       "      <td>0.015598</td>\n",
       "      <td>0.018013</td>\n",
       "      <td>0.018708</td>\n",
       "      <td>0.019124</td>\n",
       "      <td>0.020883</td>\n",
       "      <td>0.023083</td>\n",
       "      <td>0.023447</td>\n",
       "      <td>0.029453</td>\n",
       "      <td>...</td>\n",
       "      <td>0.250321</td>\n",
       "      <td>0.472425</td>\n",
       "      <td>1.057928</td>\n",
       "      <td>1.310314</td>\n",
       "      <td>1.566862</td>\n",
       "      <td>2.669384</td>\n",
       "      <td>3.495378</td>\n",
       "      <td>8.102616</td>\n",
       "      <td>36.729382</td>\n",
       "      <td>54.968952</td>\n",
       "    </tr>\n",
       "    <tr>\n",
       "      <th>2</th>\n",
       "      <td>0.0</td>\n",
       "      <td>0.000000</td>\n",
       "      <td>0.000000</td>\n",
       "      <td>0.000000</td>\n",
       "      <td>0.030595</td>\n",
       "      <td>0.038874</td>\n",
       "      <td>0.051376</td>\n",
       "      <td>0.051650</td>\n",
       "      <td>0.057233</td>\n",
       "      <td>0.071562</td>\n",
       "      <td>...</td>\n",
       "      <td>0.336740</td>\n",
       "      <td>0.352712</td>\n",
       "      <td>0.644108</td>\n",
       "      <td>1.116683</td>\n",
       "      <td>2.891698</td>\n",
       "      <td>3.579555</td>\n",
       "      <td>5.023018</td>\n",
       "      <td>5.784187</td>\n",
       "      <td>6.236897</td>\n",
       "      <td>16.156799</td>\n",
       "    </tr>\n",
       "    <tr>\n",
       "      <th>3</th>\n",
       "      <td>0.0</td>\n",
       "      <td>0.011798</td>\n",
       "      <td>0.019095</td>\n",
       "      <td>0.019444</td>\n",
       "      <td>0.020277</td>\n",
       "      <td>0.022873</td>\n",
       "      <td>0.026069</td>\n",
       "      <td>0.035590</td>\n",
       "      <td>0.038018</td>\n",
       "      <td>0.041195</td>\n",
       "      <td>...</td>\n",
       "      <td>0.424487</td>\n",
       "      <td>0.950010</td>\n",
       "      <td>1.235523</td>\n",
       "      <td>2.976172</td>\n",
       "      <td>2.998137</td>\n",
       "      <td>3.320660</td>\n",
       "      <td>3.798718</td>\n",
       "      <td>10.884988</td>\n",
       "      <td>23.061733</td>\n",
       "      <td>43.468525</td>\n",
       "    </tr>\n",
       "  </tbody>\n",
       "</table>\n",
       "<p>4 rows × 34 columns</p>\n",
       "</div>"
      ],
      "text/plain": [
       "   collector   country  un_subregion  so_region  age_range  age_midpoint  \\\n",
       "0        0.0  0.000000      0.003620   0.021725   0.022204      0.024612   \n",
       "1        0.0  0.000000      0.015598   0.018013   0.018708      0.019124   \n",
       "2        0.0  0.000000      0.000000   0.000000   0.030595      0.038874   \n",
       "3        0.0  0.011798      0.019095   0.019444   0.020277      0.022873   \n",
       "\n",
       "     gender  self_identification  occupation  occupation_group  \\\n",
       "0  0.030040             0.036203    0.042083          0.043095   \n",
       "1  0.020883             0.023083    0.023447          0.029453   \n",
       "2  0.051376             0.051650    0.057233          0.071562   \n",
       "3  0.026069             0.035590    0.038018          0.041195   \n",
       "\n",
       "          ...          unit_testing  rep_range  visit_frequency  \\\n",
       "0         ...              0.275700   0.472970         1.161062   \n",
       "1         ...              0.250321   0.472425         1.057928   \n",
       "2         ...              0.336740   0.352712         0.644108   \n",
       "3         ...              0.424487   0.950010         1.235523   \n",
       "\n",
       "   why_learn_new_tech  education  new_job_value  \\\n",
       "0            1.265698   2.691210       2.879122   \n",
       "1            1.310314   1.566862       2.669384   \n",
       "2            1.116683   2.891698       3.579555   \n",
       "3            2.976172   2.998137       3.320660   \n",
       "\n",
       "   how_to_improve_interview_process  star_wars_vs_star_trek  \\\n",
       "0                          2.908847                3.832668   \n",
       "1                          3.495378                8.102616   \n",
       "2                          5.023018                5.784187   \n",
       "3                          3.798718               10.884988   \n",
       "\n",
       "   developer_challenges  why_stack_overflow  \n",
       "0              8.884166           75.905445  \n",
       "1             36.729382           54.968952  \n",
       "2              6.236897           16.156799  \n",
       "3             23.061733           43.468525  \n",
       "\n",
       "[4 rows x 34 columns]"
      ]
     },
     "execution_count": 257,
     "metadata": {},
     "output_type": "execute_result"
    }
   ],
   "source": [
    "df_1.head() #scroll to right"
   ]
  },
  {
   "cell_type": "markdown",
   "metadata": {},
   "source": [
    "# Top 3 components are:"
   ]
  },
  {
   "cell_type": "markdown",
   "metadata": {},
   "source": [
    "## why_stack_overflow, developer_challenges, starwars_vs_star_trek"
   ]
  },
  {
   "cell_type": "code",
   "execution_count": null,
   "metadata": {
    "collapsed": false
   },
   "outputs": [],
   "source": []
  },
  {
   "cell_type": "code",
   "execution_count": null,
   "metadata": {
    "collapsed": false
   },
   "outputs": [],
   "source": []
  },
  {
   "cell_type": "code",
   "execution_count": null,
   "metadata": {
    "collapsed": true
   },
   "outputs": [],
   "source": []
  }
 ],
 "metadata": {
  "anaconda-cloud": {},
  "kernelspec": {
   "display_name": "Python [conda root]",
   "language": "python",
   "name": "conda-root-py"
  },
  "language_info": {
   "codemirror_mode": {
    "name": "ipython",
    "version": 3
   },
   "file_extension": ".py",
   "mimetype": "text/x-python",
   "name": "python",
   "nbconvert_exporter": "python",
   "pygments_lexer": "ipython3",
   "version": "3.5.2"
  }
 },
 "nbformat": 4,
 "nbformat_minor": 2
}
